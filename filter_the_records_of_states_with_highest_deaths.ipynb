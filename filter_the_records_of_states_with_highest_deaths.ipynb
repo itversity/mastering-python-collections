{
 "cells": [
  {
   "cell_type": "markdown",
   "id": "ffd75a59",
   "metadata": {},
   "source": [
    "## Filter the records of states with highest deaths\n",
    "\n",
    "Develop the function to filter out the records of covid-19 data that was taken from different states of India. The data of the states that should be extracted where number of deaths were more than 10,000.\n",
    "* The input data is in form of list of tuples where the fields are named in the order- Name of State/UTs, Total Cases, Active Cases and Deaths.\n",
    "* The output data should be in form of list of tuples.\n",
    "* The output data should contain only those records of states where the number of deaths were more than 10,000.\n",
    "\n",
    "**Restriction: The code should not contain the loops**"
   ]
  },
  {
   "cell_type": "code",
   "execution_count": null,
   "id": "f7a94419",
   "metadata": {},
   "outputs": [],
   "source": [
    "states_covid_data=[\n",
    " ('Maharashtra', 6122893, 117869, 123857),\n",
    " ('Kerala', 3011694, 108400, 14108),\n",
    " ('Karnataka', 2862338, 39626, 35601),\n",
    " ('Tamil Nadu', 2506848, 34076, 33196),\n",
    " ('Andhra Pradesh', 1911231, 32356, 12919),\n",
    " ('Uttar Pradesh', 1706934, 1947, 22666),\n",
    " ('West Bengal', 1508223, 16655, 17850),\n",
    " ('Delhi', 1434780, 858, 25005),\n",
    " ('Chhattisgarh', 996689, 5017, 13464),\n",
    " ('Rajasthan', 952887, 935, 8942),\n",
    " ('Odisha', 929788, 25148, 4358),\n",
    " ('Gujarat', 824029, 1969, 10072),\n",
    " ('Madhya Pradesh', 790070, 441, 9019),\n",
    " ('Haryana', 769093, 1066, 9515),\n",
    " ('Bihar', 722850, 1183, 9612),\n",
    " ('Telengana', 629054, 11472, 3710),\n",
    " ('Punjab', 596970, 1964, 16141),\n",
    " ('Assam', 524556, 23371, 4743),\n",
    " ('Jharkhand', 346113, 532, 5118),\n",
    " ('Uttarakhand', 340959, 1506, 7338)]"
   ]
  },
  {
   "cell_type": "markdown",
   "id": "78b1c830",
   "metadata": {},
   "source": [
    "**Step 1: Preview the Data**"
   ]
  },
  {
   "cell_type": "code",
   "execution_count": null,
   "id": "f7145c27",
   "metadata": {},
   "outputs": [],
   "source": [
    "states_covid_data"
   ]
  },
  {
   "cell_type": "code",
   "execution_count": null,
   "id": "b1d2f346",
   "metadata": {},
   "outputs": [],
   "source": [
    "type(states_covid_data)"
   ]
  },
  {
   "cell_type": "code",
   "execution_count": null,
   "id": "16c9b2a3",
   "metadata": {},
   "outputs": [],
   "source": [
    "len(states_covid_data)"
   ]
  },
  {
   "cell_type": "markdown",
   "id": "e95bbcce",
   "metadata": {},
   "source": [
    "**Step 2: Provide the Solution**"
   ]
  },
  {
   "cell_type": "markdown",
   "id": "1b54aadc",
   "metadata": {},
   "source": [
    "Provide the solution for the scanerio."
   ]
  },
  {
   "cell_type": "code",
   "execution_count": null,
   "id": "d34590fc",
   "metadata": {},
   "outputs": [],
   "source": [
    "def states_with_highest_covid_cases(states_covid_data):\n",
    "    #Develop your logic here\n",
    "    return states_with_highest_deaths"
   ]
  },
  {
   "cell_type": "markdown",
   "id": "bff6544e",
   "metadata": {},
   "source": [
    "**Step 3: Validate the function**"
   ]
  },
  {
   "cell_type": "markdown",
   "id": "26486d57",
   "metadata": {},
   "source": [
    "Let us validate the function by running below cells."
   ]
  },
  {
   "cell_type": "markdown",
   "id": "520f3673",
   "metadata": {},
   "source": [
    "The expected output is-\n",
    "``` python\n",
    "states_with_highest_deaths=[\n",
    " ('Maharashtra', 6122893, 117869, 123857),\n",
    " ('Kerala', 3011694, 108400, 14108),\n",
    " ('Karnataka', 2862338, 39626, 35601),\n",
    " ('Tamil Nadu', 2506848, 34076, 33196),\n",
    " ('Andhra Pradesh', 1911231, 32356, 12919),\n",
    " ('Uttar Pradesh', 1706934, 1947, 22666),\n",
    " ('West Bengal', 1508223, 16655, 17850),\n",
    " ('Delhi', 1434780, 858, 25005),\n",
    " ('Chhattisgarh', 996689, 5017, 13464),\n",
    " ('Gujarat', 824029, 1969, 10072),\n",
    " ('Punjab', 596970, 1964, 16141)]\n",
    "```"
   ]
  },
  {
   "cell_type": "code",
   "execution_count": null,
   "id": "4cf34707",
   "metadata": {},
   "outputs": [],
   "source": [
    "states_with_highest_deaths=states_with_highest_covid_cases(states_covid_data)\n",
    "states_with_highest_deaths"
   ]
  },
  {
   "cell_type": "code",
   "execution_count": null,
   "id": "51fed81b",
   "metadata": {},
   "outputs": [],
   "source": [
    "type(states_with_highest_deaths) #list"
   ]
  },
  {
   "cell_type": "code",
   "execution_count": null,
   "id": "21b21d90",
   "metadata": {},
   "outputs": [],
   "source": [
    "len(states_with_highest_deaths) #11"
   ]
  },
  {
   "cell_type": "code",
   "execution_count": null,
   "id": "9dff7ec1",
   "metadata": {},
   "outputs": [],
   "source": [
    "states_with_highest_deaths[0] #('Maharashtra', 6122893, 117869, 123857)"
   ]
  },
  {
   "cell_type": "code",
   "execution_count": null,
   "id": "1ab3dfe6",
   "metadata": {},
   "outputs": [],
   "source": [
    "type(states_with_highest_deaths[0]) #tuple"
   ]
  },
  {
   "cell_type": "code",
   "execution_count": null,
   "id": "6a50f21f",
   "metadata": {},
   "outputs": [],
   "source": []
  }
 ],
 "metadata": {
  "kernelspec": {
   "display_name": "Python 3",
   "language": "python",
   "name": "python3"
  },
  "language_info": {
   "codemirror_mode": {
    "name": "ipython",
    "version": 3
   },
   "file_extension": ".py",
   "mimetype": "text/x-python",
   "name": "python",
   "nbconvert_exporter": "python",
   "pygments_lexer": "ipython3",
   "version": "3.6.12"
  }
 },
 "nbformat": 4,
 "nbformat_minor": 5
}
