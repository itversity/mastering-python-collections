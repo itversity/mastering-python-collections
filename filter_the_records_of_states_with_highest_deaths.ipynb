{
 "cells": [
  {
   "cell_type": "markdown",
   "id": "d49b82b5",
   "metadata": {},
   "source": [
    "## Filter the records of states with highest deaths\n",
    "\n",
    "Develop the function to filter out the records of covid-19 data that was taken from different states of India. The data of the states that should be extracted where number of deaths were more than 10,000.\n",
    "* The input data is in form of list of tuples where the fields are named in the order- Name of State/UTs, Total Cases, Active Cases and Deaths.\n",
    "* The output data should be in form of list of tuples.\n",
    "* The output data should contain only those records of states where the number of deaths were more than 10,000.\n",
    "\n",
    "**Restriction: The code should not contain the loops**"
   ]
  },
  {
   "cell_type": "code",
   "execution_count": null,
   "id": "c85118a6",
   "metadata": {},
   "outputs": [],
   "source": [
    "states_covid_data=[\n",
    " ('Maharashtra', 6122893, 117869, 123857),\n",
    " ('Kerala', 3011694, 108400, 14108),\n",
    " ('Karnataka', 2862338, 39626, 35601),\n",
    " ('Tamil Nadu', 2506848, 34076, 33196),\n",
    " ('Andhra Pradesh', 1911231, 32356, 12919),\n",
    " ('Uttar Pradesh', 1706934, 1947, 22666),\n",
    " ('West Bengal', 1508223, 16655, 17850),\n",
    " ('Delhi', 1434780, 858, 25005),\n",
    " ('Chhattisgarh', 996689, 5017, 13464),\n",
    " ('Rajasthan', 952887, 935, 8942),\n",
    " ('Odisha', 929788, 25148, 4358),\n",
    " ('Gujarat', 824029, 1969, 10072),\n",
    " ('Madhya Pradesh', 790070, 441, 9019),\n",
    " ('Haryana', 769093, 1066, 9515),\n",
    " ('Bihar', 722850, 1183, 9612),\n",
    " ('Telengana', 629054, 11472, 3710),\n",
    " ('Punjab', 596970, 1964, 16141),\n",
    " ('Assam', 524556, 23371, 4743),\n",
    " ('Jharkhand', 346113, 532, 5118),\n",
    " ('Uttarakhand', 340959, 1506, 7338)]"
   ]
  },
  {
   "cell_type": "markdown",
   "id": "9d4e75c6",
   "metadata": {},
   "source": [
    "### Step 1: Preview the data\n",
    "\n",
    "Let us first preview the data."
   ]
  },
  {
   "cell_type": "code",
   "execution_count": null,
   "id": "4a2abe76",
   "metadata": {},
   "outputs": [],
   "source": [
    "states_covid_data"
   ]
  },
  {
   "cell_type": "code",
   "execution_count": null,
   "id": "95807d24",
   "metadata": {},
   "outputs": [],
   "source": [
    "type(states_covid_data)"
   ]
  },
  {
   "cell_type": "code",
   "execution_count": null,
   "id": "36ac44fe",
   "metadata": {},
   "outputs": [],
   "source": [
    "len(states_covid_data)"
   ]
  },
  {
   "cell_type": "markdown",
   "id": "525f3e69",
   "metadata": {},
   "source": [
    "### Step 2: Provide the solution\n",
    "\n",
    "Now come up with the solution by developing the required logic. Once the function is developed, go to the next step to take care of the validation."
   ]
  },
  {
   "cell_type": "code",
   "execution_count": null,
   "id": "60769d73",
   "metadata": {},
   "outputs": [],
   "source": [
    "def states_with_highest_covid_cases(states_covid_data):\n",
    "    #Develop your logic here\n",
    "    return states_with_highest_deaths"
   ]
  },
  {
   "cell_type": "markdown",
   "id": "9d0fb897",
   "metadata": {},
   "source": [
    "### Step 3: Validate the function\n",
    "\n",
    "Let us validate the function by running below cells.\n",
    "* Here is the expected output.\n",
    "``` python\n",
    "states_with_highest_deaths=[\n",
    " ('Maharashtra', 6122893, 117869, 123857),\n",
    " ('Kerala', 3011694, 108400, 14108),\n",
    " ('Karnataka', 2862338, 39626, 35601),\n",
    " ('Tamil Nadu', 2506848, 34076, 33196),\n",
    " ('Andhra Pradesh', 1911231, 32356, 12919),\n",
    " ('Uttar Pradesh', 1706934, 1947, 22666),\n",
    " ('West Bengal', 1508223, 16655, 17850),\n",
    " ('Delhi', 1434780, 858, 25005),\n",
    " ('Chhattisgarh', 996689, 5017, 13464),\n",
    " ('Gujarat', 824029, 1969, 10072),\n",
    " ('Punjab', 596970, 1964, 16141)]\n",
    "```"
   ]
  },
  {
   "cell_type": "code",
   "execution_count": null,
   "id": "281aa96d",
   "metadata": {},
   "outputs": [],
   "source": [
    "states_with_highest_deaths=states_with_highest_covid_cases(states_covid_data)\n",
    "states_with_highest_deaths"
   ]
  },
  {
   "cell_type": "code",
   "execution_count": null,
   "id": "41b16db5",
   "metadata": {},
   "outputs": [],
   "source": [
    "type(states_with_highest_deaths) #list"
   ]
  },
  {
   "cell_type": "code",
   "execution_count": null,
   "id": "ad89c632",
   "metadata": {},
   "outputs": [],
   "source": [
    "len(states_with_highest_deaths) #11"
   ]
  },
  {
   "cell_type": "code",
   "execution_count": null,
   "id": "45e8aa2d",
   "metadata": {},
   "outputs": [],
   "source": [
    "states_with_highest_deaths[0] #('Maharashtra', 6122893, 117869, 123857)"
   ]
  },
  {
   "cell_type": "code",
   "execution_count": null,
   "id": "4beb0f64",
   "metadata": {},
   "outputs": [],
   "source": [
    "type(states_with_highest_deaths[0]) #tuple"
   ]
  },
  {
   "cell_type": "code",
   "execution_count": null,
   "id": "6e722d55",
   "metadata": {},
   "outputs": [],
   "source": []
  }
 ],
 "metadata": {
  "kernelspec": {
   "display_name": "Python 3",
   "language": "python",
   "name": "python3"
  },
  "language_info": {
   "codemirror_mode": {
    "name": "ipython",
    "version": 3
   },
   "file_extension": ".py",
   "mimetype": "text/x-python",
   "name": "python",
   "nbconvert_exporter": "python",
   "pygments_lexer": "ipython3",
   "version": "3.6.12"
  }
 },
 "nbformat": 4,
 "nbformat_minor": 5
}
