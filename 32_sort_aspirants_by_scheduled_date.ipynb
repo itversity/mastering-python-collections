{
 "cells": [
  {
   "cell_type": "markdown",
   "id": "aa9ff2ce",
   "metadata": {},
   "source": [
    "## Sort Aspirants by Scheduled Date\n",
    "\n",
    "Develop a function which sorts the data in ascending order by scheduled date. The data should be written to text file with **^** (shift + 6) as delimiter or separator.\n",
    "\n",
    "* Location of the data: **data/python_assessments/aspirants.csv**.\n",
    "* Each line in the file is a record and each record have data related to multiple attributes.\n",
    "* Data related to attributes in each record are separated or delimieted by **\\t**.\n",
    "* Develop a function which does the following.\n",
    "  * It should take 2 arguments - input path and output path.\n",
    "  * Read the data from the file.\n",
    "  * Sort the data in ascending order by scheduled date.\n",
    "  * Write the sorted data to the output file using the location passed as part of output path argument.\n",
    "  * Data should not have the header\n",
    "\n",
    "**Restrictions: You should only use loops or first class functions such as map, filter etc. You can also use csv library to deal with delimited data. Do not use Pandas.**"
   ]
  },
  {
   "cell_type": "markdown",
   "id": "385d736b",
   "metadata": {},
   "source": [
    "### Step 1: Preview the data\n",
    "\n",
    "Let us first preview the data."
   ]
  },
  {
   "cell_type": "code",
   "execution_count": null,
   "id": "fab62938",
   "metadata": {},
   "outputs": [],
   "source": [
    "!ls -ltr data/python_assessments/aspirants.csv"
   ]
  },
  {
   "cell_type": "code",
   "execution_count": null,
   "id": "c05b24dd",
   "metadata": {},
   "outputs": [],
   "source": [
    "!head data/python_assessments/aspirants.csv"
   ]
  },
  {
   "cell_type": "code",
   "execution_count": null,
   "id": "acc60e53",
   "metadata": {},
   "outputs": [],
   "source": [
    "!wc -l data/python_assessments/aspirants.csv"
   ]
  },
  {
   "cell_type": "markdown",
   "id": "39986ed1",
   "metadata": {},
   "source": [
    "### Step 2: Provide the solution\n",
    "\n",
    "Now come up with the solution by developing the required logic. Once the function is developed, go to the next step to take care of the validation."
   ]
  },
  {
   "cell_type": "code",
   "execution_count": null,
   "id": "ae74fde6",
   "metadata": {},
   "outputs": [],
   "source": [
    "def sort_by_scheduled_date(input_file_path, output_file_paty):\n",
    "    return"
   ]
  },
  {
   "cell_type": "markdown",
   "id": "4b3ee8a7",
   "metadata": {},
   "source": [
    "### Step 3: Validate the function\n",
    "\n",
    "Let us validate the function by running below cells.\n",
    "* Run the following commands to validate the data saved in the output path."
   ]
  },
  {
   "cell_type": "code",
   "execution_count": null,
   "id": "18f6aa30",
   "metadata": {},
   "outputs": [],
   "source": [
    "!mkdir -p output/assessments"
   ]
  },
  {
   "cell_type": "code",
   "execution_count": null,
   "id": "89723d43",
   "metadata": {},
   "outputs": [],
   "source": [
    "sort_by_scheduled_date('data/python_assessments/aspirants.csv', 'output/assessments/part-00000')"
   ]
  },
  {
   "cell_type": "code",
   "execution_count": null,
   "id": "e593cf11",
   "metadata": {},
   "outputs": [],
   "source": [
    "!ls -ltr output/assessments/part-00000 # Should not throw error"
   ]
  },
  {
   "cell_type": "code",
   "execution_count": null,
   "id": "b867f2b5",
   "metadata": {},
   "outputs": [],
   "source": [
    "!wc -l output/assessments/part-00000 # 49"
   ]
  },
  {
   "cell_type": "code",
   "execution_count": null,
   "id": "7e47aeba",
   "metadata": {},
   "outputs": [],
   "source": [
    "!head -1 output/assessments/part-00000\n",
    "\n",
    "# Suraj^Technical Screening Preparation (tests as well as interviews), Placement Assistance for full time opportunities, To be part of ITVersity Professionals Database to work on paid part-time opportunities^Freshers or recent year pass outs looking for entry level jobs^3^7/5/2021^India"
   ]
  },
  {
   "cell_type": "code",
   "execution_count": null,
   "id": "2875ce7d",
   "metadata": {},
   "outputs": [],
   "source": [
    "import pandas as pd\n",
    "pd.read_csv('output/assessments/part-00000', sep='^', header=None)\n",
    "\n",
    "# You should see the output in proper format with 6 columns and 49 records"
   ]
  },
  {
   "cell_type": "code",
   "execution_count": null,
   "id": "ae815170",
   "metadata": {},
   "outputs": [],
   "source": []
  }
 ],
 "metadata": {
  "kernelspec": {
   "display_name": "Python 3",
   "language": "python",
   "name": "python3"
  },
  "language_info": {
   "codemirror_mode": {
    "name": "ipython",
    "version": 3
   },
   "file_extension": ".py",
   "mimetype": "text/x-python",
   "name": "python",
   "nbconvert_exporter": "python",
   "pygments_lexer": "ipython3",
   "version": "3.6.12"
  }
 },
 "nbformat": 4,
 "nbformat_minor": 5
}
