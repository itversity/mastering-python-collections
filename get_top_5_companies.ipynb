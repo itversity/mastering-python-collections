{
 "cells": [
  {
   "cell_type": "markdown",
   "id": "99e0b5e7",
   "metadata": {},
   "source": [
    "## Top Companies with highest price\n",
    "\n",
    "Develop a code to filter the companies with highest price by using functions like filter, map etc.."
   ]
  },
  {
   "cell_type": "code",
   "execution_count": 11,
   "id": "cf1c27b0",
   "metadata": {},
   "outputs": [],
   "source": [
    "companies = [{'Company_name':'Accenture', 'Sector':'IT', 'Price':'222.89', 'Dividend':'2.33', 'Share':'7.92'},\n",
    "             {'Company_name':'Apple', 'Sector':'IT', 'Price':'1555.15', 'Dividend':'1.57', 'Share':'9.2'},\n",
    "             {'Company_name':'Adobe Systems Inc', 'sector':'IT', 'price':'185.16', 'Dividend':'0', 'share':'3.39'},\n",
    "             {'Company_name':'Alphabet', 'Sector':'IT', 'Price':'1007.71', 'Dividend':'0', 'Share':'22.27'},\n",
    "             {'Company_name':'Bank of America Corp', 'Sector':'Finacials', 'Price':'29.74', 'Dividend':'1.53', 'Share':'1.55'},\n",
    "             {'Company_name':'Biogen Inc', 'Sector':'Health Care', 'Price':'311.79', 'Dividend':'0', 'Share':'11.94'},\n",
    "             {'Company_name':'Campbell Soup', 'Sector':'Consumer Staples', 'Price':'44.83', 'Dividend':'3.12', 'Share':'2.89'},\n",
    "             {'Company_name':'Dr Pepper Snapple Group', 'Sector':'Consumer Staples', 'Price':'116.93', 'Dividend':'1.96', 'Share':'4.54'},\n",
    "             {'Company_name':'ebay Inc', 'Sector':'IT', 'Price':'41.02', 'Dividend':'0', 'Share':'-1.07'},\n",
    "             {'Company_name':'FedEx Corporation', 'Sector':'Industrials', 'Price':'239.27', 'Dividend':'0.79', 'Share':'11.07'},\n",
    "             {'Company_name':'Ford Motors', 'Sector':'Consumer Products', 'Price':'10.43', 'Dividend':'6.78', 'Share':'1.9'},\n",
    "             {'Company_name':'General Motors', 'Sector':'Consumer Products', 'Price':'40.75', 'Dividend':'3.58', 'Share':'6'},\n",
    "             {'Company_name':'Harley-Davidson', 'Sector':'Consumer Products', 'Price':'47.54', 'Dividend':'3.02', 'Share':'2.98'},\n",
    "             {'Company_name':'Hewlett Packard Enterprise', 'Sector':'IT', 'Price':'15.04', 'Dividend':'1.92', 'Share':'0.21'},\n",
    "             {'Company_name':'Intel Corp', 'Sector':'IT', 'Price':'42.75', 'Dividend':'2.65', 'Share':'1.98'},\n",
    "             {'Company_name':'JP Morgan', 'Sector':'Finacials', 'Price':'107.88', 'Dividend':'1.98', 'Share':'6.3'},\n",
    "             {'Company_name':'Johnson & Johnson', 'Sector':'IT', 'Price':'126.36', 'Dividend':'2.55', 'Share':'0.39'},\n",
    "             {'Company_name':'Microsoft Corp', 'Sector':'IT', 'Price':'85.01', 'Dividend':'1.87', 'Share':'2.97'},\n",
    "             {'Company_name':'Netflix Inc', 'Sector':'IT', 'Price':'250.01', 'Dividend':'0', 'Share':'1.25'},\n",
    "             {'Company_name':'Nike', 'Sector':'Consumer Products', 'Price':'62.49', 'Dividend':'1.21', 'Share':'2.51'}]"
   ]
  },
  {
   "cell_type": "code",
   "execution_count": null,
   "id": "5ca3985a",
   "metadata": {},
   "outputs": [],
   "source": [
    "def get_high_price_companies(companies):\n",
    "##your code should go here   \n",
    "    return "
   ]
  },
  {
   "cell_type": "code",
   "execution_count": null,
   "id": "f00a8fab",
   "metadata": {},
   "outputs": [],
   "source": [
    "get_high_price_companies(companies)"
   ]
  },
  {
   "cell_type": "markdown",
   "id": "ef4ebdf0",
   "metadata": {},
   "source": [
    "\n",
    "The output should contain list of top five companies with highest price\n"
   ]
  }
 ],
 "metadata": {
  "kernelspec": {
   "display_name": "Python 3",
   "language": "python",
   "name": "python3"
  },
  "language_info": {
   "codemirror_mode": {
    "name": "ipython",
    "version": 3
   },
   "file_extension": ".py",
   "mimetype": "text/x-python",
   "name": "python",
   "nbconvert_exporter": "python",
   "pygments_lexer": "ipython3",
   "version": "3.6.12"
  }
 },
 "nbformat": 4,
 "nbformat_minor": 5
}
