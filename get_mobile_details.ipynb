{
 "cells": [
  {
   "cell_type": "markdown",
   "id": "e036130b",
   "metadata": {},
   "source": [
    "## Get mobile details\n",
    "Develop a function to get mobile details for given specifications\n",
    "* The input data will be given in list of dicts with mobile phone specifications.\n",
    "* The output should contains mobiles with 4gb ram and 64gb storage.\n",
    "* The output should be in form of list of dicts"
   ]
  },
  {
   "cell_type": "code",
   "execution_count": null,
   "id": "1058a441",
   "metadata": {},
   "outputs": [],
   "source": [
    "phone_details=[{'mobile_company_name': 'Apple',\n",
    "  'mobile_model': 'Iphone 12',\n",
    "  'mobile_ram': 4,\n",
    "  'mobile_storage': 256,\n",
    "  'mobile_os': 'iOS'},\n",
    " {'mobile_company_name': 'Xiaomi',\n",
    "  'mobile_model': 'Redmi 9',\n",
    "  'mobile_ram': 4,\n",
    "  'mobile_storage': 64,\n",
    "  'mobile_os': 'android'},\n",
    " {'mobile_company_name': 'One plus',\n",
    "  'mobile_model': 'One plus 9R',\n",
    "  'mobile_ram': 6,\n",
    "  'mobile_storage': 128,\n",
    "  'mobile_os': 'android'},\n",
    " {'mobile_company_name': 'Samsung',\n",
    "  'mobile_model': 'Galaxy M32',\n",
    "  'mobile_ram': 4,\n",
    "  'mobile_storage': 64,\n",
    "  'mobile_os': 'android'},\n",
    " {'mobile_company_name': 'Xiaomi',\n",
    "  'mobile_model': 'Redmi note 10 pro',\n",
    "  'mobile_ram': 8,\n",
    "  'mobile_storage': 128,\n",
    "  'mobile_os': 'android'},\n",
    " {'mobile_company_name': 'One plus',\n",
    "  'mobile_model': 'One plus Nord',\n",
    "  'mobile_ram': 4,\n",
    "  'mobile_storage': 128,\n",
    "  'mobile_os': 'android'},\n",
    " {'mobile_company_name': 'Apple',\n",
    "  'mobile_model': 'Iphone X',\n",
    "  'mobile_ram': 4,\n",
    "  'mobile_storage': 256,\n",
    "  'mobile_os': 'android'},\n",
    " {'mobile_company_name': 'Oppo',\n",
    "  'mobile_model': 'Oppo A31',\n",
    "  'mobile_ram': 4,\n",
    "  'mobile_storage': 64,\n",
    "  'mobile_os': 'iOS'}]"
   ]
  },
  {
   "cell_type": "markdown",
   "id": "a219f415",
   "metadata": {},
   "source": [
    "## Step 1: Preview the data\n",
    "* Let us first preview the data."
   ]
  },
  {
   "cell_type": "code",
   "execution_count": null,
   "id": "7c668117",
   "metadata": {},
   "outputs": [],
   "source": [
    "phone_details"
   ]
  },
  {
   "cell_type": "code",
   "execution_count": null,
   "id": "eaa85c54",
   "metadata": {},
   "outputs": [],
   "source": [
    "type(phone_details)"
   ]
  },
  {
   "cell_type": "code",
   "execution_count": null,
   "id": "81a8d521",
   "metadata": {},
   "outputs": [],
   "source": [
    "len(phone_details)"
   ]
  },
  {
   "cell_type": "code",
   "execution_count": null,
   "id": "8d7671a8",
   "metadata": {},
   "outputs": [],
   "source": [
    "phone_details[0]"
   ]
  },
  {
   "cell_type": "code",
   "execution_count": null,
   "id": "8afb2bfb",
   "metadata": {},
   "outputs": [],
   "source": [
    "type(phone_details[0])"
   ]
  },
  {
   "cell_type": "code",
   "execution_count": null,
   "id": "8d3aeb73",
   "metadata": {},
   "outputs": [],
   "source": [
    "len(phone_details[0])"
   ]
  },
  {
   "cell_type": "markdown",
   "id": "298a734c",
   "metadata": {},
   "source": [
    "## Step 2: Provide the solution\n",
    "Now come up with the solution by developing the required logic. Once the function is developed, go to the next step to take care of the validation."
   ]
  },
  {
   "cell_type": "code",
   "execution_count": null,
   "id": "dbf3262a",
   "metadata": {},
   "outputs": [],
   "source": [
    "def get_mobile_details(phone_details):\n",
    "#your code should go hers\n",
    "\n",
    "    return "
   ]
  },
  {
   "cell_type": "markdown",
   "id": "8660a8df",
   "metadata": {},
   "source": [
    "### Step 3: Validate the function\n",
    "Expected output is\n",
    "```python\n",
    "[{'mobile_company_name': 'Xiaomi',\n",
    "  'mobile_model': 'Redmi 9',\n",
    "  'mobile_ram': 4,\n",
    "  'mobile_storage': 64,\n",
    "  'mobile_os': 'android'},\n",
    " {'mobile_company_name': 'Samsung',\n",
    "  'mobile_model': 'Galaxy M32',\n",
    "  'mobile_ram': 4,\n",
    "  'mobile_storage': 64,\n",
    "  'mobile_os': 'android'},\n",
    " {'mobile_company_name': 'Oppo',\n",
    "  'mobile_model': 'Oppo A31',\n",
    "  'mobile_ram': 4,\n",
    "  'mobile_storage': 64,\n",
    "  'mobile_os': 'iOS'}]\n",
    "```"
   ]
  },
  {
   "cell_type": "code",
   "execution_count": null,
   "id": "d9ab6640",
   "metadata": {},
   "outputs": [],
   "source": [
    "mobile_details=get_mobile_details(phone_details)"
   ]
  },
  {
   "cell_type": "code",
   "execution_count": null,
   "id": "21674af8",
   "metadata": {},
   "outputs": [],
   "source": [
    "mobile_details"
   ]
  },
  {
   "cell_type": "code",
   "execution_count": null,
   "id": "f1fb5526",
   "metadata": {},
   "outputs": [],
   "source": [
    "type(mobile_details) #list"
   ]
  },
  {
   "cell_type": "code",
   "execution_count": null,
   "id": "30f5f510",
   "metadata": {},
   "outputs": [],
   "source": [
    "len(mobile_details) #3"
   ]
  },
  {
   "cell_type": "code",
   "execution_count": null,
   "id": "4cab2072",
   "metadata": {},
   "outputs": [],
   "source": []
  }
 ],
 "metadata": {
  "kernelspec": {
   "display_name": "Python 3",
   "language": "python",
   "name": "python3"
  },
  "language_info": {
   "codemirror_mode": {
    "name": "ipython",
    "version": 3
   },
   "file_extension": ".py",
   "mimetype": "text/x-python",
   "name": "python",
   "nbconvert_exporter": "python",
   "pygments_lexer": "ipython3",
   "version": "3.6.12"
  }
 },
 "nbformat": 4,
 "nbformat_minor": 5
}
