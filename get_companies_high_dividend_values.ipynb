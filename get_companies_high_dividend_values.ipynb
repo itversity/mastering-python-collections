{
 "cells": [
  {
   "cell_type": "markdown",
   "id": "031f80df",
   "metadata": {},
   "source": [
    "## Get companies with high dividend values\n",
    "\n",
    "* The file which you are supposed to use is \"company_financial_info.csv\" in the current folder.\n",
    "* Develop a logic to get the list of the companies with their dividend greater than their shares by using loops or fuctions like map, filter , reduce etc..\n",
    "* The output should contain the list of companies per sector which have dividend values greater than share values."
   ]
  },
  {
   "cell_type": "code",
   "execution_count": null,
   "id": "32b664fa",
   "metadata": {},
   "outputs": [],
   "source": [
    "def get_companies(path):\n",
    "##your code should go here   \n",
    "    return "
   ]
  }
 ],
 "metadata": {
  "kernelspec": {
   "display_name": "Python 3",
   "language": "python",
   "name": "python3"
  },
  "language_info": {
   "codemirror_mode": {
    "name": "ipython",
    "version": 3
   },
   "file_extension": ".py",
   "mimetype": "text/x-python",
   "name": "python",
   "nbconvert_exporter": "python",
   "pygments_lexer": "ipython3",
   "version": "3.6.12"
  }
 },
 "nbformat": 4,
 "nbformat_minor": 5
}
