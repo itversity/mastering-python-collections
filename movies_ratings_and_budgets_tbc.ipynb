{
 "cells": [
  {
   "cell_type": "markdown",
   "id": "56a42042",
   "metadata": {},
   "source": [
    "## Movies ratings and budgets\n",
    "\n",
    "Develop the function to get list of dictionarys which contains name of movie,audience ratings and budget of movie.\n",
    "* The input data is present in list of tuples and it contains the fields in order- Name of Film, Genre, Rotten Tomato Ratings(%), Audience Ratings(%) and Budget(In Millions).\n",
    "* The output data should be in form of list of dicts which should contain name of movie, audience ratings and budget of movie.\n",
    "* The output data should be sorted in descending order by audience ratings.\n",
    "* This scanerio can be solved by using map reduce functions such as `map`."
   ]
  },
  {
   "cell_type": "code",
   "execution_count": null,
   "id": "04a677bb",
   "metadata": {},
   "outputs": [],
   "source": [
    "movies=[\n",
    " ('12 Rounds', 'Action', 30, 52, 20),\n",
    " ('17 Again', 'Comedy', 55, 70, 20),\n",
    " ('2012', 'Action', 39, 63, 200),\n",
    " ('30 Days of Night', 'Horror', 50, 57, 32),\n",
    " ('30 Minutes or Less', 'Comedy', 43, 48, 28),\n",
    " ('50/50', 'Comedy', 93, 93, 8),\n",
    " ('88 Minutes', 'Drama', 5, 51, 30),\n",
    " ('A Dangerous Method', 'Drama', 79, 89, 20),\n",
    " ('A Nightmare on Elm Street', 'Horror', 13, 40, 35),\n",
    " ('A Serious Man', 'Drama', 89, 64, 7),\n",
    " ('A Very Harold and Kumar Christmas', 'Comedy', 72, 71, 19),\n",
    " ('Abduction', 'Action', 4, 46, 35),\n",
    " ('Across the Universe', 'Romance', 54, 84, 45),\n",
    " ('Adventureland', 'Comedy', 89, 56, 10)]"
   ]
  },
  {
   "cell_type": "markdown",
   "id": "ea83b4ee",
   "metadata": {},
   "source": [
    "**Step 1: Preview the Data**"
   ]
  },
  {
   "cell_type": "code",
   "execution_count": null,
   "id": "37fd5b56",
   "metadata": {},
   "outputs": [],
   "source": [
    "movies"
   ]
  },
  {
   "cell_type": "code",
   "execution_count": null,
   "id": "17943211",
   "metadata": {},
   "outputs": [],
   "source": [
    "type(movies)"
   ]
  },
  {
   "cell_type": "code",
   "execution_count": null,
   "id": "bc70eb2f",
   "metadata": {},
   "outputs": [],
   "source": [
    "len(movies)"
   ]
  },
  {
   "cell_type": "markdown",
   "id": "df712750",
   "metadata": {},
   "source": [
    "**Step 2: Provide the Solution**"
   ]
  },
  {
   "cell_type": "markdown",
   "id": "b468b5f8",
   "metadata": {},
   "source": [
    "Provide the solution for the scanerio below."
   ]
  },
  {
   "cell_type": "code",
   "execution_count": null,
   "id": "6ca632c3",
   "metadata": {},
   "outputs": [],
   "source": [
    "def movie_ratings_and_budget(movies):\n",
    "    #Develop your logic here\n",
    "    return movies_audience_ratings_and_budgets"
   ]
  },
  {
   "cell_type": "markdown",
   "id": "621cca94",
   "metadata": {},
   "source": [
    "**Step 3: Validate the Function**"
   ]
  },
  {
   "cell_type": "markdown",
   "id": "e6de5d7a",
   "metadata": {},
   "source": [
    "Let us validate the function by running below cells."
   ]
  },
  {
   "cell_type": "markdown",
   "id": "fcd8ae26",
   "metadata": {},
   "source": [
    "The desired output should be-\n",
    "``` python\n",
    " movies_audience_ratings_and_budgets=[\n",
    "     {'Name':'50/50','Audience Ratings': 93,'Budget': 8},\n",
    "     {'Name':'A Dangerous Method','Audience Ratings':89,'Budget':20},\n",
    "     {'Name':'Across the Universe','Audience Ratings':84,'Budget':45},\n",
    "     {'Name':'A Very Harold and Kumar Christmas','Audience Ratings':71,'Budget':19},\n",
    "     {'Name':'17 Again','Audience Ratings':70,'Budget': 20},\n",
    "     {'Name':'A Serious Man','Audience Ratings':64,'Budget':7},\n",
    "     {'Name':'2012','Audience Ratings':63,'Budget':200},\n",
    "     {'Name':'30 Days of Night','Audience Ratings':57,'Budget':32},\n",
    "     {'Name':'Adventureland','Audience Ratings':56,'Budget':10},\n",
    "     {'Name':'12 Rounds','Audience Ratings':52,'Budget':20},\n",
    "     {'Name':'88 Minutes','Audience Ratings':51,'Budget':30},\n",
    "     {'Name':'30 Minutes or Less','Audience Ratings':48,'Budget':28},\n",
    "     {'Name':'Abduction','Audience Ratings':46,'Budget':35},\n",
    "     {'Name':'A Nightmare on Elm Street','Audience Ratings':40,'Budget':35}]\n",
    " ```"
   ]
  },
  {
   "cell_type": "code",
   "execution_count": null,
   "id": "fe88c096",
   "metadata": {},
   "outputs": [],
   "source": [
    "movies_audience_ratings_and_budgets=movie_ratings_and_budget(movies)\n",
    "movies_audience_ratings_and_budgets"
   ]
  },
  {
   "cell_type": "code",
   "execution_count": null,
   "id": "2eb30b3f",
   "metadata": {},
   "outputs": [],
   "source": [
    "type(movies_audience_ratings_and_budgets) #list"
   ]
  },
  {
   "cell_type": "code",
   "execution_count": null,
   "id": "5411fd0b",
   "metadata": {},
   "outputs": [],
   "source": [
    "len(movies_audience_ratings_and_budgets) #14"
   ]
  },
  {
   "cell_type": "code",
   "execution_count": null,
   "id": "a2419c46",
   "metadata": {},
   "outputs": [],
   "source": [
    "movies_audience_ratings_and_budgets[0] #{'Name':'50/50','Audience Ratings': 93,'Budget': 8}"
   ]
  },
  {
   "cell_type": "code",
   "execution_count": null,
   "id": "e4841225",
   "metadata": {},
   "outputs": [],
   "source": [
    "type(movies_audience_ratings_and_budgets[0]) #dictionary"
   ]
  },
  {
   "cell_type": "code",
   "execution_count": null,
   "id": "fd36c6db",
   "metadata": {},
   "outputs": [],
   "source": []
  }
 ],
 "metadata": {
  "kernelspec": {
   "display_name": "Python 3",
   "language": "python",
   "name": "python3"
  },
  "language_info": {
   "codemirror_mode": {
    "name": "ipython",
    "version": 3
   },
   "file_extension": ".py",
   "mimetype": "text/x-python",
   "name": "python",
   "nbconvert_exporter": "python",
   "pygments_lexer": "ipython3",
   "version": "3.6.12"
  }
 },
 "nbformat": 4,
 "nbformat_minor": 5
}
