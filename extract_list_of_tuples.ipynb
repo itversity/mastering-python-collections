{
 "cells": [
  {
   "cell_type": "markdown",
   "id": "5089f4cb",
   "metadata": {},
   "source": [
    "## Extract list of tuples\n",
    "\n",
    "Develop a code to Extract the values of list of tuples by using zip funtion. As part of this Python Practice Test, we are primarily evaluating the ability to understand zip function.\n",
    "* We will provide list of tuples and the attributes are Student_id, Math_score, Reading_score and Writing_score.\n",
    "* Develop a function which takes students as input and provide output should be the values of the attributes we ask to return.\n",
    "* The output should contain the list of attributes values.\n",
    "* This scenario should be solved ny zip finction."
   ]
  },
  {
   "cell_type": "code",
   "execution_count": null,
   "id": "3c3b66ff",
   "metadata": {},
   "outputs": [],
   "source": [
    "students = [(1, 72, 72, 74), (2, 69, 90, 88), (3, 90, 95, 93), (4, 47, 47, 44), (5, 76, 78, 75), (6, 71, 83, 78)]"
   ]
  },
  {
   "cell_type": "markdown",
   "id": "36eab180",
   "metadata": {},
   "source": [
    "### Step 1: Preview the data\n",
    "\n",
    "Let us first preview the data."
   ]
  },
  {
   "cell_type": "code",
   "execution_count": null,
   "id": "c48ab989",
   "metadata": {},
   "outputs": [],
   "source": [
    "students"
   ]
  },
  {
   "cell_type": "code",
   "execution_count": null,
   "id": "40f22bcd",
   "metadata": {},
   "outputs": [],
   "source": [
    "type(students)"
   ]
  },
  {
   "cell_type": "code",
   "execution_count": null,
   "id": "fa394347",
   "metadata": {},
   "outputs": [],
   "source": [
    "len(students)"
   ]
  },
  {
   "cell_type": "markdown",
   "id": "efbdd614",
   "metadata": {},
   "source": [
    "### Step 2: Provide the solution\n",
    "\n",
    "Now come up with the solution by developing the required logic. Once the function is developed, go to the next step to take care of the validation."
   ]
  },
  {
   "cell_type": "code",
   "execution_count": null,
   "id": "3ac5f476",
   "metadata": {},
   "outputs": [],
   "source": [
    "def extract_tuples(students):\n",
    "## your code should go here\n",
    "    return Student_ids"
   ]
  },
  {
   "cell_type": "markdown",
   "id": "17a2d163",
   "metadata": {},
   "source": [
    "### Step 3: Validate the function\n",
    "\n",
    "Let us validate the function by running below cells.\n",
    "* Here is the expected output.\n",
    "\n",
    "```python\n",
    "Students_ids = (1, 2, 3, 4, 5, 6)\n",
    "```"
   ]
  },
  {
   "cell_type": "code",
   "execution_count": null,
   "id": "aa59b001",
   "metadata": {},
   "outputs": [],
   "source": [
    "extract_tuples(students)"
   ]
  }
 ],
 "metadata": {
  "kernelspec": {
   "display_name": "Python 3",
   "language": "python",
   "name": "python3"
  },
  "language_info": {
   "codemirror_mode": {
    "name": "ipython",
    "version": 3
   },
   "file_extension": ".py",
   "mimetype": "text/x-python",
   "name": "python",
   "nbconvert_exporter": "python",
   "pygments_lexer": "ipython3",
   "version": "3.6.12"
  }
 },
 "nbformat": 4,
 "nbformat_minor": 5
}
