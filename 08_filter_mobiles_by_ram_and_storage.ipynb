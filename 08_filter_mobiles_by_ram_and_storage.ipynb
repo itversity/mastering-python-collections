{
 "cells": [
  {
   "cell_type": "markdown",
   "id": "f304d8e4",
   "metadata": {},
   "source": [
    "## Filter for mobiles by RAM and Storage\n",
    "\n",
    "Develop a function to get mobile details for given specifications such as RAM and storage.\n",
    "* The input data will be given in list of dicts with mobile phone specifications.\n",
    "* The output should contains mobiles based up on give ram and storage.\n",
    "* The function should take 3 arguments - list of mobile details, RAM as well as storage.\n",
    "* The output should be in form of list of dicts"
   ]
  },
  {
   "cell_type": "code",
   "execution_count": 1,
   "id": "9c5a08a7",
   "metadata": {},
   "outputs": [],
   "source": [
    "mobile_details = [{'company': 'Apple',\n",
    "  'model': 'Iphone 12',\n",
    "  'ram': 4,\n",
    "  'storage': 256,\n",
    "  'os': 'iOS'},\n",
    " {'company': 'Xiaomi',\n",
    "  'model': 'Redmi 9',\n",
    "  'ram': 4,\n",
    "  'storage': 64,\n",
    "  'os': 'android'},\n",
    " {'company': 'One plus',\n",
    "  'model': 'One plus 9R',\n",
    "  'ram': 6,\n",
    "  'storage': 128,\n",
    "  'os': 'android'},\n",
    " {'company': 'Samsung',\n",
    "  'model': 'Galaxy M32',\n",
    "  'ram': 4,\n",
    "  'storage': 64,\n",
    "  'os': 'android'},\n",
    " {'company': 'Xiaomi',\n",
    "  'model': 'Redmi note 10 pro',\n",
    "  'ram': 8,\n",
    "  'storage': 128,\n",
    "  'os': 'android'},\n",
    " {'company': 'One plus',\n",
    "  'model': 'One plus Nord',\n",
    "  'ram': 4,\n",
    "  'storage': 128,\n",
    "  'os': 'android'},\n",
    " {'company': 'Apple',\n",
    "  'model': 'Iphone X',\n",
    "  'ram': 4,\n",
    "  'storage': 256,\n",
    "  'os': 'android'},\n",
    " {'company': 'Oppo',\n",
    "  'model': 'Oppo A31',\n",
    "  'ram': 4,\n",
    "  'storage': 64,\n",
    "  'os': 'iOS'}]"
   ]
  },
  {
   "cell_type": "markdown",
   "id": "e28cefed",
   "metadata": {},
   "source": [
    "### Step 1: Preview the data\n",
    "* Let us first preview the data."
   ]
  },
  {
   "cell_type": "code",
   "execution_count": null,
   "id": "9abe5c2f",
   "metadata": {},
   "outputs": [],
   "source": [
    "phone_details"
   ]
  },
  {
   "cell_type": "code",
   "execution_count": null,
   "id": "c6f48817",
   "metadata": {},
   "outputs": [],
   "source": [
    "type(phone_details)"
   ]
  },
  {
   "cell_type": "code",
   "execution_count": null,
   "id": "e15f372c",
   "metadata": {},
   "outputs": [],
   "source": [
    "len(phone_details)"
   ]
  },
  {
   "cell_type": "code",
   "execution_count": null,
   "id": "a543dd4a",
   "metadata": {},
   "outputs": [],
   "source": [
    "phone_details[0]"
   ]
  },
  {
   "cell_type": "code",
   "execution_count": null,
   "id": "f03665c5",
   "metadata": {},
   "outputs": [],
   "source": [
    "type(phone_details[0])"
   ]
  },
  {
   "cell_type": "code",
   "execution_count": null,
   "id": "c6a1096e",
   "metadata": {},
   "outputs": [],
   "source": [
    "len(phone_details[0])"
   ]
  },
  {
   "cell_type": "markdown",
   "id": "afe54fd7",
   "metadata": {},
   "source": [
    "### Step 2: Provide the solution\n",
    "Now come up with the solution by developing the required logic. Once the function is developed, go to the next step to take care of the validation."
   ]
  },
  {
   "cell_type": "code",
   "execution_count": null,
   "id": "bfef89f2",
   "metadata": {},
   "outputs": [],
   "source": [
    "def get_mobile_details(phone_details, ram, storage):\n",
    "#your code should go hers\n",
    "\n",
    "    return "
   ]
  },
  {
   "cell_type": "markdown",
   "id": "7eaf0006",
   "metadata": {},
   "source": [
    "### Step 3: Validate the function\n",
    "\n",
    "Here is the expected output.\n",
    "\n",
    "```python\n",
    "[{'company': 'Xiaomi',\n",
    "  'model': 'Redmi 9',\n",
    "  'model': 4,\n",
    "  'storage': 64,\n",
    "  'os': 'android'},\n",
    " {'company': 'Samsung',\n",
    "  'model': 'Galaxy M32',\n",
    "  'model': 4,\n",
    "  'storage': 64,\n",
    "  'os': 'android'},\n",
    " {'company': 'Oppo',\n",
    "  'model': 'Oppo A31',\n",
    "  'model': 4,\n",
    "  'storage': 64,\n",
    "  'os': 'iOS'}]\n",
    "```"
   ]
  },
  {
   "cell_type": "code",
   "execution_count": null,
   "id": "d849a594",
   "metadata": {},
   "outputs": [],
   "source": [
    "mobile_details=get_mobile_details(phone_details, 4, 64)"
   ]
  },
  {
   "cell_type": "code",
   "execution_count": null,
   "id": "c6e12542",
   "metadata": {},
   "outputs": [],
   "source": [
    "mobile_details"
   ]
  },
  {
   "cell_type": "code",
   "execution_count": null,
   "id": "09d41973",
   "metadata": {},
   "outputs": [],
   "source": [
    "type(mobile_details) # list"
   ]
  },
  {
   "cell_type": "code",
   "execution_count": null,
   "id": "edb0428b",
   "metadata": {},
   "outputs": [],
   "source": [
    "len(mobile_details) # 3"
   ]
  }
 ],
 "metadata": {
  "kernelspec": {
   "display_name": "Python 3",
   "language": "python",
   "name": "python3"
  },
  "language_info": {
   "codemirror_mode": {
    "name": "ipython",
    "version": 3
   },
   "file_extension": ".py",
   "mimetype": "text/x-python",
   "name": "python",
   "nbconvert_exporter": "python",
   "pygments_lexer": "ipython3",
   "version": "3.6.12"
  }
 },
 "nbformat": 4,
 "nbformat_minor": 5
}
