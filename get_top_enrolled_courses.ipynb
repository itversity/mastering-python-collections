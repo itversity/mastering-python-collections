{
 "cells": [
  {
   "cell_type": "markdown",
   "id": "425ebf0a",
   "metadata": {},
   "source": [
    "## Get top enrolled courses\n",
    "\n",
    "Develop a code to read the data from a CSV file to return top 5 courses by enrolment in a list. \n",
    "* The function should return the top n courses based up on the enrollment field in the CSV file.\n",
    "* Output should be a list which contain top 5 courses by enrollments. Each slement should contain course title and the number of enrollments.\n",
    "* The values should be tab delimited.\n",
    "* Data should be sorted in decending order by enrollments\n",
    "\n",
    "Note: Please use loops or functions such map, filter, reduce, etc to come up with the solution."
   ]
  },
  {
   "cell_type": "code",
   "execution_count": null,
   "id": "11105a5d",
   "metadata": {},
   "outputs": [],
   "source": [
    "def get_top_enrolled_courses(file_path, top_n):\n",
    "#Your code should go here\n",
    "  \n",
    "    return top_enrolled_courses"
   ]
  },
  {
   "cell_type": "markdown",
   "id": "fbd62d26",
   "metadata": {},
   "source": [
    "* Run the below to validate. Here is the desired output.\n",
    "\n",
    "```python\n",
    "[\n",
    "'Microsoft Excel - Excel from Beginner to Advanced\\t558150',\n",
    "'Microsoft Excel - Advanced Excel Formulas & Functions\\t182132',\n",
    "'Microsoft Excel - Data Analysis with Excel Pivot Tables\\t112510',\n",
    "'Microsoft Excel - From Beginner to Expert in 6 Hours\\t101795',\n",
    "'Unlock Excel VBA and Excel Macros\\t97548'\n",
    "]\n",
    "```"
   ]
  },
  {
   "cell_type": "code",
   "execution_count": null,
   "id": "c89b8f91",
   "metadata": {},
   "outputs": [],
   "source": [
    "enrollment_list = get_top_enrollment_list('data/udemy_office_productivity/udemy_office_productivity.csv', 5)"
   ]
  },
  {
   "cell_type": "code",
   "execution_count": null,
   "id": "192d789a",
   "metadata": {},
   "outputs": [],
   "source": [
    "enrollment_list"
   ]
  }
 ],
 "metadata": {
  "kernelspec": {
   "display_name": "Python 3",
   "language": "python",
   "name": "python3"
  },
  "language_info": {
   "codemirror_mode": {
    "name": "ipython",
    "version": 3
   },
   "file_extension": ".py",
   "mimetype": "text/x-python",
   "name": "python",
   "nbconvert_exporter": "python",
   "pygments_lexer": "ipython3",
   "version": "3.6.12"
  }
 },
 "nbformat": 4,
 "nbformat_minor": 5
}
