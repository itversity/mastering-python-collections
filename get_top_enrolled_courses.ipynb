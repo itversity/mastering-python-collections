{
 "cells": [
  {
   "cell_type": "markdown",
   "id": "a4e8e7f7",
   "metadata": {},
   "source": [
    "## Get top enrolled courses\n",
    "\n",
    "Develop a code to read the data from a CSV file to return top 5 courses by enrolment in a list. \n",
    "* The function should return the top n courses based up on the enrollment field in the CSV file.\n",
    "* Output should be a list which contain top 5 courses by enrollments. Each slement should contain course title and the number of enrollments.\n",
    "* The values should be tab delimited.\n",
    "* Data should be sorted in decending order by enrollments\n",
    "\n",
    "Note: Please use loops or functions such map, filter, reduce, etc to come up with the solution."
   ]
  },
  {
   "cell_type": "code",
   "execution_count": null,
   "id": "b695524a",
   "metadata": {},
   "outputs": [],
   "source": [
    "def get_top_enrolled_courses(file_path, top_n):\n",
    "#Your code should go here\n",
    "  \n",
    "    return top_enrolled_courses"
   ]
  },
  {
   "cell_type": "markdown",
   "id": "1161117b",
   "metadata": {},
   "source": [
    "* Run the below to validate. Here is the desired output.\n",
    "\n",
    "```python\n",
    "[\n",
    "'Microsoft Excel - Excel from Beginner to Advanced\\t558150',\n",
    "'Microsoft Excel - Advanced Excel Formulas & Functions\\t182132',\n",
    "'Microsoft Excel - Data Analysis with Excel Pivot Tables\\t112510',\n",
    "'Microsoft Excel - From Beginner to Expert in 6 Hours\\t101795',\n",
    "'Unlock Excel VBA and Excel Macros\\t97548'\n",
    "]\n",
    "```"
   ]
  },
  {
   "cell_type": "code",
   "execution_count": null,
   "id": "85e3785f",
   "metadata": {},
   "outputs": [],
   "source": [
    "enrollment_list = get_top_enrollment_list('data/udemy_office_productivity/udemy_office_productivity.csv', 5)"
   ]
  },
  {
   "cell_type": "code",
   "execution_count": null,
   "id": "d2d5123d",
   "metadata": {},
   "outputs": [],
   "source": [
    "enrollment_list"
   ]
  },
  {
   "cell_type": "code",
   "execution_count": 2,
   "id": "dffd6982",
   "metadata": {},
   "outputs": [],
   "source": [
    "data = open('data/udemy_office_productivity/udemy_office_productivity.csv').read().splitlines()"
   ]
  },
  {
   "cell_type": "code",
   "execution_count": 4,
   "id": "cd9d6b16",
   "metadata": {},
   "outputs": [],
   "source": [
    "data_with_no_header = data[1:]"
   ]
  },
  {
   "cell_type": "code",
   "execution_count": 6,
   "id": "c317ec86",
   "metadata": {},
   "outputs": [],
   "source": [
    "import pandas as pd"
   ]
  },
  {
   "cell_type": "code",
   "execution_count": 11,
   "id": "e2f6bbd8",
   "metadata": {},
   "outputs": [],
   "source": [
    "df = pd.read_csv('data/udemy_office_productivity/udemy_office_productivity.csv')"
   ]
  },
  {
   "cell_type": "code",
   "execution_count": 23,
   "id": "2ca47edd",
   "metadata": {},
   "outputs": [
    {
     "name": "stdout",
     "output_type": "stream",
     "text": [
      "Microsoft Excel - Excel from Beginner to Advanced\t558150\n",
      "Microsoft Excel - Advanced Excel Formulas & Functions\t182132\n",
      "Microsoft Excel - Data Analysis with Excel Pivot Tables\t112510\n",
      "Microsoft Excel - From Beginner to Expert in 6 Hours\t101795\n",
      "Unlock Excel VBA and Excel Macros\t97548\n",
      "Microsoft Excel - Data Visualization, Excel Charts & Graphs\t74140\n",
      "Excel Essentials: The Complete Excel Series - Level 1, 2 & 3\t72269\n",
      "Master Microsoft Word Beginner to Advanced\t55439\n",
      "Microsoft Excel - Excel Power Query, Power Pivot & DAX\t54533\n",
      "Microsoft Project ALL: BEGINNER to EXPERT 10 Projects 9 PDU\t47664\n",
      "Powerpoint 2016 2019 - Master powerpoint presentation\t46790\n",
      "Visually Effective Excel Dashboards\t43843\n",
      "Microsoft Access 2016 Master Class: Beginner to Advanced\t43242\n",
      "Master Microsoft Excel Macros and Excel VBA\t41348\n",
      "Mastering Microsoft Teams (2020)\t33522\n",
      "SAP Simplified for Absolute Beginners\t21652\n"
     ]
    }
   ],
   "source": [
    "for i in df.sort_values('Enrollment', ascending=False)[['Title', 'Enrollment']].itertuples():\n",
    "    print(f'{i[1]}\\t{i[2]}')"
   ]
  },
  {
   "cell_type": "code",
   "execution_count": null,
   "id": "6458f3a9",
   "metadata": {},
   "outputs": [],
   "source": []
  }
 ],
 "metadata": {
  "kernelspec": {
   "display_name": "Python 3",
   "language": "python",
   "name": "python3"
  },
  "language_info": {
   "codemirror_mode": {
    "name": "ipython",
    "version": 3
   },
   "file_extension": ".py",
   "mimetype": "text/x-python",
   "name": "python",
   "nbconvert_exporter": "python",
   "pygments_lexer": "ipython3",
   "version": "3.6.12"
  }
 },
 "nbformat": 4,
 "nbformat_minor": 5
}
