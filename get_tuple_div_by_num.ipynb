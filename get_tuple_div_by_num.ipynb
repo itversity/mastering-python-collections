{
 "cells": [
  {
   "cell_type": "markdown",
   "id": "2f4638c3",
   "metadata": {},
   "source": [
    "## Get all elements divide by  number from the data\n",
    "Develop a function to find a tuple that has all elements divide by  number from a data.\n",
    "\n",
    "* The input data is in the form of list of tuples\n",
    "* First Remove strigs in the data.\n",
    "* Check all elements divide by  number from the data.\n",
    "* Output should be in form of tuple.\n",
    "\n",
    "Note: Please use loops or functions such as map, filter, reduce, etc to come up with the solution."
   ]
  },
  {
   "cell_type": "code",
   "execution_count": null,
   "id": "a01e3540",
   "metadata": {},
   "outputs": [],
   "source": [
    "data = [(12, 8,'a', 16), (24, 16, 28), (7, 2, 7), (4,'bat',64)]\n",
    "number = 4"
   ]
  },
  {
   "cell_type": "markdown",
   "id": "6d3599af",
   "metadata": {},
   "source": [
    "## Step 1: Preview the data\n",
    "* Let us first preview the data."
   ]
  },
  {
   "cell_type": "code",
   "execution_count": null,
   "id": "a7337264",
   "metadata": {},
   "outputs": [],
   "source": [
    "data"
   ]
  },
  {
   "cell_type": "code",
   "execution_count": null,
   "id": "0016c13a",
   "metadata": {},
   "outputs": [],
   "source": [
    "type(data)"
   ]
  },
  {
   "cell_type": "code",
   "execution_count": null,
   "id": "a34673a2",
   "metadata": {},
   "outputs": [],
   "source": [
    "len(data)"
   ]
  },
  {
   "cell_type": "code",
   "execution_count": null,
   "id": "24a1e21a",
   "metadata": {},
   "outputs": [],
   "source": [
    "number"
   ]
  },
  {
   "cell_type": "code",
   "execution_count": null,
   "id": "d4e636ba",
   "metadata": {},
   "outputs": [],
   "source": [
    "type(number)"
   ]
  },
  {
   "cell_type": "code",
   "execution_count": null,
   "id": "33e47433",
   "metadata": {},
   "outputs": [],
   "source": [
    "for data in data:\n",
    "    print(f'The type of the record {data} is {type(data)}')"
   ]
  },
  {
   "cell_type": "markdown",
   "id": "83cca538",
   "metadata": {},
   "source": [
    "## Step 2: Provide the solution\n",
    "Now come up with the solution by developing the required logic. Once the function is developed, go to the next step to take care of the validation."
   ]
  },
  {
   "cell_type": "code",
   "execution_count": null,
   "id": "3de1dd26",
   "metadata": {},
   "outputs": [],
   "source": [
    "def get_tuple_div_by_num(data):\n",
    "    #your code should go here.\n",
    "    \n",
    "    return "
   ]
  },
  {
   "cell_type": "markdown",
   "id": "667e9988",
   "metadata": {},
   "source": [
    "### Step 3: Validate the function\n",
    "\n",
    "Let us validate the function by running below cells."
   ]
  },
  {
   "cell_type": "code",
   "execution_count": null,
   "id": "723574ff",
   "metadata": {},
   "outputs": [],
   "source": [
    "tuple_div_by_num = get_tuple_div_by_num(data)"
   ]
  },
  {
   "cell_type": "code",
   "execution_count": null,
   "id": "87821fe5",
   "metadata": {},
   "outputs": [],
   "source": [
    "type(tuple_div_by_num) #It should be tuple"
   ]
  },
  {
   "cell_type": "code",
   "execution_count": null,
   "id": "e8cb80f0",
   "metadata": {},
   "outputs": [],
   "source": [
    "len(tuple_div_by_num) #It should be 3"
   ]
  },
  {
   "cell_type": "code",
   "execution_count": null,
   "id": "460d46dd",
   "metadata": {},
   "outputs": [],
   "source": [
    "tuple_div_by_num #output should be  ((12, 8, 16), (24, 16, 28), (4, 64))"
   ]
  }
 ],
 "metadata": {
  "kernelspec": {
   "display_name": "Python 3",
   "language": "python",
   "name": "python3"
  },
  "language_info": {
   "codemirror_mode": {
    "name": "ipython",
    "version": 3
   },
   "file_extension": ".py",
   "mimetype": "text/x-python",
   "name": "python",
   "nbconvert_exporter": "python",
   "pygments_lexer": "ipython3",
   "version": "3.6.12"
  }
 },
 "nbformat": 4,
 "nbformat_minor": 5
}
