{
 "cells": [
  {
   "cell_type": "markdown",
   "id": "4b55b7f9",
   "metadata": {},
   "source": [
    "## Get Aspirants by Scheduled Date\n",
    "\n",
    "Develop a function which gives list of aspirants scheduled for a given date.\n",
    "* Location of the data: **data/python_assessments/aspirants.csv**.\n",
    "* Each line in the file is a record and each record have data related to multiple attributes.\n",
    "* Data related to attributes in each record are separated or delimieted by **\\t**.\n",
    "* Develop a function which does the following.\n",
    "  * It should take 2 arguments, file path and the scheduled date. The date passed should be in `%Y-%m-%d` format.\n",
    "  * Read the data from the file.\n",
    "  * Filter the data based on the scheduled date passed.\n",
    "  * Function should return the list of aspirants who have scheduled for a given date.\n",
    "  * The list should only contain Name, Rating, Country and Schedule Date in the form of tuples. The date in the output should be in `%Y-%m-%d` format\n",
    "  * Data should be sorted in ascending order by country and then in ascending order by name.\n",
    "\n",
    "**Restrictions: You should only use loops or first class functions such as map, filter etc. You can also use csv library to deal with delimited data. Do not use Pandas.**"
   ]
  },
  {
   "cell_type": "markdown",
   "id": "49960ec8",
   "metadata": {},
   "source": [
    "### Step 1: Preview the data\n",
    "\n",
    "Let us first preview the data."
   ]
  },
  {
   "cell_type": "code",
   "execution_count": null,
   "id": "a95946f0",
   "metadata": {},
   "outputs": [],
   "source": [
    "!ls -ltr data/python_assessments/aspirants.csv"
   ]
  },
  {
   "cell_type": "code",
   "execution_count": null,
   "id": "061ad261",
   "metadata": {},
   "outputs": [],
   "source": [
    "!head data/python_assessments/aspirants.csv"
   ]
  },
  {
   "cell_type": "code",
   "execution_count": null,
   "id": "a7e23be0",
   "metadata": {},
   "outputs": [],
   "source": [
    "!wc -l data/python_assessments/aspirants.csv"
   ]
  },
  {
   "cell_type": "markdown",
   "id": "3571f9ef",
   "metadata": {},
   "source": [
    "### Step 2: Provide the solution\n",
    "\n",
    "Now come up with the solution by developing the required logic. Once the function is developed, go to the next step to take care of the validation."
   ]
  },
  {
   "cell_type": "code",
   "execution_count": null,
   "id": "710b41db",
   "metadata": {},
   "outputs": [],
   "source": [
    "def get_aspirants_by_scheduled_date(file_path, scheduled_date):\n",
    "    return aspirants_by_scheduled_date"
   ]
  },
  {
   "cell_type": "markdown",
   "id": "51ec6eba",
   "metadata": {},
   "source": [
    "### Step 3: Validate the function\n",
    "\n",
    "Let us validate the function by running below cells.\n",
    "* Here is the expected output.\n",
    "\n",
    "```python\n",
    "[('Cheikh ', 3, 'France ', '8/1/2021'),\n",
    " ('Mayank', 3, 'India', '8/1/2021'),\n",
    " ('R shiva kumar', 3, 'India', '8/1/2021'),\n",
    " ('Sai', 3, 'India', '8/1/2021')]\n",
    "```"
   ]
  },
  {
   "cell_type": "code",
   "execution_count": null,
   "id": "14fd6a9e",
   "metadata": {},
   "outputs": [],
   "source": [
    "aspirants_by_scheduled_date = get_aspirants_by_scheduled_date('data/python_assessments/aspirants.csv', '2021-08-01')\n",
    "aspirants_by_scheduled_date"
   ]
  },
  {
   "cell_type": "code",
   "execution_count": null,
   "id": "8e54a753",
   "metadata": {},
   "outputs": [],
   "source": [
    "len(aspirants_by_scheduled_date) # 4"
   ]
  },
  {
   "cell_type": "code",
   "execution_count": null,
   "id": "976710c2",
   "metadata": {},
   "outputs": [],
   "source": [
    "type(aspirants_by_scheduled_date) # list"
   ]
  },
  {
   "cell_type": "code",
   "execution_count": null,
   "id": "5f7158aa",
   "metadata": {},
   "outputs": [],
   "source": [
    "type(aspirants_by_scheduled_date[0]) # tuple"
   ]
  },
  {
   "cell_type": "code",
   "execution_count": null,
   "id": "4d169651",
   "metadata": {},
   "outputs": [],
   "source": [
    "print(aspirants_by_scheduled_date[0]) # ('Cheikh ', 3, 'France ', '8/1/2021')"
   ]
  },
  {
   "cell_type": "code",
   "execution_count": null,
   "id": "fd61bcb3",
   "metadata": {},
   "outputs": [],
   "source": []
  }
 ],
 "metadata": {
  "kernelspec": {
   "display_name": "Python 3",
   "language": "python",
   "name": "python3"
  },
  "language_info": {
   "codemirror_mode": {
    "name": "ipython",
    "version": 3
   },
   "file_extension": ".py",
   "mimetype": "text/x-python",
   "name": "python",
   "nbconvert_exporter": "python",
   "pygments_lexer": "ipython3",
   "version": "3.6.12"
  }
 },
 "nbformat": 4,
 "nbformat_minor": 5
}
