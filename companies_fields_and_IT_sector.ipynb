{
 "cells": [
  {
   "cell_type": "markdown",
   "id": "dcb9150c",
   "metadata": {},
   "source": [
    "## Companies fields and IT sector\n",
    "\n",
    "Develop the function which takes a string and list of strings and combines them into list of dicts.\n",
    "* The inputs are fields which is of type string and IT_companies which is of type of list of strings.\n",
    "* The output data should be list of dicts where fields as keys and IT_companies as values.\n",
    "* This scanerio is to be solved by using zip() function."
   ]
  },
  {
   "cell_type": "code",
   "execution_count": null,
   "id": "19350f42",
   "metadata": {},
   "outputs": [],
   "source": [
    "fields = 'Name,Sector,Price,Dividend,EarningsPerShare'"
   ]
  },
  {
   "cell_type": "code",
   "execution_count": null,
   "id": "041341cb",
   "metadata": {},
   "outputs": [],
   "source": [
    "IT_companies=[\n",
    "'Accenture,IT,222.89,2.33,7.92',\n",
    "'Apple,IT,155.15,1.57,9.2',\n",
    "'Adobe Systems Inc,IT,185.16,0,3.39',\n",
    "'Alphabet,IT,1007.71,0,22.27',\n",
    "'ebay Inc,IT,41.02,0,-1.07',\n",
    "'Hewlett Packard Enterprise,IT,15.04,1.92,0.21',\n",
    "'Intel Corp,IT,42.75,2.65,1.98',\n",
    "'Microsoft Corp,IT,85.01,1.87,2.97',\n",
    "'Netflix Inc,IT,250.01,0,1.25']"
   ]
  },
  {
   "cell_type": "markdown",
   "id": "cdb67b1d",
   "metadata": {},
   "source": [
    "### Step 1: Preview the Data\n",
    "Let us preview the data."
   ]
  },
  {
   "cell_type": "code",
   "execution_count": null,
   "id": "4fc098a4",
   "metadata": {},
   "outputs": [],
   "source": [
    "fields"
   ]
  },
  {
   "cell_type": "code",
   "execution_count": null,
   "id": "7d66671b",
   "metadata": {},
   "outputs": [],
   "source": [
    "type(fields)"
   ]
  },
  {
   "cell_type": "code",
   "execution_count": null,
   "id": "74945dc7",
   "metadata": {},
   "outputs": [],
   "source": [
    "IT_companies"
   ]
  },
  {
   "cell_type": "code",
   "execution_count": null,
   "id": "9fbfa383",
   "metadata": {},
   "outputs": [],
   "source": [
    "type(IT_companies)"
   ]
  },
  {
   "cell_type": "code",
   "execution_count": null,
   "id": "0de95377",
   "metadata": {},
   "outputs": [],
   "source": [
    "IT_companies[0]"
   ]
  },
  {
   "cell_type": "code",
   "execution_count": null,
   "id": "5710e80d",
   "metadata": {},
   "outputs": [],
   "source": [
    "type(IT_companies[0])"
   ]
  },
  {
   "cell_type": "markdown",
   "id": "16baf450",
   "metadata": {},
   "source": [
    "### Step 2: Provide the Solution\n",
    "Provide the solution below."
   ]
  },
  {
   "cell_type": "code",
   "execution_count": null,
   "id": "721edd53",
   "metadata": {},
   "outputs": [],
   "source": [
    "def get_IT_companies(fields,IT_companies):\n",
    "    # Develop your logic here\n",
    "    return companies_fields_and_IT_sector"
   ]
  },
  {
   "cell_type": "markdown",
   "id": "d50fcdd8",
   "metadata": {},
   "source": [
    "### Step 3: Validate the function\n",
    "Let us validate the function by running the below cells."
   ]
  },
  {
   "cell_type": "markdown",
   "id": "23df196d",
   "metadata": {},
   "source": [
    "The desired output is-\n",
    "```python\n",
    "companies_fields_and_IT_sector=\n",
    "[{'Name': 'Accenture',\n",
    "  'Sector': 'IT',\n",
    "  'Price': 222.89,\n",
    "  'Dividend': 2.33,\n",
    "  'EarningsPerShare': 7.92},\n",
    " {'Name': 'Apple',\n",
    "  'Sector': 'IT',\n",
    "  'Price': 155.15,\n",
    "  'Dividend': 1.57,\n",
    "  'EarningsPerShare': 9.2},\n",
    " {'Name': 'Adobe Systems Inc',\n",
    "  'Sector': 'IT',\n",
    "  'Price': 185.16,\n",
    "  'Dividend': 0.0,\n",
    "  'EarningsPerShare': 3.39},\n",
    " {'Name': 'Alphabet',\n",
    "  'Sector': 'IT',\n",
    "  'Price': 1007.71,\n",
    "  'Dividend': 0.0,\n",
    "  'EarningsPerShare': 22.27},\n",
    " {'Name': 'ebay Inc',\n",
    "  'Sector': 'IT',\n",
    "  'Price': 41.02,\n",
    "  'Dividend': 0.0,\n",
    "  'EarningsPerShare': -1.07},\n",
    " {'Name': 'Hewlett Packard Enterprise',\n",
    "  'Sector': 'IT',\n",
    "  'Price': 15.04,\n",
    "  'Dividend': 1.92,\n",
    "  'EarningsPerShare': 0.21},\n",
    " {'Name': 'Intel Corp',\n",
    "  'Sector': 'IT',\n",
    "  'Price': 42.75,\n",
    "  'Dividend': 2.65,\n",
    "  'EarningsPerShare': 1.98},\n",
    " {'Name': 'Microsoft Corp',\n",
    "  'Sector': 'IT',\n",
    "  'Price': 85.01,\n",
    "  'Dividend': 1.87,\n",
    "  'EarningsPerShare': 2.97},\n",
    " {'Name': 'Netflix Inc',\n",
    "  'Sector': 'IT',\n",
    "  'Price': 250.01,\n",
    "  'Dividend': 0.0,\n",
    "  'EarningsPerShare': 1.25}]\n",
    "```"
   ]
  },
  {
   "cell_type": "code",
   "execution_count": null,
   "id": "1c79ef0c",
   "metadata": {},
   "outputs": [],
   "source": [
    "companies_fields_and_IT_sector=get_IT_companies(fields,IT_companies)\n",
    "companies_fields_and_IT_sector"
   ]
  },
  {
   "cell_type": "code",
   "execution_count": null,
   "id": "4b3f826d",
   "metadata": {},
   "outputs": [],
   "source": [
    "type(companies_fields_and_IT_sector) #list"
   ]
  },
  {
   "cell_type": "code",
   "execution_count": null,
   "id": "ed57452f",
   "metadata": {},
   "outputs": [],
   "source": [
    "len(companies_fields_and_IT_sector) #9"
   ]
  },
  {
   "cell_type": "code",
   "execution_count": null,
   "id": "35d9eb3d",
   "metadata": {},
   "outputs": [],
   "source": [
    "companies_fields_and_IT_sector[0] #{'Name': 'Accenture','Sector': 'IT','Price': 222.89,'Dividend': 2.33,'EarningsPerShare': 7.92}"
   ]
  },
  {
   "cell_type": "code",
   "execution_count": null,
   "id": "62640567",
   "metadata": {},
   "outputs": [],
   "source": [
    "type(companies_fields_and_IT_sector[0]) #dict"
   ]
  },
  {
   "cell_type": "code",
   "execution_count": null,
   "id": "29fd51cd",
   "metadata": {},
   "outputs": [],
   "source": []
  }
 ],
 "metadata": {
  "kernelspec": {
   "display_name": "Python 3",
   "language": "python",
   "name": "python3"
  },
  "language_info": {
   "codemirror_mode": {
    "name": "ipython",
    "version": 3
   },
   "file_extension": ".py",
   "mimetype": "text/x-python",
   "name": "python",
   "nbconvert_exporter": "python",
   "pygments_lexer": "ipython3",
   "version": "3.6.12"
  }
 },
 "nbformat": 4,
 "nbformat_minor": 5
}
