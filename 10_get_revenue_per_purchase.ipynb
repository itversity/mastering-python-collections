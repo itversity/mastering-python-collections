{
 "cells": [
  {
   "cell_type": "markdown",
   "id": "e283810c",
   "metadata": {},
   "source": [
    "## Get revenue per purchase\n",
    "Develop a function which returns list of items along with the revenue. Each item in the list should be a tab separated or delimited string. \n",
    "* Following are the details about each item.\n",
    "  * It has 4 columns - order id, book title, quantity, retail prices of each book.\n",
    "* We can compute the revenue of each purchase by multiplying quantity and the retail price of each book. Look at the expected output for further details.\n",
    "* The function should take purchases as input and it should return list of strings. Each string should be tab delimited or separated. The string should contain order id, book title and the revenue. The revenue should be rounded off to 2 decimals.\n",
    "\n",
    "**Restriction: You are not supposed to use loops or list comprehensions**"
   ]
  },
  {
   "cell_type": "code",
   "execution_count": null,
   "id": "dacf173a",
   "metadata": {},
   "outputs": [],
   "source": [
    "purchases = [ \n",
    "    [34587, \"Learning Python, Mark Lutz\", 4, 40.95], \n",
    "    [98762, \"Programming Python, Mark Lutz\", 5, 56.80], \n",
    "    [77226, \"Head First Python, Paul Barry\", 3, 32.95],\n",
    "    [88112, \"Einführung in Python3, Bernd Klein\", 3, 24.99]\n",
    "]"
   ]
  },
  {
   "cell_type": "markdown",
   "id": "4db402b5",
   "metadata": {},
   "source": [
    "## Step 1: Preview the data\n",
    "* Let us first preview the data."
   ]
  },
  {
   "cell_type": "code",
   "execution_count": null,
   "id": "5e1adecf",
   "metadata": {},
   "outputs": [],
   "source": [
    "purchases"
   ]
  },
  {
   "cell_type": "code",
   "execution_count": null,
   "id": "014c5734",
   "metadata": {},
   "outputs": [],
   "source": [
    "type(purchases)"
   ]
  },
  {
   "cell_type": "code",
   "execution_count": null,
   "id": "d984ab55",
   "metadata": {},
   "outputs": [],
   "source": [
    "len(purchases)"
   ]
  },
  {
   "cell_type": "code",
   "execution_count": null,
   "id": "25cd1097",
   "metadata": {},
   "outputs": [],
   "source": [
    "for purchase in purchases:\n",
    "    print(f'The type of the record {purchase} is {type(purchase)}')"
   ]
  },
  {
   "cell_type": "markdown",
   "id": "52fbf31f",
   "metadata": {},
   "source": [
    "## Step 2: Provide the solution\n",
    "Now come up with the solution by developing the required logic. Once the function is developed, go to the next step to take care of the validation."
   ]
  },
  {
   "cell_type": "code",
   "execution_count": null,
   "id": "219282b7",
   "metadata": {},
   "outputs": [],
   "source": [
    "def get_revenue_per_item(purchases):\n",
    "    #your code should go here\n",
    "    return revenue_per_item"
   ]
  },
  {
   "cell_type": "markdown",
   "id": "847c7d81",
   "metadata": {},
   "source": [
    "### Step 3: Validate the function\n",
    "\n",
    "Here is the expected output.\n",
    "```python\n",
    "['34587\\tLearning Python, Mark Lutz\\t163.8',\n",
    " '98762\\tProgramming Python, Mark Lutz\\t284.0',\n",
    " '77226\\tHead First Python, Paul Barry\\t98.85',\n",
    " '88112\\tEinführung in Python3, Bernd Klein\\t74.97']\n",
    "```"
   ]
  },
  {
   "cell_type": "code",
   "execution_count": null,
   "id": "fa078279",
   "metadata": {},
   "outputs": [],
   "source": [
    "items = get_revenue_per_item(purchases)\n",
    "items"
   ]
  },
  {
   "cell_type": "code",
   "execution_count": null,
   "id": "3b889896",
   "metadata": {},
   "outputs": [],
   "source": [
    "type(items)   # It should be list."
   ]
  },
  {
   "cell_type": "code",
   "execution_count": null,
   "id": "3b9f2a01",
   "metadata": {},
   "outputs": [],
   "source": [
    "items[0] # '34587\\tLearning Python, Mark Lutz\\t163.8'"
   ]
  },
  {
   "cell_type": "code",
   "execution_count": null,
   "id": "7505b32f",
   "metadata": {},
   "outputs": [],
   "source": [
    "print(items[0]) # 34587\tLearning Python, Mark Lutz\t163.8"
   ]
  },
  {
   "cell_type": "code",
   "execution_count": null,
   "id": "14db307d",
   "metadata": {},
   "outputs": [],
   "source": [
    "type(items[0]) # str"
   ]
  }
 ],
 "metadata": {
  "kernelspec": {
   "display_name": "Python 3",
   "language": "python",
   "name": "python3"
  },
  "language_info": {
   "codemirror_mode": {
    "name": "ipython",
    "version": 3
   },
   "file_extension": ".py",
   "mimetype": "text/x-python",
   "name": "python",
   "nbconvert_exporter": "python",
   "pygments_lexer": "ipython3",
   "version": "3.6.12"
  }
 },
 "nbformat": 4,
 "nbformat_minor": 5
}
