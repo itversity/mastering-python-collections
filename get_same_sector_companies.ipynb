{
 "cells": [
  {
   "cell_type": "markdown",
   "id": "42e29c9f",
   "metadata": {},
   "source": [
    "## Get companies with same sector in nested dict format.\n",
    "\n",
    "* Filter the companies by their sector by using functions like map, filter etc..\n",
    "* Output should contain dict with keys as companies_under_sector_sectorname and values should be the filtered list of dicts."
   ]
  },
  {
   "cell_type": "code",
   "execution_count": null,
   "id": "64530b23",
   "metadata": {},
   "outputs": [],
   "source": [
    "companies = [{'Company_name':'Accenture', 'Sector':'IT', 'Price':'222.89', 'Dividend':'2.33', 'Share':'7.92'},\n",
    "             {'Company_name':'Apple', 'Sector':'IT', 'Price':'1555.15', 'Dividend':'1.57', 'Share':'9.2'},\n",
    "             {'Company_name':'Adobe Systems Inc', 'Sector':'IT', 'price':'185.16', 'Dividend':'0', 'share':'3.39'},\n",
    "             {'Company_name':'Alphabet', 'Sector':'IT', 'Price':'1007.71', 'Dividend':'0', 'Share':'22.27'},\n",
    "             {'Company_name':'Bank of America Corp', 'Sector':'Finacials', 'Price':'29.74', 'Dividend':'1.53', 'Share':'1.55'},\n",
    "             {'Company_name':'Biogen Inc', 'Sector':'Health Care', 'Price':'311.79', 'Dividend':'0', 'Share':'11.94'},\n",
    "             {'Company_name':'Campbell Soup', 'Sector':'Consumer Staples', 'Price':'44.83', 'Dividend':'3.12', 'Share':'2.89'},\n",
    "             {'Company_name':'Dr Pepper Snapple Group', 'Sector':'Consumer Staples', 'Price':'116.93', 'Dividend':'1.96', 'Share':'4.54'},\n",
    "             {'Company_name':'ebay Inc', 'Sector':'IT', 'Price':'41.02', 'Dividend':'0', 'Share':'-1.07'},\n",
    "             {'Company_name':'FedEx Corporation', 'Sector':'Industrials', 'Price':'239.27', 'Dividend':'0.79', 'Share':'11.07'},\n",
    "             {'Company_name':'Ford Motors', 'Sector':'Consumer Products', 'Price':'10.43', 'Dividend':'6.78', 'Share':'1.9'},\n",
    "             {'Company_name':'General Motors', 'Sector':'Consumer Products', 'Price':'40.75', 'Dividend':'3.58', 'Share':'6'},\n",
    "             {'Company_name':'Harley-Davidson', 'Sector':'Consumer Products', 'Price':'47.54', 'Dividend':'3.02', 'Share':'2.98'},\n",
    "             {'Company_name':'Hewlett Packard Enterprise', 'Sector':'IT', 'Price':'15.04', 'Dividend':'1.92', 'Share':'0.21'},\n",
    "             {'Company_name':'Intel Corp', 'Sector':'IT', 'Price':'42.75', 'Dividend':'2.65', 'Share':'1.98'},\n",
    "             {'Company_name':'JP Morgan', 'Sector':'Finacials', 'Price':'107.88', 'Dividend':'1.98', 'Share':'6.3'},\n",
    "             {'Company_name':'Johnson & Johnson', 'Sector':'IT', 'Price':'126.36', 'Dividend':'2.55', 'Share':'0.39'},\n",
    "             {'Company_name':'Microsoft Corp', 'Sector':'IT', 'Price':'85.01', 'Dividend':'1.87', 'Share':'2.97'},\n",
    "             {'Company_name':'Netflix Inc', 'Sector':'IT', 'Price':'250.01', 'Dividend':'0', 'Share':'1.25'},\n",
    "             {'Company_name':'Nike', 'Sector':'Consumer Products', 'Price':'62.49', 'Dividend':'1.21', 'Share':'2.51'}]"
   ]
  },
  {
   "cell_type": "code",
   "execution_count": null,
   "id": "edb7f23b",
   "metadata": {},
   "outputs": [],
   "source": [
    "def get_same_sector_companies(companies, Sector_name):\n",
    "#Your code should go here\n",
    "    \n",
    "    return get_same_sector_companies"
   ]
  },
  {
   "cell_type": "code",
   "execution_count": null,
   "id": "046fc054",
   "metadata": {},
   "outputs": [],
   "source": [
    "get_same_sector_companies(companies, 'IT')"
   ]
  },
  {
   "cell_type": "markdown",
   "id": "83fd28ad",
   "metadata": {},
   "source": [
    "## The expected output is:\n",
    "\n",
    "```python\n",
    "{'Companies_under_IT': [{'Company_name': 'Accenture',\n",
    "   'Sector': 'IT',\n",
    "   'Price': '222.89',\n",
    "   'Dividend': '2.33',\n",
    "   'Share': '7.92'},\n",
    "  {'Company_name': 'Apple',\n",
    "   'Sector': 'IT',\n",
    "   'Price': '1555.15',\n",
    "   'Dividend': '1.57',\n",
    "   'Share': '9.2'},\n",
    "  {'Company_name': 'Adobe Systems Inc',\n",
    "   'Sector': 'IT',\n",
    "   'price': '185.16',\n",
    "   'Dividend': '0',\n",
    "   'share': '3.39'},\n",
    "  {'Company_name': 'Alphabet',\n",
    "   'Sector': 'IT',\n",
    "   'Price': '1007.71',\n",
    "   'Dividend': '0',\n",
    "   'Share': '22.27'},\n",
    "  {'Company_name': 'ebay Inc',\n",
    "   'Sector': 'IT',\n",
    "   'Price': '41.02',\n",
    "   'Dividend': '0',\n",
    "   'Share': '-1.07'},\n",
    "  {'Company_name': 'Hewlett Packard Enterprise',\n",
    "   'Sector': 'IT',\n",
    "   'Price': '15.04',\n",
    "   'Dividend': '1.92',\n",
    "   'Share': '0.21'},\n",
    "  {'Company_name': 'Intel Corp',\n",
    "   'Sector': 'IT',\n",
    "   'Price': '42.75',\n",
    "   'Dividend': '2.65',\n",
    "   'Share': '1.98'},\n",
    "  {'Company_name': 'Johnson & Johnson',\n",
    "   'Sector': 'IT',\n",
    "   'Price': '126.36',\n",
    "   'Dividend': '2.55',\n",
    "   'Share': '0.39'},\n",
    "  {'Company_name': 'Microsoft Corp',\n",
    "   'Sector': 'IT',\n",
    "   'Price': '85.01',\n",
    "   'Dividend': '1.87',\n",
    "   'Share': '2.97'},\n",
    "  {'Company_name': 'Netflix Inc',\n",
    "   'Sector': 'IT',\n",
    "   'Price': '250.01',\n",
    "   'Dividend': '0',\n",
    "   'Share': '1.25'}]}\n",
    "```"
   ]
  },
  {
   "cell_type": "markdown",
   "id": "bdd7f2d0",
   "metadata": {},
   "source": [
    "You can check by entering another sector name and you should get the desired output related to that."
   ]
  },
  {
   "cell_type": "code",
   "execution_count": null,
   "id": "497684b6",
   "metadata": {},
   "outputs": [],
   "source": []
  }
 ],
 "metadata": {
  "kernelspec": {
   "display_name": "Python 3",
   "language": "python",
   "name": "python3"
  },
  "language_info": {
   "codemirror_mode": {
    "name": "ipython",
    "version": 3
   },
   "file_extension": ".py",
   "mimetype": "text/x-python",
   "name": "python",
   "nbconvert_exporter": "python",
   "pygments_lexer": "ipython3",
   "version": "3.6.12"
  }
 },
 "nbformat": 4,
 "nbformat_minor": 5
}
