{
 "cells": [
  {
   "cell_type": "markdown",
   "id": "3ca7083b",
   "metadata": {},
   "source": [
    "## Filter the students by their gender\n",
    "* Develop a code by using functions like map, filter, etc\n",
    "* The output should contain list of male students and list of female students filtered seperately."
   ]
  },
  {
   "cell_type": "code",
   "execution_count": null,
   "id": "86c8d8d0",
   "metadata": {},
   "outputs": [],
   "source": [
    "Students = [{'Race' : 'Group_B', 'Gender' : 'Female', 'Math_score' : '72'},\n",
    "            {'Race' : 'Group_A', 'Gender' : 'Male', 'Math_score' : '47'},\n",
    "            {'Race' : 'Group_C', 'Gender' : 'Female', 'Math_score' : '69'},\n",
    "            {'Race' : 'Group_B', 'Gender' : 'Female', 'Math_score' : '90'},\n",
    "            {'Race' : 'Group_D', 'Gender' : 'Male', 'Math_score' : '64'},\n",
    "            {'Race' : 'Group_B', 'Gender' : 'Female', 'Math_score' : '65'},\n",
    "            {'Race' : 'Group_C', 'Gender' : 'Male', 'Math_score' : '76'}]"
   ]
  },
  {
   "cell_type": "code",
   "execution_count": null,
   "id": "da4c737d",
   "metadata": {},
   "outputs": [],
   "source": [
    "def get_students_by_gender(Students):\n",
    "    \n",
    "    return "
   ]
  },
  {
   "cell_type": "code",
   "execution_count": null,
   "id": "49cd6c54",
   "metadata": {},
   "outputs": [],
   "source": [
    "get_filter_by_gender(Students)"
   ]
  },
  {
   "cell_type": "markdown",
   "id": "e6affd62",
   "metadata": {},
   "source": [
    "## The desired output is\n",
    "```python\n",
    "{'Male_students': [{'Race': 'Group_A', 'Gender': 'Male', 'Math_score': '47'},\n",
    "  {'Race': 'Group_D', 'Gender': 'Male', 'Math_score': '64'},\n",
    "  {'Race': 'Group_C', 'Gender': 'Male', 'Math_score': '76'}],\n",
    " 'Female_students': [{'Race': 'Group_B', 'Gender': 'Female', 'Math_score': '72'},\n",
    "  {'Race': 'Group_C', 'Gender': 'Female', 'Math_score': '69'},\n",
    "  {'Race': 'Group_B', 'Gender': 'Female', 'Math_score': '90'},\n",
    "  {'Race': 'Group_B', 'Gender': 'Female', 'Math_score': '65'}]}\n",
    "```"
   ]
  },
  {
   "cell_type": "code",
   "execution_count": null,
   "id": "0f80942d",
   "metadata": {},
   "outputs": [],
   "source": []
  }
 ],
 "metadata": {
  "kernelspec": {
   "display_name": "Python 3",
   "language": "python",
   "name": "python3"
  },
  "language_info": {
   "codemirror_mode": {
    "name": "ipython",
    "version": 3
   },
   "file_extension": ".py",
   "mimetype": "text/x-python",
   "name": "python",
   "nbconvert_exporter": "python",
   "pygments_lexer": "ipython3",
   "version": "3.6.12"
  }
 },
 "nbformat": 4,
 "nbformat_minor": 5
}
