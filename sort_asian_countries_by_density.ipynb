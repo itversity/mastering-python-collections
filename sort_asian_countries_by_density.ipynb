{
 "cells": [
  {
   "cell_type": "markdown",
   "id": "7e31c084",
   "metadata": {},
   "source": [
    "## Sort Asian Countries by Density\n",
    "\n",
    "Develop the function to sort the asian countries in descending order by their population density.\n",
    "* The input data is present in form of list of tuples which contains fields in respective orders- Name of country, Population, Yearly Change, Net Change and Density.\n",
    "* The output data should be in form of list of tuples.\n",
    "* The output data should be sorted in descending order by Density.\n",
    "* Use map reduce functions such as `map` to solve this scanerio."
   ]
  },
  {
   "cell_type": "code",
   "execution_count": null,
   "id": "1b06b4b1",
   "metadata": {},
   "outputs": [],
   "source": [
    "asian_countries=[\n",
    " ('Afghanistan', 38928346, 2.33, 886592, 60),\n",
    " ('Armenia', 2963243, 0.19, 5512, 104),\n",
    " ('Azerbaijan', 10139177, 0.91, 91459, 123),\n",
    " ('Bahrain', 1701575, 3.68, 60403, 2239),\n",
    " ('Bangladesh', 164689383, 1.01, 1643222, 1265),\n",
    " ('Bhutan', 771608, 1.12, 8516, 20),\n",
    " ('Brunei', 437479, 0.97, 4194, 83),\n",
    " ('Cambodia', 16718965, 1.41, 232423, 95),\n",
    " ('China', 1439323776, 0.39, 5540090, 153),\n",
    " ('Cyprus', 1207359, 0.73, 8784, 131),\n",
    " ('Georgia', 3989167, -0.19, -7598, 57),\n",
    " ('Hong Kong', 7496981, 0.82, 60827, 7140)]"
   ]
  },
  {
   "cell_type": "markdown",
   "id": "42c8caaa",
   "metadata": {},
   "source": [
    "**Step 1: Preview the Data**"
   ]
  },
  {
   "cell_type": "code",
   "execution_count": null,
   "id": "96e00c95",
   "metadata": {},
   "outputs": [],
   "source": [
    "asian_countries"
   ]
  },
  {
   "cell_type": "code",
   "execution_count": null,
   "id": "d15d993a",
   "metadata": {},
   "outputs": [],
   "source": [
    "type(asian_countries)"
   ]
  },
  {
   "cell_type": "code",
   "execution_count": null,
   "id": "84bcc5bb",
   "metadata": {},
   "outputs": [],
   "source": [
    "len(asian_countries)"
   ]
  },
  {
   "cell_type": "markdown",
   "id": "9d2ee75f",
   "metadata": {},
   "source": [
    "**Step 2: Provide the Solution**"
   ]
  },
  {
   "cell_type": "markdown",
   "id": "029af77f",
   "metadata": {},
   "source": [
    "Now provide the solution for the scanerio here."
   ]
  },
  {
   "cell_type": "code",
   "execution_count": null,
   "id": "f45caf07",
   "metadata": {},
   "outputs": [],
   "source": [
    "def sort_by_density(asian_countries):\n",
    "    #Develop your logic\n",
    "    return highest_countries_by_density"
   ]
  },
  {
   "cell_type": "markdown",
   "id": "650c2427",
   "metadata": {},
   "source": [
    "**Step 3: Validate the function**"
   ]
  },
  {
   "cell_type": "markdown",
   "id": "8884e7db",
   "metadata": {},
   "source": [
    "Let us validate the function by running below cells."
   ]
  },
  {
   "cell_type": "markdown",
   "id": "b9971b46",
   "metadata": {},
   "source": [
    "The desired output is-\n",
    "``` python\n",
    "highest_countries_by_density=[\n",
    "    ('Hong Kong', 7496981, 0.82, 60827, 7140),\n",
    "    ('Bahrain', 1701575, 3.68, 60403, 2239),\n",
    "    ('Bangladesh', 164689383, 1.01, 1643222, 1265),\n",
    "    ('China', 1439323776, 0.39, 5540090, 153),\n",
    "    ('Cyprus', 1207359, 0.73, 8784, 131),\n",
    "    ('Azerbaijan', 10139177, 0.91, 91459, 123),\n",
    "    ('Armenia', 2963243, 0.19, 5512, 104),\n",
    "    ('Cambodia', 16718965, 1.41, 232423, 95),\n",
    "    ('Brunei', 437479, 0.97, 4194, 83),\n",
    "    ('Afghanistan', 38928346, 2.33, 886592, 60),\n",
    "    ('Georgia', 3989167, -0.19, -7598, 57),\n",
    "    ('Bhutan', 771608, 1.12, 8516, 20)]\n",
    "```"
   ]
  },
  {
   "cell_type": "code",
   "execution_count": null,
   "id": "f6a878ee",
   "metadata": {},
   "outputs": [],
   "source": [
    "highest_countries_by_density=sort_by_density(asian_countries)\n",
    "highest_countries_by_density"
   ]
  },
  {
   "cell_type": "code",
   "execution_count": null,
   "id": "0a268dae",
   "metadata": {},
   "outputs": [],
   "source": [
    "type(highest_countries_by_density) #list"
   ]
  },
  {
   "cell_type": "code",
   "execution_count": null,
   "id": "33e8b6f4",
   "metadata": {},
   "outputs": [],
   "source": [
    "len(highest_countries_by_density) #12"
   ]
  },
  {
   "cell_type": "code",
   "execution_count": null,
   "id": "bf009a9e",
   "metadata": {},
   "outputs": [],
   "source": [
    "highest_countries_by_density[0] #('Hong Kong', 7496981, 0.82, 60827, 7140)"
   ]
  },
  {
   "cell_type": "code",
   "execution_count": null,
   "id": "0a6c0603",
   "metadata": {},
   "outputs": [],
   "source": [
    "type(highest_countries_by_density[0]) #tuple"
   ]
  },
  {
   "cell_type": "code",
   "execution_count": null,
   "id": "365220eb",
   "metadata": {},
   "outputs": [],
   "source": []
  }
 ],
 "metadata": {
  "kernelspec": {
   "display_name": "Python 3",
   "language": "python",
   "name": "python3"
  },
  "language_info": {
   "codemirror_mode": {
    "name": "ipython",
    "version": 3
   },
   "file_extension": ".py",
   "mimetype": "text/x-python",
   "name": "python",
   "nbconvert_exporter": "python",
   "pygments_lexer": "ipython3",
   "version": "3.6.12"
  }
 },
 "nbformat": 4,
 "nbformat_minor": 5
}
