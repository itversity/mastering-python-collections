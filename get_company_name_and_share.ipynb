{
 "cells": [
  {
   "cell_type": "markdown",
   "id": "052e330d",
   "metadata": {},
   "source": [
    "## Get Company name and the share\n",
    "​\n",
    "Develop the logic to get name of company and it's share in stock market.\n",
    "* The data is present in the \"company_financial_data.csv\".\n",
    "* The output should be in form of list of dictionarys.\n",
    "* The output should contain name of comapny and it's share.\n",
    "* The data should be sorted in descending order by it's share in stock market."
   ]
  },
  {
   "cell_type": "markdown",
   "id": "040a7cbf",
   "metadata": {},
   "source": [
    "**Hint: Using Pandas will help you solve the problem quickly**"
   ]
  },
  {
   "cell_type": "markdown",
   "id": "45d27050",
   "metadata": {},
   "source": [
    "The expected output is-\n",
    "``` python\n",
    "company_share_info=\n",
    "[{'Name':'Alphabet','Share':22.27},\n",
    " {'Name':'Biogen Inc','Share':11.94},\n",
    " {'Name':'FedEx Corporation','Share':11.07},\n",
    " {'Name':'Apple','Share':9.2},\n",
    " {'Name':'Accenture','Share':7.92},\n",
    " {'Name':'JP Morgan','Share':6.3},\n",
    " {'Name':'General Motors','Share':6},\n",
    " {'Name':'Dr Pepper Snapple Group','Share':4.54},\n",
    " {'Name':'Adobe Systems Inc','Share':3.39},\n",
    " {'Name':'Harley-Davidson', 'Share':2.98},\n",
    " {'Name':'Microsoft Corp', 'Share':2.97},\n",
    " {'Name':'Campbell Soup','Share':2.89},\n",
    " {'Name':'Nike','Share':2.51},\n",
    " {'Name':'Intel Corp','Share':1.98},\n",
    " {'Name':'Ford Motors','Share':1.9},\n",
    " {'Name':'Bank of America Corp','Share':1.55},\n",
    " {'Name':'Netflix Inc','Share':1.25},\n",
    " {'Name':'Johnson & Johnson','Share':0.39},\n",
    " {'Name':'Hewlett Packard Enterprise','Share':0.21},\n",
    " {'Name':'ebay Inc','Share':-1.07}\n",
    "]\n",
    "```"
   ]
  },
  {
   "cell_type": "code",
   "execution_count": null,
   "id": "a02d01a2",
   "metadata": {},
   "outputs": [],
   "source": [
    "def get_name_and_share(path):\n",
    "    # Develop the logic here\n",
    "    return company_share_info"
   ]
  },
  {
   "cell_type": "code",
   "execution_count": null,
   "id": "9654daba",
   "metadata": {},
   "outputs": [],
   "source": [
    "company_share_info=get_name_and_share('company_financial_data.csv')"
   ]
  },
  {
   "cell_type": "code",
   "execution_count": null,
   "id": "7ae3db33",
   "metadata": {},
   "outputs": [],
   "source": [
    "company_share_info"
   ]
  },
  {
   "cell_type": "code",
   "execution_count": null,
   "id": "13412daf",
   "metadata": {},
   "outputs": [],
   "source": []
  }
 ],
 "metadata": {
  "kernelspec": {
   "display_name": "Python 3",
   "language": "python",
   "name": "python3"
  },
  "language_info": {
   "codemirror_mode": {
    "name": "ipython",
    "version": 3
   },
   "file_extension": ".py",
   "mimetype": "text/x-python",
   "name": "python",
   "nbconvert_exporter": "python",
   "pygments_lexer": "ipython3",
   "version": "3.6.12"
  }
 },
 "nbformat": 4,
 "nbformat_minor": 5
}
