{
 "cells": [
  {
   "cell_type": "markdown",
   "id": "1108197d",
   "metadata": {},
   "source": [
    "## Get all bike details\n",
    "Develop a fuction to get all records of bike dtails.\n",
    "\n",
    "* The input data will be given by two lists -attributes and bike_details\n",
    "* The output data should be in list of dicts of attributes and bike details.\n",
    "* This scenario is developed to check the concept regarding the zip() function."
   ]
  },
  {
   "cell_type": "code",
   "execution_count": null,
   "id": "b275c87e",
   "metadata": {},
   "outputs": [],
   "source": [
    "attributes='name,selling_price,year,seller_type,owner,km_driven'"
   ]
  },
  {
   "cell_type": "code",
   "execution_count": null,
   "id": "c0819e03",
   "metadata": {},
   "outputs": [],
   "source": [
    "bike_details=[\n",
    "'Royal Enfield Classic 350,175000,2019,Individual,1st owner,350',\n",
    "'Honda Dio,45000,2017,Individual,1st owner,5650',\n",
    "'Royal Enfield Classic Gunmetal Grey,150000,2018,Individual,1st owner,12000',\n",
    "'Yamaha Fazer FI V 2.0 [2016-2018],65000,2015,Individual,1st owner,23000',\n",
    "'Yamaha SZ [2013-2014],20000,2011,Individual,2nd owner,21000',\n",
    "'Honda CB Twister,18000,2010,Individual,1st owner,60000',\n",
    "'Honda CB Hornet 160R,78500,2018,Individual,1st owner,17000',\n",
    "'Royal Enfield Bullet 350 [2007-2011],180000,2008,Individual,2nd owner,39000',\n",
    "'Hero Honda CBZ extreme,30000,2010,Individual,1st owner,32000',\n",
    "'Bajaj Discover 125,50000,2016,Individual,1st owner,42000'     \n",
    "]"
   ]
  },
  {
   "cell_type": "markdown",
   "id": "1645b0ec",
   "metadata": {},
   "source": [
    "## Step 1: Preview the data\n",
    "* Let us first preview the data."
   ]
  },
  {
   "cell_type": "code",
   "execution_count": null,
   "id": "50d45642",
   "metadata": {},
   "outputs": [],
   "source": [
    "attributes"
   ]
  },
  {
   "cell_type": "code",
   "execution_count": null,
   "id": "3723d426",
   "metadata": {},
   "outputs": [],
   "source": [
    "type(attributes)"
   ]
  },
  {
   "cell_type": "code",
   "execution_count": null,
   "id": "752d059a",
   "metadata": {},
   "outputs": [],
   "source": [
    "bike_details"
   ]
  },
  {
   "cell_type": "code",
   "execution_count": null,
   "id": "9b9d1a09",
   "metadata": {},
   "outputs": [],
   "source": [
    "type(bike_details)"
   ]
  },
  {
   "cell_type": "code",
   "execution_count": null,
   "id": "312e5cf2",
   "metadata": {},
   "outputs": [],
   "source": [
    "bike_details[0]"
   ]
  },
  {
   "cell_type": "code",
   "execution_count": null,
   "id": "0c950bd9",
   "metadata": {},
   "outputs": [],
   "source": [
    "type(bike_details[0])"
   ]
  },
  {
   "cell_type": "markdown",
   "id": "b794085e",
   "metadata": {},
   "source": [
    "## Step 2: Provide the solution\n",
    "Now come up with the solution by developing the required logic. Once the function is developed, go to the next step to take care of the validation."
   ]
  },
  {
   "cell_type": "code",
   "execution_count": null,
   "id": "bd447ba6",
   "metadata": {},
   "outputs": [],
   "source": [
    "def get_bike_details(attributes,bike_details):\n",
    "#Your code should go here\n",
    "\n",
    "    return "
   ]
  },
  {
   "cell_type": "markdown",
   "id": "fc83bd93",
   "metadata": {},
   "source": [
    "### Step 3: Validate the function\n",
    " The desired output is\n",
    " ```python\n",
    "[{'name': 'Royal Enfield Classic 350',\n",
    "  'selling_price': 175000,\n",
    "  'year': 2019,\n",
    "  'seller_type': 'Individual',\n",
    "  'owner': '1st owner',\n",
    "  'km_driven': 350},\n",
    " {'name': 'Honda Dio',\n",
    "  'selling_price': 45000,\n",
    "  'year': 2017,\n",
    "  'seller_type': 'Individual',\n",
    "  'owner': '1st owner',\n",
    "  'km_driven': 5650},\n",
    " {'name': 'Royal Enfield Classic Gunmetal Grey',\n",
    "  'selling_price': 150000,\n",
    "  'year': 2018,\n",
    "  'seller_type': 'Individual',\n",
    "  'owner': '1st owner',\n",
    "  'km_driven': 12000},\n",
    " {'name': 'Yamaha Fazer FI V 2.0 [2016-2018]',\n",
    "  'selling_price': 65000,\n",
    "  'year': 2015,\n",
    "  'seller_type': 'Individual',\n",
    "  'owner': '1st owner',\n",
    "  'km_driven': 23000},\n",
    " {'name': 'Yamaha SZ [2013-2014]',\n",
    "  'selling_price': 20000,\n",
    "  'year': 2011,\n",
    "  'seller_type': 'Individual',\n",
    "  'owner': '2nd owner',\n",
    "  'km_driven': 21000},\n",
    " {'name': 'Honda CB Twister',\n",
    "  'selling_price': 18000,\n",
    "  'year': 2010,\n",
    "  'seller_type': 'Individual',\n",
    "  'owner': '1st owner',\n",
    "  'km_driven': 60000},\n",
    " {'name': 'Honda CB Hornet 160R',\n",
    "  'selling_price': 78500,\n",
    "  'year': 2018,\n",
    "  'seller_type': 'Individual',\n",
    "  'owner': '1st owner',\n",
    "  'km_driven': 17000},\n",
    " {'name': 'Royal Enfield Bullet 350 [2007-2011]',\n",
    "  'selling_price': 180000,\n",
    "  'year': 2008,\n",
    "  'seller_type': 'Individual',\n",
    "  'owner': '2nd owner',\n",
    "  'km_driven': 39000},\n",
    " {'name': 'Hero Honda CBZ extreme',\n",
    "  'selling_price': 30000,\n",
    "  'year': 2010,\n",
    "  'seller_type': 'Individual',\n",
    "  'owner': '1st owner',\n",
    "  'km_driven': 32000},\n",
    " {'name': 'Bajaj Discover 125',\n",
    "  'selling_price': 50000,\n",
    "  'year': 2016,\n",
    "  'seller_type': 'Individual',\n",
    "  'owner': '1st owner',\n",
    "  'km_driven': 42000}]\n",
    "           \n",
    "```"
   ]
  },
  {
   "cell_type": "code",
   "execution_count": null,
   "id": "b9ed5aa5",
   "metadata": {},
   "outputs": [],
   "source": [
    "bike_details=get_bike_details(attributes,bike_details)"
   ]
  },
  {
   "cell_type": "code",
   "execution_count": null,
   "id": "d248ee3c",
   "metadata": {},
   "outputs": [],
   "source": [
    "bike_details"
   ]
  },
  {
   "cell_type": "code",
   "execution_count": null,
   "id": "eeef9124",
   "metadata": {},
   "outputs": [],
   "source": [
    "type(bike_details) #list"
   ]
  },
  {
   "cell_type": "code",
   "execution_count": null,
   "id": "9c480c59",
   "metadata": {},
   "outputs": [],
   "source": [
    "len(bike_details) #10"
   ]
  },
  {
   "cell_type": "code",
   "execution_count": null,
   "id": "fedd3dc7",
   "metadata": {},
   "outputs": [],
   "source": [
    "bike_details[0] #{'name': 'Royal Enfield Classic 350','selling_price': 175000,'year': 2019,'seller_type': 'Individual','owner': '1st owner','km_driven': 350}"
   ]
  },
  {
   "cell_type": "code",
   "execution_count": null,
   "id": "96049148",
   "metadata": {},
   "outputs": [],
   "source": [
    "type(bike_details[0]) #dict"
   ]
  }
 ],
 "metadata": {
  "kernelspec": {
   "display_name": "Python 3",
   "language": "python",
   "name": "python3"
  },
  "language_info": {
   "codemirror_mode": {
    "name": "ipython",
    "version": 3
   },
   "file_extension": ".py",
   "mimetype": "text/x-python",
   "name": "python",
   "nbconvert_exporter": "python",
   "pygments_lexer": "ipython3",
   "version": "3.6.12"
  }
 },
 "nbformat": 4,
 "nbformat_minor": 5
}
