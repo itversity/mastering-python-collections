{
 "cells": [
  {
   "cell_type": "markdown",
   "id": "607f468c",
   "metadata": {},
   "source": [
    "## Get list of companies per sector\n",
    "\n",
    "Develop the function to get the company from each sector from the dictionary containing name and it's corresponding sector.\n",
    "* This scanerio can be solved by the help of conventional loops or itertools.\n",
    "* The input dictionary contains the name of company and it's sector.\n",
    "* The output dictionary should contain sector as key and companies per sector as it's values. The company     names should as part of a list with sector as key."
   ]
  },
  {
   "cell_type": "code",
   "execution_count": null,
   "id": "71e02ddc",
   "metadata": {},
   "outputs": [],
   "source": [
    "top_companies={\n",
    "    'Accenture':'IT',\n",
    "    'Apple':'IT',\n",
    "    'Adobe Systems Inc':'IT',\n",
    "    'Alphabet':'IT',\n",
    "    'Bank of America Corp':'Financials',\n",
    "    'Biogen Inc':'Health Care',\n",
    "    'Campbell Soup':'Consumer Staples',\n",
    "    'Dr Pepper Snapple Group':'Consumer Staples',\n",
    "    'ebay Inc':'IT',\n",
    "    'FedEx Corporation':'Industrials',\n",
    "    'Ford Motors':'Consumer Products',\n",
    "    'General Motors':'Consumer Products',\n",
    "    'Harley-Davidson':'Consumer Products',\n",
    "    'Hewlett Packard Enterprise':'IT',\n",
    "    'Intel Corp':'IT',\n",
    "    'JP Morgan':'Financials',\n",
    "    'Johnson & Johnson':'Health Care',\n",
    "    'Microsft Corp':'IT',\n",
    "    'Netflix Inc':'IT',\n",
    "    'Nike':'Consumer Products'}"
   ]
  },
  {
   "cell_type": "code",
   "execution_count": null,
   "id": "cfe3ad37",
   "metadata": {},
   "outputs": [],
   "source": [
    "def get_companies_per_sector(top_companies):\n",
    "    # Develop your logic here\n",
    "    return companies_per_sector"
   ]
  },
  {
   "cell_type": "markdown",
   "id": "6bafa05d",
   "metadata": {},
   "source": [
    "* Here is the expected output when you run the below cell.\n",
    "\n",
    "```python\n",
    "{'Consumer Products':['Ford Motors','General Motors','Harley-Davidson','Nike'],\n",
    "'Consumer Staples':['Campbell Soup','Dr Pepper Snapple Group'],\n",
    "'Financials':[ 'Bank of America Corp','JP Morgan'],\n",
    "'Health Care':['Biogen Inc','Johnson & Johnson'],\n",
    "'Industrials':[ 'FedEx Corporation'],\n",
    "'IT':['Accenture','Apple','Adobe Systems Inc','Alphabet','ebay Inc','Hewlett Packard Enterprise','Intel Corp','Microsft Corp','Netflix Inc']}\n",
    "```"
   ]
  },
  {
   "cell_type": "code",
   "execution_count": null,
   "id": "c9f61e05",
   "metadata": {},
   "outputs": [],
   "source": [
    "get_companies_per_sector(top_companies)"
   ]
  },
  {
   "cell_type": "code",
   "execution_count": null,
   "id": "cb556a2c",
   "metadata": {},
   "outputs": [],
   "source": []
  }
 ],
 "metadata": {
  "kernelspec": {
   "display_name": "Python 3",
   "language": "python",
   "name": "python3"
  },
  "language_info": {
   "codemirror_mode": {
    "name": "ipython",
    "version": 3
   },
   "file_extension": ".py",
   "mimetype": "text/x-python",
   "name": "python",
   "nbconvert_exporter": "python",
   "pygments_lexer": "ipython3",
   "version": "3.6.12"
  }
 },
 "nbformat": 4,
 "nbformat_minor": 5
}
