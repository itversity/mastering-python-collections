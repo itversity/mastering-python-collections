{
 "cells": [
  {
   "cell_type": "markdown",
   "id": "2b6f1d54",
   "metadata": {},
   "source": [
    "## Extract the missing ranges\n",
    "Develop a function to extract missing ranges.\n",
    "* The input data is in the form of list.\n",
    "* Use start_val and stop_val to get the ranges.\n",
    "\n",
    "Note : Please use loops or functions such as map, filter, reduce, etc to come up with the solution."
   ]
  },
  {
   "cell_type": "code",
   "execution_count": null,
   "id": "dad4e1fc",
   "metadata": {},
   "outputs": [],
   "source": [
    "list1 = [(7, 12), (15, 19), (25, 34), (38, 50)]\n",
    "start_val = 5\n",
    "stop_val = 60"
   ]
  },
  {
   "cell_type": "markdown",
   "id": "69d34b38",
   "metadata": {},
   "source": [
    "## Step 1: Preview the data\n",
    "* Let us first preview the data."
   ]
  },
  {
   "cell_type": "code",
   "execution_count": null,
   "id": "a32783bd",
   "metadata": {},
   "outputs": [],
   "source": [
    "list1"
   ]
  },
  {
   "cell_type": "code",
   "execution_count": null,
   "id": "7004eb77",
   "metadata": {},
   "outputs": [],
   "source": [
    "len(list1)"
   ]
  },
  {
   "cell_type": "code",
   "execution_count": null,
   "id": "7a5dda8b",
   "metadata": {},
   "outputs": [],
   "source": [
    "start_val"
   ]
  },
  {
   "cell_type": "code",
   "execution_count": null,
   "id": "a00f59e0",
   "metadata": {},
   "outputs": [],
   "source": [
    "type(start_val)"
   ]
  },
  {
   "cell_type": "code",
   "execution_count": null,
   "id": "6f70153c",
   "metadata": {},
   "outputs": [],
   "source": [
    "stop_val"
   ]
  },
  {
   "cell_type": "code",
   "execution_count": null,
   "id": "46882a7a",
   "metadata": {},
   "outputs": [],
   "source": [
    "type(stop_val)"
   ]
  },
  {
   "cell_type": "code",
   "execution_count": null,
   "id": "4c6036bf",
   "metadata": {},
   "outputs": [],
   "source": [
    "for list1 in list1:\n",
    "    print(f'The type of the record {list1} is {type(list1)}')"
   ]
  },
  {
   "cell_type": "markdown",
   "id": "0f81264d",
   "metadata": {},
   "source": [
    "## Step 2: Provide the solution\n",
    "Now come up with the solution by developing the required logic. Once the function is developed, go to the next step to take care of the validation."
   ]
  },
  {
   "cell_type": "code",
   "execution_count": null,
   "id": "6b3ad998",
   "metadata": {},
   "outputs": [],
   "source": [
    "def get_missing_ranges(list1)\n",
    "#your code should go here\n",
    "    \n",
    "    return missing_ranges"
   ]
  },
  {
   "cell_type": "markdown",
   "id": "776fe568",
   "metadata": {},
   "source": [
    "### Step 3: Validate the function\n",
    "\n",
    "Let us validate the function by running below cells."
   ]
  },
  {
   "cell_type": "code",
   "execution_count": null,
   "id": "c7ee0d40",
   "metadata": {},
   "outputs": [],
   "source": [
    "missing_ranges = get_missing_ranges(list1)"
   ]
  },
  {
   "cell_type": "code",
   "execution_count": null,
   "id": "9396c665",
   "metadata": {},
   "outputs": [],
   "source": [
    "type(missing_ranges) #It should be list."
   ]
  },
  {
   "cell_type": "code",
   "execution_count": null,
   "id": "58ea69fd",
   "metadata": {},
   "outputs": [],
   "source": [
    "len(missing_ranges) #It should be 8"
   ]
  },
  {
   "cell_type": "code",
   "execution_count": null,
   "id": "cc8519f5",
   "metadata": {},
   "outputs": [],
   "source": [
    "missing_ranges #output should be [(5, 7), (12, 60), (12, 15), (19, 60), (19, 25), (34, 60), (34, 38), (50, 60)]"
   ]
  }
 ],
 "metadata": {
  "kernelspec": {
   "display_name": "Python 3",
   "language": "python",
   "name": "python3"
  },
  "language_info": {
   "codemirror_mode": {
    "name": "ipython",
    "version": 3
   },
   "file_extension": ".py",
   "mimetype": "text/x-python",
   "name": "python",
   "nbconvert_exporter": "python",
   "pygments_lexer": "ipython3",
   "version": "3.6.12"
  }
 },
 "nbformat": 4,
 "nbformat_minor": 5
}
