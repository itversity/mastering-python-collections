{
 "cells": [
  {
   "cell_type": "markdown",
   "id": "e9f34a1e",
   "metadata": {},
   "source": [
    "## Get states of minimum and maximum votes\n",
    "Develop a code to get minimum and maximum votes.\n",
    "\n",
    "* The input data will be in the form of list of tuples contains states and votes to governor race by state.\n",
    "* The output should contain states which get maximum and minimum votes.\n",
    "* The output should be in the form of tuple"
   ]
  },
  {
   "cell_type": "code",
   "execution_count": null,
   "id": "58afc67c",
   "metadata": {},
   "outputs": [],
   "source": [
    "list_of_states=[('Delaware', 492635),\n",
    "                ('Indiana', 3020383),\n",
    "                ('Missouri', 3012274),\n",
    "                ('Montana', 603587),\n",
    "                ('New Hampshire', 792804),\n",
    "                ('North Carolina', 5502777),\n",
    "                ('North Dakota', 340121),\n",
    "                ('Utah', 1458878),\n",
    "                ('Vermont', 362711),\n",
    "                ('Washington', 4056454)]"
   ]
  },
  {
   "cell_type": "markdown",
   "id": "54b51892",
   "metadata": {},
   "source": [
    "## Step 1: Preview the data\n",
    "* Let us first preview the data."
   ]
  },
  {
   "cell_type": "code",
   "execution_count": null,
   "id": "460d563e",
   "metadata": {},
   "outputs": [],
   "source": [
    "list_of_states"
   ]
  },
  {
   "cell_type": "code",
   "execution_count": null,
   "id": "e7173da7",
   "metadata": {},
   "outputs": [],
   "source": [
    "type(list_of_states)"
   ]
  },
  {
   "cell_type": "code",
   "execution_count": null,
   "id": "67e5cba1",
   "metadata": {},
   "outputs": [],
   "source": [
    "len(list_of_states)"
   ]
  },
  {
   "cell_type": "code",
   "execution_count": null,
   "id": "f3851034",
   "metadata": {},
   "outputs": [],
   "source": [
    "list_of_states[0]"
   ]
  },
  {
   "cell_type": "code",
   "execution_count": null,
   "id": "7b1e3361",
   "metadata": {},
   "outputs": [],
   "source": [
    "type(list_of_states[0])"
   ]
  },
  {
   "cell_type": "markdown",
   "id": "523c8a1a",
   "metadata": {},
   "source": [
    "## Step 2: Provide the solution\n",
    "Now come up with the solution by developing the required logic. Once the function is developed, go to the next step to take care of the validation."
   ]
  },
  {
   "cell_type": "code",
   "execution_count": null,
   "id": "e76ef8a1",
   "metadata": {},
   "outputs": [],
   "source": [
    "def get_states_by_votes(list_of_states):\n",
    "#Your code should go here\n",
    "    \n",
    "    return res"
   ]
  },
  {
   "cell_type": "markdown",
   "id": "a196f87c",
   "metadata": {},
   "source": [
    "### Step 3: Validate the function\n",
    "\n",
    "Let us validate the function by running below cells."
   ]
  },
  {
   "cell_type": "code",
   "execution_count": null,
   "id": "bf1c63ea",
   "metadata": {},
   "outputs": [],
   "source": [
    "get_states=get_states_by_votes(list_of_states) #output should be ('North Carolina', 'North Dakota')\n",
    "get_states"
   ]
  },
  {
   "cell_type": "code",
   "execution_count": null,
   "id": "38186cda",
   "metadata": {},
   "outputs": [],
   "source": [
    "type(get_states) #tuple"
   ]
  },
  {
   "cell_type": "code",
   "execution_count": null,
   "id": "bc1d6bcd",
   "metadata": {},
   "outputs": [],
   "source": [
    "type(get_states[0]) #str"
   ]
  }
 ],
 "metadata": {
  "kernelspec": {
   "display_name": "Python 3",
   "language": "python",
   "name": "python3"
  },
  "language_info": {
   "codemirror_mode": {
    "name": "ipython",
    "version": 3
   },
   "file_extension": ".py",
   "mimetype": "text/x-python",
   "name": "python",
   "nbconvert_exporter": "python",
   "pygments_lexer": "ipython3",
   "version": "3.6.12"
  }
 },
 "nbformat": 4,
 "nbformat_minor": 5
}
