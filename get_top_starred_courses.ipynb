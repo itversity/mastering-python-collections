{
 "cells": [
  {
   "cell_type": "markdown",
   "id": "9b1763fe",
   "metadata": {},
   "source": [
    "## Get top starred courses\n",
    "\n",
    "Develop a code to read the data from a CSV file which return tuple of tuples.\n",
    "\n",
    "* The function should return the top courses based up on the Stars field in the CSV file.\n",
    "* Data should be sorted in decending order by Stars.\n",
    "* Output should contain Title,Stars and Rating.\n",
    "\n",
    "Note: Please use loops or functions such map, filter, reduce, etc to come up with the solution."
   ]
  },
  {
   "cell_type": "code",
   "execution_count": null,
   "id": "761ba6b2",
   "metadata": {},
   "outputs": [],
   "source": [
    "def get_top_starred_courses(file_path):\n",
    "#Your code should go here\n",
    "\n",
    "    return top_starred_courses   "
   ]
  },
  {
   "cell_type": "markdown",
   "id": "d43ddf84",
   "metadata": {},
   "source": [
    "* Run the below cell to validate. Here is the desired output.\n",
    "\n",
    "\n",
    "```python\n",
    "(('Microsoft Excel - Advanced Excel Formulas & Functions', 4.7, 38239),\n",
    " ('Master Microsoft Word Beginner to Advanced', 4.7, 11351),\n",
    " ('Microsoft Excel - Excel Power Query, Power Pivot & DAX', 4.7, 10933),\n",
    " ('Microsoft Excel - Excel from Beginner to Advanced', 4.6, 174080),\n",
    " ('Unlock Excel VBA and Excel Macros', 4.6, 22865),\n",
    " ('Microsoft Excel - Data Analysis with Excel Pivot Tables', 4.6, 21429),\n",
    " ('Excel Essentials: The Complete Excel Series - Level 1, 2 & 3', 4.6, 18116),\n",
    " ('Microsoft Excel - Data Visualization, Excel Charts & Graphs', 4.6, 16118),\n",
    " ('Microsoft Access 2016 Master Class: Beginner to Advanced', 4.6, 10265),\n",
    " ('Visually Effective Excel Dashboards', 4.6, 9213),\n",
    " ('Microsoft Excel - From Beginner to Expert in 6 Hours', 4.5, 15046),\n",
    " ('Microsoft Project ALL: BEGINNER to EXPERT 10 Projects 9 PDU', 4.5, 11157),\n",
    " ('Master Microsoft Excel Macros and Excel VBA', 4.5, 10069),\n",
    " ('Powerpoint 2016 2019 - Master powerpoint presentation', 4.5, 8510),\n",
    " ('Mastering Microsoft Teams (2020)', 4.4, 10988),\n",
    " ('SAP Simplified for Absolute Beginners', 4.4, 7110))\n",
    "```"
   ]
  },
  {
   "cell_type": "code",
   "execution_count": null,
   "id": "91a13048",
   "metadata": {},
   "outputs": [],
   "source": [
    "get_top_starred_courses('data/udemy_office_productivity/udemy_office_productivity.csv')"
   ]
  },
  {
   "cell_type": "code",
   "execution_count": null,
   "id": "1744d493",
   "metadata": {},
   "outputs": [],
   "source": []
  }
 ],
 "metadata": {
  "kernelspec": {
   "display_name": "Python 3",
   "language": "python",
   "name": "python3"
  },
  "language_info": {
   "codemirror_mode": {
    "name": "ipython",
    "version": 3
   },
   "file_extension": ".py",
   "mimetype": "text/x-python",
   "name": "python",
   "nbconvert_exporter": "python",
   "pygments_lexer": "ipython3",
   "version": "3.6.12"
  }
 },
 "nbformat": 4,
 "nbformat_minor": 5
}
