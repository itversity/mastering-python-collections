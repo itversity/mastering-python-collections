{
 "cells": [
  {
   "cell_type": "markdown",
   "id": "03e62fea",
   "metadata": {},
   "source": [
    "Develop a code to read the data from a CSV file.\n",
    "> It should return which as highest stars.\n",
    "\n",
    "> It should be sorted by Rating and Stars.\n",
    "\n",
    "> Output should contain Title,Stars,Rating."
   ]
  },
  {
   "cell_type": "code",
   "execution_count": null,
   "id": "a3e6ddd9",
   "metadata": {},
   "outputs": [],
   "source": [
    "def get_top_stars(path):\n",
    "#Your code should go here\n",
    "\n",
    "    return    "
   ]
  },
  {
   "cell_type": "code",
   "execution_count": null,
   "id": "5d1b80fd",
   "metadata": {},
   "outputs": [],
   "source": [
    "get_top_stars('udemy_office_productivity.csv')"
   ]
  },
  {
   "cell_type": "code",
   "execution_count": null,
   "id": "fb1c93d4",
   "metadata": {},
   "outputs": [],
   "source": []
  }
 ],
 "metadata": {
  "kernelspec": {
   "display_name": "Python 3",
   "language": "python",
   "name": "python3"
  },
  "language_info": {
   "codemirror_mode": {
    "name": "ipython",
    "version": 3
   },
   "file_extension": ".py",
   "mimetype": "text/x-python",
   "name": "python",
   "nbconvert_exporter": "python",
   "pygments_lexer": "ipython3",
   "version": "3.6.12"
  }
 },
 "nbformat": 4,
 "nbformat_minor": 5
}
