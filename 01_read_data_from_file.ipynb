{
 "cells": [
  {
   "cell_type": "markdown",
   "id": "2b9661ab",
   "metadata": {},
   "source": [
    "## Read Data from file `udemy_tech.csv`\n",
    "\n",
    "Develop a logic to read the data from a tab delimited file into list of tuples.\n",
    "* The file to be used for the smooth work flow is `udemy_tech.csv`, make sure it is present in the current folder/directory.\n",
    "* It is a file which has text content and where the lines are delimited by new line character.\n",
    "* Each attribute value in each line is sepatrated by `\\t` tab character.\n",
    "* The task is to develop a function, which will return a list of tuples with all the values from the file.\n",
    "\n",
    "**Hint : Using pandas will facilitate you to come up with the solution faster.**"
   ]
  },
  {
   "cell_type": "code",
   "execution_count": null,
   "id": "7f178785",
   "metadata": {},
   "outputs": [],
   "source": [
    "# Provide the solution here\n",
    "import pandas as pd\n",
    "\n",
    "def get_data(path):\n",
    "    return data"
   ]
  },
  {
   "cell_type": "code",
   "execution_count": null,
   "id": "3d97b02a",
   "metadata": {},
   "outputs": [],
   "source": [
    "data = get_data('udemy_tech.csv')"
   ]
  },
  {
   "cell_type": "code",
   "execution_count": null,
   "id": "bb767f3d",
   "metadata": {},
   "outputs": [],
   "source": [
    "type(data) # type of `data` should be list"
   ]
  },
  {
   "cell_type": "code",
   "execution_count": null,
   "id": "da37c721",
   "metadata": {},
   "outputs": [],
   "source": [
    "len(data) # length of `data` should be 21`"
   ]
  },
  {
   "cell_type": "code",
   "execution_count": null,
   "id": "f43f3744",
   "metadata": {},
   "outputs": [],
   "source": [
    "data[0] # Output : ('1,2020 Complete Python Bootcamp: From Zero to Hero in Python,Beginner,1100093,4.6,318066',)"
   ]
  },
  {
   "cell_type": "code",
   "execution_count": null,
   "id": "dc6c05c7",
   "metadata": {},
   "outputs": [],
   "source": [
    "type(data[0]) # should be tuple "
   ]
  },
  {
   "cell_type": "code",
   "execution_count": null,
   "id": "eafcb07a",
   "metadata": {},
   "outputs": [],
   "source": [
    "type(data[0][0]) # should be string"
   ]
  }
 ],
 "metadata": {
  "kernelspec": {
   "display_name": "Python 3",
   "language": "python",
   "name": "python3"
  },
  "language_info": {
   "codemirror_mode": {
    "name": "ipython",
    "version": 3
   },
   "file_extension": ".py",
   "mimetype": "text/x-python",
   "name": "python",
   "nbconvert_exporter": "python",
   "pygments_lexer": "ipython3",
   "version": "3.6.12"
  }
 },
 "nbformat": 4,
 "nbformat_minor": 5
}
