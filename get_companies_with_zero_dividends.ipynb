{
 "cells": [
  {
   "cell_type": "markdown",
   "id": "d7c658c1",
   "metadata": {},
   "source": [
    "## Get companies with zero dividends\n",
    "\n",
    "Develop the function to get the records of companies where the dividend is zero.\n",
    "* The scanerio should be solved by using functions such as `map` and `filter` etc.\n",
    "* The input data is present in the CSV file named \"company_financial_data.csv\".\n",
    "* The ouput data should be in the form of list of tuples and it should only contain those records where the company's dividend is equal to zero.\n",
    "\n",
    "**Restriction: The code should not contain the loops**"
   ]
  },
  {
   "cell_type": "markdown",
   "id": "e767a6f9",
   "metadata": {},
   "source": [
    "**Hint: Using Pandas will help you solve the problem quickly**"
   ]
  },
  {
   "cell_type": "markdown",
   "id": "0860cb2f",
   "metadata": {},
   "source": [
    "The expected output should be-\n",
    "``` python\n",
    "companies_with_zero_dividend=\n",
    "[('Adobe Systems Inc','IT',185.16,0.0,3.39),\n",
    " ('Alphabet','IT',1007.71,0.0,22.27),\n",
    " ('Biogen Inc','Health Care',311.79,0.0,11.94),\n",
    " ('ebay Inc','IT',41.02,0.0,-1.07),\n",
    " ('Netflix Inc','IT',250.01,0.0,1.25)]\n",
    "```"
   ]
  },
  {
   "cell_type": "code",
   "execution_count": null,
   "id": "cb5a0cc5",
   "metadata": {},
   "outputs": [],
   "source": [
    "def get_company_with_no_dividends(path):\n",
    "     # Develop your logic her\n",
    "    return companies_with_zero_dividend"
   ]
  },
  {
   "cell_type": "code",
   "execution_count": null,
   "id": "7282a568",
   "metadata": {},
   "outputs": [],
   "source": [
    "companies_with_zero_dividend=get_company_with_no_dividends('company_financial_data.csv')"
   ]
  },
  {
   "cell_type": "code",
   "execution_count": null,
   "id": "ac279ff4",
   "metadata": {},
   "outputs": [],
   "source": [
    "companies_with_zero_dividend"
   ]
  }
 ],
 "metadata": {
  "kernelspec": {
   "display_name": "Python 3",
   "language": "python",
   "name": "python3"
  },
  "language_info": {
   "codemirror_mode": {
    "name": "ipython",
    "version": 3
   },
   "file_extension": ".py",
   "mimetype": "text/x-python",
   "name": "python",
   "nbconvert_exporter": "python",
   "pygments_lexer": "ipython3",
   "version": "3.6.12"
  }
 },
 "nbformat": 4,
 "nbformat_minor": 5
}
