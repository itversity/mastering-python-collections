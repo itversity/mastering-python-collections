{
 "cells": [
  {
   "cell_type": "markdown",
   "id": "305febff",
   "metadata": {},
   "source": [
    "## check if a specified colours presents in a tuple.\n",
    "Develop a function to check the element is present in a tuple.\n",
    "\n",
    "* The input data is in the form of tuples.\n",
    "* The colour name should give dynamically.\n",
    "* Convert all strings into lowercase.\n",
    "* The output should be in form of bool."
   ]
  },
  {
   "cell_type": "code",
   "execution_count": null,
   "id": "1d83e553",
   "metadata": {},
   "outputs": [],
   "source": [
    "colours = (\n",
    "    ('Red', 'White', 'Blue'),\n",
    "    ('Green', 'Pink', 'Purple'),\n",
    "    ('Orange', 'Yellow', 'Lime'),\n",
    ")"
   ]
  },
  {
   "cell_type": "markdown",
   "id": "3e410932",
   "metadata": {},
   "source": [
    "## Step 1: Preview the data\n",
    "* Let us first preview the data."
   ]
  },
  {
   "cell_type": "code",
   "execution_count": null,
   "id": "26a9b760",
   "metadata": {},
   "outputs": [],
   "source": [
    "colours"
   ]
  },
  {
   "cell_type": "code",
   "execution_count": null,
   "id": "32372d2b",
   "metadata": {},
   "outputs": [],
   "source": [
    "type(colours)"
   ]
  },
  {
   "cell_type": "code",
   "execution_count": null,
   "id": "f435e833",
   "metadata": {},
   "outputs": [],
   "source": [
    "len(colours)"
   ]
  },
  {
   "cell_type": "code",
   "execution_count": null,
   "id": "bdce3091",
   "metadata": {},
   "outputs": [],
   "source": [
    "for colours in colours:\n",
    "    print(f'The type of the record {colours} is {type(colours)}')"
   ]
  },
  {
   "cell_type": "markdown",
   "id": "f4ca731c",
   "metadata": {},
   "source": [
    "## Step 2: Provide the solution\n",
    "Now come up with the solution by developing the required logic. Once the function is developed, go to the next step to take care of the validation."
   ]
  },
  {
   "cell_type": "code",
   "execution_count": null,
   "id": "a8269891",
   "metadata": {},
   "outputs": [],
   "source": [
    "def check_in_tuples(colors, c)\n",
    "# your code should go here\n",
    "\n",
    "    return"
   ]
  },
  {
   "cell_type": "code",
   "execution_count": null,
   "id": "9d3c9493",
   "metadata": {},
   "outputs": [],
   "source": [
    "c1=input(\"enter the colour\") "
   ]
  },
  {
   "cell_type": "markdown",
   "id": "a1dd404c",
   "metadata": {},
   "source": [
    "### Step 3: Validate the function\n",
    "\n",
    "Let us validate the function by running below cells."
   ]
  },
  {
   "cell_type": "code",
   "execution_count": null,
   "id": "e800dfba",
   "metadata": {},
   "outputs": [],
   "source": [
    "type((check_in_tuples(colors, c1))) #It should be bool"
   ]
  },
  {
   "cell_type": "code",
   "execution_count": null,
   "id": "457c79b8",
   "metadata": {},
   "outputs": [],
   "source": [
    "check_in_tuples(colors, c1) "
   ]
  }
 ],
 "metadata": {
  "kernelspec": {
   "display_name": "Python 3",
   "language": "python",
   "name": "python3"
  },
  "language_info": {
   "codemirror_mode": {
    "name": "ipython",
    "version": 3
   },
   "file_extension": ".py",
   "mimetype": "text/x-python",
   "name": "python",
   "nbconvert_exporter": "python",
   "pygments_lexer": "ipython3",
   "version": "3.6.12"
  }
 },
 "nbformat": 4,
 "nbformat_minor": 5
}
