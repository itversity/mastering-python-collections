{
 "cells": [
  {
   "cell_type": "markdown",
   "id": "60cca0b2",
   "metadata": {},
   "source": [
    "## Apply Schema to Students\n",
    "\n",
    "Develop a function to convert the list of tuples to dict by using zip funtion. As part of this Python Practice Test, we are primarily evaluating the ability to understand zip function as well as manipulating collections.\n",
    "* We will provide list of tuples and the attributes are **student_id**, **math_score**, **reading_score** and **writing_score**.\n",
    "* Develop a function which takes students as input and the output should be a dict where keys are based up on the attributes provided.\n",
    "* The output should be sorted in descending order by total.\n",
    "* This scenario can be easily solved by zip finction.\n",
    "\n",
    "**Restrictions: Solve this problem either by using conventional loops or first class functions such as `map`. You are not supposed to use Pandas.**"
   ]
  },
  {
   "cell_type": "code",
   "execution_count": null,
   "id": "925f9eab",
   "metadata": {},
   "outputs": [],
   "source": [
    "students = [(1, 72, 72, 74), (2, 69, 90, 88), (3, 90, 95, 93), (4, 47, 47, 44), (5, 76, 78, 75), (6, 71, 83, 78)]"
   ]
  },
  {
   "cell_type": "markdown",
   "id": "92b4f384",
   "metadata": {},
   "source": [
    "### Step 1: Preview the data\n",
    "\n",
    "Let us first preview the data."
   ]
  },
  {
   "cell_type": "code",
   "execution_count": null,
   "id": "b5b736c9",
   "metadata": {},
   "outputs": [],
   "source": [
    "students"
   ]
  },
  {
   "cell_type": "code",
   "execution_count": null,
   "id": "36fb51f6",
   "metadata": {},
   "outputs": [],
   "source": [
    "type(students)"
   ]
  },
  {
   "cell_type": "code",
   "execution_count": null,
   "id": "77f8f25e",
   "metadata": {},
   "outputs": [],
   "source": [
    "len(students)"
   ]
  },
  {
   "cell_type": "markdown",
   "id": "6b21fdac",
   "metadata": {},
   "source": [
    "### Step 2: Provide the solution\n",
    "\n",
    "Now come up with the solution by developing the required logic. Once the function is developed, go to the next step to take care of the validation."
   ]
  },
  {
   "cell_type": "code",
   "execution_count": null,
   "id": "aea68cb0",
   "metadata": {},
   "outputs": [],
   "source": [
    "def get_students_with_schema(students):\n",
    "    ## your code should go here\n",
    "    return students_with_schema"
   ]
  },
  {
   "cell_type": "markdown",
   "id": "54e4c3f0",
   "metadata": {},
   "source": [
    "### Step 3: Validate the function\n",
    "\n",
    "Let us validate the function by running below cells.\n",
    "* Here is the expected output.\n",
    "\n",
    "```python\n",
    "[{'student_id': 3, 'math_score': 90, 'reading_score': 95, 'writing_score': 93},\n",
    " {'student_id': 2, 'math_score': 69, 'reading_score': 90, 'writing_score': 88},\n",
    " {'student_id': 6, 'math_score': 71, 'reading_score': 83, 'writing_score': 78},\n",
    " {'student_id': 5, 'math_score': 76, 'reading_score': 78, 'writing_score': 75},\n",
    " {'student_id': 1, 'math_score': 72, 'reading_score': 72, 'writing_score': 74},\n",
    " {'student_id': 4, 'math_score': 47, 'reading_score': 47, 'writing_score': 44}]\n",
    "```"
   ]
  },
  {
   "cell_type": "code",
   "execution_count": null,
   "id": "cee62c25",
   "metadata": {},
   "outputs": [],
   "source": [
    "students_with_schema = get_students_with_schema(students)\n",
    "students_with_schema"
   ]
  },
  {
   "cell_type": "code",
   "execution_count": null,
   "id": "fc0bfa73",
   "metadata": {},
   "outputs": [],
   "source": [
    "len(students_with_schema) # 6"
   ]
  },
  {
   "cell_type": "code",
   "execution_count": null,
   "id": "c57aba13",
   "metadata": {},
   "outputs": [],
   "source": [
    "type(students_with_schema) # list"
   ]
  },
  {
   "cell_type": "code",
   "execution_count": null,
   "id": "ce5c8ac6",
   "metadata": {},
   "outputs": [],
   "source": [
    "type(students_with_schema[0]) # dict"
   ]
  }
 ],
 "metadata": {
  "kernelspec": {
   "display_name": "Python 3",
   "language": "python",
   "name": "python3"
  },
  "language_info": {
   "codemirror_mode": {
    "name": "ipython",
    "version": 3
   },
   "file_extension": ".py",
   "mimetype": "text/x-python",
   "name": "python",
   "nbconvert_exporter": "python",
   "pygments_lexer": "ipython3",
   "version": "3.6.12"
  }
 },
 "nbformat": 4,
 "nbformat_minor": 5
}
