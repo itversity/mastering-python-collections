{
 "cells": [
  {
   "cell_type": "markdown",
   "id": "36f0dd3c",
   "metadata": {},
   "source": [
    "## To get all combinations\n",
    "Develop a function to get all combinations of two tuples.\n",
    "\n",
    "* The input data has two tuples.\n",
    "* The output should be in form of list.\n",
    "\n",
    "Note: Please use loops or functions such map, filter, reduce, etc to come up with the solution."
   ]
  },
  {
   "cell_type": "code",
   "execution_count": null,
   "id": "28b59435",
   "metadata": {},
   "outputs": [],
   "source": [
    "tuple1 = (7, 2, 3)\n",
    "tuple2 = (7, 8, 5)"
   ]
  },
  {
   "cell_type": "markdown",
   "id": "32f30034",
   "metadata": {},
   "source": [
    "## Step 1: Preview the data\n",
    "* Let us first preview the data."
   ]
  },
  {
   "cell_type": "code",
   "execution_count": null,
   "id": "b2766035",
   "metadata": {},
   "outputs": [],
   "source": [
    "tuple=(tuple1,tuple2)"
   ]
  },
  {
   "cell_type": "code",
   "execution_count": null,
   "id": "bb69d8f1",
   "metadata": {},
   "outputs": [],
   "source": [
    "tuple"
   ]
  },
  {
   "cell_type": "code",
   "execution_count": null,
   "id": "ce63d874",
   "metadata": {},
   "outputs": [],
   "source": [
    "len(tuple)"
   ]
  },
  {
   "cell_type": "markdown",
   "id": "095ec05e",
   "metadata": {},
   "source": [
    "## Step 2: Provide the solution\n",
    "Now come up with the solution by developing the required logic. Once the function is developed, go to the next step to take care of the validation."
   ]
  },
  {
   "cell_type": "code",
   "execution_count": null,
   "id": "bb3eb439",
   "metadata": {},
   "outputs": [],
   "source": [
    "def get_all_combinations(tuple):\n",
    "#your code should go here\n",
    "    \n",
    "    return "
   ]
  },
  {
   "cell_type": "markdown",
   "id": "64b3058b",
   "metadata": {},
   "source": [
    "### Step 3: Validate the function\n",
    "* Run below cells to validate. Expected output is\n",
    "```python\n",
    "     [(7, 7),\n",
    "      (7, 8),\n",
    "      (7, 5),\n",
    "      (2, 7),\n",
    "      (2, 8),\n",
    "      (2, 5),\n",
    "      (3, 7),\n",
    "      (3, 8),\n",
    "      (3, 5),\n",
    "      (7, 7),\n",
    "      (7, 2),\n",
    "      (7, 3),\n",
    "      (8, 7),\n",
    "      (8, 2),\n",
    "      (8, 3),\n",
    "      (5, 7),\n",
    "      (5, 2),\n",
    "      (5, 3)\n",
    "     ]\n",
    "    ```"
   ]
  },
  {
   "cell_type": "code",
   "execution_count": null,
   "id": "f773f8d2",
   "metadata": {},
   "outputs": [],
   "source": [
    "combinations = get_all_combinations(tuple)"
   ]
  },
  {
   "cell_type": "code",
   "execution_count": null,
   "id": "ca23395e",
   "metadata": {},
   "outputs": [],
   "source": [
    "type(combinations) # It should be list"
   ]
  },
  {
   "cell_type": "code",
   "execution_count": null,
   "id": "612be570",
   "metadata": {},
   "outputs": [],
   "source": [
    "len(combinations)  # It should be 18"
   ]
  }
 ],
 "metadata": {
  "kernelspec": {
   "display_name": "Python 3",
   "language": "python",
   "name": "python3"
  },
  "language_info": {
   "codemirror_mode": {
    "name": "ipython",
    "version": 3
   },
   "file_extension": ".py",
   "mimetype": "text/x-python",
   "name": "python",
   "nbconvert_exporter": "python",
   "pygments_lexer": "ipython3",
   "version": "3.6.12"
  }
 },
 "nbformat": 4,
 "nbformat_minor": 5
}
