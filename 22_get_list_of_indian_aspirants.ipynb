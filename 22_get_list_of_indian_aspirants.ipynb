{
 "cells": [
  {
   "cell_type": "markdown",
   "id": "46c6aea6",
   "metadata": {},
   "source": [
    "## Get list of Indian Aspirants\n",
    "\n",
    "Develop a function which gives list of Indian Aspirants.\n",
    "* Location of the data: **data/python_assessments/aspirants.csv**.\n",
    "* Each line in the file is a record and each record have data related to multiple attributes.\n",
    "* Data related to attributes in each record are separated or delimieted by **\\t**.\n",
    "* Develop a function which does the following.\n",
    "  * It should take 2 arguments, file path and the country\n",
    "  * Read the data from the file.\n",
    "  * Filter the data based on the country passed.\n",
    "  * Function should return the list of aspirants who are based out of India.\n",
    "  * Data should be sorted in descending order by Rating and then in ascending order by name.\n",
    "\n",
    "**Restrictions: You should only use loops or first class functions such as map, filter etc. You can also use csv library to deal with delimited data. Do not use Pandas.**"
   ]
  },
  {
   "cell_type": "markdown",
   "id": "37e7ebc6",
   "metadata": {},
   "source": [
    "### Step 1: Preview the data\n",
    "\n",
    "Let us first preview the data."
   ]
  },
  {
   "cell_type": "code",
   "execution_count": null,
   "id": "50b55ac6",
   "metadata": {},
   "outputs": [],
   "source": [
    "!ls -ltr data/python_assessments/aspirants.csv"
   ]
  },
  {
   "cell_type": "code",
   "execution_count": null,
   "id": "d7791c61",
   "metadata": {},
   "outputs": [],
   "source": [
    "!head data/python_assessments/aspirants.csv"
   ]
  },
  {
   "cell_type": "code",
   "execution_count": null,
   "id": "3db1c743",
   "metadata": {},
   "outputs": [],
   "source": [
    "!wc -l data/python_assessments/aspirants.csv"
   ]
  },
  {
   "cell_type": "markdown",
   "id": "cb1373ef",
   "metadata": {},
   "source": [
    "### Step 2: Provide the solution\n",
    "\n",
    "Now come up with the solution by developing the required logic. Once the function is developed, go to the next step to take care of the validation."
   ]
  },
  {
   "cell_type": "code",
   "execution_count": null,
   "id": "c5ce159b",
   "metadata": {},
   "outputs": [],
   "source": [
    "def get_aspirants_by_country(file_path, country):\n",
    "    return aspirants_by_country"
   ]
  },
  {
   "cell_type": "markdown",
   "id": "884de042",
   "metadata": {},
   "source": [
    "### Step 3: Validate the function\n",
    "\n",
    "Let us validate the function by running below cells.\n",
    "* Here is the expected output.\n",
    "\n",
    "```python\n",
    "['Avin\\tSelf assess to understand where I stand in Python, Technical Screening Preparation (tests as well as interviews)\\tEntry level professional (less than 2 years of experience)\\t5\\t7/31/2021\\tIndia',\n",
    " 'Astanaditta\\tTo be part of ITVersity Professionals Database to work on paid part-time opportunities\\tExperienced Professionals (10+ years of experience)\\t4\\t8/8/2021\\tIndia',\n",
    " 'Ayush\\tSelf assess to understand where I stand in Python, To be part of ITVersity Professionals Database to work on paid part-time opportunities\\tExperienced Professionals (2 to 5 years of experience)\\t4\\t8/8/2021\\tIndia',\n",
    " 'Harish\\tPlacement Assistance for full time opportunities, To be part of ITVersity Professionals Database to work on paid part-time opportunities\\tEntry level professional (less than 2 years of experience)\\t4\\t7/25/2021\\tIndia',\n",
    " 'Kaustubh\\tSelf assess to understand where I stand in Python, Technical Screening Preparation (tests as well as interviews), Placement Assistance for full time opportunities, To be part of ITVersity Professionals Database to work on paid part-time opportunities\\tFreshers or recent year pass outs looking for entry level jobs\\t4\\t7/27/2021\\tIndia',\n",
    " 'Riyaz Ali\\tSelf assess to understand where I stand in Python, Technical Screening Preparation (tests as well as interviews), Placement Assistance for full time opportunities, To be part of ITVersity Professionals Database to work on paid part-time opportunities\\tExperienced Professionals (2 to 5 years of experience)\\t4\\t8/7/2021\\tIndia',\n",
    " 'Sahana\\tSelf assess to understand where I stand in Python, Placement Assistance for full time opportunities\\tEntry level professional (less than 2 years of experience)\\t4\\t7/26/2021\\tIndia',\n",
    " 'Sudhir\\tTechnical Screening Preparation (tests as well as interviews), Placement Assistance for full time opportunities, To be part of ITVersity Professionals Database to work on paid part-time opportunities\\tEntry level professional (less than 2 years of experience)\\t4\\t7/25/2021\\tIndia',\n",
    " 'Surendranatha Reddy\\tSelf assess to understand where I stand in Python, To be part of ITVersity Professionals Database to work on paid part-time opportunities\\tExperienced Professionals (5 to 10 years of experience)\\t4\\t7/25/2021\\tIndia',\n",
    " 'Vittal\\tSelf assess to understand where I stand in Python, Technical Screening Preparation (tests as well as interviews), Placement Assistance for full time opportunities, To be part of ITVersity Professionals Database to work on paid part-time opportunities\\tI am having 4 years experiences in Project Support Engineer Profile\\t4\\t7/31/2021\\tIndia',\n",
    " 'Arpita\\tSelf assess to understand where I stand in Python, Technical Screening Preparation (tests as well as interviews), Placement Assistance for full time opportunities\\tFreshers or recent year pass outs looking for entry level jobs\\t3\\t8/22/2021\\tIndia',\n",
    " 'Gopi\\tPlacement Assistance for full time opportunities, To be part of ITVersity Professionals Database to work on paid part-time opportunities\\tFreshers or recent year pass outs looking for entry level jobs\\t3\\t8/14/2021\\tIndia',\n",
    " 'Harpal\\tSelf assess to understand where I stand in Python, Technical Screening Preparation (tests as well as interviews), Placement Assistance for full time opportunities, To be part of ITVersity Professionals Database to work on paid part-time opportunities\\tExperienced Professionals (2 to 5 years of experience)\\t3\\t7/31/2021\\tIndia',\n",
    " 'Katla\\tPlacement Assistance for full time opportunities, To be part of ITVersity Professionals Database to work on paid part-time opportunities\\tFreshers or recent year pass outs looking for entry level jobs\\t3\\t7/25/2021\\tIndia',\n",
    " 'LAXMI MANOHAR REDDY\\tSelf assess to understand where I stand in Python, Technical Screening Preparation (tests as well as interviews), To be part of ITVersity Professionals Database to work on paid part-time opportunities\\tExperienced Professionals (2 to 5 years of experience)\\t3\\t8/14/2021\\tIndia',\n",
    " 'Madhushree\\tSelf assess to understand where I stand in Python, Technical Screening Preparation (tests as well as interviews), Placement Assistance for full time opportunities, To be part of ITVersity Professionals Database to work on paid part-time opportunities\\tExperienced Professionals (2 to 5 years of experience)\\t3\\t7/24/2021\\tIndia',\n",
    " 'Manivannan\\tTo be part of ITVersity Professionals Database to work on paid part-time opportunities\\tFreshers or recent year pass outs looking for entry level jobs\\t3\\t7/26/2021\\tIndia',\n",
    " 'Mayank\\tSelf assess to understand where I stand in Python, Placement Assistance for full time opportunities, To be part of ITVersity Professionals Database to work on paid part-time opportunities\\tExperienced Professionals (5 to 10 years of experience)\\t3\\t8/1/2021\\tIndia',\n",
    " 'Mohan\\tSelf assess to understand where I stand in Python\\tExperienced Professionals (5 to 10 years of experience)\\t3\\t7/30/2021\\tIndia',\n",
    " 'Nikita\\tPlacement Assistance for full time opportunities\\tFreshers or recent year pass outs looking for entry level jobs\\t3\\t7/31/2021\\tIndia',\n",
    " 'Pardha Saradhi\\tTo be part of ITVersity Professionals Database to work on paid part-time opportunities\\tExperienced Professionals (10+ years of experience)\\t3\\t7/31/2021\\tIndia',\n",
    " 'R\\tSelf assess to understand where I stand in Python, Technical Screening Preparation (tests as well as interviews), Placement Assistance for full time opportunities\\tFreshers or recent year pass outs looking for entry level jobs\\t3\\t8/8/2021\\tIndia',\n",
    " 'R shiva kumar\\tPlacement Assistance for full time opportunities\\tEntry level professional (less than 2 years of experience)\\t3\\t8/1/2021\\tIndia',\n",
    " 'Ritobhas \\tSelf assess to understand where I stand in Python, Placement Assistance for full time opportunities\\tEntry level professional (less than 2 years of experience)\\t3\\t7/29/2021\\tIndia',\n",
    " 'SACHCHIDANAND\\tSelf assess to understand where I stand in Python, Placement Assistance for full time opportunities\\tExperienced Professionals (2 to 5 years of experience)\\t3\\t8/18/2021\\tIndia',\n",
    " 'Sai\\tSelf assess to understand where I stand in Python, Technical Screening Preparation (tests as well as interviews), Placement Assistance for full time opportunities\\tExperienced Professionals (2 to 5 years of experience)\\t3\\t8/1/2021\\tIndia',\n",
    " 'Sai Akshith\\tSelf assess to understand where I stand in Python, Technical Screening Preparation (tests as well as interviews), To be part of ITVersity Professionals Database to work on paid part-time opportunities\\tEntry level professional (less than 2 years of experience)\\t3\\t7/30/2021\\tIndia',\n",
    " 'Subhayan\\tSelf assess to understand where I stand in Python, Technical Screening Preparation (tests as well as interviews), To be part of ITVersity Professionals Database to work on paid part-time opportunities\\tExperienced Professionals (2 to 5 years of experience)\\t3\\t8/2/2021\\tIndia',\n",
    " 'Suraj\\tTechnical Screening Preparation (tests as well as interviews), Placement Assistance for full time opportunities, To be part of ITVersity Professionals Database to work on paid part-time opportunities\\tFreshers or recent year pass outs looking for entry level jobs\\t3\\t7/5/2021\\tIndia',\n",
    " 'Vishnu\\tSelf assess to understand where I stand in Python, To be part of ITVersity Professionals Database to work on paid part-time opportunities\\tExperienced Professionals (5 to 10 years of experience)\\t3\\t7/26/2021\\tIndia',\n",
    " 'Yuvraj\\tSelf assess to understand where I stand in Python, Technical Screening Preparation (tests as well as interviews)\\tExperienced Professionals (5 to 10 years of experience)\\t3\\t7/25/2021\\tIndia',\n",
    " 'Anmol\\tSelf assess to understand where I stand in Python, To be part of ITVersity Professionals Database to work on paid part-time opportunities\\tExperienced Professionals (2 to 5 years of experience)\\t2\\t7/25/2021\\tIndia',\n",
    " 'Anusha\\tSelf assess to understand where I stand in Python, Technical Screening Preparation (tests as well as interviews), To be part of ITVersity Professionals Database to work on paid part-time opportunities\\tExperienced Professionals (2 to 5 years of experience)\\t2\\t8/8/2021\\tIndia',\n",
    " 'Asasri\\tSelf assess to understand where I stand in Python\\tFreshers or recent year pass outs looking for entry level jobs\\t2\\t8/10/2021\\tIndia',\n",
    " 'Harsha \\tSelf assess to understand where I stand in Python\\tExperienced Professionals (5 to 10 years of experience)\\t2\\t7/24/2021\\tIndia',\n",
    " 'Puja \\tSelf assess to understand where I stand in Python\\tExperienced Professionals (2 to 5 years of experience)\\t1\\t8/18/2021\\tIndia',\n",
    " 'Sanjay\\tPlacement Assistance for full time opportunities, To be part of ITVersity Professionals Database to work on paid part-time opportunities\\tExperienced Professionals (2 to 5 years of experience)\\t1\\t8/22/2021\\tIndia',\n",
    " 'Shravan\\tSelf assess to understand where I stand in Python, Technical Screening Preparation (tests as well as interviews)\\tExperienced Professionals (2 to 5 years of experience)\\t1\\t7/28/2021\\tIndia']\n",
    "```"
   ]
  },
  {
   "cell_type": "code",
   "execution_count": null,
   "id": "ceaa949c",
   "metadata": {},
   "outputs": [],
   "source": [
    "aspirants_by_country = get_aspirants_by_country('data/python_assessments/aspirants.csv', 'India')"
   ]
  },
  {
   "cell_type": "code",
   "execution_count": null,
   "id": "0a9bb515",
   "metadata": {},
   "outputs": [],
   "source": [
    "len(aspirants_by_country) # 38"
   ]
  },
  {
   "cell_type": "code",
   "execution_count": null,
   "id": "80e988d4",
   "metadata": {},
   "outputs": [],
   "source": [
    "type(aspirants_by_country) # list"
   ]
  },
  {
   "cell_type": "code",
   "execution_count": null,
   "id": "2ee5d493",
   "metadata": {},
   "outputs": [],
   "source": [
    "type(aspirants_by_country[0]) # str"
   ]
  },
  {
   "cell_type": "code",
   "execution_count": null,
   "id": "8e23e961",
   "metadata": {},
   "outputs": [],
   "source": [
    "print(aspirants_by_country[0]) # Avin\tSelf assess to understand where I stand in Python, Technical Screening Preparation (tests as well as interviews)\tEntry level professional (less than 2 years of experience)\t5\t7/31/2021\tIndia"
   ]
  },
  {
   "cell_type": "code",
   "execution_count": null,
   "id": "aa623b5c",
   "metadata": {},
   "outputs": [],
   "source": []
  }
 ],
 "metadata": {
  "kernelspec": {
   "display_name": "Python 3",
   "language": "python",
   "name": "python3"
  },
  "language_info": {
   "codemirror_mode": {
    "name": "ipython",
    "version": 3
   },
   "file_extension": ".py",
   "mimetype": "text/x-python",
   "name": "python",
   "nbconvert_exporter": "python",
   "pygments_lexer": "ipython3",
   "version": "3.6.12"
  }
 },
 "nbformat": 4,
 "nbformat_minor": 5
}
