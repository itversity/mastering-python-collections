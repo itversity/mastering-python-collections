{
 "cells": [
  {
   "cell_type": "markdown",
   "id": "8739a916",
   "metadata": {},
   "source": [
    "## Get average of groups\n",
    "\n",
    "Develop a code to get the average of groups by using loops concept. The output should return the average value of the marks obatined by individual groups."
   ]
  },
  {
   "cell_type": "code",
   "execution_count": null,
   "id": "c6ae8366",
   "metadata": {},
   "outputs": [],
   "source": [
    "students = ['Group_B,Female,None,72,72,74',\n",
    "            'Group_C,Female,Completed,69,90,88',\n",
    "            'Group_B,Female,None,90,95,93',\n",
    "            'Group_A,Male,None,47,57,44',\n",
    "            'Group_B,Male,None,76,78,75',\n",
    "            'Group_C,Female,None,71,83,78',\n",
    "            'Group_B,Female,Completed,88,95,92',\n",
    "            'Group_B,Male,None,40,43,39',\n",
    "            'Group_B,Male,Completed,64,64,67']\n"
   ]
  },
  {
   "cell_type": "code",
   "execution_count": null,
   "id": "638771aa",
   "metadata": {},
   "outputs": [],
   "source": [
    "def get_average(students, group):\n",
    "## your code should go here\n",
    "    return "
   ]
  },
  {
   "cell_type": "code",
   "execution_count": null,
   "id": "d124a157",
   "metadata": {},
   "outputs": [],
   "source": [
    "get_average(students, 'Group_A')"
   ]
  },
  {
   "cell_type": "markdown",
   "id": "827d4de4",
   "metadata": {},
   "source": [
    "## The desired output for \n",
    "\n",
    "Group_A is 49.333333333333336, \n",
    "Group_B is 65.0,\n",
    "Group_c is 77.33333333333333.\n"
   ]
  }
 ],
 "metadata": {
  "kernelspec": {
   "display_name": "Python 3",
   "language": "python",
   "name": "python3"
  },
  "language_info": {
   "codemirror_mode": {
    "name": "ipython",
    "version": 3
   },
   "file_extension": ".py",
   "mimetype": "text/x-python",
   "name": "python",
   "nbconvert_exporter": "python",
   "pygments_lexer": "ipython3",
   "version": "3.6.12"
  }
 },
 "nbformat": 4,
 "nbformat_minor": 5
}
