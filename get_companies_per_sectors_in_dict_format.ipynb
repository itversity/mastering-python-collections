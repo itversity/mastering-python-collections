{
 "cells": [
  {
   "cell_type": "markdown",
   "id": "4bc9ff31",
   "metadata": {},
   "source": [
    "## Get companies with same sector in nested dict format.\n",
    "\n",
    "Develop a code to get list of dicts in a dict having companies with same sector. As part of this Python Practice Test, we are primarily evaluating the ability to understand dicts, manipulating list if dicts as well as sorting data based on the criteria.\n",
    "* We will provide company data which will be of type list of dicts.\n",
    "* Develop a function which take companies as input and provides the output of type dict with Sector name as key and the list of dicts satisfying the condition as values.\n",
    "* You can use Itertools, Loops to get the output."
   ]
  },
  {
   "cell_type": "code",
   "execution_count": 3,
   "id": "0efeb041",
   "metadata": {},
   "outputs": [],
   "source": [
    "companies = [{'Name':'Accenture', 'Sector':'IT', 'Price':222.89, 'Dividend':2.33, 'Earning_per_share':7.92},\n",
    "             {'Name':'Apple', 'Sector':'IT', 'Price':155.15, 'Dividend':1.57, 'Earning_per_share':9.2},\n",
    "             {'Name':'Adobe Systems Inc', 'Sector':'IT', 'Price':185.16, 'Dividend':0, 'Earning_per_share':3.39},\n",
    "             {'Name':'Alphabet', 'Sector':'IT', 'Price':107.71, 'Dividend':0, 'Earning_per_share':22.27},\n",
    "             {'Name':'Bank of America Corp', 'Sector':'Finacials', 'Price':29.74, 'Dividend':1.53, 'Earning_per_share':1.55},\n",
    "             {'Name':'Biogen Inc', 'Sector':'Health Care', 'Price':311.79, 'Dividend':0, 'Earning_per_share':11.94},\n",
    "             {'Name':'Campbell Soup', 'Sector':'Consumer Staples', 'Price':44.83, 'Dividend':3.12, 'Earning_per_share':2.89},\n",
    "             {'Name':'Dr Pepper Snapple Group', 'Sector':'Consumer Staples', 'Price':116.93, 'Dividend':1.96, 'Earning_per_share':4.54},\n",
    "             {'Name':'ebay Inc', 'Sector':'IT', 'Price':41.02, 'Dividend':0, 'Earning_per_share':-1.07},\n",
    "             {'Name':'FedEx Corporation', 'Sector':'Industrials', 'Price':239.27, 'Dividend':0.79, 'Earning_per_share':11.07},\n",
    "             {'Name':'Ford Motors', 'Sector':'Consumer Products', 'Price':10.43, 'Dividend':6.78, 'Earning_per_share':1.9},\n",
    "             {'Name':'General Motors', 'Sector':'Consumer Products', 'Price':40.75, 'Dividend':3.58, 'Earning_per_share':6},\n",
    "             {'Name':'Harley-Davidson', 'Sector':'Consumer Products', 'Price':47.54, 'Dividend':3.02, 'Earning_per_share':2.98},\n",
    "             {'Name':'Hewlett Packard Enterprise', 'Sector':'IT', 'Price':15.04, 'Dividend':1.92, 'Earning_per_share':0.21},\n",
    "             {'Name':'Intel Corp', 'Sector':'IT', 'Price':42.75, 'Dividend':2.65, 'Earning_per_share':1.98},\n",
    "             {'Name':'JP Morgan', 'Sector':'Finacials', 'Price':107.88, 'Dividend':1.98, 'Earning_per_share':6.3},\n",
    "             {'Name':'Johnson & Johnson', 'Sector':'IT', 'Price':126.36, 'Dividend':2.55, 'Earning_per_share':0.39},\n",
    "             {'Name':'Microsoft Corp', 'Sector':'IT', 'Price':85.01, 'Dividend':1.87, 'Earning_per_share':2.97},\n",
    "             {'Name':'Netflix Inc', 'Sector':'IT', 'Price':250.01, 'Dividend':0, 'Earning_per_share':1.25},\n",
    "             {'Name':'Nike', 'Sector':'Consumer Products', 'Price':62.49, 'Dividend':1.21, 'Earning_per_share':2.51}]"
   ]
  },
  {
   "cell_type": "markdown",
   "id": "8f1b4306",
   "metadata": {},
   "source": [
    "### Step 1: Preview the data\n",
    "\n",
    "Let us first preview the data."
   ]
  },
  {
   "cell_type": "code",
   "execution_count": null,
   "id": "308b6b1e",
   "metadata": {},
   "outputs": [],
   "source": [
    "companies"
   ]
  },
  {
   "cell_type": "code",
   "execution_count": null,
   "id": "ac50e1af",
   "metadata": {},
   "outputs": [],
   "source": [
    "type(companies)"
   ]
  },
  {
   "cell_type": "code",
   "execution_count": null,
   "id": "a6df5f6f",
   "metadata": {},
   "outputs": [],
   "source": [
    "len(companies)"
   ]
  },
  {
   "cell_type": "code",
   "execution_count": null,
   "id": "c225caac",
   "metadata": {},
   "outputs": [],
   "source": [
    "for company in companies:\n",
    "    print(f'The type of the record {company} is {type(company)}')"
   ]
  },
  {
   "cell_type": "markdown",
   "id": "f51151b8",
   "metadata": {},
   "source": [
    "### Step 2: Provide the solution\n",
    "\n",
    "Now come up with the solution by developing the required logic. Once the function is developed, go to the next step to take care of the validation."
   ]
  },
  {
   "cell_type": "code",
   "execution_count": 6,
   "id": "9e9527df",
   "metadata": {},
   "outputs": [],
   "source": [
    "def get_same_sector_companies(companies):\n",
    "#Your code should go here\n",
    "    return "
   ]
  },
  {
   "cell_type": "markdown",
   "id": "d0de2397",
   "metadata": {},
   "source": [
    "### Step 3: Validate the function\n",
    "\n",
    "Let us validate the function by running below cells.\n",
    "* Here is the expected output.\n",
    "\n",
    "```python\n",
    "{'Consumer_Products': [{'Name': 'Ford Motors',\n",
    "   'Sector': 'Consumer Products',\n",
    "   'Price': 10.43,\n",
    "   'Dividend': 6.78,\n",
    "   'Earning_per_share': 1.9},\n",
    "  {'Name': 'General Motors',\n",
    "   'Sector': 'Consumer Products',\n",
    "   'Price': 40.75,\n",
    "   'Dividend': 3.58,\n",
    "   'Earning_per_share': 6},\n",
    "  {'Name': 'Harley-Davidson',\n",
    "   'Sector': 'Consumer Products',\n",
    "   'Price': 47.54,\n",
    "   'Dividend': 3.02,\n",
    "   'Earning_per_share': 2.98},\n",
    "  {'Name': 'Nike',\n",
    "   'Sector': 'Consumer Products',\n",
    "   'Price': 62.49,\n",
    "   'Dividend': 1.21,\n",
    "   'Earning_per_share': 2.51}],\n",
    " 'Consumer_Staples': [{'Name': 'Campbell Soup',\n",
    "   'Sector': 'Consumer Staples',\n",
    "   'Price': 44.83,\n",
    "   'Dividend': 3.12,\n",
    "   'Earning_per_share': 2.89},\n",
    "  {'Name': 'Dr Pepper Snapple Group',\n",
    "   'Sector': 'Consumer Staples',\n",
    "   'Price': 116.93,\n",
    "   'Dividend': 1.96,\n",
    "   'Earning_per_share': 4.54}],\n",
    " 'Finacials': [{'Name': 'Bank of America Corp',\n",
    "   'Sector': 'Finacials',\n",
    "   'Price': 29.74,\n",
    "   'Dividend': 1.53,\n",
    "   'Earning_per_share': 1.55},\n",
    "  {'Name': 'JP Morgan',\n",
    "   'Sector': 'Finacials',\n",
    "   'Price': 107.88,\n",
    "   'Dividend': 1.98,\n",
    "   'Earning_per_share': 6.3}],\n",
    " 'Health_Care': [{'Name': 'Biogen Inc',\n",
    "   'Sector': 'Health Care',\n",
    "   'Price': 311.79,\n",
    "   'Dividend': 0,\n",
    "   'Earning_per_share': 11.94}],\n",
    " 'Industrials': [{'Name': 'FedEx Corporation',\n",
    "   'Sector': 'Industrials',\n",
    "   'Price': 239.27,\n",
    "   'Dividend': 0.79,\n",
    "   'Earning_per_share': 11.07}],\n",
    " 'IT': [{'Name': 'Accenture',\n",
    "   'Sector': 'IT',\n",
    "   'Price': 222.89,\n",
    "   'Dividend': 2.33,\n",
    "   'Earning_per_share': 7.92},\n",
    "  {'Name': 'Apple',\n",
    "   'Sector': 'IT',\n",
    "   'Price': 155.15,\n",
    "   'Dividend': 1.57,\n",
    "   'Earning_per_share': 9.2},\n",
    "  {'Name': 'Adobe Systems Inc',\n",
    "   'Sector': 'IT',\n",
    "   'Price': 185.16,\n",
    "   'Dividend': 0,\n",
    "   'Earning_per_share': 3.39},\n",
    "  {'Name': 'Alphabet',\n",
    "   'Sector': 'IT',\n",
    "   'Price': 107.71,\n",
    "   'Dividend': 0,\n",
    "   'Earning_per_share': 22.27},\n",
    "  {'Name': 'ebay Inc',\n",
    "   'Sector': 'IT',\n",
    "   'Price': 41.02,\n",
    "   'Dividend': 0,\n",
    "   'Earning_per_share': -1.07},\n",
    "  {'Name': 'Hewlett Packard Enterprise',\n",
    "   'Sector': 'IT',\n",
    "   'Price': 15.04,\n",
    "   'Dividend': 1.92,\n",
    "   'Earning_per_share': 0.21},\n",
    "  {'Name': 'Intel Corp',\n",
    "   'Sector': 'IT',\n",
    "   'Price': 42.75,\n",
    "   'Dividend': 2.65,\n",
    "   'Earning_per_share': 1.98},\n",
    "  {'Name': 'Johnson & Johnson',\n",
    "   'Sector': 'IT',\n",
    "   'Price': 126.36,\n",
    "   'Dividend': 2.55,\n",
    "   'Earning_per_share': 0.39},\n",
    "  {'Name': 'Microsoft Corp',\n",
    "   'Sector': 'IT',\n",
    "   'Price': 85.01,\n",
    "   'Dividend': 1.87,\n",
    "   'Earning_per_share': 2.97},\n",
    "  {'Name': 'Netflix Inc',\n",
    "   'Sector': 'IT',\n",
    "   'Price': 250.01,\n",
    "   'Dividend': 0,\n",
    "   'Earning_per_share': 1.25}]}\n",
    "```"
   ]
  },
  {
   "cell_type": "code",
   "execution_count": null,
   "id": "92c02aca",
   "metadata": {},
   "outputs": [],
   "source": [
    "get_same_sector_companies(companies)"
   ]
  }
 ],
 "metadata": {
  "kernelspec": {
   "display_name": "Python 3",
   "language": "python",
   "name": "python3"
  },
  "language_info": {
   "codemirror_mode": {
    "name": "ipython",
    "version": 3
   },
   "file_extension": ".py",
   "mimetype": "text/x-python",
   "name": "python",
   "nbconvert_exporter": "python",
   "pygments_lexer": "ipython3",
   "version": "3.6.12"
  }
 },
 "nbformat": 4,
 "nbformat_minor": 5
}
