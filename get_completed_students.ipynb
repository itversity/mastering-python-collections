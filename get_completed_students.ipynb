{
 "cells": [
  {
   "cell_type": "markdown",
   "id": "82e76a93",
   "metadata": {},
   "source": [
    "## Get completed female students\n",
    "\n",
    "Create a function by name get_completed_students which take students list and gender as arguments and return all the female students whose status is completed."
   ]
  },
  {
   "cell_type": "code",
   "execution_count": 1,
   "id": "25835b56",
   "metadata": {},
   "outputs": [],
   "source": [
    "students = ['Group_B,Female,None,72,72,74',\n",
    "            'Group_C,Female,Completed,69,90,88',\n",
    "            'Group_B,Female,None,90,95,93',\n",
    "            'Group_A,Male,None,47,57,44',\n",
    "            'Group_B,Male,None,76,78,75',\n",
    "            'Group_C,Female,None,71,83,78',\n",
    "            'Group_B,Female,Completed,88,95,92',\n",
    "            'Group_B,Male,None,40,43,39',\n",
    "            'Group_B,Male,Completed,64,64,67']\n"
   ]
  },
  {
   "cell_type": "code",
   "execution_count": null,
   "id": "68a38be5",
   "metadata": {},
   "outputs": [],
   "source": [
    "def get_completed_students(students, gender):\n",
    "   \n",
    "    return "
   ]
  },
  {
   "cell_type": "code",
   "execution_count": null,
   "id": "4a5cddea",
   "metadata": {},
   "outputs": [],
   "source": [
    "get_completed_students(students, 'Female')"
   ]
  },
  {
   "cell_type": "markdown",
   "id": "c3d8d540",
   "metadata": {},
   "source": [
    "## The desired ouput is\n",
    "```python\n",
    "['Group_C,Female,Completed,69,90,88',\n",
    " 'Group_B,Female,Completed,88,95,92']\n",
    "```"
   ]
  }
 ],
 "metadata": {
  "kernelspec": {
   "display_name": "Python 3",
   "language": "python",
   "name": "python3"
  },
  "language_info": {
   "codemirror_mode": {
    "name": "ipython",
    "version": 3
   },
   "file_extension": ".py",
   "mimetype": "text/x-python",
   "name": "python",
   "nbconvert_exporter": "python",
   "pygments_lexer": "ipython3",
   "version": "3.6.12"
  }
 },
 "nbformat": 4,
 "nbformat_minor": 5
}
