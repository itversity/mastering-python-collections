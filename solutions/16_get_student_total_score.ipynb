{
 "cells": [
  {
   "cell_type": "markdown",
   "id": "d135a4c3",
   "metadata": {},
   "source": [
    "## Get Student Total Score\n",
    "\n",
    "Develop a function to convert get the total score of each student. This is primarily to test the ability to manipulate dicts using first class functions such as map.\n",
    "* We will provide list of dicts with student id and scores for different subjects.\n",
    "* Develop a function which takes students as input and return students including individual total score.\n",
    "* You need to add another element to each of the dicts with key `total_score`.\n",
    "* The output should be sorted in descending order by total.\n",
    "\n",
    "```{note}\n",
    "Hint: You need to define and call named function as part of the map to add `total_score` to each of the dicts in the list.\n",
    "```\n",
    "\n",
    "**Restrictions: You should not use loops or Pandas to solve this problem. Use first class functions such as `map`.**"
   ]
  },
  {
   "cell_type": "code",
   "execution_count": 1,
   "id": "b87b2858",
   "metadata": {},
   "outputs": [],
   "source": [
    "students = [\n",
    "    {'student_id': 1, 'math_score': 72, 'reading_score': 72, 'writing_score': 74},\n",
    "    {'student_id': 2, 'math_score': 69, 'reading_score': 90, 'writing_score': 88},\n",
    "    {'student_id': 3, 'math_score': 90, 'reading_score': 95, 'writing_score': 93},\n",
    "    {'student_id': 4, 'math_score': 47, 'reading_score': 47, 'writing_score': 44},\n",
    "    {'student_id': 5, 'math_score': 76, 'reading_score': 78, 'writing_score': 75},\n",
    "    {'student_id': 6, 'math_score': 71, 'reading_score': 83, 'writing_score': 78}\n",
    "]"
   ]
  },
  {
   "cell_type": "markdown",
   "id": "600c5815",
   "metadata": {},
   "source": [
    "### Step 1: Preview the data\n",
    "\n",
    "Let us first preview the data."
   ]
  },
  {
   "cell_type": "code",
   "execution_count": 2,
   "id": "da63a4fc",
   "metadata": {},
   "outputs": [
    {
     "data": {
      "text/plain": [
       "[{'student_id': 1, 'math_score': 72, 'reading_score': 72, 'writing_score': 74},\n",
       " {'student_id': 2, 'math_score': 69, 'reading_score': 90, 'writing_score': 88},\n",
       " {'student_id': 3, 'math_score': 90, 'reading_score': 95, 'writing_score': 93},\n",
       " {'student_id': 4, 'math_score': 47, 'reading_score': 47, 'writing_score': 44},\n",
       " {'student_id': 5, 'math_score': 76, 'reading_score': 78, 'writing_score': 75},\n",
       " {'student_id': 6, 'math_score': 71, 'reading_score': 83, 'writing_score': 78}]"
      ]
     },
     "execution_count": 2,
     "metadata": {},
     "output_type": "execute_result"
    }
   ],
   "source": [
    "students"
   ]
  },
  {
   "cell_type": "code",
   "execution_count": 3,
   "id": "902219af",
   "metadata": {},
   "outputs": [
    {
     "data": {
      "text/plain": [
       "list"
      ]
     },
     "execution_count": 3,
     "metadata": {},
     "output_type": "execute_result"
    }
   ],
   "source": [
    "type(students)"
   ]
  },
  {
   "cell_type": "code",
   "execution_count": 4,
   "id": "2fdb334a",
   "metadata": {},
   "outputs": [
    {
     "data": {
      "text/plain": [
       "6"
      ]
     },
     "execution_count": 4,
     "metadata": {},
     "output_type": "execute_result"
    }
   ],
   "source": [
    "len(students)"
   ]
  },
  {
   "cell_type": "code",
   "execution_count": 5,
   "id": "a6d7420a",
   "metadata": {},
   "outputs": [
    {
     "data": {
      "text/plain": [
       "dict"
      ]
     },
     "execution_count": 5,
     "metadata": {},
     "output_type": "execute_result"
    }
   ],
   "source": [
    "type(students[0])"
   ]
  },
  {
   "cell_type": "markdown",
   "id": "b2cb47c4",
   "metadata": {},
   "source": [
    "### Step 2: Provide the solution\n",
    "\n",
    "Now come up with the solution by developing the required logic. Once the function is developed, go to the next step to take care of the validation."
   ]
  },
  {
   "cell_type": "code",
   "execution_count": 6,
   "id": "0fe1fc9f",
   "metadata": {},
   "outputs": [],
   "source": [
    "def get_students_with_total_scores(students):\n",
    "    ## your code should go here\n",
    "    ## Make sure to create another function to compute total and update the dict\n",
    "    def compute_total_score(student):\n",
    "        student_with_total_score = student.copy()\n",
    "        student_with_total_score['total_score'] = sum(list(student.values())[1:])\n",
    "        return student_with_total_score\n",
    "    \n",
    "    students_with_total_scores = sorted(\n",
    "        map(lambda student: compute_total_score(student), students),\n",
    "        key=lambda student: student['total_score'],\n",
    "        reverse=True\n",
    "    )\n",
    "    return students_with_total_scores"
   ]
  },
  {
   "cell_type": "markdown",
   "id": "73133de8",
   "metadata": {},
   "source": [
    "### Step 3: Validate the function\n",
    "\n",
    "Let us validate the function by running below cells.\n",
    "* Here is the expected output.\n",
    "\n",
    "```python\n",
    "[{'student_id': 3,\n",
    "  'math_score': 90,\n",
    "  'reading_score': 95,\n",
    "  'writing_score': 93,\n",
    "  'total_score': 278},\n",
    " {'student_id': 2,\n",
    "  'math_score': 69,\n",
    "  'reading_score': 90,\n",
    "  'writing_score': 88,\n",
    "  'total_score': 247},\n",
    " {'student_id': 6,\n",
    "  'math_score': 71,\n",
    "  'reading_score': 83,\n",
    "  'writing_score': 78,\n",
    "  'total_score': 232},\n",
    " {'student_id': 5,\n",
    "  'math_score': 76,\n",
    "  'reading_score': 78,\n",
    "  'writing_score': 75,\n",
    "  'total_score': 229},\n",
    " {'student_id': 1,\n",
    "  'math_score': 72,\n",
    "  'reading_score': 72,\n",
    "  'writing_score': 74,\n",
    "  'total_score': 218},\n",
    " {'student_id': 4,\n",
    "  'math_score': 47,\n",
    "  'reading_score': 47,\n",
    "  'writing_score': 44,\n",
    "  'total_score': 138}]\n",
    "```"
   ]
  },
  {
   "cell_type": "code",
   "execution_count": 7,
   "id": "cf57fa6a",
   "metadata": {},
   "outputs": [
    {
     "data": {
      "text/plain": [
       "[{'student_id': 3,\n",
       "  'math_score': 90,\n",
       "  'reading_score': 95,\n",
       "  'writing_score': 93,\n",
       "  'total_score': 278},\n",
       " {'student_id': 2,\n",
       "  'math_score': 69,\n",
       "  'reading_score': 90,\n",
       "  'writing_score': 88,\n",
       "  'total_score': 247},\n",
       " {'student_id': 6,\n",
       "  'math_score': 71,\n",
       "  'reading_score': 83,\n",
       "  'writing_score': 78,\n",
       "  'total_score': 232},\n",
       " {'student_id': 5,\n",
       "  'math_score': 76,\n",
       "  'reading_score': 78,\n",
       "  'writing_score': 75,\n",
       "  'total_score': 229},\n",
       " {'student_id': 1,\n",
       "  'math_score': 72,\n",
       "  'reading_score': 72,\n",
       "  'writing_score': 74,\n",
       "  'total_score': 218},\n",
       " {'student_id': 4,\n",
       "  'math_score': 47,\n",
       "  'reading_score': 47,\n",
       "  'writing_score': 44,\n",
       "  'total_score': 138}]"
      ]
     },
     "execution_count": 7,
     "metadata": {},
     "output_type": "execute_result"
    }
   ],
   "source": [
    "students_with_total_scores = get_students_with_total_scores(students)\n",
    "students_with_total_scores"
   ]
  },
  {
   "cell_type": "code",
   "execution_count": 8,
   "id": "b9e029df",
   "metadata": {},
   "outputs": [
    {
     "data": {
      "text/plain": [
       "6"
      ]
     },
     "execution_count": 8,
     "metadata": {},
     "output_type": "execute_result"
    }
   ],
   "source": [
    "len(students_with_total_scores) # 6"
   ]
  },
  {
   "cell_type": "code",
   "execution_count": 9,
   "id": "58f4d7d3",
   "metadata": {},
   "outputs": [
    {
     "data": {
      "text/plain": [
       "list"
      ]
     },
     "execution_count": 9,
     "metadata": {},
     "output_type": "execute_result"
    }
   ],
   "source": [
    "type(students_with_total_scores) # list"
   ]
  },
  {
   "cell_type": "code",
   "execution_count": 10,
   "id": "46d111ac",
   "metadata": {},
   "outputs": [
    {
     "data": {
      "text/plain": [
       "dict"
      ]
     },
     "execution_count": 10,
     "metadata": {},
     "output_type": "execute_result"
    }
   ],
   "source": [
    "type(students_with_total_scores[0]) # dict"
   ]
  },
  {
   "cell_type": "code",
   "execution_count": 11,
   "id": "625f9b05",
   "metadata": {},
   "outputs": [
    {
     "data": {
      "text/plain": [
       "3"
      ]
     },
     "execution_count": 11,
     "metadata": {},
     "output_type": "execute_result"
    }
   ],
   "source": [
    "students_with_total_scores[0]['student_id'] # 3"
   ]
  }
 ],
 "metadata": {
  "kernelspec": {
   "display_name": "Python 3",
   "language": "python",
   "name": "python3"
  },
  "language_info": {
   "codemirror_mode": {
    "name": "ipython",
    "version": 3
   },
   "file_extension": ".py",
   "mimetype": "text/x-python",
   "name": "python",
   "nbconvert_exporter": "python",
   "pygments_lexer": "ipython3",
   "version": "3.6.12"
  }
 },
 "nbformat": 4,
 "nbformat_minor": 5
}
