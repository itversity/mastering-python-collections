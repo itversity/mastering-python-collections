{
 "cells": [
  {
   "cell_type": "markdown",
   "id": "ae97acaf",
   "metadata": {},
   "source": [
    "## Apply Schema to bike details\n",
    "\n",
    "Develop a fuction to apply schema to the list where each element contain bike details.\n",
    "* The function should take 2 arguments - list of tuples which contain bike details and list of strings with the attribute names.\n",
    "* We need to convert the list of tuples to list of dicts and the keys should be based on the attributes.\n",
    "* The output should be sorted in the descending order by selling_price and then in ascending order by name."
   ]
  },
  {
   "cell_type": "code",
   "execution_count": 1,
   "id": "9ea142ca",
   "metadata": {},
   "outputs": [],
   "source": [
    "attributes = ['name', 'selling_price', 'year', 'seller_type', 'owner', 'km_driven']"
   ]
  },
  {
   "cell_type": "code",
   "execution_count": 2,
   "id": "39a2741f",
   "metadata": {},
   "outputs": [],
   "source": [
    "bike_details = [('Royal Enfield Classic 350', 175000, 2019, 'Individual', '1st owner', 350),\n",
    " ('Honda Dio', 45000, 2017, 'Individual', '1st owner', 5650),\n",
    " ('Royal Enfield Classic Gunmetal Grey', 150000, 2018, 'Individual', '1st owner', 12000),\n",
    " ('Yamaha Fazer FI V 2.0 [2016-2018]', 65000, 2015, 'Individual', '1st owner', 23000),\n",
    " ('Yamaha SZ [2013-2014]', 20000, 2011, 'Individual', '2nd owner', 21000),\n",
    " ('Honda CB Twister', 18000, 2010, 'Individual', '1st owner', 60000),\n",
    " ('Honda CB Hornet 160R', 78500, 2018, 'Individual', '1st owner', 17000),\n",
    " ('Royal Enfield Bullet 350 [2007-2011]', 180000, 2008, 'Individual', '2nd owner', 39000),\n",
    " ('Hero Honda CBZ extreme', 30000, 2010, 'Individual', '1st owner', 32000),\n",
    " ('Bajaj Discover 125', 50000, 2016, 'Individual', '1st owner', 42000)]"
   ]
  },
  {
   "cell_type": "markdown",
   "id": "6f3e18af",
   "metadata": {},
   "source": [
    "## Step 1: Preview the data\n",
    "* Let us first preview the data."
   ]
  },
  {
   "cell_type": "code",
   "execution_count": 3,
   "id": "de049b27",
   "metadata": {},
   "outputs": [
    {
     "data": {
      "text/plain": [
       "['name', 'selling_price', 'year', 'seller_type', 'owner', 'km_driven']"
      ]
     },
     "execution_count": 3,
     "metadata": {},
     "output_type": "execute_result"
    }
   ],
   "source": [
    "attributes"
   ]
  },
  {
   "cell_type": "code",
   "execution_count": 4,
   "id": "0ffde0c7",
   "metadata": {},
   "outputs": [
    {
     "data": {
      "text/plain": [
       "list"
      ]
     },
     "execution_count": 4,
     "metadata": {},
     "output_type": "execute_result"
    }
   ],
   "source": [
    "type(attributes)"
   ]
  },
  {
   "cell_type": "code",
   "execution_count": 5,
   "id": "4557c1f8",
   "metadata": {},
   "outputs": [
    {
     "data": {
      "text/plain": [
       "[('Royal Enfield Classic 350', 175000, 2019, 'Individual', '1st owner', 350),\n",
       " ('Honda Dio', 45000, 2017, 'Individual', '1st owner', 5650),\n",
       " ('Royal Enfield Classic Gunmetal Grey',\n",
       "  150000,\n",
       "  2018,\n",
       "  'Individual',\n",
       "  '1st owner',\n",
       "  12000),\n",
       " ('Yamaha Fazer FI V 2.0 [2016-2018]',\n",
       "  65000,\n",
       "  2015,\n",
       "  'Individual',\n",
       "  '1st owner',\n",
       "  23000),\n",
       " ('Yamaha SZ [2013-2014]', 20000, 2011, 'Individual', '2nd owner', 21000),\n",
       " ('Honda CB Twister', 18000, 2010, 'Individual', '1st owner', 60000),\n",
       " ('Honda CB Hornet 160R', 78500, 2018, 'Individual', '1st owner', 17000),\n",
       " ('Royal Enfield Bullet 350 [2007-2011]',\n",
       "  180000,\n",
       "  2008,\n",
       "  'Individual',\n",
       "  '2nd owner',\n",
       "  39000),\n",
       " ('Hero Honda CBZ extreme', 30000, 2010, 'Individual', '1st owner', 32000),\n",
       " ('Bajaj Discover 125', 50000, 2016, 'Individual', '1st owner', 42000)]"
      ]
     },
     "execution_count": 5,
     "metadata": {},
     "output_type": "execute_result"
    }
   ],
   "source": [
    "bike_details"
   ]
  },
  {
   "cell_type": "code",
   "execution_count": 6,
   "id": "8953b275",
   "metadata": {},
   "outputs": [
    {
     "data": {
      "text/plain": [
       "list"
      ]
     },
     "execution_count": 6,
     "metadata": {},
     "output_type": "execute_result"
    }
   ],
   "source": [
    "type(bike_details)"
   ]
  },
  {
   "cell_type": "code",
   "execution_count": 7,
   "id": "3ecd3fc9",
   "metadata": {},
   "outputs": [
    {
     "data": {
      "text/plain": [
       "('Royal Enfield Classic 350', 175000, 2019, 'Individual', '1st owner', 350)"
      ]
     },
     "execution_count": 7,
     "metadata": {},
     "output_type": "execute_result"
    }
   ],
   "source": [
    "bike_details[0]"
   ]
  },
  {
   "cell_type": "code",
   "execution_count": 8,
   "id": "b3794f09",
   "metadata": {},
   "outputs": [
    {
     "data": {
      "text/plain": [
       "tuple"
      ]
     },
     "execution_count": 8,
     "metadata": {},
     "output_type": "execute_result"
    }
   ],
   "source": [
    "type(bike_details[0])"
   ]
  },
  {
   "cell_type": "markdown",
   "id": "c39990c4",
   "metadata": {},
   "source": [
    "## Step 2: Provide the solution\n",
    "Now come up with the solution by developing the required logic. Once the function is developed, go to the next step to take care of the validation."
   ]
  },
  {
   "cell_type": "code",
   "execution_count": 9,
   "id": "8f65d37f",
   "metadata": {},
   "outputs": [],
   "source": [
    "def get_bike_details(attributes, bike_details):\n",
    "    #Your code should go here\n",
    "    bike_details_with_schema = sorted(\n",
    "        map(\n",
    "            lambda bike: dict(zip(attributes, bike)),\n",
    "            bike_details\n",
    "        ),\n",
    "        key=lambda bike: (-bike['selling_price'], bike['name'])\n",
    "    )\n",
    "    return bike_details_with_schema"
   ]
  },
  {
   "cell_type": "markdown",
   "id": "1bd437de",
   "metadata": {},
   "source": [
    "### Step 3: Validate the function\n",
    "Here is the desired output\n",
    "```python\n",
    "[{'name': 'Royal Enfield Bullet 350 [2007-2011]',\n",
    "  'selling_price': 180000,\n",
    "  'year': 2008,\n",
    "  'seller_type': 'Individual',\n",
    "  'owner': '2nd owner',\n",
    "  'km_driven': 39000},\n",
    " {'name': 'Royal Enfield Classic 350',\n",
    "  'selling_price': 175000,\n",
    "  'year': 2019,\n",
    "  'seller_type': 'Individual',\n",
    "  'owner': '1st owner',\n",
    "  'km_driven': 350},\n",
    " {'name': 'Royal Enfield Classic Gunmetal Grey',\n",
    "  'selling_price': 150000,\n",
    "  'year': 2018,\n",
    "  'seller_type': 'Individual',\n",
    "  'owner': '1st owner',\n",
    "  'km_driven': 12000},\n",
    " {'name': 'Honda CB Hornet 160R',\n",
    "  'selling_price': 78500,\n",
    "  'year': 2018,\n",
    "  'seller_type': 'Individual',\n",
    "  'owner': '1st owner',\n",
    "  'km_driven': 17000},\n",
    " {'name': 'Yamaha Fazer FI V 2.0 [2016-2018]',\n",
    "  'selling_price': 65000,\n",
    "  'year': 2015,\n",
    "  'seller_type': 'Individual',\n",
    "  'owner': '1st owner',\n",
    "  'km_driven': 23000},\n",
    " {'name': 'Bajaj Discover 125',\n",
    "  'selling_price': 50000,\n",
    "  'year': 2016,\n",
    "  'seller_type': 'Individual',\n",
    "  'owner': '1st owner',\n",
    "  'km_driven': 42000},\n",
    " {'name': 'Honda Dio',\n",
    "  'selling_price': 45000,\n",
    "  'year': 2017,\n",
    "  'seller_type': 'Individual',\n",
    "  'owner': '1st owner',\n",
    "  'km_driven': 5650},\n",
    " {'name': 'Hero Honda CBZ extreme',\n",
    "  'selling_price': 30000,\n",
    "  'year': 2010,\n",
    "  'seller_type': 'Individual',\n",
    "  'owner': '1st owner',\n",
    "  'km_driven': 32000},\n",
    " {'name': 'Yamaha SZ [2013-2014]',\n",
    "  'selling_price': 20000,\n",
    "  'year': 2011,\n",
    "  'seller_type': 'Individual',\n",
    "  'owner': '2nd owner',\n",
    "  'km_driven': 21000},\n",
    " {'name': 'Honda CB Twister',\n",
    "  'selling_price': 18000,\n",
    "  'year': 2010,\n",
    "  'seller_type': 'Individual',\n",
    "  'owner': '1st owner',\n",
    "  'km_driven': 60000}]\n",
    "```"
   ]
  },
  {
   "cell_type": "code",
   "execution_count": 10,
   "id": "526f0e74",
   "metadata": {},
   "outputs": [
    {
     "data": {
      "text/plain": [
       "[{'name': 'Royal Enfield Bullet 350 [2007-2011]',\n",
       "  'selling_price': 180000,\n",
       "  'year': 2008,\n",
       "  'seller_type': 'Individual',\n",
       "  'owner': '2nd owner',\n",
       "  'km_driven': 39000},\n",
       " {'name': 'Royal Enfield Classic 350',\n",
       "  'selling_price': 175000,\n",
       "  'year': 2019,\n",
       "  'seller_type': 'Individual',\n",
       "  'owner': '1st owner',\n",
       "  'km_driven': 350},\n",
       " {'name': 'Royal Enfield Classic Gunmetal Grey',\n",
       "  'selling_price': 150000,\n",
       "  'year': 2018,\n",
       "  'seller_type': 'Individual',\n",
       "  'owner': '1st owner',\n",
       "  'km_driven': 12000},\n",
       " {'name': 'Honda CB Hornet 160R',\n",
       "  'selling_price': 78500,\n",
       "  'year': 2018,\n",
       "  'seller_type': 'Individual',\n",
       "  'owner': '1st owner',\n",
       "  'km_driven': 17000},\n",
       " {'name': 'Yamaha Fazer FI V 2.0 [2016-2018]',\n",
       "  'selling_price': 65000,\n",
       "  'year': 2015,\n",
       "  'seller_type': 'Individual',\n",
       "  'owner': '1st owner',\n",
       "  'km_driven': 23000},\n",
       " {'name': 'Bajaj Discover 125',\n",
       "  'selling_price': 50000,\n",
       "  'year': 2016,\n",
       "  'seller_type': 'Individual',\n",
       "  'owner': '1st owner',\n",
       "  'km_driven': 42000},\n",
       " {'name': 'Honda Dio',\n",
       "  'selling_price': 45000,\n",
       "  'year': 2017,\n",
       "  'seller_type': 'Individual',\n",
       "  'owner': '1st owner',\n",
       "  'km_driven': 5650},\n",
       " {'name': 'Hero Honda CBZ extreme',\n",
       "  'selling_price': 30000,\n",
       "  'year': 2010,\n",
       "  'seller_type': 'Individual',\n",
       "  'owner': '1st owner',\n",
       "  'km_driven': 32000},\n",
       " {'name': 'Yamaha SZ [2013-2014]',\n",
       "  'selling_price': 20000,\n",
       "  'year': 2011,\n",
       "  'seller_type': 'Individual',\n",
       "  'owner': '2nd owner',\n",
       "  'km_driven': 21000},\n",
       " {'name': 'Honda CB Twister',\n",
       "  'selling_price': 18000,\n",
       "  'year': 2010,\n",
       "  'seller_type': 'Individual',\n",
       "  'owner': '1st owner',\n",
       "  'km_driven': 60000}]"
      ]
     },
     "execution_count": 10,
     "metadata": {},
     "output_type": "execute_result"
    }
   ],
   "source": [
    "bike_details_with_schema = get_bike_details(attributes, bike_details)\n",
    "bike_details_with_schema"
   ]
  },
  {
   "cell_type": "code",
   "execution_count": 11,
   "id": "d4da6417",
   "metadata": {},
   "outputs": [
    {
     "data": {
      "text/plain": [
       "list"
      ]
     },
     "execution_count": 11,
     "metadata": {},
     "output_type": "execute_result"
    }
   ],
   "source": [
    "type(bike_details_with_schema) # list"
   ]
  },
  {
   "cell_type": "code",
   "execution_count": 12,
   "id": "723e917d",
   "metadata": {},
   "outputs": [
    {
     "data": {
      "text/plain": [
       "10"
      ]
     },
     "execution_count": 12,
     "metadata": {},
     "output_type": "execute_result"
    }
   ],
   "source": [
    "len(bike_details_with_schema) # 10"
   ]
  },
  {
   "cell_type": "code",
   "execution_count": 13,
   "id": "35ee2e1c",
   "metadata": {},
   "outputs": [
    {
     "data": {
      "text/plain": [
       "{'name': 'Royal Enfield Bullet 350 [2007-2011]',\n",
       " 'selling_price': 180000,\n",
       " 'year': 2008,\n",
       " 'seller_type': 'Individual',\n",
       " 'owner': '2nd owner',\n",
       " 'km_driven': 39000}"
      ]
     },
     "execution_count": 13,
     "metadata": {},
     "output_type": "execute_result"
    }
   ],
   "source": [
    "bike_details_with_schema[0] # {'name': 'Royal Enfield Bullet 350 [2007-2011]', 'selling_price': 180000, 'year': 2008, 'seller_type': 'Individual', 'owner': '2nd owner', 'km_driven': 39000}"
   ]
  },
  {
   "cell_type": "code",
   "execution_count": 14,
   "id": "c5efd487",
   "metadata": {},
   "outputs": [
    {
     "data": {
      "text/plain": [
       "dict"
      ]
     },
     "execution_count": 14,
     "metadata": {},
     "output_type": "execute_result"
    }
   ],
   "source": [
    "type(bike_details_with_schema[0]) #dict"
   ]
  },
  {
   "cell_type": "code",
   "execution_count": null,
   "id": "ecb5bfc7",
   "metadata": {},
   "outputs": [],
   "source": []
  }
 ],
 "metadata": {
  "kernelspec": {
   "display_name": "Python 3",
   "language": "python",
   "name": "python3"
  },
  "language_info": {
   "codemirror_mode": {
    "name": "ipython",
    "version": 3
   },
   "file_extension": ".py",
   "mimetype": "text/x-python",
   "name": "python",
   "nbconvert_exporter": "python",
   "pygments_lexer": "ipython3",
   "version": "3.6.12"
  }
 },
 "nbformat": 4,
 "nbformat_minor": 5
}
