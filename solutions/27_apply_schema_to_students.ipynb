{
 "cells": [
  {
   "cell_type": "markdown",
   "id": "0610428a",
   "metadata": {},
   "source": [
    "## Apply Schema to Students\n",
    "\n",
    "Develop a function to convert the list of tuples to dict by using zip funtion. As part of this Python Practice Test, we are primarily evaluating the ability to understand zip function as well as manipulating collections.\n",
    "* We will provide list of tuples and the attributes are **student_id**, **math_score**, **reading_score** and **writing_score**.\n",
    "* Develop a function which takes students as input and the output should be a dict where keys are based up on the attributes provided.\n",
    "* The output should be sorted in descending order by total.\n",
    "* This scenario can be easily solved by zip finction.\n",
    "\n",
    "**Restrictions: Solve this problem either by using conventional loops or first class functions such as `map`. You are not supposed to use Pandas.**"
   ]
  },
  {
   "cell_type": "code",
   "execution_count": 1,
   "id": "68654fef",
   "metadata": {},
   "outputs": [],
   "source": [
    "students = [(1, 72, 72, 74), (2, 69, 90, 88), (3, 90, 95, 93), (4, 47, 47, 44), (5, 76, 78, 75), (6, 71, 83, 78)]"
   ]
  },
  {
   "cell_type": "markdown",
   "id": "132fe3ae",
   "metadata": {},
   "source": [
    "### Step 1: Preview the data\n",
    "\n",
    "Let us first preview the data."
   ]
  },
  {
   "cell_type": "code",
   "execution_count": 2,
   "id": "6d849d4c",
   "metadata": {},
   "outputs": [
    {
     "data": {
      "text/plain": [
       "[(1, 72, 72, 74),\n",
       " (2, 69, 90, 88),\n",
       " (3, 90, 95, 93),\n",
       " (4, 47, 47, 44),\n",
       " (5, 76, 78, 75),\n",
       " (6, 71, 83, 78)]"
      ]
     },
     "execution_count": 2,
     "metadata": {},
     "output_type": "execute_result"
    }
   ],
   "source": [
    "students"
   ]
  },
  {
   "cell_type": "code",
   "execution_count": 3,
   "id": "1781e4d8",
   "metadata": {},
   "outputs": [
    {
     "data": {
      "text/plain": [
       "list"
      ]
     },
     "execution_count": 3,
     "metadata": {},
     "output_type": "execute_result"
    }
   ],
   "source": [
    "type(students)"
   ]
  },
  {
   "cell_type": "code",
   "execution_count": 4,
   "id": "9ae42cbc",
   "metadata": {},
   "outputs": [
    {
     "data": {
      "text/plain": [
       "6"
      ]
     },
     "execution_count": 4,
     "metadata": {},
     "output_type": "execute_result"
    }
   ],
   "source": [
    "len(students)"
   ]
  },
  {
   "cell_type": "markdown",
   "id": "ce30ba39",
   "metadata": {},
   "source": [
    "### Step 2: Provide the solution\n",
    "\n",
    "Now come up with the solution by developing the required logic. Once the function is developed, go to the next step to take care of the validation."
   ]
  },
  {
   "cell_type": "code",
   "execution_count": 5,
   "id": "b4208ea0",
   "metadata": {},
   "outputs": [],
   "source": [
    "attrs = ('student_id', 'math_score', 'reading_score', 'writing_score')"
   ]
  },
  {
   "cell_type": "code",
   "execution_count": 6,
   "id": "0e42efc0",
   "metadata": {},
   "outputs": [
    {
     "data": {
      "text/plain": [
       "(1, 72, 72, 74)"
      ]
     },
     "execution_count": 6,
     "metadata": {},
     "output_type": "execute_result"
    }
   ],
   "source": [
    "student = students[0]\n",
    "student"
   ]
  },
  {
   "cell_type": "code",
   "execution_count": 7,
   "id": "279b943d",
   "metadata": {},
   "outputs": [
    {
     "data": {
      "text/plain": [
       "144"
      ]
     },
     "execution_count": 7,
     "metadata": {},
     "output_type": "execute_result"
    }
   ],
   "source": [
    "sum(student[1:3])"
   ]
  },
  {
   "cell_type": "code",
   "execution_count": 8,
   "id": "acee01d9",
   "metadata": {},
   "outputs": [
    {
     "data": {
      "text/plain": [
       "[(3, 90, 95, 93),\n",
       " (2, 69, 90, 88),\n",
       " (5, 76, 78, 75),\n",
       " (6, 71, 83, 78),\n",
       " (1, 72, 72, 74),\n",
       " (4, 47, 47, 44)]"
      ]
     },
     "execution_count": 8,
     "metadata": {},
     "output_type": "execute_result"
    }
   ],
   "source": [
    "sorted(\n",
    "    students,\n",
    "    key=lambda student: sum(student[1:3]),\n",
    "    reverse=True\n",
    ")"
   ]
  },
  {
   "cell_type": "code",
   "execution_count": 9,
   "id": "31d9ed63",
   "metadata": {},
   "outputs": [
    {
     "data": {
      "text/plain": [
       "[{'student_id': 3, 'math_score': 90, 'reading_score': 95, 'writing_score': 93},\n",
       " {'student_id': 2, 'math_score': 69, 'reading_score': 90, 'writing_score': 88},\n",
       " {'student_id': 5, 'math_score': 76, 'reading_score': 78, 'writing_score': 75},\n",
       " {'student_id': 6, 'math_score': 71, 'reading_score': 83, 'writing_score': 78},\n",
       " {'student_id': 1, 'math_score': 72, 'reading_score': 72, 'writing_score': 74},\n",
       " {'student_id': 4, 'math_score': 47, 'reading_score': 47, 'writing_score': 44}]"
      ]
     },
     "execution_count": 9,
     "metadata": {},
     "output_type": "execute_result"
    }
   ],
   "source": [
    "list(\n",
    "    map(\n",
    "        lambda student: dict(zip(attrs, student)),\n",
    "        sorted(\n",
    "            students,\n",
    "            key=lambda student: sum(student[1:3]),\n",
    "            reverse=True\n",
    "        )\n",
    "    )\n",
    ")"
   ]
  },
  {
   "cell_type": "code",
   "execution_count": 10,
   "id": "269dd424",
   "metadata": {},
   "outputs": [],
   "source": [
    "def get_students_with_schema(students):\n",
    "    ## your code should go here\n",
    "    attrs = ('student_id', 'math_score', 'reading_score', 'writing_score')\n",
    "    students_with_schema = list(\n",
    "        map(\n",
    "            lambda student: dict(zip(attrs, student)),\n",
    "            sorted(\n",
    "                students,\n",
    "                key=lambda student: sum(student[1:3]),\n",
    "                reverse=True\n",
    "            )\n",
    "        )\n",
    "    )\n",
    "    return students_with_schema"
   ]
  },
  {
   "cell_type": "markdown",
   "id": "7ec6fa99",
   "metadata": {},
   "source": [
    "### Step 3: Validate the function\n",
    "\n",
    "Let us validate the function by running below cells.\n",
    "* Here is the expected output.\n",
    "\n",
    "```python\n",
    "[{'student_id': 3, 'math_score': 90, 'reading_score': 95, 'writing_score': 93},\n",
    " {'student_id': 2, 'math_score': 69, 'reading_score': 90, 'writing_score': 88},\n",
    " {'student_id': 6, 'math_score': 71, 'reading_score': 83, 'writing_score': 78},\n",
    " {'student_id': 5, 'math_score': 76, 'reading_score': 78, 'writing_score': 75},\n",
    " {'student_id': 1, 'math_score': 72, 'reading_score': 72, 'writing_score': 74},\n",
    " {'student_id': 4, 'math_score': 47, 'reading_score': 47, 'writing_score': 44}]\n",
    "```"
   ]
  },
  {
   "cell_type": "code",
   "execution_count": 11,
   "id": "76b838c2",
   "metadata": {},
   "outputs": [
    {
     "data": {
      "text/plain": [
       "[{'student_id': 3, 'math_score': 90, 'reading_score': 95, 'writing_score': 93},\n",
       " {'student_id': 2, 'math_score': 69, 'reading_score': 90, 'writing_score': 88},\n",
       " {'student_id': 5, 'math_score': 76, 'reading_score': 78, 'writing_score': 75},\n",
       " {'student_id': 6, 'math_score': 71, 'reading_score': 83, 'writing_score': 78},\n",
       " {'student_id': 1, 'math_score': 72, 'reading_score': 72, 'writing_score': 74},\n",
       " {'student_id': 4, 'math_score': 47, 'reading_score': 47, 'writing_score': 44}]"
      ]
     },
     "execution_count": 11,
     "metadata": {},
     "output_type": "execute_result"
    }
   ],
   "source": [
    "students_with_schema = get_students_with_schema(students)\n",
    "students_with_schema"
   ]
  },
  {
   "cell_type": "code",
   "execution_count": 12,
   "id": "ea3dc9b9",
   "metadata": {},
   "outputs": [
    {
     "data": {
      "text/plain": [
       "6"
      ]
     },
     "execution_count": 12,
     "metadata": {},
     "output_type": "execute_result"
    }
   ],
   "source": [
    "len(students_with_schema) # 6"
   ]
  },
  {
   "cell_type": "code",
   "execution_count": 13,
   "id": "80e8e380",
   "metadata": {},
   "outputs": [
    {
     "data": {
      "text/plain": [
       "list"
      ]
     },
     "execution_count": 13,
     "metadata": {},
     "output_type": "execute_result"
    }
   ],
   "source": [
    "type(students_with_schema) # list"
   ]
  },
  {
   "cell_type": "code",
   "execution_count": 14,
   "id": "e0998b76",
   "metadata": {},
   "outputs": [
    {
     "data": {
      "text/plain": [
       "dict"
      ]
     },
     "execution_count": 14,
     "metadata": {},
     "output_type": "execute_result"
    }
   ],
   "source": [
    "type(students_with_schema[0]) # dict"
   ]
  },
  {
   "cell_type": "code",
   "execution_count": null,
   "id": "a471a9c9",
   "metadata": {},
   "outputs": [],
   "source": []
  }
 ],
 "metadata": {
  "kernelspec": {
   "display_name": "Python 3",
   "language": "python",
   "name": "python3"
  },
  "language_info": {
   "codemirror_mode": {
    "name": "ipython",
    "version": 3
   },
   "file_extension": ".py",
   "mimetype": "text/x-python",
   "name": "python",
   "nbconvert_exporter": "python",
   "pygments_lexer": "ipython3",
   "version": "3.6.12"
  }
 },
 "nbformat": 4,
 "nbformat_minor": 5
}
