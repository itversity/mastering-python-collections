{
 "cells": [
  {
   "cell_type": "markdown",
   "id": "72ac05ed",
   "metadata": {},
   "source": [
    "## Get all unique reasons\n",
    "\n",
    "Develop a function which gives list of unique reasons.\n",
    "* We will provide the data in the form of list of dicts.\n",
    "* Each element will have data related to multiple attributes associated with those who want to take the assessments.\n",
    "* Develop a function which does the following.\n",
    "  * It should take one argument - the list of aspirants.\n",
    "  * You need to include the logic to find all the unique reasons. Each record might contain more than one reasons which are comma separated. You need process those with appropriate functions.\n",
    "  * There should not be spaces before the reason or after the reason.\n",
    "  * Return all the reasons as sorted list. The elements in the list should be sorted in alphanumeric order.\n",
    "\n",
    "**Restrictions: You should only use loops or first class functions such as map, filter etc.  Do not use Pandas.**"
   ]
  },
  {
   "cell_type": "code",
   "execution_count": 1,
   "id": "77f05493",
   "metadata": {},
   "outputs": [],
   "source": [
    "students = [{'Name': 'Pardha Saradhi',\n",
    "  'Reason': 'To be part of ITVersity Professionals Database to work on paid part-time opportunities',\n",
    "  'Current Status': 'Experienced Professionals (10+ years of experience)',\n",
    "  'Python Rating': '3',\n",
    "  'Scheduled Date': '7/31/2021',\n",
    "  'Current Country': 'India'},\n",
    " {'Name': 'Asasri',\n",
    "  'Reason': 'Self assess to understand where I stand in Python',\n",
    "  'Current Status': 'Freshers or recent year pass outs looking for entry level jobs',\n",
    "  'Python Rating': '2',\n",
    "  'Scheduled Date': '8/10/2021',\n",
    "  'Current Country': 'India'},\n",
    " {'Name': 'Sai Akshith',\n",
    "  'Reason': 'Self assess to understand where I stand in Python, Technical Screening Preparation (tests as well as interviews), To be part of ITVersity Professionals Database to work on paid part-time opportunities',\n",
    "  'Current Status': 'Entry level professional (less than 2 years of experience)',\n",
    "  'Python Rating': '3',\n",
    "  'Scheduled Date': '7/30/2021',\n",
    "  'Current Country': 'India'},\n",
    " {'Name': 'Anmol',\n",
    "  'Reason': 'Self assess to understand where I stand in Python, To be part of ITVersity Professionals Database to work on paid part-time opportunities',\n",
    "  'Current Status': 'Experienced Professionals (2 to 5 years of experience)',\n",
    "  'Python Rating': '2',\n",
    "  'Scheduled Date': '7/25/2021',\n",
    "  'Current Country': 'India'},\n",
    " {'Name': 'Shravan',\n",
    "  'Reason': 'Self assess to understand where I stand in Python, Technical Screening Preparation (tests as well as interviews)',\n",
    "  'Current Status': 'Experienced Professionals (2 to 5 years of experience)',\n",
    "  'Python Rating': '1',\n",
    "  'Scheduled Date': '7/28/2021',\n",
    "  'Current Country': 'India'},\n",
    " {'Name': 'Aditya',\n",
    "  'Reason': 'Self assess to understand where I stand in Python, Technical Screening Preparation (tests as well as interviews), Placement Assistance for full time opportunities, To be part of ITVersity Professionals Database to work on paid part-time opportunities',\n",
    "  'Current Status': 'Experienced Professionals (5 to 10 years of experience)',\n",
    "  'Python Rating': '1',\n",
    "  'Scheduled Date': '7/31/2021',\n",
    "  'Current Country': 'USA'},\n",
    " {'Name': 'Prasanth ',\n",
    "  'Reason': 'Self assess to understand where I stand in Python',\n",
    "  'Current Status': 'Experienced Professionals (10+ years of experience)',\n",
    "  'Python Rating': '2',\n",
    "  'Scheduled Date': '8/14/2021',\n",
    "  'Current Country': 'USA'},\n",
    " {'Name': 'Sahana',\n",
    "  'Reason': 'Self assess to understand where I stand in Python, Placement Assistance for full time opportunities',\n",
    "  'Current Status': 'Entry level professional (less than 2 years of experience)',\n",
    "  'Python Rating': '4',\n",
    "  'Scheduled Date': '7/26/2021',\n",
    "  'Current Country': 'India'}]"
   ]
  },
  {
   "cell_type": "markdown",
   "id": "6b4c4870",
   "metadata": {},
   "source": [
    "### Step 1: Preview the data\n",
    "\n",
    "Let us first preview the data."
   ]
  },
  {
   "cell_type": "code",
   "execution_count": 2,
   "id": "235c22c4",
   "metadata": {},
   "outputs": [
    {
     "data": {
      "text/plain": [
       "list"
      ]
     },
     "execution_count": 2,
     "metadata": {},
     "output_type": "execute_result"
    }
   ],
   "source": [
    "type(students)"
   ]
  },
  {
   "cell_type": "code",
   "execution_count": 3,
   "id": "8957022f",
   "metadata": {},
   "outputs": [
    {
     "data": {
      "text/plain": [
       "8"
      ]
     },
     "execution_count": 3,
     "metadata": {},
     "output_type": "execute_result"
    }
   ],
   "source": [
    "len(students)"
   ]
  },
  {
   "cell_type": "code",
   "execution_count": 4,
   "id": "c6b1d2b0",
   "metadata": {},
   "outputs": [
    {
     "data": {
      "text/plain": [
       "{'Name': 'Pardha Saradhi',\n",
       " 'Reason': 'To be part of ITVersity Professionals Database to work on paid part-time opportunities',\n",
       " 'Current Status': 'Experienced Professionals (10+ years of experience)',\n",
       " 'Python Rating': '3',\n",
       " 'Scheduled Date': '7/31/2021',\n",
       " 'Current Country': 'India'}"
      ]
     },
     "execution_count": 4,
     "metadata": {},
     "output_type": "execute_result"
    }
   ],
   "source": [
    "students[0]"
   ]
  },
  {
   "cell_type": "code",
   "execution_count": 5,
   "id": "02ba9aea",
   "metadata": {},
   "outputs": [
    {
     "data": {
      "text/plain": [
       "dict"
      ]
     },
     "execution_count": 5,
     "metadata": {},
     "output_type": "execute_result"
    }
   ],
   "source": [
    "type(students[0])"
   ]
  },
  {
   "cell_type": "markdown",
   "id": "4a293136",
   "metadata": {},
   "source": [
    "### Step 2: Provide the solution\n",
    "\n",
    "Now come up with the solution by developing the required logic. Once the function is developed, go to the next step to take care of the validation."
   ]
  },
  {
   "cell_type": "code",
   "execution_count": 6,
   "id": "0f2e8b5c",
   "metadata": {},
   "outputs": [],
   "source": [
    "def get_unique_reasons(students):\n",
    "    unique_reasons = set()\n",
    "    for student_reasons in map(lambda student: student['Reason'].split(', '), students):\n",
    "        unique_reasons = unique_reasons.union(set(student_reasons))\n",
    "    return sorted(unique_reasons)"
   ]
  },
  {
   "cell_type": "markdown",
   "id": "c04a44b5",
   "metadata": {},
   "source": [
    "### Step 3: Validate the function\n",
    "\n",
    "Let us validate the function by running below cells.\n",
    "* Here is the expected output.\n",
    "\n",
    "```python\n",
    "['Placement Assistance for full time opportunities',\n",
    " 'Self assess to understand where I stand in Python',\n",
    " 'Technical Screening Preparation (tests as well as interviews)',\n",
    " 'To be part of ITVersity Professionals Database to work on paid part-time opportunities']\n",
    "```"
   ]
  },
  {
   "cell_type": "code",
   "execution_count": 7,
   "id": "08aa8c49",
   "metadata": {},
   "outputs": [
    {
     "data": {
      "text/plain": [
       "['Placement Assistance for full time opportunities',\n",
       " 'Self assess to understand where I stand in Python',\n",
       " 'Technical Screening Preparation (tests as well as interviews)',\n",
       " 'To be part of ITVersity Professionals Database to work on paid part-time opportunities']"
      ]
     },
     "execution_count": 7,
     "metadata": {},
     "output_type": "execute_result"
    }
   ],
   "source": [
    "unique_reasons = get_unique_reasons(students)\n",
    "unique_reasons"
   ]
  },
  {
   "cell_type": "code",
   "execution_count": 8,
   "id": "273a482e",
   "metadata": {},
   "outputs": [
    {
     "data": {
      "text/plain": [
       "4"
      ]
     },
     "execution_count": 8,
     "metadata": {},
     "output_type": "execute_result"
    }
   ],
   "source": [
    "len(unique_reasons) # 38"
   ]
  },
  {
   "cell_type": "code",
   "execution_count": 9,
   "id": "767a2bf7",
   "metadata": {},
   "outputs": [
    {
     "data": {
      "text/plain": [
       "list"
      ]
     },
     "execution_count": 9,
     "metadata": {},
     "output_type": "execute_result"
    }
   ],
   "source": [
    "type(unique_reasons) # list"
   ]
  },
  {
   "cell_type": "code",
   "execution_count": 10,
   "id": "d6bba469",
   "metadata": {},
   "outputs": [
    {
     "data": {
      "text/plain": [
       "str"
      ]
     },
     "execution_count": 10,
     "metadata": {},
     "output_type": "execute_result"
    }
   ],
   "source": [
    "type(unique_reasons[0]) # str"
   ]
  },
  {
   "cell_type": "code",
   "execution_count": 11,
   "id": "4b79bfcc",
   "metadata": {},
   "outputs": [
    {
     "name": "stdout",
     "output_type": "stream",
     "text": [
      "Placement Assistance for full time opportunities\n"
     ]
    }
   ],
   "source": [
    "print(unique_reasons[0]) # 'Placement Assistance for full time opportunities'"
   ]
  },
  {
   "cell_type": "code",
   "execution_count": null,
   "id": "1923abe5",
   "metadata": {},
   "outputs": [],
   "source": []
  }
 ],
 "metadata": {
  "kernelspec": {
   "display_name": "Python 3",
   "language": "python",
   "name": "python3"
  },
  "language_info": {
   "codemirror_mode": {
    "name": "ipython",
    "version": 3
   },
   "file_extension": ".py",
   "mimetype": "text/x-python",
   "name": "python",
   "nbconvert_exporter": "python",
   "pygments_lexer": "ipython3",
   "version": "3.6.12"
  }
 },
 "nbformat": 4,
 "nbformat_minor": 5
}
