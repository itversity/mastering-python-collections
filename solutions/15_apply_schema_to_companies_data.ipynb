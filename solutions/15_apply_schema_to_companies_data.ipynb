{
 "cells": [
  {
   "cell_type": "markdown",
   "id": "7cb0c85c",
   "metadata": {},
   "source": [
    "## Apply Schema to Companies Data\n",
    "\n",
    "Develop a function which applies schema on top of data. The function shall take 2 arguments - data and attributes.\n",
    "* Data should be passed in the form list of comma separated strings.\n",
    "* Attributes should be passed in the form of a comma separated string.\n",
    "* The function should return list of dicts. Refer to desired output.\n",
    "* Make sure the numeric types in the dict are of type float.\n",
    "\n",
    "**Hint: This scanerio is to be solved by using zip() function**"
   ]
  },
  {
   "cell_type": "code",
   "execution_count": 1,
   "id": "2447a036",
   "metadata": {},
   "outputs": [],
   "source": [
    "fields = 'Name,Sector,Price,Dividend,EarningsPerShare'"
   ]
  },
  {
   "cell_type": "code",
   "execution_count": 2,
   "id": "640d633a",
   "metadata": {},
   "outputs": [],
   "source": [
    "companies = [\n",
    "'Accenture,IT,222.89,2.33,7.92',\n",
    "'Apple,IT,155.15,1.57,9.2',\n",
    "'Adobe Systems Inc,IT,185.16,0,3.39',\n",
    "'Alphabet,IT,1007.71,0,22.27',\n",
    "'ebay Inc,IT,41.02,0,-1.07',\n",
    "'Hewlett Packard Enterprise,IT,15.04,1.92,0.21',\n",
    "'Intel Corp,IT,42.75,2.65,1.98',\n",
    "'Microsoft Corp,IT,85.01,1.87,2.97',\n",
    "'Netflix Inc,IT,250.01,0,1.25']"
   ]
  },
  {
   "cell_type": "markdown",
   "id": "8410d4c4",
   "metadata": {},
   "source": [
    "### Step 1: Preview the Data\n",
    "Let us preview the data."
   ]
  },
  {
   "cell_type": "code",
   "execution_count": 3,
   "id": "7f619afa",
   "metadata": {},
   "outputs": [
    {
     "data": {
      "text/plain": [
       "'Name,Sector,Price,Dividend,EarningsPerShare'"
      ]
     },
     "execution_count": 3,
     "metadata": {},
     "output_type": "execute_result"
    }
   ],
   "source": [
    "fields"
   ]
  },
  {
   "cell_type": "code",
   "execution_count": 4,
   "id": "cb5f027c",
   "metadata": {},
   "outputs": [
    {
     "data": {
      "text/plain": [
       "str"
      ]
     },
     "execution_count": 4,
     "metadata": {},
     "output_type": "execute_result"
    }
   ],
   "source": [
    "type(fields)"
   ]
  },
  {
   "cell_type": "code",
   "execution_count": 5,
   "id": "830dbd7f",
   "metadata": {},
   "outputs": [
    {
     "data": {
      "text/plain": [
       "['Accenture,IT,222.89,2.33,7.92',\n",
       " 'Apple,IT,155.15,1.57,9.2',\n",
       " 'Adobe Systems Inc,IT,185.16,0,3.39',\n",
       " 'Alphabet,IT,1007.71,0,22.27',\n",
       " 'ebay Inc,IT,41.02,0,-1.07',\n",
       " 'Hewlett Packard Enterprise,IT,15.04,1.92,0.21',\n",
       " 'Intel Corp,IT,42.75,2.65,1.98',\n",
       " 'Microsoft Corp,IT,85.01,1.87,2.97',\n",
       " 'Netflix Inc,IT,250.01,0,1.25']"
      ]
     },
     "execution_count": 5,
     "metadata": {},
     "output_type": "execute_result"
    }
   ],
   "source": [
    "companies"
   ]
  },
  {
   "cell_type": "code",
   "execution_count": 6,
   "id": "b8b7589a",
   "metadata": {},
   "outputs": [
    {
     "data": {
      "text/plain": [
       "list"
      ]
     },
     "execution_count": 6,
     "metadata": {},
     "output_type": "execute_result"
    }
   ],
   "source": [
    "type(companies)"
   ]
  },
  {
   "cell_type": "code",
   "execution_count": 7,
   "id": "2f187f20",
   "metadata": {},
   "outputs": [
    {
     "data": {
      "text/plain": [
       "'Accenture,IT,222.89,2.33,7.92'"
      ]
     },
     "execution_count": 7,
     "metadata": {},
     "output_type": "execute_result"
    }
   ],
   "source": [
    "companies[0]"
   ]
  },
  {
   "cell_type": "code",
   "execution_count": 8,
   "id": "d85a4a72",
   "metadata": {},
   "outputs": [
    {
     "data": {
      "text/plain": [
       "str"
      ]
     },
     "execution_count": 8,
     "metadata": {},
     "output_type": "execute_result"
    }
   ],
   "source": [
    "type(companies[0])"
   ]
  },
  {
   "cell_type": "markdown",
   "id": "229c0097",
   "metadata": {},
   "source": [
    "### Step 2: Provide the Solution\n",
    "Provide the solution below."
   ]
  },
  {
   "cell_type": "code",
   "execution_count": 9,
   "id": "7c0c71a0",
   "metadata": {},
   "outputs": [],
   "source": [
    "def get_companies_with_attrs(companies, fields):\n",
    "    # Develop your logic here\n",
    "    companies_with_attrs = list(\n",
    "        map(\n",
    "            lambda company: dict(\n",
    "                zip(\n",
    "                    fields.split(','), \n",
    "                    map(\n",
    "                        lambda item: float(item) if item.replace('.', '').isdecimal() else item, \n",
    "                        company.split(',')\n",
    "                    )\n",
    "                )\n",
    "            ), \n",
    "            companies\n",
    "        )\n",
    "    )\n",
    "    return companies_with_attrs"
   ]
  },
  {
   "cell_type": "markdown",
   "id": "f0b33770",
   "metadata": {},
   "source": [
    "### Step 3: Validate the function\n",
    "Let us validate the function by running the below cells.\n",
    "\n",
    "Here is the desired output\n",
    "```python\n",
    "[{'Name': 'Accenture',\n",
    "  'Sector': 'IT',\n",
    "  'Price': 222.89,\n",
    "  'Dividend': 2.33,\n",
    "  'EarningsPerShare': 7.92},\n",
    " {'Name': 'Apple',\n",
    "  'Sector': 'IT',\n",
    "  'Price': 155.15,\n",
    "  'Dividend': 1.57,\n",
    "  'EarningsPerShare': 9.2},\n",
    " {'Name': 'Adobe Systems Inc',\n",
    "  'Sector': 'IT',\n",
    "  'Price': 185.16,\n",
    "  'Dividend': 0.0,\n",
    "  'EarningsPerShare': 3.39},\n",
    " {'Name': 'Alphabet',\n",
    "  'Sector': 'IT',\n",
    "  'Price': 1007.71,\n",
    "  'Dividend': 0.0,\n",
    "  'EarningsPerShare': 22.27},\n",
    " {'Name': 'ebay Inc',\n",
    "  'Sector': 'IT',\n",
    "  'Price': 41.02,\n",
    "  'Dividend': 0.0,\n",
    "  'EarningsPerShare': -1.07},\n",
    " {'Name': 'Hewlett Packard Enterprise',\n",
    "  'Sector': 'IT',\n",
    "  'Price': 15.04,\n",
    "  'Dividend': 1.92,\n",
    "  'EarningsPerShare': 0.21},\n",
    " {'Name': 'Intel Corp',\n",
    "  'Sector': 'IT',\n",
    "  'Price': 42.75,\n",
    "  'Dividend': 2.65,\n",
    "  'EarningsPerShare': 1.98},\n",
    " {'Name': 'Microsoft Corp',\n",
    "  'Sector': 'IT',\n",
    "  'Price': 85.01,\n",
    "  'Dividend': 1.87,\n",
    "  'EarningsPerShare': 2.97},\n",
    " {'Name': 'Netflix Inc',\n",
    "  'Sector': 'IT',\n",
    "  'Price': 250.01,\n",
    "  'Dividend': 0.0,\n",
    "  'EarningsPerShare': 1.25}]\n",
    "```"
   ]
  },
  {
   "cell_type": "code",
   "execution_count": 10,
   "id": "7867492d",
   "metadata": {},
   "outputs": [],
   "source": [
    "companies_with_attrs = get_companies_with_attrs(companies, fields)"
   ]
  },
  {
   "cell_type": "code",
   "execution_count": 11,
   "id": "8492fa80",
   "metadata": {},
   "outputs": [
    {
     "data": {
      "text/plain": [
       "[{'Name': 'Accenture',\n",
       "  'Sector': 'IT',\n",
       "  'Price': 222.89,\n",
       "  'Dividend': 2.33,\n",
       "  'EarningsPerShare': 7.92},\n",
       " {'Name': 'Apple',\n",
       "  'Sector': 'IT',\n",
       "  'Price': 155.15,\n",
       "  'Dividend': 1.57,\n",
       "  'EarningsPerShare': 9.2},\n",
       " {'Name': 'Adobe Systems Inc',\n",
       "  'Sector': 'IT',\n",
       "  'Price': 185.16,\n",
       "  'Dividend': 0.0,\n",
       "  'EarningsPerShare': 3.39},\n",
       " {'Name': 'Alphabet',\n",
       "  'Sector': 'IT',\n",
       "  'Price': 1007.71,\n",
       "  'Dividend': 0.0,\n",
       "  'EarningsPerShare': 22.27},\n",
       " {'Name': 'ebay Inc',\n",
       "  'Sector': 'IT',\n",
       "  'Price': 41.02,\n",
       "  'Dividend': 0.0,\n",
       "  'EarningsPerShare': '-1.07'},\n",
       " {'Name': 'Hewlett Packard Enterprise',\n",
       "  'Sector': 'IT',\n",
       "  'Price': 15.04,\n",
       "  'Dividend': 1.92,\n",
       "  'EarningsPerShare': 0.21},\n",
       " {'Name': 'Intel Corp',\n",
       "  'Sector': 'IT',\n",
       "  'Price': 42.75,\n",
       "  'Dividend': 2.65,\n",
       "  'EarningsPerShare': 1.98},\n",
       " {'Name': 'Microsoft Corp',\n",
       "  'Sector': 'IT',\n",
       "  'Price': 85.01,\n",
       "  'Dividend': 1.87,\n",
       "  'EarningsPerShare': 2.97},\n",
       " {'Name': 'Netflix Inc',\n",
       "  'Sector': 'IT',\n",
       "  'Price': 250.01,\n",
       "  'Dividend': 0.0,\n",
       "  'EarningsPerShare': 1.25}]"
      ]
     },
     "execution_count": 11,
     "metadata": {},
     "output_type": "execute_result"
    }
   ],
   "source": [
    "companies_with_attrs"
   ]
  },
  {
   "cell_type": "code",
   "execution_count": 12,
   "id": "d5659cd5",
   "metadata": {},
   "outputs": [
    {
     "data": {
      "text/plain": [
       "list"
      ]
     },
     "execution_count": 12,
     "metadata": {},
     "output_type": "execute_result"
    }
   ],
   "source": [
    "type(companies_with_attrs) # list"
   ]
  },
  {
   "cell_type": "code",
   "execution_count": 13,
   "id": "0f9663a6",
   "metadata": {},
   "outputs": [
    {
     "data": {
      "text/plain": [
       "9"
      ]
     },
     "execution_count": 13,
     "metadata": {},
     "output_type": "execute_result"
    }
   ],
   "source": [
    "len(companies_with_attrs) # 9"
   ]
  },
  {
   "cell_type": "code",
   "execution_count": 14,
   "id": "b7c6764f",
   "metadata": {},
   "outputs": [
    {
     "data": {
      "text/plain": [
       "{'Name': 'Accenture',\n",
       " 'Sector': 'IT',\n",
       " 'Price': 222.89,\n",
       " 'Dividend': 2.33,\n",
       " 'EarningsPerShare': 7.92}"
      ]
     },
     "execution_count": 14,
     "metadata": {},
     "output_type": "execute_result"
    }
   ],
   "source": [
    "companies_with_attrs[0] # {'Name': 'Accenture','Sector': 'IT','Price': 222.89,'Dividend': 2.33,'EarningsPerShare': 7.92}"
   ]
  },
  {
   "cell_type": "code",
   "execution_count": 15,
   "id": "ba1743e3",
   "metadata": {},
   "outputs": [
    {
     "data": {
      "text/plain": [
       "dict"
      ]
     },
     "execution_count": 15,
     "metadata": {},
     "output_type": "execute_result"
    }
   ],
   "source": [
    "type(companies_with_attrs[0]) # dict"
   ]
  },
  {
   "cell_type": "code",
   "execution_count": 16,
   "id": "8a26563e",
   "metadata": {},
   "outputs": [
    {
     "data": {
      "text/plain": [
       "float"
      ]
     },
     "execution_count": 16,
     "metadata": {},
     "output_type": "execute_result"
    }
   ],
   "source": [
    "type(companies_with_attrs[0]['Price']) # float"
   ]
  },
  {
   "cell_type": "code",
   "execution_count": null,
   "id": "b8ad2c56",
   "metadata": {},
   "outputs": [],
   "source": []
  }
 ],
 "metadata": {
  "kernelspec": {
   "display_name": "Python 3",
   "language": "python",
   "name": "python3"
  },
  "language_info": {
   "codemirror_mode": {
    "name": "ipython",
    "version": 3
   },
   "file_extension": ".py",
   "mimetype": "text/x-python",
   "name": "python",
   "nbconvert_exporter": "python",
   "pygments_lexer": "ipython3",
   "version": "3.6.12"
  }
 },
 "nbformat": 4,
 "nbformat_minor": 5
}
