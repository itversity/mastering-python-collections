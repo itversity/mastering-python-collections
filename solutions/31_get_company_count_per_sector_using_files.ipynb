{
 "cells": [
  {
   "cell_type": "markdown",
   "id": "98dfeacd",
   "metadata": {},
   "source": [
    "## Get Company Count per Sector\n",
    "\n",
    "Develop the logic to get company count per sector.\n",
    "* The scanerio should be solved by using functions such as `map` and `filter` etc.\n",
    "* The input data is present in the CSV file named **data/company_financial/company_financial_data.csv**.\n",
    "* The output should be in form of **list of dicts**.\n",
    "* The header record should not be part of the **list of dicts**. The keys of each dict should be **Sector** and **CompanyCount**.\n",
    "* The output should contain name of the companies and their respective sectors.\n",
    "* The data should be sorted in descending order by the **CompanyCount**.\n",
    "\n",
    "**Restriction: The solution for the problem should not contain the loops. Use functions such as `map`, `filter`, etc. If you want you can also use `csv` module.**"
   ]
  },
  {
   "cell_type": "markdown",
   "id": "04d7177b",
   "metadata": {},
   "source": [
    "### Step 1: Preview the data\n",
    "\n",
    "Let us first preview the data."
   ]
  },
  {
   "cell_type": "code",
   "execution_count": null,
   "id": "cd3eb47e",
   "metadata": {},
   "outputs": [],
   "source": [
    "# List the file\n",
    "!ls -ltr data/company_financial/company_financial_data.csv"
   ]
  },
  {
   "cell_type": "code",
   "execution_count": null,
   "id": "a6a05fae",
   "metadata": {},
   "outputs": [],
   "source": [
    "# Number of lines in the file\n",
    "!wc -l data/company_financial/company_financial_data.csv"
   ]
  },
  {
   "cell_type": "code",
   "execution_count": null,
   "id": "6bc5cd22",
   "metadata": {},
   "outputs": [],
   "source": [
    "# Check the head of the file to get the column names\n",
    "!head data/company_financial/company_financial_data.csv"
   ]
  },
  {
   "cell_type": "markdown",
   "id": "a0a164c2",
   "metadata": {},
   "source": [
    "### Step 2: Provide the solution\n",
    "\n",
    "Now come up with the solution by developing the required logic. Once the function is developed, go to the next step to take care of the validation."
   ]
  },
  {
   "cell_type": "code",
   "execution_count": null,
   "id": "f72f8561",
   "metadata": {},
   "outputs": [],
   "source": [
    "def get_company_count_per_sector(path):\n",
    "    # Develop the logic here\n",
    "    return company_count_per_sector"
   ]
  },
  {
   "cell_type": "markdown",
   "id": "80a9d686",
   "metadata": {},
   "source": [
    "### Step 3: Validate the function\n",
    "\n",
    "Let us validate the function by running below cells.\n",
    "\n",
    "* Here is the expected output.\n",
    "\n",
    "```python\n",
    "[{'Sector': 'IT', 'CompanyCount': 9},\n",
    " {'Sector': 'Consumer Products', 'CompanyCount': 4},\n",
    " {'Sector': 'Consumer Staples', 'CompanyCount': 2},\n",
    " {'Sector': 'Finacials', 'CompanyCount': 2},\n",
    " {'Sector': 'Health Care', 'CompanyCount': 2},\n",
    " {'Sector': 'Industrials', 'CompanyCount': 1}]\n",
    "```"
   ]
  },
  {
   "cell_type": "code",
   "execution_count": null,
   "id": "d355558b",
   "metadata": {},
   "outputs": [],
   "source": [
    "company_count_per_sector = get_company_count_per_sector('data/company_financial/company_financial_data.csv')\n",
    "company_count_per_sector"
   ]
  },
  {
   "cell_type": "code",
   "execution_count": null,
   "id": "810df5ef",
   "metadata": {},
   "outputs": [],
   "source": [
    "type(company_count_per_sector) # list"
   ]
  },
  {
   "cell_type": "code",
   "execution_count": null,
   "id": "2514aef6",
   "metadata": {},
   "outputs": [],
   "source": [
    "len(company_count_per_sector) # 6"
   ]
  },
  {
   "cell_type": "code",
   "execution_count": null,
   "id": "1cce70d3",
   "metadata": {},
   "outputs": [],
   "source": [
    "company_count_per_sector[0] # {'Sector': 'IT', 'CompanyCount': 9}"
   ]
  },
  {
   "cell_type": "code",
   "execution_count": null,
   "id": "6a9b4904",
   "metadata": {},
   "outputs": [],
   "source": [
    "type(company_count_per_sector[0]) # dict"
   ]
  }
 ],
 "metadata": {
  "kernelspec": {
   "display_name": "Python 3",
   "language": "python",
   "name": "python3"
  },
  "language_info": {
   "codemirror_mode": {
    "name": "ipython",
    "version": 3
   },
   "file_extension": ".py",
   "mimetype": "text/x-python",
   "name": "python",
   "nbconvert_exporter": "python",
   "pygments_lexer": "ipython3",
   "version": "3.6.12"
  }
 },
 "nbformat": 4,
 "nbformat_minor": 5
}
