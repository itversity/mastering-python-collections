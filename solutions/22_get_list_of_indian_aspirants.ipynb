{
 "cells": [
  {
   "cell_type": "markdown",
   "id": "48a11368",
   "metadata": {},
   "source": [
    "## Get list of Indian Aspirants\n",
    "\n",
    "Develop a function which gives list of Indian Aspirants.\n",
    "* Location of the data: **data/python_assessments/aspirants.csv**.\n",
    "* Each line in the file is a record and each record have data related to multiple attributes.\n",
    "* Data related to attributes in each record are separated or delimieted by **\\t**.\n",
    "* Develop a function which does the following.\n",
    "  * It should take 2 arguments, file path and the country\n",
    "  * Read the data from the file.\n",
    "  * Filter the data based on the country passed.\n",
    "  * Function should return the list of aspirants who are based out of India.\n",
    "  * Data should be sorted in descending order by Rating and then in ascending order by name.\n",
    "\n",
    "**Restrictions: You should only use loops or first class functions such as map, filter etc. You can also use csv library to deal with delimited data. Do not use Pandas.**"
   ]
  },
  {
   "cell_type": "markdown",
   "id": "0d217130",
   "metadata": {},
   "source": [
    "### Step 1: Preview the data\n",
    "\n",
    "Let us first preview the data."
   ]
  },
  {
   "cell_type": "code",
   "execution_count": 1,
   "id": "432382c2",
   "metadata": {},
   "outputs": [
    {
     "name": "stdout",
     "output_type": "stream",
     "text": [
      "-rw-r--r-- 1 itversity itversity 11318 Jul 28 14:41 data/python_assessments/aspirants.csv\n"
     ]
    }
   ],
   "source": [
    "!ls -ltr data/python_assessments/aspirants.csv"
   ]
  },
  {
   "cell_type": "code",
   "execution_count": 2,
   "id": "e5db9b75",
   "metadata": {},
   "outputs": [
    {
     "name": "stdout",
     "output_type": "stream",
     "text": [
      "Name\tReason\tCurrent Status\tPython Rating\tScheduled Date\tCurrent Country\n",
      "Pardha Saradhi\tTo be part of ITVersity Professionals Database to work on paid part-time opportunities\tExperienced Professionals (10+ years of experience)\t3\t7/31/2021\tIndia\n",
      "Asasri\tSelf assess to understand where I stand in Python\tFreshers or recent year pass outs looking for entry level jobs\t2\t8/10/2021\tIndia\n",
      "Sai Akshith\tSelf assess to understand where I stand in Python, Technical Screening Preparation (tests as well as interviews), To be part of ITVersity Professionals Database to work on paid part-time opportunities\tEntry level professional (less than 2 years of experience)\t3\t7/30/2021\tIndia\n",
      "Anmol\tSelf assess to understand where I stand in Python, To be part of ITVersity Professionals Database to work on paid part-time opportunities\tExperienced Professionals (2 to 5 years of experience)\t2\t7/25/2021\tIndia\n",
      "Shravan\tSelf assess to understand where I stand in Python, Technical Screening Preparation (tests as well as interviews)\tExperienced Professionals (2 to 5 years of experience)\t1\t7/28/2021\tIndia\n",
      "Aditya\tSelf assess to understand where I stand in Python, Technical Screening Preparation (tests as well as interviews), Placement Assistance for full time opportunities, To be part of ITVersity Professionals Database to work on paid part-time opportunities\tExperienced Professionals (5 to 10 years of experience)\t1\t7/31/2021\tUSA\n",
      "Prasanth \tSelf assess to understand where I stand in Python\tExperienced Professionals (10+ years of experience)\t2\t8/14/2021\tUSA\n",
      "Sahana\tSelf assess to understand where I stand in Python, Placement Assistance for full time opportunities\tEntry level professional (less than 2 years of experience)\t4\t7/26/2021\tIndia\n",
      "Surendranatha Reddy\tSelf assess to understand where I stand in Python, To be part of ITVersity Professionals Database to work on paid part-time opportunities\tExperienced Professionals (5 to 10 years of experience)\t4\t7/25/2021\tIndia\n"
     ]
    }
   ],
   "source": [
    "!head data/python_assessments/aspirants.csv"
   ]
  },
  {
   "cell_type": "code",
   "execution_count": 3,
   "id": "7e4b8921",
   "metadata": {},
   "outputs": [
    {
     "name": "stdout",
     "output_type": "stream",
     "text": [
      "50 data/python_assessments/aspirants.csv\n"
     ]
    }
   ],
   "source": [
    "!wc -l data/python_assessments/aspirants.csv"
   ]
  },
  {
   "cell_type": "markdown",
   "id": "33ab9e55",
   "metadata": {},
   "source": [
    "### Step 2: Provide the solution\n",
    "\n",
    "Now come up with the solution by developing the required logic. Once the function is developed, go to the next step to take care of the validation."
   ]
  },
  {
   "cell_type": "code",
   "execution_count": 5,
   "id": "075bc48f",
   "metadata": {},
   "outputs": [],
   "source": [
    "def get_aspirants_by_country(file_path, country):\n",
    "    aspirants_by_country = sorted(\n",
    "        filter(lambda aspirant: aspirant.split('\\t')[-1] == 'India', open(file_path).read().splitlines()[1:]),\n",
    "        key=lambda aspirant: (-int(aspirant.split('\\t')[-3]), aspirant.split('\\t')[0])\n",
    "    )\n",
    "    return aspirants_by_country"
   ]
  },
  {
   "cell_type": "markdown",
   "id": "19038031",
   "metadata": {},
   "source": [
    "### Step 3: Validate the function\n",
    "\n",
    "Let us validate the function by running below cells.\n",
    "* Here is the expected output.\n",
    "\n",
    "```python\n",
    "['Avin\\tSelf assess to understand where I stand in Python, Technical Screening Preparation (tests as well as interviews)\\tEntry level professional (less than 2 years of experience)\\t5\\t7/31/2021\\tIndia',\n",
    " 'Astanaditta\\tTo be part of ITVersity Professionals Database to work on paid part-time opportunities\\tExperienced Professionals (10+ years of experience)\\t4\\t8/8/2021\\tIndia',\n",
    " 'Ayush\\tSelf assess to understand where I stand in Python, To be part of ITVersity Professionals Database to work on paid part-time opportunities\\tExperienced Professionals (2 to 5 years of experience)\\t4\\t8/8/2021\\tIndia',\n",
    " 'Harish\\tPlacement Assistance for full time opportunities, To be part of ITVersity Professionals Database to work on paid part-time opportunities\\tEntry level professional (less than 2 years of experience)\\t4\\t7/25/2021\\tIndia',\n",
    " 'Kaustubh\\tSelf assess to understand where I stand in Python, Technical Screening Preparation (tests as well as interviews), Placement Assistance for full time opportunities, To be part of ITVersity Professionals Database to work on paid part-time opportunities\\tFreshers or recent year pass outs looking for entry level jobs\\t4\\t7/27/2021\\tIndia',\n",
    " 'Riyaz Ali\\tSelf assess to understand where I stand in Python, Technical Screening Preparation (tests as well as interviews), Placement Assistance for full time opportunities, To be part of ITVersity Professionals Database to work on paid part-time opportunities\\tExperienced Professionals (2 to 5 years of experience)\\t4\\t8/7/2021\\tIndia',\n",
    " 'Sahana\\tSelf assess to understand where I stand in Python, Placement Assistance for full time opportunities\\tEntry level professional (less than 2 years of experience)\\t4\\t7/26/2021\\tIndia',\n",
    " 'Sudhir\\tTechnical Screening Preparation (tests as well as interviews), Placement Assistance for full time opportunities, To be part of ITVersity Professionals Database to work on paid part-time opportunities\\tEntry level professional (less than 2 years of experience)\\t4\\t7/25/2021\\tIndia',\n",
    " 'Surendranatha Reddy\\tSelf assess to understand where I stand in Python, To be part of ITVersity Professionals Database to work on paid part-time opportunities\\tExperienced Professionals (5 to 10 years of experience)\\t4\\t7/25/2021\\tIndia',\n",
    " 'Vittal\\tSelf assess to understand where I stand in Python, Technical Screening Preparation (tests as well as interviews), Placement Assistance for full time opportunities, To be part of ITVersity Professionals Database to work on paid part-time opportunities\\tI am having 4 years experiences in Project Support Engineer Profile\\t4\\t7/31/2021\\tIndia',\n",
    " 'Arpita\\tSelf assess to understand where I stand in Python, Technical Screening Preparation (tests as well as interviews), Placement Assistance for full time opportunities\\tFreshers or recent year pass outs looking for entry level jobs\\t3\\t8/22/2021\\tIndia',\n",
    " 'Gopi\\tPlacement Assistance for full time opportunities, To be part of ITVersity Professionals Database to work on paid part-time opportunities\\tFreshers or recent year pass outs looking for entry level jobs\\t3\\t8/14/2021\\tIndia',\n",
    " 'Harpal\\tSelf assess to understand where I stand in Python, Technical Screening Preparation (tests as well as interviews), Placement Assistance for full time opportunities, To be part of ITVersity Professionals Database to work on paid part-time opportunities\\tExperienced Professionals (2 to 5 years of experience)\\t3\\t7/31/2021\\tIndia',\n",
    " 'Katla\\tPlacement Assistance for full time opportunities, To be part of ITVersity Professionals Database to work on paid part-time opportunities\\tFreshers or recent year pass outs looking for entry level jobs\\t3\\t7/25/2021\\tIndia',\n",
    " 'LAXMI MANOHAR REDDY\\tSelf assess to understand where I stand in Python, Technical Screening Preparation (tests as well as interviews), To be part of ITVersity Professionals Database to work on paid part-time opportunities\\tExperienced Professionals (2 to 5 years of experience)\\t3\\t8/14/2021\\tIndia',\n",
    " 'Madhushree\\tSelf assess to understand where I stand in Python, Technical Screening Preparation (tests as well as interviews), Placement Assistance for full time opportunities, To be part of ITVersity Professionals Database to work on paid part-time opportunities\\tExperienced Professionals (2 to 5 years of experience)\\t3\\t7/24/2021\\tIndia',\n",
    " 'Manivannan\\tTo be part of ITVersity Professionals Database to work on paid part-time opportunities\\tFreshers or recent year pass outs looking for entry level jobs\\t3\\t7/26/2021\\tIndia',\n",
    " 'Mayank\\tSelf assess to understand where I stand in Python, Placement Assistance for full time opportunities, To be part of ITVersity Professionals Database to work on paid part-time opportunities\\tExperienced Professionals (5 to 10 years of experience)\\t3\\t8/1/2021\\tIndia',\n",
    " 'Mohan\\tSelf assess to understand where I stand in Python\\tExperienced Professionals (5 to 10 years of experience)\\t3\\t7/30/2021\\tIndia',\n",
    " 'Nikita\\tPlacement Assistance for full time opportunities\\tFreshers or recent year pass outs looking for entry level jobs\\t3\\t7/31/2021\\tIndia',\n",
    " 'Pardha Saradhi\\tTo be part of ITVersity Professionals Database to work on paid part-time opportunities\\tExperienced Professionals (10+ years of experience)\\t3\\t7/31/2021\\tIndia',\n",
    " 'R\\tSelf assess to understand where I stand in Python, Technical Screening Preparation (tests as well as interviews), Placement Assistance for full time opportunities\\tFreshers or recent year pass outs looking for entry level jobs\\t3\\t8/8/2021\\tIndia',\n",
    " 'R shiva kumar\\tPlacement Assistance for full time opportunities\\tEntry level professional (less than 2 years of experience)\\t3\\t8/1/2021\\tIndia',\n",
    " 'Ritobhas \\tSelf assess to understand where I stand in Python, Placement Assistance for full time opportunities\\tEntry level professional (less than 2 years of experience)\\t3\\t7/29/2021\\tIndia',\n",
    " 'SACHCHIDANAND\\tSelf assess to understand where I stand in Python, Placement Assistance for full time opportunities\\tExperienced Professionals (2 to 5 years of experience)\\t3\\t8/18/2021\\tIndia',\n",
    " 'Sai\\tSelf assess to understand where I stand in Python, Technical Screening Preparation (tests as well as interviews), Placement Assistance for full time opportunities\\tExperienced Professionals (2 to 5 years of experience)\\t3\\t8/1/2021\\tIndia',\n",
    " 'Sai Akshith\\tSelf assess to understand where I stand in Python, Technical Screening Preparation (tests as well as interviews), To be part of ITVersity Professionals Database to work on paid part-time opportunities\\tEntry level professional (less than 2 years of experience)\\t3\\t7/30/2021\\tIndia',\n",
    " 'Subhayan\\tSelf assess to understand where I stand in Python, Technical Screening Preparation (tests as well as interviews), To be part of ITVersity Professionals Database to work on paid part-time opportunities\\tExperienced Professionals (2 to 5 years of experience)\\t3\\t8/2/2021\\tIndia',\n",
    " 'Suraj\\tTechnical Screening Preparation (tests as well as interviews), Placement Assistance for full time opportunities, To be part of ITVersity Professionals Database to work on paid part-time opportunities\\tFreshers or recent year pass outs looking for entry level jobs\\t3\\t7/5/2021\\tIndia',\n",
    " 'Vishnu\\tSelf assess to understand where I stand in Python, To be part of ITVersity Professionals Database to work on paid part-time opportunities\\tExperienced Professionals (5 to 10 years of experience)\\t3\\t7/26/2021\\tIndia',\n",
    " 'Yuvraj\\tSelf assess to understand where I stand in Python, Technical Screening Preparation (tests as well as interviews)\\tExperienced Professionals (5 to 10 years of experience)\\t3\\t7/25/2021\\tIndia',\n",
    " 'Anmol\\tSelf assess to understand where I stand in Python, To be part of ITVersity Professionals Database to work on paid part-time opportunities\\tExperienced Professionals (2 to 5 years of experience)\\t2\\t7/25/2021\\tIndia',\n",
    " 'Anusha\\tSelf assess to understand where I stand in Python, Technical Screening Preparation (tests as well as interviews), To be part of ITVersity Professionals Database to work on paid part-time opportunities\\tExperienced Professionals (2 to 5 years of experience)\\t2\\t8/8/2021\\tIndia',\n",
    " 'Asasri\\tSelf assess to understand where I stand in Python\\tFreshers or recent year pass outs looking for entry level jobs\\t2\\t8/10/2021\\tIndia',\n",
    " 'Harsha \\tSelf assess to understand where I stand in Python\\tExperienced Professionals (5 to 10 years of experience)\\t2\\t7/24/2021\\tIndia',\n",
    " 'Puja \\tSelf assess to understand where I stand in Python\\tExperienced Professionals (2 to 5 years of experience)\\t1\\t8/18/2021\\tIndia',\n",
    " 'Sanjay\\tPlacement Assistance for full time opportunities, To be part of ITVersity Professionals Database to work on paid part-time opportunities\\tExperienced Professionals (2 to 5 years of experience)\\t1\\t8/22/2021\\tIndia',\n",
    " 'Shravan\\tSelf assess to understand where I stand in Python, Technical Screening Preparation (tests as well as interviews)\\tExperienced Professionals (2 to 5 years of experience)\\t1\\t7/28/2021\\tIndia']\n",
    "```"
   ]
  },
  {
   "cell_type": "code",
   "execution_count": 7,
   "id": "5e8b6662",
   "metadata": {},
   "outputs": [
    {
     "data": {
      "text/plain": [
       "['Avin\\tSelf assess to understand where I stand in Python, Technical Screening Preparation (tests as well as interviews)\\tEntry level professional (less than 2 years of experience)\\t5\\t7/31/2021\\tIndia',\n",
       " 'Astanaditta\\tTo be part of ITVersity Professionals Database to work on paid part-time opportunities\\tExperienced Professionals (10+ years of experience)\\t4\\t8/8/2021\\tIndia',\n",
       " 'Ayush\\tSelf assess to understand where I stand in Python, To be part of ITVersity Professionals Database to work on paid part-time opportunities\\tExperienced Professionals (2 to 5 years of experience)\\t4\\t8/8/2021\\tIndia',\n",
       " 'Harish\\tPlacement Assistance for full time opportunities, To be part of ITVersity Professionals Database to work on paid part-time opportunities\\tEntry level professional (less than 2 years of experience)\\t4\\t7/25/2021\\tIndia',\n",
       " 'Kaustubh\\tSelf assess to understand where I stand in Python, Technical Screening Preparation (tests as well as interviews), Placement Assistance for full time opportunities, To be part of ITVersity Professionals Database to work on paid part-time opportunities\\tFreshers or recent year pass outs looking for entry level jobs\\t4\\t7/27/2021\\tIndia',\n",
       " 'Riyaz Ali\\tSelf assess to understand where I stand in Python, Technical Screening Preparation (tests as well as interviews), Placement Assistance for full time opportunities, To be part of ITVersity Professionals Database to work on paid part-time opportunities\\tExperienced Professionals (2 to 5 years of experience)\\t4\\t8/7/2021\\tIndia',\n",
       " 'Sahana\\tSelf assess to understand where I stand in Python, Placement Assistance for full time opportunities\\tEntry level professional (less than 2 years of experience)\\t4\\t7/26/2021\\tIndia',\n",
       " 'Sudhir\\tTechnical Screening Preparation (tests as well as interviews), Placement Assistance for full time opportunities, To be part of ITVersity Professionals Database to work on paid part-time opportunities\\tEntry level professional (less than 2 years of experience)\\t4\\t7/25/2021\\tIndia',\n",
       " 'Surendranatha Reddy\\tSelf assess to understand where I stand in Python, To be part of ITVersity Professionals Database to work on paid part-time opportunities\\tExperienced Professionals (5 to 10 years of experience)\\t4\\t7/25/2021\\tIndia',\n",
       " 'Vittal\\tSelf assess to understand where I stand in Python, Technical Screening Preparation (tests as well as interviews), Placement Assistance for full time opportunities, To be part of ITVersity Professionals Database to work on paid part-time opportunities\\tI am having 4 years experiences in Project Support Engineer Profile\\t4\\t7/31/2021\\tIndia',\n",
       " 'Arpita\\tSelf assess to understand where I stand in Python, Technical Screening Preparation (tests as well as interviews), Placement Assistance for full time opportunities\\tFreshers or recent year pass outs looking for entry level jobs\\t3\\t8/22/2021\\tIndia',\n",
       " 'Gopi\\tPlacement Assistance for full time opportunities, To be part of ITVersity Professionals Database to work on paid part-time opportunities\\tFreshers or recent year pass outs looking for entry level jobs\\t3\\t8/14/2021\\tIndia',\n",
       " 'Harpal\\tSelf assess to understand where I stand in Python, Technical Screening Preparation (tests as well as interviews), Placement Assistance for full time opportunities, To be part of ITVersity Professionals Database to work on paid part-time opportunities\\tExperienced Professionals (2 to 5 years of experience)\\t3\\t7/31/2021\\tIndia',\n",
       " 'Katla\\tPlacement Assistance for full time opportunities, To be part of ITVersity Professionals Database to work on paid part-time opportunities\\tFreshers or recent year pass outs looking for entry level jobs\\t3\\t7/25/2021\\tIndia',\n",
       " 'LAXMI MANOHAR REDDY\\tSelf assess to understand where I stand in Python, Technical Screening Preparation (tests as well as interviews), To be part of ITVersity Professionals Database to work on paid part-time opportunities\\tExperienced Professionals (2 to 5 years of experience)\\t3\\t8/14/2021\\tIndia',\n",
       " 'Madhushree\\tSelf assess to understand where I stand in Python, Technical Screening Preparation (tests as well as interviews), Placement Assistance for full time opportunities, To be part of ITVersity Professionals Database to work on paid part-time opportunities\\tExperienced Professionals (2 to 5 years of experience)\\t3\\t7/24/2021\\tIndia',\n",
       " 'Manivannan\\tTo be part of ITVersity Professionals Database to work on paid part-time opportunities\\tFreshers or recent year pass outs looking for entry level jobs\\t3\\t7/26/2021\\tIndia',\n",
       " 'Mayank\\tSelf assess to understand where I stand in Python, Placement Assistance for full time opportunities, To be part of ITVersity Professionals Database to work on paid part-time opportunities\\tExperienced Professionals (5 to 10 years of experience)\\t3\\t8/1/2021\\tIndia',\n",
       " 'Mohan\\tSelf assess to understand where I stand in Python\\tExperienced Professionals (5 to 10 years of experience)\\t3\\t7/30/2021\\tIndia',\n",
       " 'Nikita\\tPlacement Assistance for full time opportunities\\tFreshers or recent year pass outs looking for entry level jobs\\t3\\t7/31/2021\\tIndia',\n",
       " 'Pardha Saradhi\\tTo be part of ITVersity Professionals Database to work on paid part-time opportunities\\tExperienced Professionals (10+ years of experience)\\t3\\t7/31/2021\\tIndia',\n",
       " 'R\\tSelf assess to understand where I stand in Python, Technical Screening Preparation (tests as well as interviews), Placement Assistance for full time opportunities\\tFreshers or recent year pass outs looking for entry level jobs\\t3\\t8/8/2021\\tIndia',\n",
       " 'R shiva kumar\\tPlacement Assistance for full time opportunities\\tEntry level professional (less than 2 years of experience)\\t3\\t8/1/2021\\tIndia',\n",
       " 'Ritobhas \\tSelf assess to understand where I stand in Python, Placement Assistance for full time opportunities\\tEntry level professional (less than 2 years of experience)\\t3\\t7/29/2021\\tIndia',\n",
       " 'SACHCHIDANAND\\tSelf assess to understand where I stand in Python, Placement Assistance for full time opportunities\\tExperienced Professionals (2 to 5 years of experience)\\t3\\t8/18/2021\\tIndia',\n",
       " 'Sai\\tSelf assess to understand where I stand in Python, Technical Screening Preparation (tests as well as interviews), Placement Assistance for full time opportunities\\tExperienced Professionals (2 to 5 years of experience)\\t3\\t8/1/2021\\tIndia',\n",
       " 'Sai Akshith\\tSelf assess to understand where I stand in Python, Technical Screening Preparation (tests as well as interviews), To be part of ITVersity Professionals Database to work on paid part-time opportunities\\tEntry level professional (less than 2 years of experience)\\t3\\t7/30/2021\\tIndia',\n",
       " 'Subhayan\\tSelf assess to understand where I stand in Python, Technical Screening Preparation (tests as well as interviews), To be part of ITVersity Professionals Database to work on paid part-time opportunities\\tExperienced Professionals (2 to 5 years of experience)\\t3\\t8/2/2021\\tIndia',\n",
       " 'Suraj\\tTechnical Screening Preparation (tests as well as interviews), Placement Assistance for full time opportunities, To be part of ITVersity Professionals Database to work on paid part-time opportunities\\tFreshers or recent year pass outs looking for entry level jobs\\t3\\t7/5/2021\\tIndia',\n",
       " 'Vishnu\\tSelf assess to understand where I stand in Python, To be part of ITVersity Professionals Database to work on paid part-time opportunities\\tExperienced Professionals (5 to 10 years of experience)\\t3\\t7/26/2021\\tIndia',\n",
       " 'Yuvraj\\tSelf assess to understand where I stand in Python, Technical Screening Preparation (tests as well as interviews)\\tExperienced Professionals (5 to 10 years of experience)\\t3\\t7/25/2021\\tIndia',\n",
       " 'Anmol\\tSelf assess to understand where I stand in Python, To be part of ITVersity Professionals Database to work on paid part-time opportunities\\tExperienced Professionals (2 to 5 years of experience)\\t2\\t7/25/2021\\tIndia',\n",
       " 'Anusha\\tSelf assess to understand where I stand in Python, Technical Screening Preparation (tests as well as interviews), To be part of ITVersity Professionals Database to work on paid part-time opportunities\\tExperienced Professionals (2 to 5 years of experience)\\t2\\t8/8/2021\\tIndia',\n",
       " 'Asasri\\tSelf assess to understand where I stand in Python\\tFreshers or recent year pass outs looking for entry level jobs\\t2\\t8/10/2021\\tIndia',\n",
       " 'Harsha \\tSelf assess to understand where I stand in Python\\tExperienced Professionals (5 to 10 years of experience)\\t2\\t7/24/2021\\tIndia',\n",
       " 'Puja \\tSelf assess to understand where I stand in Python\\tExperienced Professionals (2 to 5 years of experience)\\t1\\t8/18/2021\\tIndia',\n",
       " 'Sanjay\\tPlacement Assistance for full time opportunities, To be part of ITVersity Professionals Database to work on paid part-time opportunities\\tExperienced Professionals (2 to 5 years of experience)\\t1\\t8/22/2021\\tIndia',\n",
       " 'Shravan\\tSelf assess to understand where I stand in Python, Technical Screening Preparation (tests as well as interviews)\\tExperienced Professionals (2 to 5 years of experience)\\t1\\t7/28/2021\\tIndia']"
      ]
     },
     "execution_count": 7,
     "metadata": {},
     "output_type": "execute_result"
    }
   ],
   "source": [
    "aspirants_by_country = get_aspirants_by_country('data/python_assessments/aspirants.csv', 'India')\n",
    "aspirants_by_country"
   ]
  },
  {
   "cell_type": "code",
   "execution_count": 8,
   "id": "84941350",
   "metadata": {},
   "outputs": [
    {
     "data": {
      "text/plain": [
       "38"
      ]
     },
     "execution_count": 8,
     "metadata": {},
     "output_type": "execute_result"
    }
   ],
   "source": [
    "len(aspirants_by_country) # 38"
   ]
  },
  {
   "cell_type": "code",
   "execution_count": 9,
   "id": "9d71bb12",
   "metadata": {},
   "outputs": [
    {
     "data": {
      "text/plain": [
       "list"
      ]
     },
     "execution_count": 9,
     "metadata": {},
     "output_type": "execute_result"
    }
   ],
   "source": [
    "type(aspirants_by_country) # list"
   ]
  },
  {
   "cell_type": "code",
   "execution_count": 10,
   "id": "266174b7",
   "metadata": {},
   "outputs": [
    {
     "data": {
      "text/plain": [
       "str"
      ]
     },
     "execution_count": 10,
     "metadata": {},
     "output_type": "execute_result"
    }
   ],
   "source": [
    "type(aspirants_by_country[0]) # str"
   ]
  },
  {
   "cell_type": "code",
   "execution_count": 11,
   "id": "19b35ffb",
   "metadata": {},
   "outputs": [
    {
     "name": "stdout",
     "output_type": "stream",
     "text": [
      "Avin\tSelf assess to understand where I stand in Python, Technical Screening Preparation (tests as well as interviews)\tEntry level professional (less than 2 years of experience)\t5\t7/31/2021\tIndia\n"
     ]
    }
   ],
   "source": [
    "print(aspirants_by_country[0]) # Avin\tSelf assess to understand where I stand in Python, Technical Screening Preparation (tests as well as interviews)\tEntry level professional (less than 2 years of experience)\t5\t7/31/2021\tIndia"
   ]
  },
  {
   "cell_type": "code",
   "execution_count": null,
   "id": "cdcfb719",
   "metadata": {},
   "outputs": [],
   "source": []
  }
 ],
 "metadata": {
  "kernelspec": {
   "display_name": "Python 3",
   "language": "python",
   "name": "python3"
  },
  "language_info": {
   "codemirror_mode": {
    "name": "ipython",
    "version": 3
   },
   "file_extension": ".py",
   "mimetype": "text/x-python",
   "name": "python",
   "nbconvert_exporter": "python",
   "pygments_lexer": "ipython3",
   "version": "3.6.12"
  }
 },
 "nbformat": 4,
 "nbformat_minor": 5
}
