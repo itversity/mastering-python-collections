{
 "cells": [
  {
   "cell_type": "markdown",
   "id": "8646247c",
   "metadata": {},
   "source": [
    "## Get Unique Scheduled Dates\n",
    "\n",
    "Develop a function which gives list of unique scheduld dates.\n",
    "* Location of the data: **data/python_assessments/aspirants.csv**.\n",
    "* Each line in the file is a record and each record have data related to multiple attributes.\n",
    "* Data related to attributes in each record are separated or delimieted by **\\t**.\n",
    "* Develop a function which does the following.\n",
    "  * It should take one argument - file path.\n",
    "  * Read the data from the file.\n",
    "  * Return all the dates in ascending order by date. Dates should be sorted in chronological order.\n",
    "  * Each date should be in its original format but should be sorted in chronological order.\n",
    "\n",
    "**Restrictions: You should only use loops or first class functions such as map, filter etc. You can also use csv library to deal with delimited data. Do not use Pandas.**"
   ]
  },
  {
   "cell_type": "markdown",
   "id": "9379a9b9",
   "metadata": {},
   "source": [
    "### Step 1: Preview the data\n",
    "\n",
    "Let us first preview the data."
   ]
  },
  {
   "cell_type": "code",
   "execution_count": 6,
   "id": "485d4ace",
   "metadata": {},
   "outputs": [
    {
     "name": "stdout",
     "output_type": "stream",
     "text": [
      "-rw-r--r-- 1 itversity itversity 11318 Jul 28 14:41 data/python_assessments/aspirants.csv\n"
     ]
    }
   ],
   "source": [
    "!ls -ltr data/python_assessments/aspirants.csv"
   ]
  },
  {
   "cell_type": "code",
   "execution_count": 7,
   "id": "697e602d",
   "metadata": {},
   "outputs": [
    {
     "name": "stdout",
     "output_type": "stream",
     "text": [
      "Name\tReason\tCurrent Status\tPython Rating\tScheduled Date\tCurrent Country\n",
      "Pardha Saradhi\tTo be part of ITVersity Professionals Database to work on paid part-time opportunities\tExperienced Professionals (10+ years of experience)\t3\t7/31/2021\tIndia\n",
      "Asasri\tSelf assess to understand where I stand in Python\tFreshers or recent year pass outs looking for entry level jobs\t2\t8/10/2021\tIndia\n",
      "Sai Akshith\tSelf assess to understand where I stand in Python, Technical Screening Preparation (tests as well as interviews), To be part of ITVersity Professionals Database to work on paid part-time opportunities\tEntry level professional (less than 2 years of experience)\t3\t7/30/2021\tIndia\n",
      "Anmol\tSelf assess to understand where I stand in Python, To be part of ITVersity Professionals Database to work on paid part-time opportunities\tExperienced Professionals (2 to 5 years of experience)\t2\t7/25/2021\tIndia\n",
      "Shravan\tSelf assess to understand where I stand in Python, Technical Screening Preparation (tests as well as interviews)\tExperienced Professionals (2 to 5 years of experience)\t1\t7/28/2021\tIndia\n",
      "Aditya\tSelf assess to understand where I stand in Python, Technical Screening Preparation (tests as well as interviews), Placement Assistance for full time opportunities, To be part of ITVersity Professionals Database to work on paid part-time opportunities\tExperienced Professionals (5 to 10 years of experience)\t1\t7/31/2021\tUSA\n",
      "Prasanth \tSelf assess to understand where I stand in Python\tExperienced Professionals (10+ years of experience)\t2\t8/14/2021\tUSA\n",
      "Sahana\tSelf assess to understand where I stand in Python, Placement Assistance for full time opportunities\tEntry level professional (less than 2 years of experience)\t4\t7/26/2021\tIndia\n",
      "Surendranatha Reddy\tSelf assess to understand where I stand in Python, To be part of ITVersity Professionals Database to work on paid part-time opportunities\tExperienced Professionals (5 to 10 years of experience)\t4\t7/25/2021\tIndia\n"
     ]
    }
   ],
   "source": [
    "!head data/python_assessments/aspirants.csv"
   ]
  },
  {
   "cell_type": "code",
   "execution_count": 8,
   "id": "752c9a97",
   "metadata": {},
   "outputs": [
    {
     "name": "stdout",
     "output_type": "stream",
     "text": [
      "50 data/python_assessments/aspirants.csv\n"
     ]
    }
   ],
   "source": [
    "!wc -l data/python_assessments/aspirants.csv"
   ]
  },
  {
   "cell_type": "markdown",
   "id": "d24b40c3",
   "metadata": {},
   "source": [
    "### Step 2: Provide the solution\n",
    "\n",
    "Now come up with the solution by developing the required logic. Once the function is developed, go to the next step to take care of the validation."
   ]
  },
  {
   "cell_type": "code",
   "execution_count": 11,
   "id": "19a99bf8",
   "metadata": {},
   "outputs": [],
   "source": [
    "import datetime\n",
    "def get_unique_dates(file_path):\n",
    "    unique_dates = sorted(\n",
    "        set(\n",
    "            map(\n",
    "                lambda aspirant: aspirant.split('\\t')[-2], \n",
    "                open(file_path).read().splitlines()[1:]\n",
    "            )\n",
    "        ),\n",
    "        key=lambda scheduled_date: datetime.datetime.strptime(scheduled_date, '%m/%d/%Y')\n",
    "    )\n",
    "    return unique_dates"
   ]
  },
  {
   "cell_type": "markdown",
   "id": "3d90a28f",
   "metadata": {},
   "source": [
    "### Step 3: Validate the function\n",
    "\n",
    "Let us validate the function by running below cells.\n",
    "* Here is the expected output.\n",
    "\n",
    "```python\n",
    "['7/5/2021',\n",
    " '7/24/2021',\n",
    " '7/25/2021',\n",
    " '7/26/2021',\n",
    " '7/27/2021',\n",
    " '7/28/2021',\n",
    " '7/29/2021',\n",
    " '7/30/2021',\n",
    " '7/31/2021',\n",
    " '8/1/2021',\n",
    " '8/2/2021',\n",
    " '8/7/2021',\n",
    " '8/8/2021',\n",
    " '8/10/2021',\n",
    " '8/14/2021',\n",
    " '8/18/2021',\n",
    " '8/21/2021',\n",
    " '8/22/2021',\n",
    " '8/23/2021']\n",
    "```"
   ]
  },
  {
   "cell_type": "code",
   "execution_count": 12,
   "id": "ee99c23d",
   "metadata": {},
   "outputs": [
    {
     "data": {
      "text/plain": [
       "['7/5/2021',\n",
       " '7/24/2021',\n",
       " '7/25/2021',\n",
       " '7/26/2021',\n",
       " '7/27/2021',\n",
       " '7/28/2021',\n",
       " '7/29/2021',\n",
       " '7/30/2021',\n",
       " '7/31/2021',\n",
       " '8/1/2021',\n",
       " '8/2/2021',\n",
       " '8/7/2021',\n",
       " '8/8/2021',\n",
       " '8/10/2021',\n",
       " '8/14/2021',\n",
       " '8/18/2021',\n",
       " '8/21/2021',\n",
       " '8/22/2021',\n",
       " '8/23/2021']"
      ]
     },
     "execution_count": 12,
     "metadata": {},
     "output_type": "execute_result"
    }
   ],
   "source": [
    "unique_dates = get_unique_dates('data/python_assessments/aspirants.csv')\n",
    "unique_dates"
   ]
  },
  {
   "cell_type": "code",
   "execution_count": 13,
   "id": "41f080de",
   "metadata": {},
   "outputs": [
    {
     "data": {
      "text/plain": [
       "19"
      ]
     },
     "execution_count": 13,
     "metadata": {},
     "output_type": "execute_result"
    }
   ],
   "source": [
    "len(unique_dates) # 19"
   ]
  },
  {
   "cell_type": "code",
   "execution_count": 14,
   "id": "db21777d",
   "metadata": {},
   "outputs": [
    {
     "data": {
      "text/plain": [
       "list"
      ]
     },
     "execution_count": 14,
     "metadata": {},
     "output_type": "execute_result"
    }
   ],
   "source": [
    "type(unique_dates) # list"
   ]
  },
  {
   "cell_type": "code",
   "execution_count": 15,
   "id": "505e1022",
   "metadata": {},
   "outputs": [
    {
     "data": {
      "text/plain": [
       "str"
      ]
     },
     "execution_count": 15,
     "metadata": {},
     "output_type": "execute_result"
    }
   ],
   "source": [
    "type(unique_dates[0]) # str"
   ]
  },
  {
   "cell_type": "code",
   "execution_count": 16,
   "id": "e90842a5",
   "metadata": {},
   "outputs": [
    {
     "name": "stdout",
     "output_type": "stream",
     "text": [
      "7/5/2021\n"
     ]
    }
   ],
   "source": [
    "print(unique_dates[0]) # 7/5/2021"
   ]
  },
  {
   "cell_type": "code",
   "execution_count": null,
   "id": "a407d6ab",
   "metadata": {},
   "outputs": [],
   "source": []
  }
 ],
 "metadata": {
  "kernelspec": {
   "display_name": "Python 3",
   "language": "python",
   "name": "python3"
  },
  "language_info": {
   "codemirror_mode": {
    "name": "ipython",
    "version": 3
   },
   "file_extension": ".py",
   "mimetype": "text/x-python",
   "name": "python",
   "nbconvert_exporter": "python",
   "pygments_lexer": "ipython3",
   "version": "3.6.12"
  }
 },
 "nbformat": 4,
 "nbformat_minor": 5
}
