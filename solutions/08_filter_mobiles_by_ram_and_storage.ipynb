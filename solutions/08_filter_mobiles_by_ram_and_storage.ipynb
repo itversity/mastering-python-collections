{
 "cells": [
  {
   "cell_type": "markdown",
   "id": "6b312caf",
   "metadata": {},
   "source": [
    "## Filter for mobiles by RAM and Storage\n",
    "\n",
    "Develop a function to get mobile details for given specifications such as RAM and storage.\n",
    "* The input data will be given in list of dicts with mobile phone specifications.\n",
    "* The output should contains mobiles based up on the given ram and storage.\n",
    "* The function should take 3 arguments - list of mobile details, RAM as well as storage.\n",
    "* The output should be in form of list of dicts. It should be sorted in the ascending order by company followed by model."
   ]
  },
  {
   "cell_type": "code",
   "execution_count": 1,
   "id": "51d60e46",
   "metadata": {},
   "outputs": [],
   "source": [
    "mobile_details = [{'company': 'Apple',\n",
    "  'model': 'Iphone 12',\n",
    "  'ram': 4,\n",
    "  'storage': 256,\n",
    "  'os': 'iOS'},\n",
    " {'company': 'Xiaomi',\n",
    "  'model': 'Redmi 9',\n",
    "  'ram': 4,\n",
    "  'storage': 64,\n",
    "  'os': 'android'},\n",
    " {'company': 'One plus',\n",
    "  'model': 'One plus 9R',\n",
    "  'ram': 6,\n",
    "  'storage': 128,\n",
    "  'os': 'android'},\n",
    " {'company': 'Samsung',\n",
    "  'model': 'Galaxy M32',\n",
    "  'ram': 4,\n",
    "  'storage': 64,\n",
    "  'os': 'android'},\n",
    " {'company': 'Xiaomi',\n",
    "  'model': 'Redmi note 10 pro',\n",
    "  'ram': 8,\n",
    "  'storage': 128,\n",
    "  'os': 'android'},\n",
    " {'company': 'One plus',\n",
    "  'model': 'One plus Nord',\n",
    "  'ram': 4,\n",
    "  'storage': 128,\n",
    "  'os': 'android'},\n",
    " {'company': 'Apple',\n",
    "  'model': 'Iphone X',\n",
    "  'ram': 4,\n",
    "  'storage': 256,\n",
    "  'os': 'android'},\n",
    " {'company': 'Oppo',\n",
    "  'model': 'Oppo A31',\n",
    "  'ram': 4,\n",
    "  'storage': 64,\n",
    "  'os': 'iOS'}]"
   ]
  },
  {
   "cell_type": "markdown",
   "id": "5dee799e",
   "metadata": {},
   "source": [
    "### Step 1: Preview the data\n",
    "* Let us first preview the data."
   ]
  },
  {
   "cell_type": "code",
   "execution_count": 5,
   "id": "1bd6a59e",
   "metadata": {},
   "outputs": [
    {
     "data": {
      "text/plain": [
       "[{'company': 'Apple',\n",
       "  'model': 'Iphone 12',\n",
       "  'ram': 4,\n",
       "  'storage': 256,\n",
       "  'os': 'iOS'},\n",
       " {'company': 'Xiaomi',\n",
       "  'model': 'Redmi 9',\n",
       "  'ram': 4,\n",
       "  'storage': 64,\n",
       "  'os': 'android'},\n",
       " {'company': 'One plus',\n",
       "  'model': 'One plus 9R',\n",
       "  'ram': 6,\n",
       "  'storage': 128,\n",
       "  'os': 'android'},\n",
       " {'company': 'Samsung',\n",
       "  'model': 'Galaxy M32',\n",
       "  'ram': 4,\n",
       "  'storage': 64,\n",
       "  'os': 'android'},\n",
       " {'company': 'Xiaomi',\n",
       "  'model': 'Redmi note 10 pro',\n",
       "  'ram': 8,\n",
       "  'storage': 128,\n",
       "  'os': 'android'},\n",
       " {'company': 'One plus',\n",
       "  'model': 'One plus Nord',\n",
       "  'ram': 4,\n",
       "  'storage': 128,\n",
       "  'os': 'android'},\n",
       " {'company': 'Apple',\n",
       "  'model': 'Iphone X',\n",
       "  'ram': 4,\n",
       "  'storage': 256,\n",
       "  'os': 'android'},\n",
       " {'company': 'Oppo',\n",
       "  'model': 'Oppo A31',\n",
       "  'ram': 4,\n",
       "  'storage': 64,\n",
       "  'os': 'iOS'}]"
      ]
     },
     "execution_count": 5,
     "metadata": {},
     "output_type": "execute_result"
    }
   ],
   "source": [
    "mobile_details"
   ]
  },
  {
   "cell_type": "code",
   "execution_count": 6,
   "id": "84ef2954",
   "metadata": {},
   "outputs": [
    {
     "data": {
      "text/plain": [
       "list"
      ]
     },
     "execution_count": 6,
     "metadata": {},
     "output_type": "execute_result"
    }
   ],
   "source": [
    "type(mobile_details)"
   ]
  },
  {
   "cell_type": "code",
   "execution_count": 7,
   "id": "e16e4b93",
   "metadata": {},
   "outputs": [
    {
     "data": {
      "text/plain": [
       "8"
      ]
     },
     "execution_count": 7,
     "metadata": {},
     "output_type": "execute_result"
    }
   ],
   "source": [
    "len(mobile_details)"
   ]
  },
  {
   "cell_type": "code",
   "execution_count": 8,
   "id": "a05e9201",
   "metadata": {},
   "outputs": [
    {
     "data": {
      "text/plain": [
       "{'company': 'Apple',\n",
       " 'model': 'Iphone 12',\n",
       " 'ram': 4,\n",
       " 'storage': 256,\n",
       " 'os': 'iOS'}"
      ]
     },
     "execution_count": 8,
     "metadata": {},
     "output_type": "execute_result"
    }
   ],
   "source": [
    "mobile_details[0]"
   ]
  },
  {
   "cell_type": "code",
   "execution_count": 9,
   "id": "53e74ce8",
   "metadata": {},
   "outputs": [
    {
     "data": {
      "text/plain": [
       "dict"
      ]
     },
     "execution_count": 9,
     "metadata": {},
     "output_type": "execute_result"
    }
   ],
   "source": [
    "type(mobile_details[0])"
   ]
  },
  {
   "cell_type": "code",
   "execution_count": 10,
   "id": "8b8132a3",
   "metadata": {},
   "outputs": [
    {
     "data": {
      "text/plain": [
       "5"
      ]
     },
     "execution_count": 10,
     "metadata": {},
     "output_type": "execute_result"
    }
   ],
   "source": [
    "len(mobile_details[0])"
   ]
  },
  {
   "cell_type": "markdown",
   "id": "3dabedc7",
   "metadata": {},
   "source": [
    "### Step 2: Provide the solution\n",
    "Now come up with the solution by developing the required logic. Once the function is developed, go to the next step to take care of the validation."
   ]
  },
  {
   "cell_type": "code",
   "execution_count": 11,
   "id": "a866e853",
   "metadata": {},
   "outputs": [],
   "source": [
    "def get_mobile_details(mobile_details, ram, storage):\n",
    "    # your code should go hers\n",
    "    mobiles_filtered = sorted(\n",
    "        filter(\n",
    "            lambda mobile: mobile['ram'] == ram and mobile['storage'] == storage,\n",
    "            mobile_details\n",
    "        ),\n",
    "        key=lambda mobile: (mobile['company'], mobile['model'])\n",
    "    )\n",
    "    return mobiles_filtered"
   ]
  },
  {
   "cell_type": "markdown",
   "id": "f00327d3",
   "metadata": {},
   "source": [
    "### Step 3: Validate the function\n",
    "\n",
    "Here is the expected output.\n",
    "\n",
    "```python\n",
    "[{'company': 'Oppo',\n",
    "  'model': 'Oppo A31',\n",
    "  'ram': 4,\n",
    "  'storage': 64,\n",
    "  'os': 'iOS'},\n",
    " {'company': 'Samsung',\n",
    "  'model': 'Galaxy M32',\n",
    "  'ram': 4,\n",
    "  'storage': 64,\n",
    "  'os': 'android'},\n",
    " {'company': 'Xiaomi',\n",
    "  'model': 'Redmi 9',\n",
    "  'ram': 4,\n",
    "  'storage': 64,\n",
    "  'os': 'android'}]\n",
    "```"
   ]
  },
  {
   "cell_type": "code",
   "execution_count": 17,
   "id": "d6ecf75c",
   "metadata": {},
   "outputs": [],
   "source": [
    "mobile_details = get_mobile_details(mobile_details, 4, 64)"
   ]
  },
  {
   "cell_type": "code",
   "execution_count": 18,
   "id": "d3ab5b92",
   "metadata": {},
   "outputs": [
    {
     "data": {
      "text/plain": [
       "[{'company': 'Oppo',\n",
       "  'model': 'Oppo A31',\n",
       "  'ram': 4,\n",
       "  'storage': 64,\n",
       "  'os': 'iOS'},\n",
       " {'company': 'Samsung',\n",
       "  'model': 'Galaxy M32',\n",
       "  'ram': 4,\n",
       "  'storage': 64,\n",
       "  'os': 'android'},\n",
       " {'company': 'Xiaomi',\n",
       "  'model': 'Redmi 9',\n",
       "  'ram': 4,\n",
       "  'storage': 64,\n",
       "  'os': 'android'}]"
      ]
     },
     "execution_count": 18,
     "metadata": {},
     "output_type": "execute_result"
    }
   ],
   "source": [
    "mobile_details"
   ]
  },
  {
   "cell_type": "code",
   "execution_count": 19,
   "id": "577da7d2",
   "metadata": {},
   "outputs": [
    {
     "data": {
      "text/plain": [
       "list"
      ]
     },
     "execution_count": 19,
     "metadata": {},
     "output_type": "execute_result"
    }
   ],
   "source": [
    "type(mobile_details) # list"
   ]
  },
  {
   "cell_type": "code",
   "execution_count": 20,
   "id": "9e23e875",
   "metadata": {},
   "outputs": [
    {
     "data": {
      "text/plain": [
       "3"
      ]
     },
     "execution_count": 20,
     "metadata": {},
     "output_type": "execute_result"
    }
   ],
   "source": [
    "len(mobile_details) # 3"
   ]
  },
  {
   "cell_type": "code",
   "execution_count": null,
   "id": "fb92f9f3",
   "metadata": {},
   "outputs": [],
   "source": []
  }
 ],
 "metadata": {
  "kernelspec": {
   "display_name": "Python 3",
   "language": "python",
   "name": "python3"
  },
  "language_info": {
   "codemirror_mode": {
    "name": "ipython",
    "version": 3
   },
   "file_extension": ".py",
   "mimetype": "text/x-python",
   "name": "python",
   "nbconvert_exporter": "python",
   "pygments_lexer": "ipython3",
   "version": "3.6.12"
  }
 },
 "nbformat": 4,
 "nbformat_minor": 5
}
