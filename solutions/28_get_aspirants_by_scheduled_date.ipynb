{
 "cells": [
  {
   "cell_type": "markdown",
   "id": "c42616d5",
   "metadata": {},
   "source": [
    "## Get Aspirants by Scheduled Date\n",
    "\n",
    "Develop a function which gives list of aspirants scheduled for a given date.\n",
    "* Location of the data: **data/python_assessments/aspirants.csv**.\n",
    "* Each line in the file is a record and each record have data related to multiple attributes.\n",
    "* Data related to attributes in each record are separated or delimieted by **\\t**.\n",
    "* Develop a function which does the following.\n",
    "  * It should take 2 arguments, file path and the scheduled date. The date passed should be in `%Y-%m-%d` format.\n",
    "  * Read the data from the file.\n",
    "  * Filter the data based on the scheduled date passed.\n",
    "  * Function should return the list of aspirants who have scheduled for a given date.\n",
    "  * The list should only contain Name, Rating, Country and Schedule Date in the form of tuples. The date in the output should be in `%Y-%m-%d` format\n",
    "  * Data should be sorted in ascending order by country and then in ascending order by name.\n",
    "\n",
    "**Restrictions: You should only use loops or first class functions such as map, filter etc. You can also use csv library to deal with delimited data. Do not use Pandas.**"
   ]
  },
  {
   "cell_type": "markdown",
   "id": "6e2c4d78",
   "metadata": {},
   "source": [
    "### Step 1: Preview the data\n",
    "\n",
    "Let us first preview the data."
   ]
  },
  {
   "cell_type": "code",
   "execution_count": 1,
   "id": "4e3165f7",
   "metadata": {},
   "outputs": [
    {
     "name": "stdout",
     "output_type": "stream",
     "text": [
      "-rw-r--r-- 1 itversity itversity 11318 Jul 28 14:41 data/python_assessments/aspirants.csv\n"
     ]
    }
   ],
   "source": [
    "!ls -ltr data/python_assessments/aspirants.csv"
   ]
  },
  {
   "cell_type": "code",
   "execution_count": 2,
   "id": "6318bf40",
   "metadata": {},
   "outputs": [
    {
     "name": "stdout",
     "output_type": "stream",
     "text": [
      "Name\tReason\tCurrent Status\tPython Rating\tScheduled Date\tCurrent Country\n",
      "Pardha Saradhi\tTo be part of ITVersity Professionals Database to work on paid part-time opportunities\tExperienced Professionals (10+ years of experience)\t3\t7/31/2021\tIndia\n",
      "Asasri\tSelf assess to understand where I stand in Python\tFreshers or recent year pass outs looking for entry level jobs\t2\t8/10/2021\tIndia\n",
      "Sai Akshith\tSelf assess to understand where I stand in Python, Technical Screening Preparation (tests as well as interviews), To be part of ITVersity Professionals Database to work on paid part-time opportunities\tEntry level professional (less than 2 years of experience)\t3\t7/30/2021\tIndia\n",
      "Anmol\tSelf assess to understand where I stand in Python, To be part of ITVersity Professionals Database to work on paid part-time opportunities\tExperienced Professionals (2 to 5 years of experience)\t2\t7/25/2021\tIndia\n",
      "Shravan\tSelf assess to understand where I stand in Python, Technical Screening Preparation (tests as well as interviews)\tExperienced Professionals (2 to 5 years of experience)\t1\t7/28/2021\tIndia\n",
      "Aditya\tSelf assess to understand where I stand in Python, Technical Screening Preparation (tests as well as interviews), Placement Assistance for full time opportunities, To be part of ITVersity Professionals Database to work on paid part-time opportunities\tExperienced Professionals (5 to 10 years of experience)\t1\t7/31/2021\tUSA\n",
      "Prasanth \tSelf assess to understand where I stand in Python\tExperienced Professionals (10+ years of experience)\t2\t8/14/2021\tUSA\n",
      "Sahana\tSelf assess to understand where I stand in Python, Placement Assistance for full time opportunities\tEntry level professional (less than 2 years of experience)\t4\t7/26/2021\tIndia\n",
      "Surendranatha Reddy\tSelf assess to understand where I stand in Python, To be part of ITVersity Professionals Database to work on paid part-time opportunities\tExperienced Professionals (5 to 10 years of experience)\t4\t7/25/2021\tIndia\n"
     ]
    }
   ],
   "source": [
    "!head data/python_assessments/aspirants.csv"
   ]
  },
  {
   "cell_type": "code",
   "execution_count": 3,
   "id": "e9fcba6d",
   "metadata": {},
   "outputs": [
    {
     "name": "stdout",
     "output_type": "stream",
     "text": [
      "50 data/python_assessments/aspirants.csv\n"
     ]
    }
   ],
   "source": [
    "!wc -l data/python_assessments/aspirants.csv"
   ]
  },
  {
   "cell_type": "markdown",
   "id": "91e688d4",
   "metadata": {},
   "source": [
    "### Step 2: Provide the solution\n",
    "\n",
    "Now come up with the solution by developing the required logic. Once the function is developed, go to the next step to take care of the validation."
   ]
  },
  {
   "cell_type": "code",
   "execution_count": 4,
   "id": "48d13f9c",
   "metadata": {},
   "outputs": [
    {
     "data": {
      "text/plain": [
       "['Name\\tReason\\tCurrent Status\\tPython Rating\\tScheduled Date\\tCurrent Country',\n",
       " 'Pardha Saradhi\\tTo be part of ITVersity Professionals Database to work on paid part-time opportunities\\tExperienced Professionals (10+ years of experience)\\t3\\t7/31/2021\\tIndia',\n",
       " 'Asasri\\tSelf assess to understand where I stand in Python\\tFreshers or recent year pass outs looking for entry level jobs\\t2\\t8/10/2021\\tIndia',\n",
       " 'Sai Akshith\\tSelf assess to understand where I stand in Python, Technical Screening Preparation (tests as well as interviews), To be part of ITVersity Professionals Database to work on paid part-time opportunities\\tEntry level professional (less than 2 years of experience)\\t3\\t7/30/2021\\tIndia',\n",
       " 'Anmol\\tSelf assess to understand where I stand in Python, To be part of ITVersity Professionals Database to work on paid part-time opportunities\\tExperienced Professionals (2 to 5 years of experience)\\t2\\t7/25/2021\\tIndia',\n",
       " 'Shravan\\tSelf assess to understand where I stand in Python, Technical Screening Preparation (tests as well as interviews)\\tExperienced Professionals (2 to 5 years of experience)\\t1\\t7/28/2021\\tIndia',\n",
       " 'Aditya\\tSelf assess to understand where I stand in Python, Technical Screening Preparation (tests as well as interviews), Placement Assistance for full time opportunities, To be part of ITVersity Professionals Database to work on paid part-time opportunities\\tExperienced Professionals (5 to 10 years of experience)\\t1\\t7/31/2021\\tUSA',\n",
       " 'Prasanth \\tSelf assess to understand where I stand in Python\\tExperienced Professionals (10+ years of experience)\\t2\\t8/14/2021\\tUSA',\n",
       " 'Sahana\\tSelf assess to understand where I stand in Python, Placement Assistance for full time opportunities\\tEntry level professional (less than 2 years of experience)\\t4\\t7/26/2021\\tIndia',\n",
       " 'Surendranatha Reddy\\tSelf assess to understand where I stand in Python, To be part of ITVersity Professionals Database to work on paid part-time opportunities\\tExperienced Professionals (5 to 10 years of experience)\\t4\\t7/25/2021\\tIndia',\n",
       " 'Venkat \\tSelf assess to understand where I stand in Python\\tExperienced Professionals (2 to 5 years of experience)\\t2\\t7/26/2021\\tUSA',\n",
       " 'Riyaz Ali\\tSelf assess to understand where I stand in Python, Technical Screening Preparation (tests as well as interviews), Placement Assistance for full time opportunities, To be part of ITVersity Professionals Database to work on paid part-time opportunities\\tExperienced Professionals (2 to 5 years of experience)\\t4\\t8/7/2021\\tIndia',\n",
       " 'Naga\\tSelf assess to understand where I stand in Python, Placement Assistance for full time opportunities\\tExperienced Professionals (2 to 5 years of experience)\\t1\\t8/21/2021\\tUSA',\n",
       " 'Jayakumar\\tSelf assess to understand where I stand in Python, Technical Screening Preparation (tests as well as interviews), Placement Assistance for full time opportunities, To be part of ITVersity Professionals Database to work on paid part-time opportunities\\tFreshers or recent year pass outs looking for entry level jobs\\t3\\t8/23/2021\\tUSA',\n",
       " 'R\\tSelf assess to understand where I stand in Python, Technical Screening Preparation (tests as well as interviews), Placement Assistance for full time opportunities\\tFreshers or recent year pass outs looking for entry level jobs\\t3\\t8/8/2021\\tIndia',\n",
       " 'Katla\\tPlacement Assistance for full time opportunities, To be part of ITVersity Professionals Database to work on paid part-time opportunities\\tFreshers or recent year pass outs looking for entry level jobs\\t3\\t7/25/2021\\tIndia',\n",
       " 'Puja \\tSelf assess to understand where I stand in Python\\tExperienced Professionals (2 to 5 years of experience)\\t1\\t8/18/2021\\tIndia',\n",
       " 'Tejus\\tSelf assess to understand where I stand in Python, Technical Screening Preparation (tests as well as interviews)\\tEntry level professional (less than 2 years of experience)\\t3\\t7/31/2021\\tUSA',\n",
       " 'SACHCHIDANAND\\tSelf assess to understand where I stand in Python, Placement Assistance for full time opportunities\\tExperienced Professionals (2 to 5 years of experience)\\t3\\t8/18/2021\\tIndia',\n",
       " 'Harpal\\tSelf assess to understand where I stand in Python, Technical Screening Preparation (tests as well as interviews), Placement Assistance for full time opportunities, To be part of ITVersity Professionals Database to work on paid part-time opportunities\\tExperienced Professionals (2 to 5 years of experience)\\t3\\t7/31/2021\\tIndia',\n",
       " 'Mohan\\tSelf assess to understand where I stand in Python\\tExperienced Professionals (5 to 10 years of experience)\\t3\\t7/30/2021\\tIndia',\n",
       " 'Gopi\\tPlacement Assistance for full time opportunities, To be part of ITVersity Professionals Database to work on paid part-time opportunities\\tFreshers or recent year pass outs looking for entry level jobs\\t3\\t8/14/2021\\tIndia',\n",
       " 'Subhayan\\tSelf assess to understand where I stand in Python, Technical Screening Preparation (tests as well as interviews), To be part of ITVersity Professionals Database to work on paid part-time opportunities\\tExperienced Professionals (2 to 5 years of experience)\\t3\\t8/2/2021\\tIndia',\n",
       " 'Vishnu\\tSelf assess to understand where I stand in Python, To be part of ITVersity Professionals Database to work on paid part-time opportunities\\tExperienced Professionals (5 to 10 years of experience)\\t3\\t7/26/2021\\tIndia',\n",
       " 'Yuvraj\\tSelf assess to understand where I stand in Python, Technical Screening Preparation (tests as well as interviews)\\tExperienced Professionals (5 to 10 years of experience)\\t3\\t7/25/2021\\tIndia',\n",
       " 'Harish\\tPlacement Assistance for full time opportunities, To be part of ITVersity Professionals Database to work on paid part-time opportunities\\tEntry level professional (less than 2 years of experience)\\t4\\t7/25/2021\\tIndia',\n",
       " 'Mayank\\tSelf assess to understand where I stand in Python, Placement Assistance for full time opportunities, To be part of ITVersity Professionals Database to work on paid part-time opportunities\\tExperienced Professionals (5 to 10 years of experience)\\t3\\t8/1/2021\\tIndia',\n",
       " 'Harsha \\tSelf assess to understand where I stand in Python\\tExperienced Professionals (5 to 10 years of experience)\\t2\\t7/24/2021\\tIndia',\n",
       " 'HIMANSU\\tSelf assess to understand where I stand in Python, Technical Screening Preparation (tests as well as interviews), To be part of ITVersity Professionals Database to work on paid part-time opportunities\\tExperienced Professionals (5 to 10 years of experience)\\t3\\t7/27/2021\\tUSA',\n",
       " 'Avin\\tSelf assess to understand where I stand in Python, Technical Screening Preparation (tests as well as interviews)\\tEntry level professional (less than 2 years of experience)\\t5\\t7/31/2021\\tIndia',\n",
       " 'Suraj\\tTechnical Screening Preparation (tests as well as interviews), Placement Assistance for full time opportunities, To be part of ITVersity Professionals Database to work on paid part-time opportunities\\tFreshers or recent year pass outs looking for entry level jobs\\t3\\t7/5/2021\\tIndia',\n",
       " 'RANJITH\\tTechnical Screening Preparation (tests as well as interviews)\\tExperienced Professionals (10+ years of experience)\\t3\\t7/26/2021\\tUSA',\n",
       " 'Madhushree\\tSelf assess to understand where I stand in Python, Technical Screening Preparation (tests as well as interviews), Placement Assistance for full time opportunities, To be part of ITVersity Professionals Database to work on paid part-time opportunities\\tExperienced Professionals (2 to 5 years of experience)\\t3\\t7/24/2021\\tIndia',\n",
       " 'Gagan\\tSelf assess to understand where I stand in Python\\tExperienced Professionals (5 to 10 years of experience)\\t3\\t7/31/2021\\tUSA',\n",
       " 'Sanjay\\tPlacement Assistance for full time opportunities, To be part of ITVersity Professionals Database to work on paid part-time opportunities\\tExperienced Professionals (2 to 5 years of experience)\\t1\\t8/22/2021\\tIndia',\n",
       " 'Priyash\\tTechnical Screening Preparation (tests as well as interviews), Placement Assistance for full time opportunities\\tExperienced Professionals (2 to 5 years of experience)\\t4\\t7/31/2021\\tUSA',\n",
       " 'R shiva kumar\\tPlacement Assistance for full time opportunities\\tEntry level professional (less than 2 years of experience)\\t3\\t8/1/2021\\tIndia',\n",
       " 'Kaustubh\\tSelf assess to understand where I stand in Python, Technical Screening Preparation (tests as well as interviews), Placement Assistance for full time opportunities, To be part of ITVersity Professionals Database to work on paid part-time opportunities\\tFreshers or recent year pass outs looking for entry level jobs\\t4\\t7/27/2021\\tIndia',\n",
       " 'Arpita\\tSelf assess to understand where I stand in Python, Technical Screening Preparation (tests as well as interviews), Placement Assistance for full time opportunities\\tFreshers or recent year pass outs looking for entry level jobs\\t3\\t8/22/2021\\tIndia',\n",
       " 'Sai\\tSelf assess to understand where I stand in Python, Technical Screening Preparation (tests as well as interviews), Placement Assistance for full time opportunities\\tExperienced Professionals (5 to 10 years of experience)\\t3\\t8/7/2021\\tUSA',\n",
       " 'Ayush\\tSelf assess to understand where I stand in Python, To be part of ITVersity Professionals Database to work on paid part-time opportunities\\tExperienced Professionals (2 to 5 years of experience)\\t4\\t8/8/2021\\tIndia',\n",
       " 'Ritobhas \\tSelf assess to understand where I stand in Python, Placement Assistance for full time opportunities\\tEntry level professional (less than 2 years of experience)\\t3\\t7/29/2021\\tIndia',\n",
       " 'Anusha\\tSelf assess to understand where I stand in Python, Technical Screening Preparation (tests as well as interviews), To be part of ITVersity Professionals Database to work on paid part-time opportunities\\tExperienced Professionals (2 to 5 years of experience)\\t2\\t8/8/2021\\tIndia',\n",
       " 'Nikita\\tPlacement Assistance for full time opportunities\\tFreshers or recent year pass outs looking for entry level jobs\\t3\\t7/31/2021\\tIndia',\n",
       " 'Vittal\\tSelf assess to understand where I stand in Python, Technical Screening Preparation (tests as well as interviews), Placement Assistance for full time opportunities, To be part of ITVersity Professionals Database to work on paid part-time opportunities\\tI am having 4 years experiences in Project Support Engineer Profile\\t4\\t7/31/2021\\tIndia',\n",
       " 'LAXMI MANOHAR REDDY\\tSelf assess to understand where I stand in Python, Technical Screening Preparation (tests as well as interviews), To be part of ITVersity Professionals Database to work on paid part-time opportunities\\tExperienced Professionals (2 to 5 years of experience)\\t3\\t8/14/2021\\tIndia',\n",
       " 'Cheikh \\tSelf assess to understand where I stand in Python, Technical Screening Preparation (tests as well as interviews), Placement Assistance for full time opportunities, To be part of ITVersity Professionals Database to work on paid part-time opportunities\\tEntry level professional (less than 2 years of experience)\\t3\\t8/1/2021\\tFrance ',\n",
       " 'Sudhir\\tTechnical Screening Preparation (tests as well as interviews), Placement Assistance for full time opportunities, To be part of ITVersity Professionals Database to work on paid part-time opportunities\\tEntry level professional (less than 2 years of experience)\\t4\\t7/25/2021\\tIndia',\n",
       " 'Sai\\tSelf assess to understand where I stand in Python, Technical Screening Preparation (tests as well as interviews), Placement Assistance for full time opportunities\\tExperienced Professionals (2 to 5 years of experience)\\t3\\t8/1/2021\\tIndia',\n",
       " 'Astanaditta\\tTo be part of ITVersity Professionals Database to work on paid part-time opportunities\\tExperienced Professionals (10+ years of experience)\\t4\\t8/8/2021\\tIndia',\n",
       " 'Manivannan\\tTo be part of ITVersity Professionals Database to work on paid part-time opportunities\\tFreshers or recent year pass outs looking for entry level jobs\\t3\\t7/26/2021\\tIndia']"
      ]
     },
     "execution_count": 4,
     "metadata": {},
     "output_type": "execute_result"
    }
   ],
   "source": [
    "open('data/python_assessments/aspirants.csv').read().splitlines()"
   ]
  },
  {
   "cell_type": "code",
   "execution_count": 5,
   "id": "8061414c",
   "metadata": {},
   "outputs": [
    {
     "data": {
      "text/plain": [
       "'Pardha Saradhi\\tTo be part of ITVersity Professionals Database to work on paid part-time opportunities\\tExperienced Professionals (10+ years of experience)\\t3\\t7/31/2021\\tIndia'"
      ]
     },
     "execution_count": 5,
     "metadata": {},
     "output_type": "execute_result"
    }
   ],
   "source": [
    "aspirants = open('data/python_assessments/aspirants.csv').read().splitlines()[1:]\n",
    "aspirant = aspirants[0]\n",
    "aspirant"
   ]
  },
  {
   "cell_type": "code",
   "execution_count": 6,
   "id": "87c3c972",
   "metadata": {},
   "outputs": [
    {
     "data": {
      "text/plain": [
       "'7/31/2021'"
      ]
     },
     "execution_count": 6,
     "metadata": {},
     "output_type": "execute_result"
    }
   ],
   "source": [
    "aspirant.split('\\t')[-2]"
   ]
  },
  {
   "cell_type": "code",
   "execution_count": 7,
   "id": "400eabb5",
   "metadata": {},
   "outputs": [
    {
     "data": {
      "text/plain": [
       "datetime.datetime(2021, 7, 31, 0, 0)"
      ]
     },
     "execution_count": 7,
     "metadata": {},
     "output_type": "execute_result"
    }
   ],
   "source": [
    "import datetime\n",
    "datetime.datetime.strptime(aspirant.split('\\t')[-2], '%m/%d/%Y')"
   ]
  },
  {
   "cell_type": "code",
   "execution_count": 8,
   "id": "8122336f",
   "metadata": {},
   "outputs": [
    {
     "data": {
      "text/plain": [
       "datetime.date(2021, 7, 31)"
      ]
     },
     "execution_count": 8,
     "metadata": {},
     "output_type": "execute_result"
    }
   ],
   "source": [
    "datetime.datetime.strptime(aspirant.split('\\t')[-2], '%m/%d/%Y').date()"
   ]
  },
  {
   "cell_type": "code",
   "execution_count": 9,
   "id": "9fc2a9e6",
   "metadata": {},
   "outputs": [
    {
     "data": {
      "text/plain": [
       "'2021-07-31'"
      ]
     },
     "execution_count": 9,
     "metadata": {},
     "output_type": "execute_result"
    }
   ],
   "source": [
    "str(datetime.datetime.strptime(aspirant.split('\\t')[-2], '%m/%d/%Y').date())"
   ]
  },
  {
   "cell_type": "code",
   "execution_count": 10,
   "id": "013d9d2e",
   "metadata": {},
   "outputs": [
    {
     "data": {
      "text/plain": [
       "True"
      ]
     },
     "execution_count": 10,
     "metadata": {},
     "output_type": "execute_result"
    }
   ],
   "source": [
    "str(datetime.datetime.strptime(aspirant.split('\\t')[-2], '%m/%d/%Y').date()) == '2021-07-31'"
   ]
  },
  {
   "cell_type": "code",
   "execution_count": 11,
   "id": "387c0c24",
   "metadata": {},
   "outputs": [
    {
     "data": {
      "text/plain": [
       "False"
      ]
     },
     "execution_count": 11,
     "metadata": {},
     "output_type": "execute_result"
    }
   ],
   "source": [
    "str(datetime.datetime.strptime(aspirant.split('\\t')[-2], '%m/%d/%Y').date()) == '2021-08-01'"
   ]
  },
  {
   "cell_type": "code",
   "execution_count": 12,
   "id": "af8cd400",
   "metadata": {},
   "outputs": [
    {
     "data": {
      "text/plain": [
       "['Mayank\\tSelf assess to understand where I stand in Python, Placement Assistance for full time opportunities, To be part of ITVersity Professionals Database to work on paid part-time opportunities\\tExperienced Professionals (5 to 10 years of experience)\\t3\\t8/1/2021\\tIndia',\n",
       " 'R shiva kumar\\tPlacement Assistance for full time opportunities\\tEntry level professional (less than 2 years of experience)\\t3\\t8/1/2021\\tIndia',\n",
       " 'Cheikh \\tSelf assess to understand where I stand in Python, Technical Screening Preparation (tests as well as interviews), Placement Assistance for full time opportunities, To be part of ITVersity Professionals Database to work on paid part-time opportunities\\tEntry level professional (less than 2 years of experience)\\t3\\t8/1/2021\\tFrance ',\n",
       " 'Sai\\tSelf assess to understand where I stand in Python, Technical Screening Preparation (tests as well as interviews), Placement Assistance for full time opportunities\\tExperienced Professionals (2 to 5 years of experience)\\t3\\t8/1/2021\\tIndia']"
      ]
     },
     "execution_count": 12,
     "metadata": {},
     "output_type": "execute_result"
    }
   ],
   "source": [
    "list(\n",
    "    filter(\n",
    "        lambda aspirant: str(datetime.datetime.strptime(aspirant.split('\\t')[-2], '%m/%d/%Y').date()) == '2021-08-01',\n",
    "        aspirants\n",
    "    )\n",
    ")"
   ]
  },
  {
   "cell_type": "code",
   "execution_count": 13,
   "id": "c63f63ed",
   "metadata": {},
   "outputs": [
    {
     "data": {
      "text/plain": [
       "[['Mayank', '3', '8/1/2021', 'India'],\n",
       " ['R shiva kumar', '3', '8/1/2021', 'India'],\n",
       " ['Cheikh ', '3', '8/1/2021', 'France '],\n",
       " ['Sai', '3', '8/1/2021', 'India']]"
      ]
     },
     "execution_count": 13,
     "metadata": {},
     "output_type": "execute_result"
    }
   ],
   "source": [
    "list(\n",
    "    map(\n",
    "        lambda aspirant: ([aspirant.split('\\t')[0]] + aspirant.split('\\t')[-3:]),\n",
    "        filter(\n",
    "            lambda aspirant: str(datetime.datetime.strptime(aspirant.split('\\t')[-2], '%m/%d/%Y').date()) == '2021-08-01',\n",
    "            aspirants\n",
    "        )\n",
    "    )\n",
    ")"
   ]
  },
  {
   "cell_type": "code",
   "execution_count": 14,
   "id": "b02b3333",
   "metadata": {},
   "outputs": [
    {
     "data": {
      "text/plain": [
       "[['Cheikh ', '3', '8/1/2021', 'France '],\n",
       " ['Mayank', '3', '8/1/2021', 'India'],\n",
       " ['R shiva kumar', '3', '8/1/2021', 'India'],\n",
       " ['Sai', '3', '8/1/2021', 'India']]"
      ]
     },
     "execution_count": 14,
     "metadata": {},
     "output_type": "execute_result"
    }
   ],
   "source": [
    "sorted(\n",
    "    map(\n",
    "        lambda aspirant: ([aspirant.split('\\t')[0]] + aspirant.split('\\t')[-3:]),\n",
    "        filter(\n",
    "            lambda aspirant: str(datetime.datetime.strptime(aspirant.split('\\t')[-2], '%m/%d/%Y').date()) == '2021-08-01',\n",
    "            aspirants\n",
    "        )\n",
    "    ),\n",
    "    key=lambda aspirant: (aspirant[-1], aspirant[0])\n",
    ")"
   ]
  },
  {
   "cell_type": "code",
   "execution_count": 15,
   "id": "41f56fc8",
   "metadata": {},
   "outputs": [],
   "source": [
    "def get_aspirants_by_scheduled_date(file_path, scheduled_date):\n",
    "    aspirants_by_scheduled_date = sorted(\n",
    "        map(\n",
    "            lambda aspirant: ([aspirant.split('\\t')[0]] + aspirant.split('\\t')[-3:]),\n",
    "            filter(\n",
    "                lambda aspirant: str(datetime.datetime.strptime(aspirant.split('\\t')[-2], '%m/%d/%Y').date()) == scheduled_date,\n",
    "                aspirants\n",
    "            )\n",
    "        ),\n",
    "        key=lambda aspirant: (aspirant[-1], aspirant[0])\n",
    "    )\n",
    "    return aspirants_by_scheduled_date"
   ]
  },
  {
   "cell_type": "markdown",
   "id": "950c65c0",
   "metadata": {},
   "source": [
    "### Step 3: Validate the function\n",
    "\n",
    "Let us validate the function by running below cells.\n",
    "* Here is the expected output.\n",
    "\n",
    "```python\n",
    "[('Cheikh ', 3, 'France ', '8/1/2021'),\n",
    " ('Mayank', 3, 'India', '8/1/2021'),\n",
    " ('R shiva kumar', 3, 'India', '8/1/2021'),\n",
    " ('Sai', 3, 'India', '8/1/2021')]\n",
    "```"
   ]
  },
  {
   "cell_type": "code",
   "execution_count": 16,
   "id": "34642f92",
   "metadata": {},
   "outputs": [
    {
     "data": {
      "text/plain": [
       "[['Cheikh ', '3', '8/1/2021', 'France '],\n",
       " ['Mayank', '3', '8/1/2021', 'India'],\n",
       " ['R shiva kumar', '3', '8/1/2021', 'India'],\n",
       " ['Sai', '3', '8/1/2021', 'India']]"
      ]
     },
     "execution_count": 16,
     "metadata": {},
     "output_type": "execute_result"
    }
   ],
   "source": [
    "aspirants_by_scheduled_date = get_aspirants_by_scheduled_date('data/python_assessments/aspirants.csv', '2021-08-01')\n",
    "aspirants_by_scheduled_date"
   ]
  },
  {
   "cell_type": "code",
   "execution_count": 17,
   "id": "7faf8876",
   "metadata": {},
   "outputs": [
    {
     "data": {
      "text/plain": [
       "4"
      ]
     },
     "execution_count": 17,
     "metadata": {},
     "output_type": "execute_result"
    }
   ],
   "source": [
    "len(aspirants_by_scheduled_date) # 4"
   ]
  },
  {
   "cell_type": "code",
   "execution_count": 18,
   "id": "4a509dd1",
   "metadata": {},
   "outputs": [
    {
     "data": {
      "text/plain": [
       "list"
      ]
     },
     "execution_count": 18,
     "metadata": {},
     "output_type": "execute_result"
    }
   ],
   "source": [
    "type(aspirants_by_scheduled_date) # list"
   ]
  },
  {
   "cell_type": "code",
   "execution_count": 19,
   "id": "712042fa",
   "metadata": {},
   "outputs": [
    {
     "data": {
      "text/plain": [
       "list"
      ]
     },
     "execution_count": 19,
     "metadata": {},
     "output_type": "execute_result"
    }
   ],
   "source": [
    "type(aspirants_by_scheduled_date[0]) # tuple"
   ]
  },
  {
   "cell_type": "code",
   "execution_count": 20,
   "id": "80137be6",
   "metadata": {},
   "outputs": [
    {
     "name": "stdout",
     "output_type": "stream",
     "text": [
      "['Cheikh ', '3', '8/1/2021', 'France ']\n"
     ]
    }
   ],
   "source": [
    "print(aspirants_by_scheduled_date[0]) # ('Cheikh ', 3, 'France ', '8/1/2021')"
   ]
  },
  {
   "cell_type": "code",
   "execution_count": null,
   "id": "354fd62e",
   "metadata": {},
   "outputs": [],
   "source": []
  }
 ],
 "metadata": {
  "kernelspec": {
   "display_name": "Python 3",
   "language": "python",
   "name": "python3"
  },
  "language_info": {
   "codemirror_mode": {
    "name": "ipython",
    "version": 3
   },
   "file_extension": ".py",
   "mimetype": "text/x-python",
   "name": "python",
   "nbconvert_exporter": "python",
   "pygments_lexer": "ipython3",
   "version": "3.6.12"
  }
 },
 "nbformat": 4,
 "nbformat_minor": 5
}
