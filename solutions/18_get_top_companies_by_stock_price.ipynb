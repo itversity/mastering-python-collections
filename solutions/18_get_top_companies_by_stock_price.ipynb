{
 "cells": [
  {
   "cell_type": "markdown",
   "id": "59685dee",
   "metadata": {},
   "source": [
    "## Get Top Companies by Stock Price\n",
    "\n",
    "Develop a function to get top companies by stock price. The data should be sorted in descending order by stock price.\n",
    "* Get the top stocks by price. The data should be in descending order by the stock price.\n",
    "* The function should return a list and each element in the list should be of type dict."
   ]
  },
  {
   "cell_type": "code",
   "execution_count": 1,
   "id": "72459ee9",
   "metadata": {},
   "outputs": [],
   "source": [
    "companies = [{'Name': 'Accenture',\n",
    "  'Sector': 'IT',\n",
    "  'Price': 222.89,\n",
    "  'Dividend': 2.33,\n",
    "  'EarningsPerShare': 7.92},\n",
    " {'Name': 'Apple',\n",
    "  'Sector': 'IT',\n",
    "  'Price': 155.15,\n",
    "  'Dividend': 1.57,\n",
    "  'EarningsPerShare': 9.2},\n",
    " {'Name': 'Adobe Systems Inc',\n",
    "  'Sector': 'IT',\n",
    "  'Price': 185.16,\n",
    "  'Dividend': 0.0,\n",
    "  'EarningsPerShare': '3.39'},\n",
    " {'Name': 'Alphabet',\n",
    "  'Sector': 'IT',\n",
    "  'Price': 1007.71,\n",
    "  'Dividend': 0.0,\n",
    "  'EarningsPerShare': 22.27},\n",
    " {'Name': 'Bank of America Corp',\n",
    "  'Sector': 'Finacials',\n",
    "  'Price': 29.74,\n",
    "  'Dividend': 1.53,\n",
    "  'EarningsPerShare': 1.55},\n",
    " {'Name': 'Biogen Inc',\n",
    "  'Sector': 'Health Care',\n",
    "  'Price': 311.79,\n",
    "  'Dividend': 0.0,\n",
    "  'EarningsPerShare': 11.94},\n",
    " {'Name': 'Campbell Soup',\n",
    "  'Sector': 'Consumer Staples',\n",
    "  'Price': 44.83,\n",
    "  'Dividend': 3.12,\n",
    "  'EarningsPerShare': 2.89},\n",
    " {'Name': 'Dr Pepper Snapple Group',\n",
    "  'Sector': 'Consumer Staples',\n",
    "  'Price': 116.93,\n",
    "  'Dividend': 1.96,\n",
    "  'EarningsPerShare': 4.54},\n",
    " {'Name': 'ebay Inc',\n",
    "  'Sector': 'IT',\n",
    "  'Price': 41.02,\n",
    "  'Dividend': 0.0,\n",
    "  'EarningsPerShare': -1.07},\n",
    " {'Name': 'FedEx Corporation',\n",
    "  'Sector': 'Industrials',\n",
    "  'Price': 239.27,\n",
    "  'Dividend': 0.79,\n",
    "  'EarningsPerShare': 11.07},\n",
    " {'Name': 'Ford Motors',\n",
    "  'Sector': 'Consumer Products',\n",
    "  'Price': 10.43,\n",
    "  'Dividend': 6.78,\n",
    "  'EarningsPerShare': 1.9},\n",
    " {'Name': 'General Motors',\n",
    "  'Sector': 'Consumer Products',\n",
    "  'Price': 40.75,\n",
    "  'Dividend': 3.58,\n",
    "  'EarningsPerShare': 6.0},\n",
    " {'Name': 'Harley-Davidson',\n",
    "  'Sector': 'Consumer Products',\n",
    "  'Price': 47.54,\n",
    "  'Dividend': 3.02,\n",
    "  'EarningsPerShare': 2.98},\n",
    " {'Name': 'Hewlett Packard Enterprise',\n",
    "  'Sector': 'IT',\n",
    "  'Price': 15.04,\n",
    "  'Dividend': 1.92,\n",
    "  'EarningsPerShare': 0.21},\n",
    " {'Name': 'Intel Corp',\n",
    "  'Sector': 'IT',\n",
    "  'Price': 42.75,\n",
    "  'Dividend': 2.65,\n",
    "  'EarningsPerShare': 1.98},\n",
    " {'Name': 'JP Morgan',\n",
    "  'Sector': 'Finacials',\n",
    "  'Price': 107.88,\n",
    "  'Dividend': 1.98,\n",
    "  'EarningsPerShare': 6.3},\n",
    " {'Name': 'Johnson & Johnson',\n",
    "  'Sector': 'IT',\n",
    "  'Price': 126.36,\n",
    "  'Dividend': 2.55,\n",
    "  'EarningsPerShare': 0.39},\n",
    " {'Name': 'Microsoft Corp',\n",
    "  'Sector': 'IT',\n",
    "  'Price': 85.01,\n",
    "  'Dividend': 1.87,\n",
    "  'EarningsPerShare': 2.97},\n",
    " {'Name': 'Netflix Inc',\n",
    "  'Sector': 'IT',\n",
    "  'Price': 250.01,\n",
    "  'Dividend': 0.0,\n",
    "  'EarningsPerShare': 1.25},\n",
    " {'Name': 'Nike',\n",
    "  'Sector': 'Consumer Products',\n",
    "  'Price': 62.49,\n",
    "  'Dividend': 1.21,\n",
    "  'EarningsPerShare': 2.51}]"
   ]
  },
  {
   "cell_type": "markdown",
   "id": "19bc230c",
   "metadata": {},
   "source": [
    "### Step 1: Preview the data\n",
    "\n",
    "Let us first preview the data."
   ]
  },
  {
   "cell_type": "code",
   "execution_count": 2,
   "id": "f9146050",
   "metadata": {},
   "outputs": [
    {
     "data": {
      "text/plain": [
       "[{'Name': 'Accenture',\n",
       "  'Sector': 'IT',\n",
       "  'Price': 222.89,\n",
       "  'Dividend': 2.33,\n",
       "  'EarningsPerShare': 7.92},\n",
       " {'Name': 'Apple',\n",
       "  'Sector': 'IT',\n",
       "  'Price': 155.15,\n",
       "  'Dividend': 1.57,\n",
       "  'EarningsPerShare': 9.2},\n",
       " {'Name': 'Adobe Systems Inc',\n",
       "  'Sector': 'IT',\n",
       "  'Price': 185.16,\n",
       "  'Dividend': 0.0,\n",
       "  'EarningsPerShare': '3.39'},\n",
       " {'Name': 'Alphabet',\n",
       "  'Sector': 'IT',\n",
       "  'Price': 1007.71,\n",
       "  'Dividend': 0.0,\n",
       "  'EarningsPerShare': 22.27},\n",
       " {'Name': 'Bank of America Corp',\n",
       "  'Sector': 'Finacials',\n",
       "  'Price': 29.74,\n",
       "  'Dividend': 1.53,\n",
       "  'EarningsPerShare': 1.55},\n",
       " {'Name': 'Biogen Inc',\n",
       "  'Sector': 'Health Care',\n",
       "  'Price': 311.79,\n",
       "  'Dividend': 0.0,\n",
       "  'EarningsPerShare': 11.94},\n",
       " {'Name': 'Campbell Soup',\n",
       "  'Sector': 'Consumer Staples',\n",
       "  'Price': 44.83,\n",
       "  'Dividend': 3.12,\n",
       "  'EarningsPerShare': 2.89},\n",
       " {'Name': 'Dr Pepper Snapple Group',\n",
       "  'Sector': 'Consumer Staples',\n",
       "  'Price': 116.93,\n",
       "  'Dividend': 1.96,\n",
       "  'EarningsPerShare': 4.54},\n",
       " {'Name': 'ebay Inc',\n",
       "  'Sector': 'IT',\n",
       "  'Price': 41.02,\n",
       "  'Dividend': 0.0,\n",
       "  'EarningsPerShare': -1.07},\n",
       " {'Name': 'FedEx Corporation',\n",
       "  'Sector': 'Industrials',\n",
       "  'Price': 239.27,\n",
       "  'Dividend': 0.79,\n",
       "  'EarningsPerShare': 11.07},\n",
       " {'Name': 'Ford Motors',\n",
       "  'Sector': 'Consumer Products',\n",
       "  'Price': 10.43,\n",
       "  'Dividend': 6.78,\n",
       "  'EarningsPerShare': 1.9},\n",
       " {'Name': 'General Motors',\n",
       "  'Sector': 'Consumer Products',\n",
       "  'Price': 40.75,\n",
       "  'Dividend': 3.58,\n",
       "  'EarningsPerShare': 6.0},\n",
       " {'Name': 'Harley-Davidson',\n",
       "  'Sector': 'Consumer Products',\n",
       "  'Price': 47.54,\n",
       "  'Dividend': 3.02,\n",
       "  'EarningsPerShare': 2.98},\n",
       " {'Name': 'Hewlett Packard Enterprise',\n",
       "  'Sector': 'IT',\n",
       "  'Price': 15.04,\n",
       "  'Dividend': 1.92,\n",
       "  'EarningsPerShare': 0.21},\n",
       " {'Name': 'Intel Corp',\n",
       "  'Sector': 'IT',\n",
       "  'Price': 42.75,\n",
       "  'Dividend': 2.65,\n",
       "  'EarningsPerShare': 1.98},\n",
       " {'Name': 'JP Morgan',\n",
       "  'Sector': 'Finacials',\n",
       "  'Price': 107.88,\n",
       "  'Dividend': 1.98,\n",
       "  'EarningsPerShare': 6.3},\n",
       " {'Name': 'Johnson & Johnson',\n",
       "  'Sector': 'IT',\n",
       "  'Price': 126.36,\n",
       "  'Dividend': 2.55,\n",
       "  'EarningsPerShare': 0.39},\n",
       " {'Name': 'Microsoft Corp',\n",
       "  'Sector': 'IT',\n",
       "  'Price': 85.01,\n",
       "  'Dividend': 1.87,\n",
       "  'EarningsPerShare': 2.97},\n",
       " {'Name': 'Netflix Inc',\n",
       "  'Sector': 'IT',\n",
       "  'Price': 250.01,\n",
       "  'Dividend': 0.0,\n",
       "  'EarningsPerShare': 1.25},\n",
       " {'Name': 'Nike',\n",
       "  'Sector': 'Consumer Products',\n",
       "  'Price': 62.49,\n",
       "  'Dividend': 1.21,\n",
       "  'EarningsPerShare': 2.51}]"
      ]
     },
     "execution_count": 2,
     "metadata": {},
     "output_type": "execute_result"
    }
   ],
   "source": [
    "companies"
   ]
  },
  {
   "cell_type": "code",
   "execution_count": 3,
   "id": "1ccefda1",
   "metadata": {},
   "outputs": [
    {
     "data": {
      "text/plain": [
       "list"
      ]
     },
     "execution_count": 3,
     "metadata": {},
     "output_type": "execute_result"
    }
   ],
   "source": [
    "type(companies)"
   ]
  },
  {
   "cell_type": "code",
   "execution_count": 4,
   "id": "e89e696b",
   "metadata": {},
   "outputs": [
    {
     "data": {
      "text/plain": [
       "20"
      ]
     },
     "execution_count": 4,
     "metadata": {},
     "output_type": "execute_result"
    }
   ],
   "source": [
    "len(companies)"
   ]
  },
  {
   "cell_type": "code",
   "execution_count": 5,
   "id": "972d7ea2",
   "metadata": {},
   "outputs": [
    {
     "name": "stdout",
     "output_type": "stream",
     "text": [
      "The type of value Accenture with attribute Name is <class 'str'>\n",
      "The type of value IT with attribute Sector is <class 'str'>\n",
      "The type of value 222.89 with attribute Price is <class 'float'>\n",
      "The type of value 2.33 with attribute Dividend is <class 'float'>\n",
      "The type of value 7.92 with attribute EarningsPerShare is <class 'float'>\n"
     ]
    }
   ],
   "source": [
    "for company in companies[0].items():\n",
    "    print(f'The type of value {company[1]} with attribute {company[0]} is {type(company[1])}')"
   ]
  },
  {
   "cell_type": "markdown",
   "id": "d66702ed",
   "metadata": {},
   "source": [
    "### Step 2: Provide the solution\n",
    "\n",
    "Now come up with the solution by developing the required logic. Once the function is developed, go to the next step to take care of the validation."
   ]
  },
  {
   "cell_type": "code",
   "execution_count": 6,
   "id": "57eb4162",
   "metadata": {},
   "outputs": [],
   "source": [
    "def get_top_companies_by_stock_price(companies, top_n):\n",
    "    # Your code should go here\n",
    "    top_companies_by_stock_price = sorted(companies, key=lambda company: company['Price'], reverse=True)[:top_n]\n",
    "    return top_companies_by_stock_price"
   ]
  },
  {
   "cell_type": "markdown",
   "id": "5cbd5cc0",
   "metadata": {},
   "source": [
    "### Step 3: Validate the function\n",
    "\n",
    "Let us validate the function by running below cells.\n",
    "* Here is the expected output.\n",
    "\n",
    "```python\n",
    "[{'Name': 'Alphabet',\n",
    "  'Sector': 'IT',\n",
    "  'Price': 1007.71,\n",
    "  'Dividend': 0.0,\n",
    "  'EarningsPerShare': 22.27},\n",
    " {'Name': 'Biogen Inc',\n",
    "  'Sector': 'Health Care',\n",
    "  'Price': 311.79,\n",
    "  'Dividend': 0.0,\n",
    "  'EarningsPerShare': 11.94},\n",
    " {'Name': 'Netflix Inc',\n",
    "  'Sector': 'IT',\n",
    "  'Price': 250.01,\n",
    "  'Dividend': 0.0,\n",
    "  'EarningsPerShare': 1.25},\n",
    " {'Name': 'FedEx Corporation',\n",
    "  'Sector': 'Industrials',\n",
    "  'Price': 239.27,\n",
    "  'Dividend': 0.79,\n",
    "  'EarningsPerShare': 11.07},\n",
    " {'Name': 'Accenture',\n",
    "  'Sector': 'IT',\n",
    "  'Price': 222.89,\n",
    "  'Dividend': 2.33,\n",
    "  'EarningsPerShare': 7.92}]\n",
    "```"
   ]
  },
  {
   "cell_type": "code",
   "execution_count": 7,
   "id": "5162e9f9",
   "metadata": {},
   "outputs": [
    {
     "data": {
      "text/plain": [
       "[{'Name': 'Alphabet',\n",
       "  'Sector': 'IT',\n",
       "  'Price': 1007.71,\n",
       "  'Dividend': 0.0,\n",
       "  'EarningsPerShare': 22.27},\n",
       " {'Name': 'Biogen Inc',\n",
       "  'Sector': 'Health Care',\n",
       "  'Price': 311.79,\n",
       "  'Dividend': 0.0,\n",
       "  'EarningsPerShare': 11.94},\n",
       " {'Name': 'Netflix Inc',\n",
       "  'Sector': 'IT',\n",
       "  'Price': 250.01,\n",
       "  'Dividend': 0.0,\n",
       "  'EarningsPerShare': 1.25},\n",
       " {'Name': 'FedEx Corporation',\n",
       "  'Sector': 'Industrials',\n",
       "  'Price': 239.27,\n",
       "  'Dividend': 0.79,\n",
       "  'EarningsPerShare': 11.07},\n",
       " {'Name': 'Accenture',\n",
       "  'Sector': 'IT',\n",
       "  'Price': 222.89,\n",
       "  'Dividend': 2.33,\n",
       "  'EarningsPerShare': 7.92}]"
      ]
     },
     "execution_count": 7,
     "metadata": {},
     "output_type": "execute_result"
    }
   ],
   "source": [
    "top_companies_by_stock_price = get_top_companies_by_stock_price(companies, 5)\n",
    "top_companies_by_stock_price"
   ]
  },
  {
   "cell_type": "code",
   "execution_count": 8,
   "id": "dcb4c6ca",
   "metadata": {},
   "outputs": [
    {
     "data": {
      "text/plain": [
       "dict"
      ]
     },
     "execution_count": 8,
     "metadata": {},
     "output_type": "execute_result"
    }
   ],
   "source": [
    "type(top_companies_by_stock_price[0]) # dict"
   ]
  },
  {
   "cell_type": "code",
   "execution_count": null,
   "id": "57abb773",
   "metadata": {},
   "outputs": [],
   "source": []
  }
 ],
 "metadata": {
  "kernelspec": {
   "display_name": "Python 3",
   "language": "python",
   "name": "python3"
  },
  "language_info": {
   "codemirror_mode": {
    "name": "ipython",
    "version": 3
   },
   "file_extension": ".py",
   "mimetype": "text/x-python",
   "name": "python",
   "nbconvert_exporter": "python",
   "pygments_lexer": "ipython3",
   "version": "3.6.12"
  }
 },
 "nbformat": 4,
 "nbformat_minor": 5
}
