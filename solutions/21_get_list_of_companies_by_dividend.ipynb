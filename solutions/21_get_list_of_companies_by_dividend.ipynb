{
 "cells": [
  {
   "cell_type": "markdown",
   "id": "826b4933",
   "metadata": {},
   "source": [
    "## Get list of companies by dividend\n",
    "\n",
    "Develop function which return dict with 2 elements. One element contains the list of dividend paying companies and other list contain list of non dividend paying companies.\n",
    "* This scanerio can be solved by the help of conventional loops or itertools.\n",
    "* The input dictionary contains the name of company, it's sector and other attributes.\n",
    "* Develop a function which takes companies (list of dicts) as input and return dict with 2 attributes. The keys in the dict should be **Non Dividend Paying** and **Dividend Paying**.\n",
    "* As part of **Non Dividend Paying**, we need to have list of companies with Dividend as 0.\n",
    "* As part of **Dividend Paying**, we need to have list of companies with Divdend greater than 0.\n",
    "* In case of **Non Dividend Paying** companies, data should be sorted by the share price and in case of **Dividend Paying** companies, data should be sorted by the dividend paid out and then share price.\n",
    "\n",
    "**Hint: Sort the data first and then use itertools.groupby with custom key to come up with the right answer quickly. But this can be solved using conventional loops**."
   ]
  },
  {
   "cell_type": "code",
   "execution_count": 1,
   "id": "582a9c02",
   "metadata": {},
   "outputs": [],
   "source": [
    "companies = [{'Name': 'Accenture',\n",
    "  'Sector': 'IT',\n",
    "  'Price': 222.89,\n",
    "  'Dividend': 2.33,\n",
    "  'EarningsPerShare': 7.92},\n",
    " {'Name': 'Apple',\n",
    "  'Sector': 'IT',\n",
    "  'Price': 155.15,\n",
    "  'Dividend': 1.57,\n",
    "  'EarningsPerShare': 9.2},\n",
    " {'Name': 'Adobe Systems Inc',\n",
    "  'Sector': 'IT',\n",
    "  'Price': 185.16,\n",
    "  'Dividend': 0.0,\n",
    "  'EarningsPerShare': '3.39'},\n",
    " {'Name': 'Alphabet',\n",
    "  'Sector': 'IT',\n",
    "  'Price': 1007.71,\n",
    "  'Dividend': 0.0,\n",
    "  'EarningsPerShare': 22.27},\n",
    " {'Name': 'Bank of America Corp',\n",
    "  'Sector': 'Finacials',\n",
    "  'Price': 29.74,\n",
    "  'Dividend': 1.53,\n",
    "  'EarningsPerShare': 1.55},\n",
    " {'Name': 'Biogen Inc',\n",
    "  'Sector': 'Health Care',\n",
    "  'Price': 311.79,\n",
    "  'Dividend': 0.0,\n",
    "  'EarningsPerShare': 11.94},\n",
    " {'Name': 'Campbell Soup',\n",
    "  'Sector': 'Consumer Staples',\n",
    "  'Price': 44.83,\n",
    "  'Dividend': 3.12,\n",
    "  'EarningsPerShare': 2.89},\n",
    " {'Name': 'Dr Pepper Snapple Group',\n",
    "  'Sector': 'Consumer Staples',\n",
    "  'Price': 116.93,\n",
    "  'Dividend': 1.96,\n",
    "  'EarningsPerShare': 4.54},\n",
    " {'Name': 'ebay Inc',\n",
    "  'Sector': 'IT',\n",
    "  'Price': 41.02,\n",
    "  'Dividend': 0.0,\n",
    "  'EarningsPerShare': -1.07},\n",
    " {'Name': 'FedEx Corporation',\n",
    "  'Sector': 'Industrials',\n",
    "  'Price': 239.27,\n",
    "  'Dividend': 0.79,\n",
    "  'EarningsPerShare': 11.07},\n",
    " {'Name': 'Ford Motors',\n",
    "  'Sector': 'Consumer Products',\n",
    "  'Price': 10.43,\n",
    "  'Dividend': 6.78,\n",
    "  'EarningsPerShare': 1.9},\n",
    " {'Name': 'General Motors',\n",
    "  'Sector': 'Consumer Products',\n",
    "  'Price': 40.75,\n",
    "  'Dividend': 3.58,\n",
    "  'EarningsPerShare': 6.0},\n",
    " {'Name': 'Harley-Davidson',\n",
    "  'Sector': 'Consumer Products',\n",
    "  'Price': 47.54,\n",
    "  'Dividend': 3.02,\n",
    "  'EarningsPerShare': 2.98},\n",
    " {'Name': 'Hewlett Packard Enterprise',\n",
    "  'Sector': 'IT',\n",
    "  'Price': 15.04,\n",
    "  'Dividend': 1.92,\n",
    "  'EarningsPerShare': 0.21},\n",
    " {'Name': 'Intel Corp',\n",
    "  'Sector': 'IT',\n",
    "  'Price': 42.75,\n",
    "  'Dividend': 2.65,\n",
    "  'EarningsPerShare': 1.98},\n",
    " {'Name': 'JP Morgan',\n",
    "  'Sector': 'Finacials',\n",
    "  'Price': 107.88,\n",
    "  'Dividend': 1.98,\n",
    "  'EarningsPerShare': 6.3},\n",
    " {'Name': 'Johnson & Johnson',\n",
    "  'Sector': 'IT',\n",
    "  'Price': 126.36,\n",
    "  'Dividend': 2.55,\n",
    "  'EarningsPerShare': 0.39},\n",
    " {'Name': 'Microsoft Corp',\n",
    "  'Sector': 'IT',\n",
    "  'Price': 85.01,\n",
    "  'Dividend': 1.87,\n",
    "  'EarningsPerShare': 2.97},\n",
    " {'Name': 'Netflix Inc',\n",
    "  'Sector': 'IT',\n",
    "  'Price': 250.01,\n",
    "  'Dividend': 0.0,\n",
    "  'EarningsPerShare': 1.25},\n",
    " {'Name': 'Nike',\n",
    "  'Sector': 'Consumer Products',\n",
    "  'Price': 62.49,\n",
    "  'Dividend': 1.21,\n",
    "  'EarningsPerShare': 2.51}]"
   ]
  },
  {
   "cell_type": "markdown",
   "id": "cc476fd1",
   "metadata": {},
   "source": [
    "### Step 1: Preview the data\n",
    "\n",
    "Let us first preview the data."
   ]
  },
  {
   "cell_type": "code",
   "execution_count": 2,
   "id": "60988f71",
   "metadata": {},
   "outputs": [
    {
     "data": {
      "text/plain": [
       "[{'Name': 'Accenture',\n",
       "  'Sector': 'IT',\n",
       "  'Price': 222.89,\n",
       "  'Dividend': 2.33,\n",
       "  'EarningsPerShare': 7.92},\n",
       " {'Name': 'Apple',\n",
       "  'Sector': 'IT',\n",
       "  'Price': 155.15,\n",
       "  'Dividend': 1.57,\n",
       "  'EarningsPerShare': 9.2},\n",
       " {'Name': 'Adobe Systems Inc',\n",
       "  'Sector': 'IT',\n",
       "  'Price': 185.16,\n",
       "  'Dividend': 0.0,\n",
       "  'EarningsPerShare': '3.39'},\n",
       " {'Name': 'Alphabet',\n",
       "  'Sector': 'IT',\n",
       "  'Price': 1007.71,\n",
       "  'Dividend': 0.0,\n",
       "  'EarningsPerShare': 22.27},\n",
       " {'Name': 'Bank of America Corp',\n",
       "  'Sector': 'Finacials',\n",
       "  'Price': 29.74,\n",
       "  'Dividend': 1.53,\n",
       "  'EarningsPerShare': 1.55},\n",
       " {'Name': 'Biogen Inc',\n",
       "  'Sector': 'Health Care',\n",
       "  'Price': 311.79,\n",
       "  'Dividend': 0.0,\n",
       "  'EarningsPerShare': 11.94},\n",
       " {'Name': 'Campbell Soup',\n",
       "  'Sector': 'Consumer Staples',\n",
       "  'Price': 44.83,\n",
       "  'Dividend': 3.12,\n",
       "  'EarningsPerShare': 2.89},\n",
       " {'Name': 'Dr Pepper Snapple Group',\n",
       "  'Sector': 'Consumer Staples',\n",
       "  'Price': 116.93,\n",
       "  'Dividend': 1.96,\n",
       "  'EarningsPerShare': 4.54},\n",
       " {'Name': 'ebay Inc',\n",
       "  'Sector': 'IT',\n",
       "  'Price': 41.02,\n",
       "  'Dividend': 0.0,\n",
       "  'EarningsPerShare': -1.07},\n",
       " {'Name': 'FedEx Corporation',\n",
       "  'Sector': 'Industrials',\n",
       "  'Price': 239.27,\n",
       "  'Dividend': 0.79,\n",
       "  'EarningsPerShare': 11.07},\n",
       " {'Name': 'Ford Motors',\n",
       "  'Sector': 'Consumer Products',\n",
       "  'Price': 10.43,\n",
       "  'Dividend': 6.78,\n",
       "  'EarningsPerShare': 1.9},\n",
       " {'Name': 'General Motors',\n",
       "  'Sector': 'Consumer Products',\n",
       "  'Price': 40.75,\n",
       "  'Dividend': 3.58,\n",
       "  'EarningsPerShare': 6.0},\n",
       " {'Name': 'Harley-Davidson',\n",
       "  'Sector': 'Consumer Products',\n",
       "  'Price': 47.54,\n",
       "  'Dividend': 3.02,\n",
       "  'EarningsPerShare': 2.98},\n",
       " {'Name': 'Hewlett Packard Enterprise',\n",
       "  'Sector': 'IT',\n",
       "  'Price': 15.04,\n",
       "  'Dividend': 1.92,\n",
       "  'EarningsPerShare': 0.21},\n",
       " {'Name': 'Intel Corp',\n",
       "  'Sector': 'IT',\n",
       "  'Price': 42.75,\n",
       "  'Dividend': 2.65,\n",
       "  'EarningsPerShare': 1.98},\n",
       " {'Name': 'JP Morgan',\n",
       "  'Sector': 'Finacials',\n",
       "  'Price': 107.88,\n",
       "  'Dividend': 1.98,\n",
       "  'EarningsPerShare': 6.3},\n",
       " {'Name': 'Johnson & Johnson',\n",
       "  'Sector': 'IT',\n",
       "  'Price': 126.36,\n",
       "  'Dividend': 2.55,\n",
       "  'EarningsPerShare': 0.39},\n",
       " {'Name': 'Microsoft Corp',\n",
       "  'Sector': 'IT',\n",
       "  'Price': 85.01,\n",
       "  'Dividend': 1.87,\n",
       "  'EarningsPerShare': 2.97},\n",
       " {'Name': 'Netflix Inc',\n",
       "  'Sector': 'IT',\n",
       "  'Price': 250.01,\n",
       "  'Dividend': 0.0,\n",
       "  'EarningsPerShare': 1.25},\n",
       " {'Name': 'Nike',\n",
       "  'Sector': 'Consumer Products',\n",
       "  'Price': 62.49,\n",
       "  'Dividend': 1.21,\n",
       "  'EarningsPerShare': 2.51}]"
      ]
     },
     "execution_count": 2,
     "metadata": {},
     "output_type": "execute_result"
    }
   ],
   "source": [
    "companies"
   ]
  },
  {
   "cell_type": "code",
   "execution_count": 3,
   "id": "13769400",
   "metadata": {},
   "outputs": [
    {
     "data": {
      "text/plain": [
       "list"
      ]
     },
     "execution_count": 3,
     "metadata": {},
     "output_type": "execute_result"
    }
   ],
   "source": [
    "type(companies)"
   ]
  },
  {
   "cell_type": "code",
   "execution_count": 4,
   "id": "c83a5a96",
   "metadata": {},
   "outputs": [
    {
     "data": {
      "text/plain": [
       "20"
      ]
     },
     "execution_count": 4,
     "metadata": {},
     "output_type": "execute_result"
    }
   ],
   "source": [
    "len(companies)"
   ]
  },
  {
   "cell_type": "code",
   "execution_count": 5,
   "id": "6c6bc6b1",
   "metadata": {},
   "outputs": [
    {
     "name": "stdout",
     "output_type": "stream",
     "text": [
      "The type of value Accenture with attribute Name is <class 'str'>\n",
      "The type of value IT with attribute Sector is <class 'str'>\n",
      "The type of value 222.89 with attribute Price is <class 'float'>\n",
      "The type of value 2.33 with attribute Dividend is <class 'float'>\n",
      "The type of value 7.92 with attribute EarningsPerShare is <class 'float'>\n"
     ]
    }
   ],
   "source": [
    "for company in companies[0].items():\n",
    "    print(f'The type of value {company[1]} with attribute {company[0]} is {type(company[1])}')"
   ]
  },
  {
   "cell_type": "markdown",
   "id": "ee2df229",
   "metadata": {},
   "source": [
    "### Step 2: Provide the solution\n",
    "\n",
    "Now come up with the solution by developing the required logic. Once the function is developed, go to the next step to take care of the validation."
   ]
  },
  {
   "cell_type": "code",
   "execution_count": 6,
   "id": "630c52c9",
   "metadata": {},
   "outputs": [],
   "source": [
    "d = {}"
   ]
  },
  {
   "cell_type": "code",
   "execution_count": 7,
   "id": "42051763",
   "metadata": {},
   "outputs": [],
   "source": [
    "d['x'] = [1]"
   ]
  },
  {
   "cell_type": "code",
   "execution_count": 8,
   "id": "f7f2e48e",
   "metadata": {},
   "outputs": [],
   "source": [
    "d['x'].append(2)"
   ]
  },
  {
   "cell_type": "code",
   "execution_count": 9,
   "id": "1de6cec4",
   "metadata": {},
   "outputs": [
    {
     "data": {
      "text/plain": [
       "[1, 2]"
      ]
     },
     "execution_count": 9,
     "metadata": {},
     "output_type": "execute_result"
    }
   ],
   "source": [
    "d['x']"
   ]
  },
  {
   "cell_type": "code",
   "execution_count": 10,
   "id": "62b30fed",
   "metadata": {},
   "outputs": [],
   "source": [
    "def get_companies_by_dividend_payout(companies):\n",
    "    # Your code should go here\n",
    "    companies_by_dividend_payout = {}\n",
    "\n",
    "    def upsert_companies_by_dividend_payout(i, k):\n",
    "        if companies_by_dividend_payout.get(k):\n",
    "            companies_by_dividend_payout[k].append(i)\n",
    "        else:\n",
    "            companies_by_dividend_payout[k] = [i]\n",
    "    \n",
    "    for company in sorted(companies, key=lambda company: (company['Dividend'], company['Price'])):\n",
    "        if company['Dividend'] == 0:\n",
    "            upsert_companies_by_dividend_payout(company, 'Non Dividend Paying')\n",
    "        else:\n",
    "            upsert_companies_by_dividend_payout(company, 'Dividend Paying')        \n",
    "    return companies_by_dividend_payout"
   ]
  },
  {
   "cell_type": "code",
   "execution_count": 11,
   "id": "bd5c7d98",
   "metadata": {},
   "outputs": [],
   "source": [
    "# Using itertools"
   ]
  },
  {
   "cell_type": "code",
   "execution_count": 12,
   "id": "30c91641",
   "metadata": {},
   "outputs": [],
   "source": [
    "companies_sorted = sorted(\n",
    "    companies, \n",
    "    key=lambda company: (company['Dividend'], company['Price'])\n",
    ")"
   ]
  },
  {
   "cell_type": "code",
   "execution_count": 13,
   "id": "60fd8181",
   "metadata": {},
   "outputs": [],
   "source": [
    "import itertools as iter"
   ]
  },
  {
   "cell_type": "code",
   "execution_count": 14,
   "id": "d29af21f",
   "metadata": {},
   "outputs": [],
   "source": [
    "companies_by_dividend = iter.groupby(\n",
    "    companies_sorted, \n",
    "    key=lambda company: \n",
    "        'Non Dividend Paying' if company['Dividend'] == 0 else 'Dividend Paying'\n",
    ")"
   ]
  },
  {
   "cell_type": "code",
   "execution_count": 15,
   "id": "d81cfc68",
   "metadata": {},
   "outputs": [
    {
     "data": {
      "text/plain": [
       "itertools.groupby"
      ]
     },
     "execution_count": 15,
     "metadata": {},
     "output_type": "execute_result"
    }
   ],
   "source": [
    "type(companies_by_dividend)"
   ]
  },
  {
   "cell_type": "code",
   "execution_count": 16,
   "id": "4486287c",
   "metadata": {},
   "outputs": [
    {
     "data": {
      "text/plain": [
       "{'Non Dividend Paying': [{'Name': 'ebay Inc',\n",
       "   'Sector': 'IT',\n",
       "   'Price': 41.02,\n",
       "   'Dividend': 0.0,\n",
       "   'EarningsPerShare': -1.07},\n",
       "  {'Name': 'Adobe Systems Inc',\n",
       "   'Sector': 'IT',\n",
       "   'Price': 185.16,\n",
       "   'Dividend': 0.0,\n",
       "   'EarningsPerShare': '3.39'},\n",
       "  {'Name': 'Netflix Inc',\n",
       "   'Sector': 'IT',\n",
       "   'Price': 250.01,\n",
       "   'Dividend': 0.0,\n",
       "   'EarningsPerShare': 1.25},\n",
       "  {'Name': 'Biogen Inc',\n",
       "   'Sector': 'Health Care',\n",
       "   'Price': 311.79,\n",
       "   'Dividend': 0.0,\n",
       "   'EarningsPerShare': 11.94},\n",
       "  {'Name': 'Alphabet',\n",
       "   'Sector': 'IT',\n",
       "   'Price': 1007.71,\n",
       "   'Dividend': 0.0,\n",
       "   'EarningsPerShare': 22.27}],\n",
       " 'Dividend Paying': [{'Name': 'FedEx Corporation',\n",
       "   'Sector': 'Industrials',\n",
       "   'Price': 239.27,\n",
       "   'Dividend': 0.79,\n",
       "   'EarningsPerShare': 11.07},\n",
       "  {'Name': 'Nike',\n",
       "   'Sector': 'Consumer Products',\n",
       "   'Price': 62.49,\n",
       "   'Dividend': 1.21,\n",
       "   'EarningsPerShare': 2.51},\n",
       "  {'Name': 'Bank of America Corp',\n",
       "   'Sector': 'Finacials',\n",
       "   'Price': 29.74,\n",
       "   'Dividend': 1.53,\n",
       "   'EarningsPerShare': 1.55},\n",
       "  {'Name': 'Apple',\n",
       "   'Sector': 'IT',\n",
       "   'Price': 155.15,\n",
       "   'Dividend': 1.57,\n",
       "   'EarningsPerShare': 9.2},\n",
       "  {'Name': 'Microsoft Corp',\n",
       "   'Sector': 'IT',\n",
       "   'Price': 85.01,\n",
       "   'Dividend': 1.87,\n",
       "   'EarningsPerShare': 2.97},\n",
       "  {'Name': 'Hewlett Packard Enterprise',\n",
       "   'Sector': 'IT',\n",
       "   'Price': 15.04,\n",
       "   'Dividend': 1.92,\n",
       "   'EarningsPerShare': 0.21},\n",
       "  {'Name': 'Dr Pepper Snapple Group',\n",
       "   'Sector': 'Consumer Staples',\n",
       "   'Price': 116.93,\n",
       "   'Dividend': 1.96,\n",
       "   'EarningsPerShare': 4.54},\n",
       "  {'Name': 'JP Morgan',\n",
       "   'Sector': 'Finacials',\n",
       "   'Price': 107.88,\n",
       "   'Dividend': 1.98,\n",
       "   'EarningsPerShare': 6.3},\n",
       "  {'Name': 'Accenture',\n",
       "   'Sector': 'IT',\n",
       "   'Price': 222.89,\n",
       "   'Dividend': 2.33,\n",
       "   'EarningsPerShare': 7.92},\n",
       "  {'Name': 'Johnson & Johnson',\n",
       "   'Sector': 'IT',\n",
       "   'Price': 126.36,\n",
       "   'Dividend': 2.55,\n",
       "   'EarningsPerShare': 0.39},\n",
       "  {'Name': 'Intel Corp',\n",
       "   'Sector': 'IT',\n",
       "   'Price': 42.75,\n",
       "   'Dividend': 2.65,\n",
       "   'EarningsPerShare': 1.98},\n",
       "  {'Name': 'Harley-Davidson',\n",
       "   'Sector': 'Consumer Products',\n",
       "   'Price': 47.54,\n",
       "   'Dividend': 3.02,\n",
       "   'EarningsPerShare': 2.98},\n",
       "  {'Name': 'Campbell Soup',\n",
       "   'Sector': 'Consumer Staples',\n",
       "   'Price': 44.83,\n",
       "   'Dividend': 3.12,\n",
       "   'EarningsPerShare': 2.89},\n",
       "  {'Name': 'General Motors',\n",
       "   'Sector': 'Consumer Products',\n",
       "   'Price': 40.75,\n",
       "   'Dividend': 3.58,\n",
       "   'EarningsPerShare': 6.0},\n",
       "  {'Name': 'Ford Motors',\n",
       "   'Sector': 'Consumer Products',\n",
       "   'Price': 10.43,\n",
       "   'Dividend': 6.78,\n",
       "   'EarningsPerShare': 1.9}]}"
      ]
     },
     "execution_count": 16,
     "metadata": {},
     "output_type": "execute_result"
    }
   ],
   "source": [
    "dict(map(lambda company: (company[0], list(company[1])), companies_by_dividend))"
   ]
  },
  {
   "cell_type": "markdown",
   "id": "0fa7c69d",
   "metadata": {},
   "source": [
    "### Step 3: Validate the function\n",
    "\n",
    "Let us validate the function by running below cells.\n",
    "* Here is the expected output.\n",
    "\n",
    "```python\n",
    "{'Non Dividend Paying': [{'Name': 'ebay Inc',\n",
    "   'Sector': 'IT',\n",
    "   'Price': 41.02,\n",
    "   'Dividend': 0.0,\n",
    "   'EarningsPerShare': -1.07},\n",
    "  {'Name': 'Adobe Systems Inc',\n",
    "   'Sector': 'IT',\n",
    "   'Price': 185.16,\n",
    "   'Dividend': 0.0,\n",
    "   'EarningsPerShare': '3.39'},\n",
    "  {'Name': 'Netflix Inc',\n",
    "   'Sector': 'IT',\n",
    "   'Price': 250.01,\n",
    "   'Dividend': 0.0,\n",
    "   'EarningsPerShare': 1.25},\n",
    "  {'Name': 'Biogen Inc',\n",
    "   'Sector': 'Health Care',\n",
    "   'Price': 311.79,\n",
    "   'Dividend': 0.0,\n",
    "   'EarningsPerShare': 11.94},\n",
    "  {'Name': 'Alphabet',\n",
    "   'Sector': 'IT',\n",
    "   'Price': 1007.71,\n",
    "   'Dividend': 0.0,\n",
    "   'EarningsPerShare': 22.27}],\n",
    " 'Dividend Paying': [{'Name': 'FedEx Corporation',\n",
    "   'Sector': 'Industrials',\n",
    "   'Price': 239.27,\n",
    "   'Dividend': 0.79,\n",
    "   'EarningsPerShare': 11.07},\n",
    "  {'Name': 'Nike',\n",
    "   'Sector': 'Consumer Products',\n",
    "   'Price': 62.49,\n",
    "   'Dividend': 1.21,\n",
    "   'EarningsPerShare': 2.51},\n",
    "  {'Name': 'Bank of America Corp',\n",
    "   'Sector': 'Finacials',\n",
    "   'Price': 29.74,\n",
    "   'Dividend': 1.53,\n",
    "   'EarningsPerShare': 1.55},\n",
    "  {'Name': 'Apple',\n",
    "   'Sector': 'IT',\n",
    "   'Price': 155.15,\n",
    "   'Dividend': 1.57,\n",
    "   'EarningsPerShare': 9.2},\n",
    "  {'Name': 'Microsoft Corp',\n",
    "   'Sector': 'IT',\n",
    "   'Price': 85.01,\n",
    "   'Dividend': 1.87,\n",
    "   'EarningsPerShare': 2.97},\n",
    "  {'Name': 'Hewlett Packard Enterprise',\n",
    "   'Sector': 'IT',\n",
    "   'Price': 15.04,\n",
    "   'Dividend': 1.92,\n",
    "   'EarningsPerShare': 0.21},\n",
    "  {'Name': 'Dr Pepper Snapple Group',\n",
    "   'Sector': 'Consumer Staples',\n",
    "   'Price': 116.93,\n",
    "   'Dividend': 1.96,\n",
    "   'EarningsPerShare': 4.54},\n",
    "  {'Name': 'JP Morgan',\n",
    "   'Sector': 'Finacials',\n",
    "   'Price': 107.88,\n",
    "   'Dividend': 1.98,\n",
    "   'EarningsPerShare': 6.3},\n",
    "  {'Name': 'Accenture',\n",
    "   'Sector': 'IT',\n",
    "   'Price': 222.89,\n",
    "   'Dividend': 2.33,\n",
    "   'EarningsPerShare': 7.92},\n",
    "  {'Name': 'Johnson & Johnson',\n",
    "   'Sector': 'IT',\n",
    "   'Price': 126.36,\n",
    "   'Dividend': 2.55,\n",
    "   'EarningsPerShare': 0.39},\n",
    "  {'Name': 'Intel Corp',\n",
    "   'Sector': 'IT',\n",
    "   'Price': 42.75,\n",
    "   'Dividend': 2.65,\n",
    "   'EarningsPerShare': 1.98},\n",
    "  {'Name': 'Harley-Davidson',\n",
    "   'Sector': 'Consumer Products',\n",
    "   'Price': 47.54,\n",
    "   'Dividend': 3.02,\n",
    "   'EarningsPerShare': 2.98},\n",
    "  {'Name': 'Campbell Soup',\n",
    "   'Sector': 'Consumer Staples',\n",
    "   'Price': 44.83,\n",
    "   'Dividend': 3.12,\n",
    "   'EarningsPerShare': 2.89},\n",
    "  {'Name': 'General Motors',\n",
    "   'Sector': 'Consumer Products',\n",
    "   'Price': 40.75,\n",
    "   'Dividend': 3.58,\n",
    "   'EarningsPerShare': 6.0},\n",
    "  {'Name': 'Ford Motors',\n",
    "   'Sector': 'Consumer Products',\n",
    "   'Price': 10.43,\n",
    "   'Dividend': 6.78,\n",
    "   'EarningsPerShare': 1.9}]}\n",
    "```"
   ]
  },
  {
   "cell_type": "code",
   "execution_count": 17,
   "id": "b94587a3",
   "metadata": {},
   "outputs": [
    {
     "data": {
      "text/plain": [
       "{'Non Dividend Paying': [{'Name': 'ebay Inc',\n",
       "   'Sector': 'IT',\n",
       "   'Price': 41.02,\n",
       "   'Dividend': 0.0,\n",
       "   'EarningsPerShare': -1.07},\n",
       "  {'Name': 'Adobe Systems Inc',\n",
       "   'Sector': 'IT',\n",
       "   'Price': 185.16,\n",
       "   'Dividend': 0.0,\n",
       "   'EarningsPerShare': '3.39'},\n",
       "  {'Name': 'Netflix Inc',\n",
       "   'Sector': 'IT',\n",
       "   'Price': 250.01,\n",
       "   'Dividend': 0.0,\n",
       "   'EarningsPerShare': 1.25},\n",
       "  {'Name': 'Biogen Inc',\n",
       "   'Sector': 'Health Care',\n",
       "   'Price': 311.79,\n",
       "   'Dividend': 0.0,\n",
       "   'EarningsPerShare': 11.94},\n",
       "  {'Name': 'Alphabet',\n",
       "   'Sector': 'IT',\n",
       "   'Price': 1007.71,\n",
       "   'Dividend': 0.0,\n",
       "   'EarningsPerShare': 22.27}],\n",
       " 'Dividend Paying': [{'Name': 'FedEx Corporation',\n",
       "   'Sector': 'Industrials',\n",
       "   'Price': 239.27,\n",
       "   'Dividend': 0.79,\n",
       "   'EarningsPerShare': 11.07},\n",
       "  {'Name': 'Nike',\n",
       "   'Sector': 'Consumer Products',\n",
       "   'Price': 62.49,\n",
       "   'Dividend': 1.21,\n",
       "   'EarningsPerShare': 2.51},\n",
       "  {'Name': 'Bank of America Corp',\n",
       "   'Sector': 'Finacials',\n",
       "   'Price': 29.74,\n",
       "   'Dividend': 1.53,\n",
       "   'EarningsPerShare': 1.55},\n",
       "  {'Name': 'Apple',\n",
       "   'Sector': 'IT',\n",
       "   'Price': 155.15,\n",
       "   'Dividend': 1.57,\n",
       "   'EarningsPerShare': 9.2},\n",
       "  {'Name': 'Microsoft Corp',\n",
       "   'Sector': 'IT',\n",
       "   'Price': 85.01,\n",
       "   'Dividend': 1.87,\n",
       "   'EarningsPerShare': 2.97},\n",
       "  {'Name': 'Hewlett Packard Enterprise',\n",
       "   'Sector': 'IT',\n",
       "   'Price': 15.04,\n",
       "   'Dividend': 1.92,\n",
       "   'EarningsPerShare': 0.21},\n",
       "  {'Name': 'Dr Pepper Snapple Group',\n",
       "   'Sector': 'Consumer Staples',\n",
       "   'Price': 116.93,\n",
       "   'Dividend': 1.96,\n",
       "   'EarningsPerShare': 4.54},\n",
       "  {'Name': 'JP Morgan',\n",
       "   'Sector': 'Finacials',\n",
       "   'Price': 107.88,\n",
       "   'Dividend': 1.98,\n",
       "   'EarningsPerShare': 6.3},\n",
       "  {'Name': 'Accenture',\n",
       "   'Sector': 'IT',\n",
       "   'Price': 222.89,\n",
       "   'Dividend': 2.33,\n",
       "   'EarningsPerShare': 7.92},\n",
       "  {'Name': 'Johnson & Johnson',\n",
       "   'Sector': 'IT',\n",
       "   'Price': 126.36,\n",
       "   'Dividend': 2.55,\n",
       "   'EarningsPerShare': 0.39},\n",
       "  {'Name': 'Intel Corp',\n",
       "   'Sector': 'IT',\n",
       "   'Price': 42.75,\n",
       "   'Dividend': 2.65,\n",
       "   'EarningsPerShare': 1.98},\n",
       "  {'Name': 'Harley-Davidson',\n",
       "   'Sector': 'Consumer Products',\n",
       "   'Price': 47.54,\n",
       "   'Dividend': 3.02,\n",
       "   'EarningsPerShare': 2.98},\n",
       "  {'Name': 'Campbell Soup',\n",
       "   'Sector': 'Consumer Staples',\n",
       "   'Price': 44.83,\n",
       "   'Dividend': 3.12,\n",
       "   'EarningsPerShare': 2.89},\n",
       "  {'Name': 'General Motors',\n",
       "   'Sector': 'Consumer Products',\n",
       "   'Price': 40.75,\n",
       "   'Dividend': 3.58,\n",
       "   'EarningsPerShare': 6.0},\n",
       "  {'Name': 'Ford Motors',\n",
       "   'Sector': 'Consumer Products',\n",
       "   'Price': 10.43,\n",
       "   'Dividend': 6.78,\n",
       "   'EarningsPerShare': 1.9}]}"
      ]
     },
     "execution_count": 17,
     "metadata": {},
     "output_type": "execute_result"
    }
   ],
   "source": [
    "companies_by_dividend_payout = get_companies_by_dividend_payout(companies)\n",
    "companies_by_dividend_payout"
   ]
  },
  {
   "cell_type": "code",
   "execution_count": 18,
   "id": "1bf06998",
   "metadata": {},
   "outputs": [
    {
     "data": {
      "text/plain": [
       "2"
      ]
     },
     "execution_count": 18,
     "metadata": {},
     "output_type": "execute_result"
    }
   ],
   "source": [
    "len(companies_by_dividend_payout) # 2"
   ]
  },
  {
   "cell_type": "code",
   "execution_count": 19,
   "id": "f253e98c",
   "metadata": {},
   "outputs": [
    {
     "data": {
      "text/plain": [
       "dict_keys(['Non Dividend Paying', 'Dividend Paying'])"
      ]
     },
     "execution_count": 19,
     "metadata": {},
     "output_type": "execute_result"
    }
   ],
   "source": [
    "companies_by_dividend_payout.keys() # dict_keys(['Non Dividend Paying', 'Dividend Paying'])"
   ]
  },
  {
   "cell_type": "code",
   "execution_count": 20,
   "id": "a8ce0f00",
   "metadata": {},
   "outputs": [
    {
     "data": {
      "text/plain": [
       "[('Non Dividend Paying', 5), ('Dividend Paying', 15)]"
      ]
     },
     "execution_count": 20,
     "metadata": {},
     "output_type": "execute_result"
    }
   ],
   "source": [
    "list(map(lambda item: (item[0], len(item[1])), companies_by_dividend_payout.items())) # [('Non Dividend Paying', 5), ('Dividend Paying', 15)]"
   ]
  },
  {
   "cell_type": "code",
   "execution_count": null,
   "id": "8d448866",
   "metadata": {},
   "outputs": [],
   "source": []
  }
 ],
 "metadata": {
  "kernelspec": {
   "display_name": "Python 3",
   "language": "python",
   "name": "python3"
  },
  "language_info": {
   "codemirror_mode": {
    "name": "ipython",
    "version": 3
   },
   "file_extension": ".py",
   "mimetype": "text/x-python",
   "name": "python",
   "nbconvert_exporter": "python",
   "pygments_lexer": "ipython3",
   "version": "3.6.12"
  }
 },
 "nbformat": 4,
 "nbformat_minor": 5
}
