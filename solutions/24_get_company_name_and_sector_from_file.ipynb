{
 "cells": [
  {
   "cell_type": "markdown",
   "id": "dd737e9d",
   "metadata": {},
   "source": [
    "## Get Company Name and Sector\n",
    "\n",
    "Develop the logic to get name of companies and their respective sectors in the form of list of dicts.\n",
    "* The scanerio should be solved by using functions such as `map` and `filter` etc.\n",
    "* The input data is present in the CSV file named **data/company_financial/company_financial_data.csv**.\n",
    "* The output should be in form of **list of dicts**.\n",
    "* The header record should not be part of the **list of dicts**\n",
    "* The logic should pick the keys in dicts from the header of the file. The header of the file contains the column names.\n",
    "* The output should contain name of the companies and their respective sectors.\n",
    "* The data should be sorted in ascending order by the sector and then by case insensitive name.\n",
    "\n",
    "**Restriction: The solution for the problem should not contain the loops. Use functions such as `map`, `filter`, etc. If you want you can also use `csv` module.**"
   ]
  },
  {
   "cell_type": "markdown",
   "id": "6ec6c80a",
   "metadata": {},
   "source": [
    "### Step 1: Preview the data\n",
    "\n",
    "Let us first preview the data."
   ]
  },
  {
   "cell_type": "code",
   "execution_count": 1,
   "id": "bfa1330d",
   "metadata": {},
   "outputs": [
    {
     "name": "stdout",
     "output_type": "stream",
     "text": [
      "-rw-r--r-- 1 itversity itversity 849 Jul 28 14:41 data/company_financial/company_financial_data.csv\n"
     ]
    }
   ],
   "source": [
    "# List the file\n",
    "!ls -ltr data/company_financial/company_financial_data.csv"
   ]
  },
  {
   "cell_type": "code",
   "execution_count": 2,
   "id": "5379633c",
   "metadata": {},
   "outputs": [
    {
     "name": "stdout",
     "output_type": "stream",
     "text": [
      "21 data/company_financial/company_financial_data.csv\n"
     ]
    }
   ],
   "source": [
    "# Number of lines in the file\n",
    "!wc -l data/company_financial/company_financial_data.csv"
   ]
  },
  {
   "cell_type": "code",
   "execution_count": 3,
   "id": "99459581",
   "metadata": {},
   "outputs": [
    {
     "name": "stdout",
     "output_type": "stream",
     "text": [
      "Name,Sector,Price,Dividend,EarningsPerShare\n",
      "Accenture,IT,222.89,2.33,7.92\n",
      "Apple,IT,155.15,1.57,9.2\n",
      "Adobe Systems Inc,IT,185.16,0,3.39\n",
      "Alphabet,IT,1007.71,0,22.27\n",
      "Bank of America Corp,Finacials,29.74,1.53,1.55\n",
      "Biogen Inc,Health Care,311.79,0,11.94\n",
      "Campbell Soup,Consumer Staples,44.83,3.12,2.89\n",
      "Dr Pepper Snapple Group,Consumer Staples,116.93,1.96,4.54\n",
      "ebay Inc,IT,41.02,0,-1.07\n"
     ]
    }
   ],
   "source": [
    "# Check the head of the file to get the column names\n",
    "!head data/company_financial/company_financial_data.csv"
   ]
  },
  {
   "cell_type": "markdown",
   "id": "bddb3dda",
   "metadata": {},
   "source": [
    "### Step 2: Provide the solution\n",
    "\n",
    "Now come up with the solution by developing the required logic. Once the function is developed, go to the next step to take care of the validation."
   ]
  },
  {
   "cell_type": "code",
   "execution_count": 4,
   "id": "8f81cf0b",
   "metadata": {},
   "outputs": [],
   "source": [
    "def get_name_and_category(path):\n",
    "    # Develop the logic here\n",
    "    columns = open(path).read().splitlines()[0]\n",
    "    companies = sorted(\n",
    "        map(\n",
    "            lambda company: dict(zip(columns.split(',')[:2], company.split(',')[:2])), \n",
    "            open(path).read().splitlines()[1:]\n",
    "        ),\n",
    "        key=lambda company: (company['Sector'], company['Name'])\n",
    "    )\n",
    "    return companies"
   ]
  },
  {
   "cell_type": "markdown",
   "id": "a285b002",
   "metadata": {},
   "source": [
    "### Step 3: Validate the function\n",
    "\n",
    "Let us validate the function by running below cells.\n",
    "\n",
    "* Here is the expected output.\n",
    "\n",
    "```python\n",
    "[{'Name': 'Ford Motors', 'Sector': 'Consumer Products'},\n",
    " {'Name': 'General Motors', 'Sector': 'Consumer Products'},\n",
    " {'Name': 'Harley-Davidson', 'Sector': 'Consumer Products'},\n",
    " {'Name': 'Nike', 'Sector': 'Consumer Products'},\n",
    " {'Name': 'Campbell Soup', 'Sector': 'Consumer Staples'},\n",
    " {'Name': 'Dr Pepper Snapple Group', 'Sector': 'Consumer Staples'},\n",
    " {'Name': 'Bank of America Corp', 'Sector': 'Finacials'},\n",
    " {'Name': 'JP Morgan', 'Sector': 'Finacials'},\n",
    " {'Name': 'Biogen Inc', 'Sector': 'Health Care'},\n",
    " {'Name': 'Johnson & Johnson', 'Sector': 'Health Care'},\n",
    " {'Name': 'Accenture', 'Sector': 'IT'},\n",
    " {'Name': 'Adobe Systems Inc', 'Sector': 'IT'},\n",
    " {'Name': 'Alphabet', 'Sector': 'IT'},\n",
    " {'Name': 'Apple', 'Sector': 'IT'},\n",
    " {'Name': 'ebay Inc', 'Sector': 'IT'},\n",
    " {'Name': 'Hewlett Packard Enterprise', 'Sector': 'IT'},\n",
    " {'Name': 'Intel Corp', 'Sector': 'IT'},\n",
    " {'Name': 'Microsoft Corp', 'Sector': 'IT'},\n",
    " {'Name': 'Netflix Inc', 'Sector': 'IT'},\n",
    " {'Name': 'FedEx Corporation', 'Sector': 'Industrials'}]\n",
    "```"
   ]
  },
  {
   "cell_type": "code",
   "execution_count": 5,
   "id": "117b9966",
   "metadata": {},
   "outputs": [
    {
     "data": {
      "text/plain": [
       "[{'Name': 'Ford Motors', 'Sector': 'Consumer Products'},\n",
       " {'Name': 'General Motors', 'Sector': 'Consumer Products'},\n",
       " {'Name': 'Harley-Davidson', 'Sector': 'Consumer Products'},\n",
       " {'Name': 'Nike', 'Sector': 'Consumer Products'},\n",
       " {'Name': 'Campbell Soup', 'Sector': 'Consumer Staples'},\n",
       " {'Name': 'Dr Pepper Snapple Group', 'Sector': 'Consumer Staples'},\n",
       " {'Name': 'Bank of America Corp', 'Sector': 'Finacials'},\n",
       " {'Name': 'JP Morgan', 'Sector': 'Finacials'},\n",
       " {'Name': 'Biogen Inc', 'Sector': 'Health Care'},\n",
       " {'Name': 'Johnson & Johnson', 'Sector': 'Health Care'},\n",
       " {'Name': 'Accenture', 'Sector': 'IT'},\n",
       " {'Name': 'Adobe Systems Inc', 'Sector': 'IT'},\n",
       " {'Name': 'Alphabet', 'Sector': 'IT'},\n",
       " {'Name': 'Apple', 'Sector': 'IT'},\n",
       " {'Name': 'Hewlett Packard Enterprise', 'Sector': 'IT'},\n",
       " {'Name': 'Intel Corp', 'Sector': 'IT'},\n",
       " {'Name': 'Microsoft Corp', 'Sector': 'IT'},\n",
       " {'Name': 'Netflix Inc', 'Sector': 'IT'},\n",
       " {'Name': 'ebay Inc', 'Sector': 'IT'},\n",
       " {'Name': 'FedEx Corporation', 'Sector': 'Industrials'}]"
      ]
     },
     "execution_count": 5,
     "metadata": {},
     "output_type": "execute_result"
    }
   ],
   "source": [
    "companies = get_name_and_category('data/company_financial/company_financial_data.csv')\n",
    "companies"
   ]
  },
  {
   "cell_type": "code",
   "execution_count": 6,
   "id": "191cd363",
   "metadata": {},
   "outputs": [
    {
     "data": {
      "text/plain": [
       "list"
      ]
     },
     "execution_count": 6,
     "metadata": {},
     "output_type": "execute_result"
    }
   ],
   "source": [
    "type(companies) # list"
   ]
  },
  {
   "cell_type": "code",
   "execution_count": 7,
   "id": "390d289d",
   "metadata": {},
   "outputs": [
    {
     "data": {
      "text/plain": [
       "20"
      ]
     },
     "execution_count": 7,
     "metadata": {},
     "output_type": "execute_result"
    }
   ],
   "source": [
    "len(companies) # 20"
   ]
  },
  {
   "cell_type": "code",
   "execution_count": 8,
   "id": "024322dd",
   "metadata": {},
   "outputs": [
    {
     "data": {
      "text/plain": [
       "{'Name': 'Ford Motors', 'Sector': 'Consumer Products'}"
      ]
     },
     "execution_count": 8,
     "metadata": {},
     "output_type": "execute_result"
    }
   ],
   "source": [
    "companies[0] # {'Name': 'Ford Motors', 'Sector': 'Consumer Products'}"
   ]
  },
  {
   "cell_type": "code",
   "execution_count": 9,
   "id": "d777bd5e",
   "metadata": {},
   "outputs": [
    {
     "data": {
      "text/plain": [
       "dict"
      ]
     },
     "execution_count": 9,
     "metadata": {},
     "output_type": "execute_result"
    }
   ],
   "source": [
    "type(companies[0]) # dict"
   ]
  },
  {
   "cell_type": "code",
   "execution_count": null,
   "id": "b6b2ff6f",
   "metadata": {},
   "outputs": [],
   "source": []
  }
 ],
 "metadata": {
  "kernelspec": {
   "display_name": "Python 3",
   "language": "python",
   "name": "python3"
  },
  "language_info": {
   "codemirror_mode": {
    "name": "ipython",
    "version": 3
   },
   "file_extension": ".py",
   "mimetype": "text/x-python",
   "name": "python",
   "nbconvert_exporter": "python",
   "pygments_lexer": "ipython3",
   "version": "3.6.12"
  }
 },
 "nbformat": 4,
 "nbformat_minor": 5
}
