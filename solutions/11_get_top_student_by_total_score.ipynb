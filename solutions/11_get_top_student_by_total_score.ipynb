{
 "cells": [
  {
   "cell_type": "markdown",
   "id": "0ba32cdd",
   "metadata": {},
   "source": [
    "## Get Top Student by Total Score\n",
    "\n",
    "Develop a function to get the top student by total score. This is primarily to test the ability to manipulate collections, sort the data and get the ranks.\n",
    "* We will provide list of tuples with student id followed by scores for different subjects.\n",
    "* Develop a function which takes students as input and return the topper with highest total score.\n",
    "\n",
    "**Restrictions: Solve this problem either by using conventional loops or first class functions such as `map`. You are not supposed to use Pandas.**"
   ]
  },
  {
   "cell_type": "code",
   "execution_count": null,
   "id": "5db4bb73",
   "metadata": {},
   "outputs": [],
   "source": [
    "students = [(1, 72, 72, 74), (2, 69, 90, 88), (3, 90, 95, 93), (4, 47, 47, 44), (5, 76, 78, 75), (6, 71, 83, 78)]"
   ]
  },
  {
   "cell_type": "markdown",
   "id": "44371aeb",
   "metadata": {},
   "source": [
    "### Step 1: Preview the data\n",
    "\n",
    "Let us first preview the data."
   ]
  },
  {
   "cell_type": "code",
   "execution_count": null,
   "id": "91f9e762",
   "metadata": {},
   "outputs": [],
   "source": [
    "students"
   ]
  },
  {
   "cell_type": "code",
   "execution_count": null,
   "id": "fb83bd1f",
   "metadata": {},
   "outputs": [],
   "source": [
    "type(students)"
   ]
  },
  {
   "cell_type": "code",
   "execution_count": null,
   "id": "5dc6b885",
   "metadata": {},
   "outputs": [],
   "source": [
    "len(students)"
   ]
  },
  {
   "cell_type": "markdown",
   "id": "9147518f",
   "metadata": {},
   "source": [
    "### Step 2: Provide the solution\n",
    "\n",
    "Now come up with the solution by developing the required logic. Once the function is developed, go to the next step to take care of the validation."
   ]
  },
  {
   "cell_type": "code",
   "execution_count": null,
   "id": "f0b5cf56",
   "metadata": {},
   "outputs": [],
   "source": [
    "def get_topper_by_total_score(students):\n",
    "    ## your code should go here\n",
    "    return topper_by_total_score"
   ]
  },
  {
   "cell_type": "markdown",
   "id": "a6d20d0b",
   "metadata": {},
   "source": [
    "### Step 3: Validate the function\n",
    "\n",
    "Let us validate the function by running below cells.\n",
    "* The student id with highest total score is **3**."
   ]
  },
  {
   "cell_type": "code",
   "execution_count": null,
   "id": "2f0631c3",
   "metadata": {},
   "outputs": [],
   "source": [
    "topper_by_total_score = get_topper_by_total_score(students)\n",
    "topper_by_total_score"
   ]
  },
  {
   "cell_type": "code",
   "execution_count": null,
   "id": "275ec79a",
   "metadata": {},
   "outputs": [],
   "source": [
    "type(topper_by_total_score) # int"
   ]
  },
  {
   "cell_type": "code",
   "execution_count": null,
   "id": "961a2a9d",
   "metadata": {},
   "outputs": [],
   "source": []
  }
 ],
 "metadata": {
  "kernelspec": {
   "display_name": "Python 3",
   "language": "python",
   "name": "python3"
  },
  "language_info": {
   "codemirror_mode": {
    "name": "ipython",
    "version": 3
   },
   "file_extension": ".py",
   "mimetype": "text/x-python",
   "name": "python",
   "nbconvert_exporter": "python",
   "pygments_lexer": "ipython3",
   "version": "3.6.12"
  }
 },
 "nbformat": 4,
 "nbformat_minor": 5
}
