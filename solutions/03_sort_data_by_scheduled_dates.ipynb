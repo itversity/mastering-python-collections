{
 "cells": [
  {
   "cell_type": "markdown",
   "id": "5aa3d8e5",
   "metadata": {},
   "source": [
    "## Sort Data by Scheduled Dates\n",
    "\n",
    "Develop logic to sort the data by scheduled dates. We will be providing list of tuples which contain Name, Location, Scheduled Date.\n",
    "* Create a function which take list (which contain tuples) as argument and return sorted list with tuples.\n",
    "* Data should be sorted in ascending order by date and then in ascending order by name.\n",
    "\n",
    "**Hint: Use `sorted` function to come up with the solution**"
   ]
  },
  {
   "cell_type": "code",
   "execution_count": 1,
   "id": "fff1b884",
   "metadata": {},
   "outputs": [],
   "source": [
    "aspirants = [('Pardha Saradhi', 'India', '7/31/2021'),\n",
    " ('Asasri', 'India', '8/10/2021'),\n",
    " ('Sai Akshith', 'India', '7/30/2021'),\n",
    " ('Anmol', 'India', '7/25/2021'),\n",
    " ('Shravan', 'India', '7/28/2021'),\n",
    " ('Aditya', 'USA', '7/31/2021'),\n",
    " ('Prasanth ', 'USA', '8/14/2021'),\n",
    " ('Sahana', 'India', '7/26/2021'),\n",
    " ('Surendranatha Reddy', 'India', '7/25/2021'),\n",
    " ('Venkat ', 'USA', '7/26/2021')]"
   ]
  },
  {
   "cell_type": "markdown",
   "id": "2e1ad4f6",
   "metadata": {},
   "source": [
    "### Step 1: Preview the data\n",
    "\n",
    "Let us first preview the data."
   ]
  },
  {
   "cell_type": "code",
   "execution_count": 2,
   "id": "e54e2a94",
   "metadata": {},
   "outputs": [
    {
     "data": {
      "text/plain": [
       "[('Pardha Saradhi', 'India', '7/31/2021'),\n",
       " ('Asasri', 'India', '8/10/2021'),\n",
       " ('Sai Akshith', 'India', '7/30/2021'),\n",
       " ('Anmol', 'India', '7/25/2021'),\n",
       " ('Shravan', 'India', '7/28/2021'),\n",
       " ('Aditya', 'USA', '7/31/2021'),\n",
       " ('Prasanth ', 'USA', '8/14/2021'),\n",
       " ('Sahana', 'India', '7/26/2021'),\n",
       " ('Surendranatha Reddy', 'India', '7/25/2021'),\n",
       " ('Venkat ', 'USA', '7/26/2021')]"
      ]
     },
     "execution_count": 2,
     "metadata": {},
     "output_type": "execute_result"
    }
   ],
   "source": [
    "aspirants"
   ]
  },
  {
   "cell_type": "code",
   "execution_count": 3,
   "id": "1a0e7fb2",
   "metadata": {},
   "outputs": [
    {
     "data": {
      "text/plain": [
       "list"
      ]
     },
     "execution_count": 3,
     "metadata": {},
     "output_type": "execute_result"
    }
   ],
   "source": [
    "type(aspirants)"
   ]
  },
  {
   "cell_type": "code",
   "execution_count": 4,
   "id": "e9f6405d",
   "metadata": {},
   "outputs": [
    {
     "data": {
      "text/plain": [
       "10"
      ]
     },
     "execution_count": 4,
     "metadata": {},
     "output_type": "execute_result"
    }
   ],
   "source": [
    "len(aspirants)"
   ]
  },
  {
   "cell_type": "code",
   "execution_count": 5,
   "id": "6cfb02d4",
   "metadata": {},
   "outputs": [
    {
     "name": "stdout",
     "output_type": "stream",
     "text": [
      "The type of value ('Pardha Saradhi', 'India', '7/31/2021') is <class 'tuple'>\n",
      "The type of value ('Asasri', 'India', '8/10/2021') is <class 'tuple'>\n",
      "The type of value ('Sai Akshith', 'India', '7/30/2021') is <class 'tuple'>\n",
      "The type of value ('Anmol', 'India', '7/25/2021') is <class 'tuple'>\n",
      "The type of value ('Shravan', 'India', '7/28/2021') is <class 'tuple'>\n",
      "The type of value ('Aditya', 'USA', '7/31/2021') is <class 'tuple'>\n",
      "The type of value ('Prasanth ', 'USA', '8/14/2021') is <class 'tuple'>\n",
      "The type of value ('Sahana', 'India', '7/26/2021') is <class 'tuple'>\n",
      "The type of value ('Surendranatha Reddy', 'India', '7/25/2021') is <class 'tuple'>\n",
      "The type of value ('Venkat ', 'USA', '7/26/2021') is <class 'tuple'>\n"
     ]
    }
   ],
   "source": [
    "for aspirant in aspirants:\n",
    "    print(f'The type of value {aspirant} is {type(aspirant)}')"
   ]
  },
  {
   "cell_type": "markdown",
   "id": "34cfe344",
   "metadata": {},
   "source": [
    "### Step 2: Provide the solution\n",
    "\n",
    "Now come up with the solution by developing the required logic. Once the function is developed, go to the next step to take care of the validation."
   ]
  },
  {
   "cell_type": "code",
   "execution_count": 16,
   "id": "0a75fc14",
   "metadata": {},
   "outputs": [],
   "source": [
    "# The logic should go here\n",
    "import datetime\n",
    "def sort_data_by_scheduled_date(aspirants):\n",
    "    sorted_aspirants = sorted(\n",
    "        aspirants, \n",
    "        key=lambda aspirant: (datetime.datetime.strptime(aspirant[2], '%m/%d/%Y'), aspirant[0])\n",
    "    )\n",
    "    return sorted_aspirants"
   ]
  },
  {
   "cell_type": "markdown",
   "id": "7ac0cbd3",
   "metadata": {},
   "source": [
    "### Step 3: Validate the function\n",
    "\n",
    "Let us validate the function by running below cells.\n",
    "* Here is the expected output.\n",
    "\n",
    "```python\n",
    "[('Anmol', 'India', '7/25/2021'),\n",
    " ('Surendranatha Reddy', 'India', '7/25/2021'),\n",
    " ('Sahana', 'India', '7/26/2021'),\n",
    " ('Venkat ', 'USA', '7/26/2021'),\n",
    " ('Shravan', 'India', '7/28/2021'),\n",
    " ('Sai Akshith', 'India', '7/30/2021'),\n",
    " ('Aditya', 'USA', '7/31/2021'),\n",
    " ('Pardha Saradhi', 'India', '7/31/2021'),\n",
    " ('Asasri', 'India', '8/10/2021'),\n",
    " ('Prasanth ', 'USA', '8/14/2021')]\n",
    "```"
   ]
  },
  {
   "cell_type": "code",
   "execution_count": 17,
   "id": "58e99676",
   "metadata": {},
   "outputs": [
    {
     "data": {
      "text/plain": [
       "[('Anmol', 'India', '7/25/2021'),\n",
       " ('Surendranatha Reddy', 'India', '7/25/2021'),\n",
       " ('Sahana', 'India', '7/26/2021'),\n",
       " ('Venkat ', 'USA', '7/26/2021'),\n",
       " ('Shravan', 'India', '7/28/2021'),\n",
       " ('Sai Akshith', 'India', '7/30/2021'),\n",
       " ('Aditya', 'USA', '7/31/2021'),\n",
       " ('Pardha Saradhi', 'India', '7/31/2021'),\n",
       " ('Asasri', 'India', '8/10/2021'),\n",
       " ('Prasanth ', 'USA', '8/14/2021')]"
      ]
     },
     "execution_count": 17,
     "metadata": {},
     "output_type": "execute_result"
    }
   ],
   "source": [
    "sorted_aspirants = sort_data_by_scheduled_date(aspirants)\n",
    "sorted_aspirants"
   ]
  },
  {
   "cell_type": "code",
   "execution_count": 18,
   "id": "527ac850",
   "metadata": {},
   "outputs": [
    {
     "data": {
      "text/plain": [
       "list"
      ]
     },
     "execution_count": 18,
     "metadata": {},
     "output_type": "execute_result"
    }
   ],
   "source": [
    "type(sorted_aspirants) # It should be list"
   ]
  },
  {
   "cell_type": "code",
   "execution_count": 19,
   "id": "ade04b27",
   "metadata": {},
   "outputs": [
    {
     "data": {
      "text/plain": [
       "10"
      ]
     },
     "execution_count": 19,
     "metadata": {},
     "output_type": "execute_result"
    }
   ],
   "source": [
    "len(sorted_aspirants) # It should be 10"
   ]
  },
  {
   "cell_type": "code",
   "execution_count": 20,
   "id": "0b001d52",
   "metadata": {},
   "outputs": [
    {
     "data": {
      "text/plain": [
       "tuple"
      ]
     },
     "execution_count": 20,
     "metadata": {},
     "output_type": "execute_result"
    }
   ],
   "source": [
    "type(sorted_aspirants[0]) # It should be tuple."
   ]
  },
  {
   "cell_type": "code",
   "execution_count": null,
   "id": "7dcfb656",
   "metadata": {},
   "outputs": [],
   "source": []
  }
 ],
 "metadata": {
  "kernelspec": {
   "display_name": "Python 3",
   "language": "python",
   "name": "python3"
  },
  "language_info": {
   "codemirror_mode": {
    "name": "ipython",
    "version": 3
   },
   "file_extension": ".py",
   "mimetype": "text/x-python",
   "name": "python",
   "nbconvert_exporter": "python",
   "pygments_lexer": "ipython3",
   "version": "3.6.12"
  }
 },
 "nbformat": 4,
 "nbformat_minor": 5
}
