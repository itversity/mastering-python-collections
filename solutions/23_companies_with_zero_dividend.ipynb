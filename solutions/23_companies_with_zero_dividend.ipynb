{
 "cells": [
  {
   "cell_type": "markdown",
   "id": "cea1f5ee",
   "metadata": {},
   "source": [
    "## Companies with zero dividend\n",
    "\n",
    "Develop the function to get the records of companies where the dividend is zero.\n",
    "* The scanerio should be solved by using functions such as `map` and `filter` etc.\n",
    "* The input data is present in the CSV file named **data/company_financial/company_financial_data.csv**.\n",
    "* The ouput data should be in the form of list of tuples and it should only contain those records where the company's dividend is equal to zero.\n",
    "* The output should be sorted by case sensitive company name.\n",
    "\n",
    "**Restriction: The solution for the problem should not contain the loops. Use functions such as `map`, `filter`, etc. If you want you can also use `csv` module.**"
   ]
  },
  {
   "cell_type": "markdown",
   "id": "23300fab",
   "metadata": {},
   "source": [
    "### Step 1: Preview the data\n",
    "\n",
    "Let us first preview the data."
   ]
  },
  {
   "cell_type": "code",
   "execution_count": 1,
   "id": "497d9fbc",
   "metadata": {},
   "outputs": [
    {
     "name": "stdout",
     "output_type": "stream",
     "text": [
      "-rw-r--r-- 1 itversity itversity 849 Jul 28 14:41 data/company_financial/company_financial_data.csv\n"
     ]
    }
   ],
   "source": [
    "# List the file\n",
    "!ls -ltr data/company_financial/company_financial_data.csv"
   ]
  },
  {
   "cell_type": "code",
   "execution_count": 2,
   "id": "beb9d383",
   "metadata": {},
   "outputs": [
    {
     "name": "stdout",
     "output_type": "stream",
     "text": [
      "21 data/company_financial/company_financial_data.csv\n"
     ]
    }
   ],
   "source": [
    "# Number of lines in the file\n",
    "!wc -l data/company_financial/company_financial_data.csv"
   ]
  },
  {
   "cell_type": "code",
   "execution_count": 3,
   "id": "94b8a365",
   "metadata": {},
   "outputs": [
    {
     "name": "stdout",
     "output_type": "stream",
     "text": [
      "Name,Sector,Price,Dividend,EarningsPerShare\n",
      "Accenture,IT,222.89,2.33,7.92\n",
      "Apple,IT,155.15,1.57,9.2\n",
      "Adobe Systems Inc,IT,185.16,0,3.39\n",
      "Alphabet,IT,1007.71,0,22.27\n",
      "Bank of America Corp,Finacials,29.74,1.53,1.55\n",
      "Biogen Inc,Health Care,311.79,0,11.94\n",
      "Campbell Soup,Consumer Staples,44.83,3.12,2.89\n",
      "Dr Pepper Snapple Group,Consumer Staples,116.93,1.96,4.54\n",
      "ebay Inc,IT,41.02,0,-1.07\n"
     ]
    }
   ],
   "source": [
    "# Check the head of the file to get the column names\n",
    "!head data/company_financial/company_financial_data.csv"
   ]
  },
  {
   "cell_type": "markdown",
   "id": "10332155",
   "metadata": {},
   "source": [
    "### Step 2: Provide the solution\n",
    "\n",
    "Now come up with the solution by developing the required logic. Once the function is developed, go to the next step to take care of the validation."
   ]
  },
  {
   "cell_type": "code",
   "execution_count": 4,
   "id": "025817b3",
   "metadata": {},
   "outputs": [],
   "source": [
    "def get_company_with_no_dividends(path):\n",
    "    # Develop your logic her\n",
    "    companies_with_zero_dividend = sorted(\n",
    "        map(\n",
    "            lambda company: tuple(\n",
    "                map(\n",
    "                    lambda item: float(item) if item.replace('.', '').isdecimal() else item, \n",
    "                    company.split(',')\n",
    "                )\n",
    "            ),\n",
    "            filter(\n",
    "                lambda company: float(company.split(',')[3]) == 0.0, \n",
    "                open(path).read().splitlines()[1:]\n",
    "            )\n",
    "        )\n",
    "    )\n",
    "    return companies_with_zero_dividend"
   ]
  },
  {
   "cell_type": "markdown",
   "id": "38ae0b50",
   "metadata": {},
   "source": [
    "### Step 3: Validate the function\n",
    "\n",
    "Let us validate the function by running below cells.\n",
    "\n",
    "* Here is the expected output.\n",
    "\n",
    "```python\n",
    "[('Adobe Systems Inc', 'IT', 185.16, 0.0, 3.39),\n",
    " ('Alphabet', 'IT', 1007.71, 0.0, 22.27),\n",
    " ('Biogen Inc', 'Health Care', 311.79, 0.0, 11.94),\n",
    " ('Netflix Inc', 'IT', 250.01, 0.0, 1.25),\n",
    " ('ebay Inc', 'IT', 41.02, 0.0, -1.07)]\n",
    "```"
   ]
  },
  {
   "cell_type": "code",
   "execution_count": 5,
   "id": "1263010b",
   "metadata": {},
   "outputs": [
    {
     "data": {
      "text/plain": [
       "[('Adobe Systems Inc', 'IT', 185.16, 0.0, 3.39),\n",
       " ('Alphabet', 'IT', 1007.71, 0.0, 22.27),\n",
       " ('Biogen Inc', 'Health Care', 311.79, 0.0, 11.94),\n",
       " ('Netflix Inc', 'IT', 250.01, 0.0, 1.25),\n",
       " ('ebay Inc', 'IT', 41.02, 0.0, '-1.07')]"
      ]
     },
     "execution_count": 5,
     "metadata": {},
     "output_type": "execute_result"
    }
   ],
   "source": [
    "companies_with_zero_dividend = get_company_with_no_dividends('data/company_financial/company_financial_data.csv')\n",
    "companies_with_zero_dividend"
   ]
  },
  {
   "cell_type": "code",
   "execution_count": 6,
   "id": "e9365128",
   "metadata": {},
   "outputs": [
    {
     "data": {
      "text/plain": [
       "list"
      ]
     },
     "execution_count": 6,
     "metadata": {},
     "output_type": "execute_result"
    }
   ],
   "source": [
    "type(companies_with_zero_dividend) # list"
   ]
  },
  {
   "cell_type": "code",
   "execution_count": 7,
   "id": "2a5c8351",
   "metadata": {},
   "outputs": [
    {
     "data": {
      "text/plain": [
       "5"
      ]
     },
     "execution_count": 7,
     "metadata": {},
     "output_type": "execute_result"
    }
   ],
   "source": [
    "len(companies_with_zero_dividend) # 5"
   ]
  },
  {
   "cell_type": "code",
   "execution_count": 8,
   "id": "d927c109",
   "metadata": {},
   "outputs": [
    {
     "data": {
      "text/plain": [
       "('Adobe Systems Inc', 'IT', 185.16, 0.0, 3.39)"
      ]
     },
     "execution_count": 8,
     "metadata": {},
     "output_type": "execute_result"
    }
   ],
   "source": [
    "companies_with_zero_dividend[0] # ('Adobe Systems Inc', 'IT', 185.16, 0.0, 3.39)"
   ]
  },
  {
   "cell_type": "code",
   "execution_count": 9,
   "id": "a6ed5afa",
   "metadata": {},
   "outputs": [
    {
     "data": {
      "text/plain": [
       "tuple"
      ]
     },
     "execution_count": 9,
     "metadata": {},
     "output_type": "execute_result"
    }
   ],
   "source": [
    "type(companies_with_zero_dividend[0]) # tuple"
   ]
  },
  {
   "cell_type": "markdown",
   "id": "9e1feaca",
   "metadata": {},
   "source": [
    "* Here is the output for the below piece of code.\n",
    "\n",
    "```shell\n",
    "type of Adobe Systems Inc is <class 'str'>\n",
    "type of IT is <class 'str'>\n",
    "type of 185.16 is <class 'float'>\n",
    "type of 0.0 is <class 'float'>\n",
    "type of 3.39 is <class 'float'>\n",
    "```"
   ]
  },
  {
   "cell_type": "code",
   "execution_count": 10,
   "id": "f3013370",
   "metadata": {},
   "outputs": [
    {
     "name": "stdout",
     "output_type": "stream",
     "text": [
      "type of Adobe Systems Inc is <class 'str'>\n",
      "type of IT is <class 'str'>\n",
      "type of 185.16 is <class 'float'>\n",
      "type of 0.0 is <class 'float'>\n",
      "type of 3.39 is <class 'float'>\n"
     ]
    }
   ],
   "source": [
    "for ele in companies_with_zero_dividend[0]:\n",
    "    print(f'type of {ele} is {type(ele)}')"
   ]
  },
  {
   "cell_type": "code",
   "execution_count": null,
   "id": "8a737c1d",
   "metadata": {},
   "outputs": [],
   "source": []
  }
 ],
 "metadata": {
  "kernelspec": {
   "display_name": "Python 3",
   "language": "python",
   "name": "python3"
  },
  "language_info": {
   "codemirror_mode": {
    "name": "ipython",
    "version": 3
   },
   "file_extension": ".py",
   "mimetype": "text/x-python",
   "name": "python",
   "nbconvert_exporter": "python",
   "pygments_lexer": "ipython3",
   "version": "3.6.12"
  }
 },
 "nbformat": 4,
 "nbformat_minor": 5
}
