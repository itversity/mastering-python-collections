{
 "cells": [
  {
   "cell_type": "markdown",
   "id": "a37751d4",
   "metadata": {},
   "source": [
    "## Get number of companies per sector\n",
    "\n",
    "Develop the function to get the number of companies per sector. As part of this Python Practice Test, we are primarily evaluating the ability to manipulate the dicts especially to group by a key and perform aggregations.\n",
    "* This scanerio can be solved by the help of conventional loops or itertools.\n",
    "* The input dictionary contains the name of company and it's sector.\n",
    "* The output dictionary should contain sector as key and number of companies per sector as it's values. \n",
    "* The output dictionary should be sorted in ascending order by sector name."
   ]
  },
  {
   "cell_type": "code",
   "execution_count": 2,
   "id": "95c91104",
   "metadata": {},
   "outputs": [],
   "source": [
    "companies={\n",
    "    'Accenture': 'IT',\n",
    "    'Apple': 'IT',\n",
    "    'Adobe Systems Inc': 'IT',\n",
    "    'Alphabet': 'IT',\n",
    "    'Bank of America Corp': 'Financials',\n",
    "    'Biogen Inc': 'Health Care',\n",
    "    'Campbell Soup': 'Consumer Staples',\n",
    "    'Dr Pepper Snapple Group': 'Consumer Staples',\n",
    "    'ebay Inc': 'IT',\n",
    "    'FedEx Corporation': 'Industrials',\n",
    "    'Ford Motors': 'Consumer Products',\n",
    "    'General Motors': 'Consumer Products',\n",
    "    'Harley-Davidson': 'Consumer Products',\n",
    "    'Hewlett Packard Enterprise': 'IT',\n",
    "    'Intel Corp': 'IT',\n",
    "    'JP Morgan': 'Financials',\n",
    "    'Johnson & Johnson': 'Health Care',\n",
    "    'Microsft Corp': 'IT',\n",
    "    'Netflix Inc': 'IT',\n",
    "    'Nike': 'Consumer Products'}"
   ]
  },
  {
   "cell_type": "markdown",
   "id": "67fae69f",
   "metadata": {},
   "source": [
    "### Step 1: Preview the data\n",
    "\n",
    "Let us first preview the data."
   ]
  },
  {
   "cell_type": "code",
   "execution_count": 2,
   "id": "9570370b",
   "metadata": {},
   "outputs": [
    {
     "data": {
      "text/plain": [
       "{'Accenture': 'IT',\n",
       " 'Apple': 'IT',\n",
       " 'Adobe Systems Inc': 'IT',\n",
       " 'Alphabet': 'IT',\n",
       " 'Bank of America Corp': 'Financials',\n",
       " 'Biogen Inc': 'Health Care',\n",
       " 'Campbell Soup': 'Consumer Staples',\n",
       " 'Dr Pepper Snapple Group': 'Consumer Staples',\n",
       " 'ebay Inc': 'IT',\n",
       " 'FedEx Corporation': 'Industrials',\n",
       " 'Ford Motors': 'Consumer Products',\n",
       " 'General Motors': 'Consumer Products',\n",
       " 'Harley-Davidson': 'Consumer Products',\n",
       " 'Hewlett Packard Enterprise': 'IT',\n",
       " 'Intel Corp': 'IT',\n",
       " 'JP Morgan': 'Financials',\n",
       " 'Johnson & Johnson': 'Health Care',\n",
       " 'Microsft Corp': 'IT',\n",
       " 'Netflix Inc': 'IT',\n",
       " 'Nike': 'Consumer Products'}"
      ]
     },
     "execution_count": 2,
     "metadata": {},
     "output_type": "execute_result"
    }
   ],
   "source": [
    "companies"
   ]
  },
  {
   "cell_type": "code",
   "execution_count": 3,
   "id": "1b8e3d52",
   "metadata": {},
   "outputs": [
    {
     "data": {
      "text/plain": [
       "dict"
      ]
     },
     "execution_count": 3,
     "metadata": {},
     "output_type": "execute_result"
    }
   ],
   "source": [
    "type(companies)"
   ]
  },
  {
   "cell_type": "code",
   "execution_count": 4,
   "id": "f4f57970",
   "metadata": {},
   "outputs": [
    {
     "data": {
      "text/plain": [
       "20"
      ]
     },
     "execution_count": 4,
     "metadata": {},
     "output_type": "execute_result"
    }
   ],
   "source": [
    "len(companies)"
   ]
  },
  {
   "cell_type": "markdown",
   "id": "be522a48",
   "metadata": {},
   "source": [
    "### Step 2: Provide the solution\n",
    "\n",
    "Now come up with the solution by developing the required logic. Once the function is developed, go to the next step to take care of the validation."
   ]
  },
  {
   "cell_type": "code",
   "execution_count": 11,
   "id": "3777030f",
   "metadata": {},
   "outputs": [],
   "source": [
    "def get_company_count_per_sector(companies):\n",
    "    # Develop your logic here\n",
    "    company_count_per_sector = {}\n",
    "    for company in sorted(companies.items(), key=lambda company: company[1]):\n",
    "        if company_count_per_sector.get(company[1]):\n",
    "            company_count_per_sector[company[1]] += 1\n",
    "        else:\n",
    "            company_count_per_sector[company[1]] = 1\n",
    "    return company_count_per_sector"
   ]
  },
  {
   "cell_type": "code",
   "execution_count": 9,
   "id": "789acd24",
   "metadata": {},
   "outputs": [],
   "source": [
    "# Using itertools\n",
    "import itertools as iter\n",
    "companies_grouped = iter.groupby(\n",
    "    sorted(companies.items(), key=lambda company: company[1]), \n",
    "    key=lambda company: company[1]\n",
    ")"
   ]
  },
  {
   "cell_type": "code",
   "execution_count": 4,
   "id": "40342df5",
   "metadata": {},
   "outputs": [
    {
     "name": "stdout",
     "output_type": "stream",
     "text": [
      "('Consumer Products', <itertools._grouper object at 0x7ff102548320>)\n",
      "('Consumer Staples', <itertools._grouper object at 0x7ff102548f28>)\n",
      "('Financials', <itertools._grouper object at 0x7ff102548320>)\n",
      "('Health Care', <itertools._grouper object at 0x7ff102548f28>)\n",
      "('IT', <itertools._grouper object at 0x7ff102548f60>)\n",
      "('Industrials', <itertools._grouper object at 0x7ff102548f28>)\n"
     ]
    }
   ],
   "source": [
    "# Let us see what companies_grouped look like\n",
    "for item in companies_grouped:\n",
    "    print(item)"
   ]
  },
  {
   "cell_type": "code",
   "execution_count": 15,
   "id": "92c81e4f",
   "metadata": {},
   "outputs": [
    {
     "name": "stdout",
     "output_type": "stream",
     "text": [
      "The values for sector Consumer Products are [('Ford Motors', 'Consumer Products'), ('General Motors', 'Consumer Products'), ('Harley-Davidson', 'Consumer Products'), ('Nike', 'Consumer Products')]\n",
      "The values for sector Consumer Staples are [('Campbell Soup', 'Consumer Staples'), ('Dr Pepper Snapple Group', 'Consumer Staples')]\n",
      "The values for sector Financials are [('Bank of America Corp', 'Financials'), ('JP Morgan', 'Financials')]\n",
      "The values for sector Health Care are [('Biogen Inc', 'Health Care'), ('Johnson & Johnson', 'Health Care')]\n",
      "The values for sector IT are [('Accenture', 'IT'), ('Apple', 'IT'), ('Adobe Systems Inc', 'IT'), ('Alphabet', 'IT'), ('ebay Inc', 'IT'), ('Hewlett Packard Enterprise', 'IT'), ('Intel Corp', 'IT'), ('Microsft Corp', 'IT'), ('Netflix Inc', 'IT')]\n",
      "The values for sector Industrials are [('FedEx Corporation', 'Industrials')]\n"
     ]
    }
   ],
   "source": [
    "# Validating how the data look like in the grouper after grouping the data by the key using custom logic\n",
    "import itertools as iter\n",
    "companies_grouped = iter.groupby(\n",
    "    sorted(companies.items(), key=lambda company: company[1]), \n",
    "    key=lambda company: company[1]\n",
    ")\n",
    "\n",
    "for item in companies_grouped:\n",
    "    print(f'The values for sector {item[0]} are {list(item[1])}')"
   ]
  },
  {
   "cell_type": "code",
   "execution_count": 17,
   "id": "9ebc5cf9",
   "metadata": {},
   "outputs": [],
   "source": [
    "import itertools as iter\n",
    "companies_grouped = iter.groupby(\n",
    "    sorted(companies.items(), key=lambda company: company[1]), \n",
    "    key=lambda company: company[1]\n",
    ")\n",
    "\n",
    "item = list(companies_grouped)[0]"
   ]
  },
  {
   "cell_type": "code",
   "execution_count": 18,
   "id": "685351d7",
   "metadata": {},
   "outputs": [
    {
     "data": {
      "text/plain": [
       "'Consumer Products'"
      ]
     },
     "execution_count": 18,
     "metadata": {},
     "output_type": "execute_result"
    }
   ],
   "source": [
    "item[0]"
   ]
  },
  {
   "cell_type": "code",
   "execution_count": 19,
   "id": "0fc5ca0f",
   "metadata": {},
   "outputs": [
    {
     "data": {
      "text/plain": [
       "<itertools._grouper at 0x7ff101cec7b8>"
      ]
     },
     "execution_count": 19,
     "metadata": {},
     "output_type": "execute_result"
    }
   ],
   "source": [
    "item[1]"
   ]
  },
  {
   "cell_type": "code",
   "execution_count": 31,
   "id": "cff2bee9",
   "metadata": {},
   "outputs": [
    {
     "data": {
      "text/plain": [
       "[]"
      ]
     },
     "execution_count": 31,
     "metadata": {},
     "output_type": "execute_result"
    }
   ],
   "source": [
    "import itertools as iter\n",
    "companies_grouped = iter.groupby(\n",
    "    sorted(companies.items(), key=lambda company: company[1]), \n",
    "    key=lambda company: company[1]\n",
    ")\n",
    "\n",
    "item = list(list(companies_grouped)[0][1])\n",
    "item"
   ]
  },
  {
   "cell_type": "code",
   "execution_count": 14,
   "id": "d8617665",
   "metadata": {},
   "outputs": [
    {
     "data": {
      "text/plain": [
       "[('Consumer Products', 4),\n",
       " ('Consumer Staples', 2),\n",
       " ('Financials', 2),\n",
       " ('Health Care', 2),\n",
       " ('IT', 9),\n",
       " ('Industrials', 1)]"
      ]
     },
     "execution_count": 14,
     "metadata": {},
     "output_type": "execute_result"
    }
   ],
   "source": [
    "# Get length for each item\n",
    "\n",
    "import itertools as iter\n",
    "companies_grouped = iter.groupby(\n",
    "    sorted(companies.items(), key=lambda company: company[1]), \n",
    "    key=lambda company: company[1]\n",
    ")\n",
    "\n",
    "company_count_per_sector = list(map(lambda company: (company[0], len(list(company[1]))), companies_grouped))\n",
    "company_count_per_sector"
   ]
  },
  {
   "cell_type": "markdown",
   "id": "8d3d7635",
   "metadata": {},
   "source": [
    "### Step 3: Validate the function\n",
    "\n",
    "Let us validate the function by running below cells.\n",
    "* Here is the expected output.\n",
    "\n",
    "```python\n",
    "{'Consumer Products': 4,\n",
    "'Consumer Staples': 2,\n",
    "'Financials': 2,\n",
    "'Health Care': 2,\n",
    "'Industrials': 1,\n",
    "'IT': 9}\n",
    "```"
   ]
  },
  {
   "cell_type": "code",
   "execution_count": 12,
   "id": "47e791f2",
   "metadata": {},
   "outputs": [
    {
     "data": {
      "text/plain": [
       "{'Consumer Products': 4,\n",
       " 'Consumer Staples': 2,\n",
       " 'Financials': 2,\n",
       " 'Health Care': 2,\n",
       " 'IT': 9,\n",
       " 'Industrials': 1}"
      ]
     },
     "execution_count": 12,
     "metadata": {},
     "output_type": "execute_result"
    }
   ],
   "source": [
    "company_count_per_sector = get_company_count_per_sector(companies)\n",
    "company_count_per_sector"
   ]
  },
  {
   "cell_type": "code",
   "execution_count": 13,
   "id": "17cd48f9",
   "metadata": {},
   "outputs": [
    {
     "data": {
      "text/plain": [
       "dict"
      ]
     },
     "execution_count": 13,
     "metadata": {},
     "output_type": "execute_result"
    }
   ],
   "source": [
    "type(company_count_per_sector) # dict"
   ]
  },
  {
   "cell_type": "code",
   "execution_count": null,
   "id": "1c36b88b",
   "metadata": {},
   "outputs": [],
   "source": [
    "company_count_per_sector['IT'] # 9"
   ]
  }
 ],
 "metadata": {
  "kernelspec": {
   "display_name": "Python 3",
   "language": "python",
   "name": "python3"
  },
  "language_info": {
   "codemirror_mode": {
    "name": "ipython",
    "version": 3
   },
   "file_extension": ".py",
   "mimetype": "text/x-python",
   "name": "python",
   "nbconvert_exporter": "python",
   "pygments_lexer": "ipython3",
   "version": "3.6.12"
  }
 },
 "nbformat": 4,
 "nbformat_minor": 5
}
