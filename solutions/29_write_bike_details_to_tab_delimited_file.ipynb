{
 "cells": [
  {
   "cell_type": "markdown",
   "id": "39f1bc21",
   "metadata": {},
   "source": [
    "## Write bike details to tab delimited file\n",
    "\n",
    "Develop a fuction to write the data to a tab delimited file using provided bike data and attributes.\n",
    "* The function should take 4 arguments - list of tuples which contain bike details, list of strings with the attribute names, location of the file as well as the delimiter. We will test the function using `\\t` as delimiter.\n",
    "* We need to convert the attributes as well as each tuple from the bike details to tab delimited strings.\n",
    "* The attributes should be the first line in the file followed by data in ascending order by year followed by ascending order by name."
   ]
  },
  {
   "cell_type": "code",
   "execution_count": null,
   "id": "8f740cc5",
   "metadata": {},
   "outputs": [],
   "source": [
    "attributes = ['name', 'selling_price', 'year', 'seller_type', 'owner', 'km_driven']"
   ]
  },
  {
   "cell_type": "code",
   "execution_count": null,
   "id": "8ff9c1fc",
   "metadata": {},
   "outputs": [],
   "source": [
    "bike_details = [('Royal Enfield Classic 350', 175000, 2019, 'Individual', '1st owner', 350),\n",
    " ('Honda Dio', 45000, 2017, 'Individual', '1st owner', 5650),\n",
    " ('Royal Enfield Classic Gunmetal Grey', 150000, 2018, 'Individual', '1st owner', 12000),\n",
    " ('Yamaha Fazer FI V 2.0 [2016-2018]', 65000, 2015, 'Individual', '1st owner', 23000),\n",
    " ('Yamaha SZ [2013-2014]', 20000, 2011, 'Individual', '2nd owner', 21000),\n",
    " ('Honda CB Twister', 18000, 2010, 'Individual', '1st owner', 60000),\n",
    " ('Honda CB Hornet 160R', 78500, 2018, 'Individual', '1st owner', 17000),\n",
    " ('Royal Enfield Bullet 350 [2007-2011]', 180000, 2008, 'Individual', '2nd owner', 39000),\n",
    " ('Hero Honda CBZ extreme', 30000, 2010, 'Individual', '1st owner', 32000),\n",
    " ('Bajaj Discover 125', 50000, 2016, 'Individual', '1st owner', 42000)]"
   ]
  },
  {
   "cell_type": "markdown",
   "id": "cc5c6d8d",
   "metadata": {},
   "source": [
    "## Step 1: Preview the data\n",
    "* Let us first preview the data."
   ]
  },
  {
   "cell_type": "code",
   "execution_count": null,
   "id": "f7487a83",
   "metadata": {},
   "outputs": [],
   "source": [
    "attributes"
   ]
  },
  {
   "cell_type": "code",
   "execution_count": null,
   "id": "a455bd6e",
   "metadata": {},
   "outputs": [],
   "source": [
    "type(attributes)"
   ]
  },
  {
   "cell_type": "code",
   "execution_count": null,
   "id": "97d96300",
   "metadata": {},
   "outputs": [],
   "source": [
    "bike_details"
   ]
  },
  {
   "cell_type": "code",
   "execution_count": null,
   "id": "10bf28af",
   "metadata": {},
   "outputs": [],
   "source": [
    "type(bike_details)"
   ]
  },
  {
   "cell_type": "code",
   "execution_count": null,
   "id": "9ce30a28",
   "metadata": {},
   "outputs": [],
   "source": [
    "bike_details[0]"
   ]
  },
  {
   "cell_type": "code",
   "execution_count": null,
   "id": "62986ad8",
   "metadata": {},
   "outputs": [],
   "source": [
    "type(bike_details[0])"
   ]
  },
  {
   "cell_type": "markdown",
   "id": "a203909b",
   "metadata": {},
   "source": [
    "## Step 2: Provide the solution\n",
    "Now come up with the solution by developing the required logic. Once the function is developed, go to the next step to take care of the validation."
   ]
  },
  {
   "cell_type": "code",
   "execution_count": null,
   "id": "c4b0df0b",
   "metadata": {},
   "outputs": [],
   "source": [
    "def write_bike_details(attributes, bike_details, target_file, delimiter='\\t'):\n",
    "    #Your code should go here\n",
    "    return"
   ]
  },
  {
   "cell_type": "markdown",
   "id": "f27646a2",
   "metadata": {},
   "source": [
    "### Step 3: Validate the function\n",
    "\n",
    "Here is the desired output.\n",
    "\n",
    "```\n",
    "name\tselling_price\tyear\tseller_type\towner\tkm_driven\n",
    "Royal Enfield Bullet 350 [2007-2011]\t180000\t2008\tIndividual\t2nd owner\t39000\n",
    "Hero Honda CBZ extreme\t30000\t2010\tIndividual\t1st owner\t32000\n",
    "Honda CB Twister\t18000\t2010\tIndividual\t1st owner\t60000\n",
    "Yamaha SZ [2013-2014]\t20000\t2011\tIndividual\t2nd owner\t21000\n",
    "Yamaha Fazer FI V 2.0 [2016-2018]\t65000\t2015\tIndividual\t1st owner\t23000\n",
    "Bajaj Discover 125\t50000\t2016\tIndividual\t1st owner\t42000\n",
    "Honda Dio\t45000\t2017\tIndividual\t1st owner\t5650\n",
    "Honda CB Hornet 160R\t78500\t2018\tIndividual\t1st owner\t17000\n",
    "Royal Enfield Classic Gunmetal Grey\t150000\t2018\tIndividual\t1st owner\t12000\n",
    "Royal Enfield Classic 350\t175000\t2019\tIndividual\t1st owner\t350\n",
    "```"
   ]
  },
  {
   "cell_type": "code",
   "execution_count": null,
   "id": "6ce939c4",
   "metadata": {},
   "outputs": [],
   "source": [
    "!mkdir -p output/bikes\n",
    "!rm output/bikes/bikes_delimited.tsv\n",
    "location = 'output/bikes/bikes_delimited.tsv'\n",
    "write_bike_details(attributes, bike_details, location)\n",
    "!cat output/bikes/bikes_delimited.tsv"
   ]
  },
  {
   "cell_type": "code",
   "execution_count": null,
   "id": "9fd65fcd",
   "metadata": {},
   "outputs": [],
   "source": [
    "!wc -l output/bikes/bikes_delimited.tsv # 11 output/bikes/bikes_delimited.tsv"
   ]
  },
  {
   "cell_type": "code",
   "execution_count": null,
   "id": "e5ddf548",
   "metadata": {},
   "outputs": [],
   "source": [
    "import pandas as pd\n",
    "pd.read_csv('output/bikes/bikes_delimited.tsv', sep='\\t')\n",
    "# You should get a neat and clean Pandas table with 10 records"
   ]
  },
  {
   "cell_type": "code",
   "execution_count": null,
   "id": "b9530c18",
   "metadata": {},
   "outputs": [],
   "source": []
  }
 ],
 "metadata": {
  "kernelspec": {
   "display_name": "Python 3",
   "language": "python",
   "name": "python3"
  },
  "language_info": {
   "codemirror_mode": {
    "name": "ipython",
    "version": 3
   },
   "file_extension": ".py",
   "mimetype": "text/x-python",
   "name": "python",
   "nbconvert_exporter": "python",
   "pygments_lexer": "ipython3",
   "version": "3.6.12"
  }
 },
 "nbformat": 4,
 "nbformat_minor": 5
}
