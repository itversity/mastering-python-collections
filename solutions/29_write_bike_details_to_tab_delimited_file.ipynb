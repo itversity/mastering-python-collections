{
 "cells": [
  {
   "cell_type": "markdown",
   "id": "b30686b2",
   "metadata": {},
   "source": [
    "## Write bike details to tab delimited file\n",
    "\n",
    "Develop a fuction to write the data to a tab delimited file using provided bike data and attributes.\n",
    "* The function should take 4 arguments - list of tuples which contain bike details, list of strings with the attribute names, location of the file as well as the delimiter. We will test the function using `\\t` as delimiter.\n",
    "* We need to convert the attributes as well as each tuple from the bike details to tab delimited strings.\n",
    "* The attributes should be the first line in the file followed by data in ascending order by year followed by ascending order by name."
   ]
  },
  {
   "cell_type": "code",
   "execution_count": 1,
   "id": "fc7d5db1",
   "metadata": {},
   "outputs": [],
   "source": [
    "attributes = ['name', 'selling_price', 'year', 'seller_type', 'owner', 'km_driven']"
   ]
  },
  {
   "cell_type": "code",
   "execution_count": 2,
   "id": "3fa54762",
   "metadata": {},
   "outputs": [],
   "source": [
    "bike_details = [('Royal Enfield Classic 350', 175000, 2019, 'Individual', '1st owner', 350),\n",
    " ('Honda Dio', 45000, 2017, 'Individual', '1st owner', 5650),\n",
    " ('Royal Enfield Classic Gunmetal Grey', 150000, 2018, 'Individual', '1st owner', 12000),\n",
    " ('Yamaha Fazer FI V 2.0 [2016-2018]', 65000, 2015, 'Individual', '1st owner', 23000),\n",
    " ('Yamaha SZ [2013-2014]', 20000, 2011, 'Individual', '2nd owner', 21000),\n",
    " ('Honda CB Twister', 18000, 2010, 'Individual', '1st owner', 60000),\n",
    " ('Honda CB Hornet 160R', 78500, 2018, 'Individual', '1st owner', 17000),\n",
    " ('Royal Enfield Bullet 350 [2007-2011]', 180000, 2008, 'Individual', '2nd owner', 39000),\n",
    " ('Hero Honda CBZ extreme', 30000, 2010, 'Individual', '1st owner', 32000),\n",
    " ('Bajaj Discover 125', 50000, 2016, 'Individual', '1st owner', 42000)]"
   ]
  },
  {
   "cell_type": "markdown",
   "id": "7cdff36a",
   "metadata": {},
   "source": [
    "## Step 1: Preview the data\n",
    "* Let us first preview the data."
   ]
  },
  {
   "cell_type": "code",
   "execution_count": 3,
   "id": "b4f5ae37",
   "metadata": {},
   "outputs": [
    {
     "data": {
      "text/plain": [
       "['name', 'selling_price', 'year', 'seller_type', 'owner', 'km_driven']"
      ]
     },
     "execution_count": 3,
     "metadata": {},
     "output_type": "execute_result"
    }
   ],
   "source": [
    "attributes"
   ]
  },
  {
   "cell_type": "code",
   "execution_count": 4,
   "id": "65b924b5",
   "metadata": {},
   "outputs": [
    {
     "data": {
      "text/plain": [
       "list"
      ]
     },
     "execution_count": 4,
     "metadata": {},
     "output_type": "execute_result"
    }
   ],
   "source": [
    "type(attributes)"
   ]
  },
  {
   "cell_type": "code",
   "execution_count": 5,
   "id": "f2afa7b3",
   "metadata": {},
   "outputs": [
    {
     "data": {
      "text/plain": [
       "[('Royal Enfield Classic 350', 175000, 2019, 'Individual', '1st owner', 350),\n",
       " ('Honda Dio', 45000, 2017, 'Individual', '1st owner', 5650),\n",
       " ('Royal Enfield Classic Gunmetal Grey',\n",
       "  150000,\n",
       "  2018,\n",
       "  'Individual',\n",
       "  '1st owner',\n",
       "  12000),\n",
       " ('Yamaha Fazer FI V 2.0 [2016-2018]',\n",
       "  65000,\n",
       "  2015,\n",
       "  'Individual',\n",
       "  '1st owner',\n",
       "  23000),\n",
       " ('Yamaha SZ [2013-2014]', 20000, 2011, 'Individual', '2nd owner', 21000),\n",
       " ('Honda CB Twister', 18000, 2010, 'Individual', '1st owner', 60000),\n",
       " ('Honda CB Hornet 160R', 78500, 2018, 'Individual', '1st owner', 17000),\n",
       " ('Royal Enfield Bullet 350 [2007-2011]',\n",
       "  180000,\n",
       "  2008,\n",
       "  'Individual',\n",
       "  '2nd owner',\n",
       "  39000),\n",
       " ('Hero Honda CBZ extreme', 30000, 2010, 'Individual', '1st owner', 32000),\n",
       " ('Bajaj Discover 125', 50000, 2016, 'Individual', '1st owner', 42000)]"
      ]
     },
     "execution_count": 5,
     "metadata": {},
     "output_type": "execute_result"
    }
   ],
   "source": [
    "bike_details"
   ]
  },
  {
   "cell_type": "code",
   "execution_count": 6,
   "id": "c38f9993",
   "metadata": {},
   "outputs": [
    {
     "data": {
      "text/plain": [
       "list"
      ]
     },
     "execution_count": 6,
     "metadata": {},
     "output_type": "execute_result"
    }
   ],
   "source": [
    "type(bike_details)"
   ]
  },
  {
   "cell_type": "code",
   "execution_count": 7,
   "id": "c658f4b7",
   "metadata": {},
   "outputs": [
    {
     "data": {
      "text/plain": [
       "('Royal Enfield Classic 350', 175000, 2019, 'Individual', '1st owner', 350)"
      ]
     },
     "execution_count": 7,
     "metadata": {},
     "output_type": "execute_result"
    }
   ],
   "source": [
    "bike_details[0]"
   ]
  },
  {
   "cell_type": "code",
   "execution_count": 8,
   "id": "1fb060d2",
   "metadata": {},
   "outputs": [
    {
     "data": {
      "text/plain": [
       "tuple"
      ]
     },
     "execution_count": 8,
     "metadata": {},
     "output_type": "execute_result"
    }
   ],
   "source": [
    "type(bike_details[0])"
   ]
  },
  {
   "cell_type": "markdown",
   "id": "c95cc6e4",
   "metadata": {},
   "source": [
    "## Step 2: Provide the solution\n",
    "Now come up with the solution by developing the required logic. Once the function is developed, go to the next step to take care of the validation."
   ]
  },
  {
   "cell_type": "code",
   "execution_count": 9,
   "id": "8cc32e7e",
   "metadata": {},
   "outputs": [
    {
     "data": {
      "text/plain": [
       "'name\\tselling_price\\tyear\\tseller_type\\towner\\tkm_driven'"
      ]
     },
     "execution_count": 9,
     "metadata": {},
     "output_type": "execute_result"
    }
   ],
   "source": [
    "'\\t'.join(attributes)"
   ]
  },
  {
   "cell_type": "code",
   "execution_count": 10,
   "id": "d52ea52e",
   "metadata": {},
   "outputs": [
    {
     "data": {
      "text/plain": [
       "('Royal Enfield Classic 350', 175000, 2019, 'Individual', '1st owner', 350)"
      ]
     },
     "execution_count": 10,
     "metadata": {},
     "output_type": "execute_result"
    }
   ],
   "source": [
    "bike = bike_details[0]\n",
    "bike"
   ]
  },
  {
   "cell_type": "code",
   "execution_count": 11,
   "id": "64558a20",
   "metadata": {},
   "outputs": [
    {
     "ename": "TypeError",
     "evalue": "sequence item 1: expected str instance, int found",
     "output_type": "error",
     "traceback": [
      "\u001b[0;31m---------------------------------------------------------------------------\u001b[0m",
      "\u001b[0;31mTypeError\u001b[0m                                 Traceback (most recent call last)",
      "\u001b[0;32m<ipython-input-11-89cf1c2d10ad>\u001b[0m in \u001b[0;36m<module>\u001b[0;34m\u001b[0m\n\u001b[0;32m----> 1\u001b[0;31m \u001b[0;34m'\\t'\u001b[0m\u001b[0;34m.\u001b[0m\u001b[0mjoin\u001b[0m\u001b[0;34m(\u001b[0m\u001b[0mbike\u001b[0m\u001b[0;34m)\u001b[0m \u001b[0;31m# fails as we have integers in our data\u001b[0m\u001b[0;34m\u001b[0m\u001b[0;34m\u001b[0m\u001b[0m\n\u001b[0m",
      "\u001b[0;31mTypeError\u001b[0m: sequence item 1: expected str instance, int found"
     ]
    }
   ],
   "source": [
    "'\\t'.join(bike) # fails as we have integers in our data"
   ]
  },
  {
   "cell_type": "code",
   "execution_count": 12,
   "id": "7ace8773",
   "metadata": {},
   "outputs": [
    {
     "data": {
      "text/plain": [
       "'Royal Enfield Classic 350\\t175000\\t2019\\tIndividual\\t1st owner\\t350'"
      ]
     },
     "execution_count": 12,
     "metadata": {},
     "output_type": "execute_result"
    }
   ],
   "source": [
    "'\\t'.join(map(lambda value: str(value), bike))"
   ]
  },
  {
   "cell_type": "code",
   "execution_count": 13,
   "id": "1e78ec30",
   "metadata": {},
   "outputs": [
    {
     "data": {
      "text/plain": [
       "['Royal Enfield Classic 350\\t175000\\t2019\\tIndividual\\t1st owner\\t350',\n",
       " 'Honda Dio\\t45000\\t2017\\tIndividual\\t1st owner\\t5650',\n",
       " 'Royal Enfield Classic Gunmetal Grey\\t150000\\t2018\\tIndividual\\t1st owner\\t12000',\n",
       " 'Yamaha Fazer FI V 2.0 [2016-2018]\\t65000\\t2015\\tIndividual\\t1st owner\\t23000',\n",
       " 'Yamaha SZ [2013-2014]\\t20000\\t2011\\tIndividual\\t2nd owner\\t21000',\n",
       " 'Honda CB Twister\\t18000\\t2010\\tIndividual\\t1st owner\\t60000',\n",
       " 'Honda CB Hornet 160R\\t78500\\t2018\\tIndividual\\t1st owner\\t17000',\n",
       " 'Royal Enfield Bullet 350 [2007-2011]\\t180000\\t2008\\tIndividual\\t2nd owner\\t39000',\n",
       " 'Hero Honda CBZ extreme\\t30000\\t2010\\tIndividual\\t1st owner\\t32000',\n",
       " 'Bajaj Discover 125\\t50000\\t2016\\tIndividual\\t1st owner\\t42000']"
      ]
     },
     "execution_count": 13,
     "metadata": {},
     "output_type": "execute_result"
    }
   ],
   "source": [
    "list(\n",
    "    map(\n",
    "        lambda bike: '\\t'.join(map(lambda value: str(value), bike)),\n",
    "        bike_details\n",
    "    )\n",
    ")"
   ]
  },
  {
   "cell_type": "code",
   "execution_count": 14,
   "id": "eea769b7",
   "metadata": {},
   "outputs": [],
   "source": [
    "!rm -rf output/bikes/*"
   ]
  },
  {
   "cell_type": "code",
   "execution_count": 15,
   "id": "339de3b1",
   "metadata": {},
   "outputs": [],
   "source": [
    "!mkdir -p output/bikes"
   ]
  },
  {
   "cell_type": "code",
   "execution_count": 16,
   "id": "dd81c35a",
   "metadata": {},
   "outputs": [],
   "source": [
    "location = 'output/bikes/bikes_delimited.tsv'"
   ]
  },
  {
   "cell_type": "code",
   "execution_count": 18,
   "id": "9ec70a62",
   "metadata": {},
   "outputs": [],
   "source": [
    "bike_file = open(location, 'a')"
   ]
  },
  {
   "cell_type": "code",
   "execution_count": 19,
   "id": "b4164048",
   "metadata": {},
   "outputs": [
    {
     "data": {
      "text/plain": [
       "51"
      ]
     },
     "execution_count": 19,
     "metadata": {},
     "output_type": "execute_result"
    }
   ],
   "source": [
    "bike_file.write('\\t'.join(attributes))"
   ]
  },
  {
   "cell_type": "code",
   "execution_count": 20,
   "id": "f68eb375",
   "metadata": {},
   "outputs": [],
   "source": [
    "bike_file.close()"
   ]
  },
  {
   "cell_type": "code",
   "execution_count": 21,
   "id": "4cfec97d",
   "metadata": {},
   "outputs": [
    {
     "data": {
      "text/plain": [
       "'name\\tselling_price\\tyear\\tseller_type\\towner\\tkm_driven'"
      ]
     },
     "execution_count": 21,
     "metadata": {},
     "output_type": "execute_result"
    }
   ],
   "source": [
    "open(location).read()"
   ]
  },
  {
   "cell_type": "code",
   "execution_count": 22,
   "id": "3e71811f",
   "metadata": {},
   "outputs": [
    {
     "data": {
      "text/plain": [
       "['name\\tselling_price\\tyear\\tseller_type\\towner\\tkm_driven']"
      ]
     },
     "execution_count": 22,
     "metadata": {},
     "output_type": "execute_result"
    }
   ],
   "source": [
    "open(location).read().splitlines()"
   ]
  },
  {
   "cell_type": "code",
   "execution_count": 23,
   "id": "a8e0e09e",
   "metadata": {},
   "outputs": [],
   "source": [
    "bike_file = open(location, 'a')"
   ]
  },
  {
   "cell_type": "code",
   "execution_count": 24,
   "id": "0f12a6f5",
   "metadata": {},
   "outputs": [],
   "source": [
    "for bike in list(\n",
    "    map(\n",
    "        lambda bike: '\\t'.join(map(lambda value: str(value), bike)),\n",
    "        bike_details\n",
    "    )\n",
    "):\n",
    "    bike_file.write(bike) # This will write the data with out new line character as record delimiter"
   ]
  },
  {
   "cell_type": "code",
   "execution_count": 25,
   "id": "e00733ea",
   "metadata": {},
   "outputs": [],
   "source": [
    "bike_file.close()"
   ]
  },
  {
   "cell_type": "code",
   "execution_count": 26,
   "id": "b0950103",
   "metadata": {},
   "outputs": [
    {
     "data": {
      "text/plain": [
       "['name\\tselling_price\\tyear\\tseller_type\\towner\\tkm_drivenRoyal Enfield Classic 350\\t175000\\t2019\\tIndividual\\t1st owner\\t350Honda Dio\\t45000\\t2017\\tIndividual\\t1st owner\\t5650Royal Enfield Classic Gunmetal Grey\\t150000\\t2018\\tIndividual\\t1st owner\\t12000Yamaha Fazer FI V 2.0 [2016-2018]\\t65000\\t2015\\tIndividual\\t1st owner\\t23000Yamaha SZ [2013-2014]\\t20000\\t2011\\tIndividual\\t2nd owner\\t21000Honda CB Twister\\t18000\\t2010\\tIndividual\\t1st owner\\t60000Honda CB Hornet 160R\\t78500\\t2018\\tIndividual\\t1st owner\\t17000Royal Enfield Bullet 350 [2007-2011]\\t180000\\t2008\\tIndividual\\t2nd owner\\t39000Hero Honda CBZ extreme\\t30000\\t2010\\tIndividual\\t1st owner\\t32000Bajaj Discover 125\\t50000\\t2016\\tIndividual\\t1st owner\\t42000']"
      ]
     },
     "execution_count": 26,
     "metadata": {},
     "output_type": "execute_result"
    }
   ],
   "source": [
    "open(location).read().splitlines() # The results are not as expected"
   ]
  },
  {
   "cell_type": "code",
   "execution_count": 27,
   "id": "6bef6c96",
   "metadata": {},
   "outputs": [],
   "source": [
    "!rm -rf output/bikes/*"
   ]
  },
  {
   "cell_type": "code",
   "execution_count": 28,
   "id": "b3fa252c",
   "metadata": {},
   "outputs": [],
   "source": [
    "bike_file = open(location, 'a')"
   ]
  },
  {
   "cell_type": "code",
   "execution_count": 29,
   "id": "81d42a9c",
   "metadata": {},
   "outputs": [
    {
     "data": {
      "text/plain": [
       "51"
      ]
     },
     "execution_count": 29,
     "metadata": {},
     "output_type": "execute_result"
    }
   ],
   "source": [
    "bike_file.write('\\t'.join(attributes))"
   ]
  },
  {
   "cell_type": "code",
   "execution_count": 30,
   "id": "c279407f",
   "metadata": {},
   "outputs": [
    {
     "data": {
      "text/plain": [
       "1"
      ]
     },
     "execution_count": 30,
     "metadata": {},
     "output_type": "execute_result"
    }
   ],
   "source": [
    "bike_file.write('\\n')"
   ]
  },
  {
   "cell_type": "code",
   "execution_count": 31,
   "id": "987be1c5",
   "metadata": {},
   "outputs": [],
   "source": [
    "for bike in list(\n",
    "    map(\n",
    "        lambda bike: '\\t'.join(map(lambda value: str(value), bike)),\n",
    "        bike_details\n",
    "    )\n",
    "):\n",
    "    bike_file.write(f'{bike}\\n') # Adding new line character after each record"
   ]
  },
  {
   "cell_type": "code",
   "execution_count": 32,
   "id": "8ad4dc69",
   "metadata": {},
   "outputs": [],
   "source": [
    "bike_file.close()"
   ]
  },
  {
   "cell_type": "code",
   "execution_count": 33,
   "id": "256128b9",
   "metadata": {},
   "outputs": [
    {
     "data": {
      "text/plain": [
       "['name\\tselling_price\\tyear\\tseller_type\\towner\\tkm_driven',\n",
       " 'Royal Enfield Classic 350\\t175000\\t2019\\tIndividual\\t1st owner\\t350',\n",
       " 'Honda Dio\\t45000\\t2017\\tIndividual\\t1st owner\\t5650',\n",
       " 'Royal Enfield Classic Gunmetal Grey\\t150000\\t2018\\tIndividual\\t1st owner\\t12000',\n",
       " 'Yamaha Fazer FI V 2.0 [2016-2018]\\t65000\\t2015\\tIndividual\\t1st owner\\t23000',\n",
       " 'Yamaha SZ [2013-2014]\\t20000\\t2011\\tIndividual\\t2nd owner\\t21000',\n",
       " 'Honda CB Twister\\t18000\\t2010\\tIndividual\\t1st owner\\t60000',\n",
       " 'Honda CB Hornet 160R\\t78500\\t2018\\tIndividual\\t1st owner\\t17000',\n",
       " 'Royal Enfield Bullet 350 [2007-2011]\\t180000\\t2008\\tIndividual\\t2nd owner\\t39000',\n",
       " 'Hero Honda CBZ extreme\\t30000\\t2010\\tIndividual\\t1st owner\\t32000',\n",
       " 'Bajaj Discover 125\\t50000\\t2016\\tIndividual\\t1st owner\\t42000']"
      ]
     },
     "execution_count": 33,
     "metadata": {},
     "output_type": "execute_result"
    }
   ],
   "source": [
    "open(location).read().splitlines() # The results are not as expected"
   ]
  },
  {
   "cell_type": "code",
   "execution_count": 34,
   "id": "ff3b3aaf",
   "metadata": {},
   "outputs": [],
   "source": [
    "def write_bike_details(attributes, bike_details, location, delimiter='\\t'):\n",
    "    #Your code should go here\n",
    "    bike_file = open(location, 'a')\n",
    "    \n",
    "    bike_file.write('\\t'.join(attributes))\n",
    "    bike_file.write('\\n')\n",
    "    \n",
    "    for bike in list(\n",
    "        map(\n",
    "            lambda bike: '\\t'.join(map(lambda value: str(value), bike)),\n",
    "            bike_details\n",
    "        )\n",
    "    ):\n",
    "        bike_file.write(f'{bike}\\n')\n",
    "\n",
    "    bike_file.close()\n",
    "    return"
   ]
  },
  {
   "cell_type": "markdown",
   "id": "5a96f2fe",
   "metadata": {},
   "source": [
    "### Step 3: Validate the function\n",
    "\n",
    "Here is the desired output.\n",
    "\n",
    "```\n",
    "name\tselling_price\tyear\tseller_type\towner\tkm_driven\n",
    "Royal Enfield Bullet 350 [2007-2011]\t180000\t2008\tIndividual\t2nd owner\t39000\n",
    "Hero Honda CBZ extreme\t30000\t2010\tIndividual\t1st owner\t32000\n",
    "Honda CB Twister\t18000\t2010\tIndividual\t1st owner\t60000\n",
    "Yamaha SZ [2013-2014]\t20000\t2011\tIndividual\t2nd owner\t21000\n",
    "Yamaha Fazer FI V 2.0 [2016-2018]\t65000\t2015\tIndividual\t1st owner\t23000\n",
    "Bajaj Discover 125\t50000\t2016\tIndividual\t1st owner\t42000\n",
    "Honda Dio\t45000\t2017\tIndividual\t1st owner\t5650\n",
    "Honda CB Hornet 160R\t78500\t2018\tIndividual\t1st owner\t17000\n",
    "Royal Enfield Classic Gunmetal Grey\t150000\t2018\tIndividual\t1st owner\t12000\n",
    "Royal Enfield Classic 350\t175000\t2019\tIndividual\t1st owner\t350\n",
    "```"
   ]
  },
  {
   "cell_type": "code",
   "execution_count": 35,
   "id": "437b21a5",
   "metadata": {},
   "outputs": [
    {
     "name": "stdout",
     "output_type": "stream",
     "text": [
      "name\tselling_price\tyear\tseller_type\towner\tkm_driven\n",
      "Royal Enfield Classic 350\t175000\t2019\tIndividual\t1st owner\t350\n",
      "Honda Dio\t45000\t2017\tIndividual\t1st owner\t5650\n",
      "Royal Enfield Classic Gunmetal Grey\t150000\t2018\tIndividual\t1st owner\t12000\n",
      "Yamaha Fazer FI V 2.0 [2016-2018]\t65000\t2015\tIndividual\t1st owner\t23000\n",
      "Yamaha SZ [2013-2014]\t20000\t2011\tIndividual\t2nd owner\t21000\n",
      "Honda CB Twister\t18000\t2010\tIndividual\t1st owner\t60000\n",
      "Honda CB Hornet 160R\t78500\t2018\tIndividual\t1st owner\t17000\n",
      "Royal Enfield Bullet 350 [2007-2011]\t180000\t2008\tIndividual\t2nd owner\t39000\n",
      "Hero Honda CBZ extreme\t30000\t2010\tIndividual\t1st owner\t32000\n",
      "Bajaj Discover 125\t50000\t2016\tIndividual\t1st owner\t42000\n"
     ]
    }
   ],
   "source": [
    "!mkdir -p output/bikes\n",
    "!rm output/bikes/bikes_delimited.tsv\n",
    "location = 'output/bikes/bikes_delimited.tsv'\n",
    "write_bike_details(attributes, bike_details, location)\n",
    "!cat output/bikes/bikes_delimited.tsv"
   ]
  },
  {
   "cell_type": "code",
   "execution_count": 36,
   "id": "472f57c9",
   "metadata": {},
   "outputs": [
    {
     "name": "stdout",
     "output_type": "stream",
     "text": [
      "11 output/bikes/bikes_delimited.tsv\n"
     ]
    }
   ],
   "source": [
    "!wc -l output/bikes/bikes_delimited.tsv # 11 output/bikes/bikes_delimited.tsv"
   ]
  },
  {
   "cell_type": "code",
   "execution_count": 37,
   "id": "fe0c5589",
   "metadata": {},
   "outputs": [
    {
     "data": {
      "text/html": [
       "<div>\n",
       "<style scoped>\n",
       "    .dataframe tbody tr th:only-of-type {\n",
       "        vertical-align: middle;\n",
       "    }\n",
       "\n",
       "    .dataframe tbody tr th {\n",
       "        vertical-align: top;\n",
       "    }\n",
       "\n",
       "    .dataframe thead th {\n",
       "        text-align: right;\n",
       "    }\n",
       "</style>\n",
       "<table border=\"1\" class=\"dataframe\">\n",
       "  <thead>\n",
       "    <tr style=\"text-align: right;\">\n",
       "      <th></th>\n",
       "      <th>name</th>\n",
       "      <th>selling_price</th>\n",
       "      <th>year</th>\n",
       "      <th>seller_type</th>\n",
       "      <th>owner</th>\n",
       "      <th>km_driven</th>\n",
       "    </tr>\n",
       "  </thead>\n",
       "  <tbody>\n",
       "    <tr>\n",
       "      <th>0</th>\n",
       "      <td>Royal Enfield Classic 350</td>\n",
       "      <td>175000</td>\n",
       "      <td>2019</td>\n",
       "      <td>Individual</td>\n",
       "      <td>1st owner</td>\n",
       "      <td>350</td>\n",
       "    </tr>\n",
       "    <tr>\n",
       "      <th>1</th>\n",
       "      <td>Honda Dio</td>\n",
       "      <td>45000</td>\n",
       "      <td>2017</td>\n",
       "      <td>Individual</td>\n",
       "      <td>1st owner</td>\n",
       "      <td>5650</td>\n",
       "    </tr>\n",
       "    <tr>\n",
       "      <th>2</th>\n",
       "      <td>Royal Enfield Classic Gunmetal Grey</td>\n",
       "      <td>150000</td>\n",
       "      <td>2018</td>\n",
       "      <td>Individual</td>\n",
       "      <td>1st owner</td>\n",
       "      <td>12000</td>\n",
       "    </tr>\n",
       "    <tr>\n",
       "      <th>3</th>\n",
       "      <td>Yamaha Fazer FI V 2.0 [2016-2018]</td>\n",
       "      <td>65000</td>\n",
       "      <td>2015</td>\n",
       "      <td>Individual</td>\n",
       "      <td>1st owner</td>\n",
       "      <td>23000</td>\n",
       "    </tr>\n",
       "    <tr>\n",
       "      <th>4</th>\n",
       "      <td>Yamaha SZ [2013-2014]</td>\n",
       "      <td>20000</td>\n",
       "      <td>2011</td>\n",
       "      <td>Individual</td>\n",
       "      <td>2nd owner</td>\n",
       "      <td>21000</td>\n",
       "    </tr>\n",
       "    <tr>\n",
       "      <th>5</th>\n",
       "      <td>Honda CB Twister</td>\n",
       "      <td>18000</td>\n",
       "      <td>2010</td>\n",
       "      <td>Individual</td>\n",
       "      <td>1st owner</td>\n",
       "      <td>60000</td>\n",
       "    </tr>\n",
       "    <tr>\n",
       "      <th>6</th>\n",
       "      <td>Honda CB Hornet 160R</td>\n",
       "      <td>78500</td>\n",
       "      <td>2018</td>\n",
       "      <td>Individual</td>\n",
       "      <td>1st owner</td>\n",
       "      <td>17000</td>\n",
       "    </tr>\n",
       "    <tr>\n",
       "      <th>7</th>\n",
       "      <td>Royal Enfield Bullet 350 [2007-2011]</td>\n",
       "      <td>180000</td>\n",
       "      <td>2008</td>\n",
       "      <td>Individual</td>\n",
       "      <td>2nd owner</td>\n",
       "      <td>39000</td>\n",
       "    </tr>\n",
       "    <tr>\n",
       "      <th>8</th>\n",
       "      <td>Hero Honda CBZ extreme</td>\n",
       "      <td>30000</td>\n",
       "      <td>2010</td>\n",
       "      <td>Individual</td>\n",
       "      <td>1st owner</td>\n",
       "      <td>32000</td>\n",
       "    </tr>\n",
       "    <tr>\n",
       "      <th>9</th>\n",
       "      <td>Bajaj Discover 125</td>\n",
       "      <td>50000</td>\n",
       "      <td>2016</td>\n",
       "      <td>Individual</td>\n",
       "      <td>1st owner</td>\n",
       "      <td>42000</td>\n",
       "    </tr>\n",
       "  </tbody>\n",
       "</table>\n",
       "</div>"
      ],
      "text/plain": [
       "                                   name  selling_price  year seller_type  \\\n",
       "0             Royal Enfield Classic 350         175000  2019  Individual   \n",
       "1                             Honda Dio          45000  2017  Individual   \n",
       "2   Royal Enfield Classic Gunmetal Grey         150000  2018  Individual   \n",
       "3     Yamaha Fazer FI V 2.0 [2016-2018]          65000  2015  Individual   \n",
       "4                 Yamaha SZ [2013-2014]          20000  2011  Individual   \n",
       "5                      Honda CB Twister          18000  2010  Individual   \n",
       "6                  Honda CB Hornet 160R          78500  2018  Individual   \n",
       "7  Royal Enfield Bullet 350 [2007-2011]         180000  2008  Individual   \n",
       "8                Hero Honda CBZ extreme          30000  2010  Individual   \n",
       "9                    Bajaj Discover 125          50000  2016  Individual   \n",
       "\n",
       "       owner  km_driven  \n",
       "0  1st owner        350  \n",
       "1  1st owner       5650  \n",
       "2  1st owner      12000  \n",
       "3  1st owner      23000  \n",
       "4  2nd owner      21000  \n",
       "5  1st owner      60000  \n",
       "6  1st owner      17000  \n",
       "7  2nd owner      39000  \n",
       "8  1st owner      32000  \n",
       "9  1st owner      42000  "
      ]
     },
     "execution_count": 37,
     "metadata": {},
     "output_type": "execute_result"
    }
   ],
   "source": [
    "import pandas as pd\n",
    "pd.read_csv('output/bikes/bikes_delimited.tsv', sep='\\t')\n",
    "# You should get a neat and clean Pandas table with 10 records"
   ]
  },
  {
   "cell_type": "code",
   "execution_count": null,
   "id": "0e4ed924",
   "metadata": {},
   "outputs": [],
   "source": []
  }
 ],
 "metadata": {
  "kernelspec": {
   "display_name": "Python 3",
   "language": "python",
   "name": "python3"
  },
  "language_info": {
   "codemirror_mode": {
    "name": "ipython",
    "version": 3
   },
   "file_extension": ".py",
   "mimetype": "text/x-python",
   "name": "python",
   "nbconvert_exporter": "python",
   "pygments_lexer": "ipython3",
   "version": "3.6.12"
  }
 },
 "nbformat": 4,
 "nbformat_minor": 5
}
