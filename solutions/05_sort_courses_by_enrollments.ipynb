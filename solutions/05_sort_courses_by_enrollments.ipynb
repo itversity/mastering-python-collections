{
 "cells": [
  {
   "cell_type": "markdown",
   "id": "3fa7dbd5",
   "metadata": {},
   "source": [
    "## Sort Courses by Enrollments\n",
    "\n",
    "Develop logic to sort the courses by number of enrollments. As part of this Python Practice Test, we are primarily evaluating the ability to understand lists, delimited strings, manipulating strings as well as sorting data based on the criteria.\n",
    "* We will provide course data which will be of type list of strings.\n",
    "* Develop a function which takes the `courses` as input and sort the data by number of enrollments.\n",
    "* Here are the details related to each course record.\n",
    "  * Each record contains values related to 6 course attributes.\n",
    "  * All the values in each record are separated or delimited by `,`.\n",
    "  * Here are the attribute names in the respective order - course id, course name, suitable for or level, enrollment, cumulative rating, and number of ratings.\n",
    "* Make sure the data is sorted numerically in descending order by number of enrollments.\n",
    "* Here is the data provided below in the form of list of strings. Each comma separated or delimited string contain values related to 6 course attributes."
   ]
  },
  {
   "cell_type": "code",
   "execution_count": 1,
   "id": "8e7c8c57",
   "metadata": {},
   "outputs": [],
   "source": [
    "courses = ['1,2020 Complete Python Bootcamp: From Zero to Hero in Python,Beginner,1100093,4.6,318066',\n",
    " '4,Angular - The Complete Guide (2020 Edition),Intermediate,422557,4.6,129984',\n",
    " '12,Automate the Boring Stuff with Python Programming,Advanced,692617,4.6,70508',\n",
    " '10,Complete C# Unity Game Developer 2D,Advanced,364934,4.6,78989',\n",
    " '5,Java Programming Masterclass for Software Developers,Advanced,502572,4.6,123798',\n",
    " '15,Learn Python Programming Masterclass,Advanced,240790,4.5,58677',\n",
    " '3,Machine Learning A-Z™: Hands-On Python & R In Data Science,Intermediate,692812,4.5,132228',\n",
    " '14,Modern React with Redux [2020 Update],Intermediate,203214,4.7,60835',\n",
    " '8,Python for Data Science and Machine Learning Bootcamp,Intermediate,387789,4.6,87403',\n",
    " '6,\"React - The Complete Guide (incl Hooks, React Router, Redux)\",Intermediate,304670,4.6,90964',\n",
    " '18,Selenium WebDriver with Java -Basics to Advanced+Frameworks,Advanced,148562,4.6,49947',\n",
    " '21,Spring & Hibernate for Beginners (includes Spring Boot),Advanced,177053,4.6,45329',\n",
    " '7,The Complete 2020 Web Development Bootcamp,Beginner,270656,4.7,88098',\n",
    " '9,The Complete JavaScript Course 2020: Build Real Projects!,Intermediate,347979,4.6,83521',\n",
    " '16,The Complete Node.js Developer Course (3rd Edition),Advanced,202922,4.7,50885',\n",
    " '13,The Complete Web Developer Course 2.0,Intermediate,273598,4.5,63175',\n",
    " '11,The Data Science Course 2020: Complete Data Science Bootcamp,Beginner,325047,4.5,76907',\n",
    " '20,The Ultimate MySQL Bootcamp: Go from SQL Beginner to Expert,Beginner,203366,4.6,45382',\n",
    " '2,The Web Developer Bootcamp,Beginner,596726,4.6,182997',\n",
    " '19,Unreal Engine C++ Developer: Learn C++ and Make Video Games,Advanced,229005,4.5,45860',\n",
    " '17,iOS 13 & Swift 5 - The Complete iOS App Development Bootcamp,Advanced,179598,4.8,49972']"
   ]
  },
  {
   "cell_type": "markdown",
   "id": "e6e460d5",
   "metadata": {},
   "source": [
    "### Step 1: Preview the data\n",
    "\n",
    "Let us first preview the data."
   ]
  },
  {
   "cell_type": "code",
   "execution_count": 2,
   "id": "1c151b6f",
   "metadata": {},
   "outputs": [
    {
     "data": {
      "text/plain": [
       "['1,2020 Complete Python Bootcamp: From Zero to Hero in Python,Beginner,1100093,4.6,318066',\n",
       " '4,Angular - The Complete Guide (2020 Edition),Intermediate,422557,4.6,129984',\n",
       " '12,Automate the Boring Stuff with Python Programming,Advanced,692617,4.6,70508',\n",
       " '10,Complete C# Unity Game Developer 2D,Advanced,364934,4.6,78989',\n",
       " '5,Java Programming Masterclass for Software Developers,Advanced,502572,4.6,123798',\n",
       " '15,Learn Python Programming Masterclass,Advanced,240790,4.5,58677',\n",
       " '3,Machine Learning A-Z™: Hands-On Python & R In Data Science,Intermediate,692812,4.5,132228',\n",
       " '14,Modern React with Redux [2020 Update],Intermediate,203214,4.7,60835',\n",
       " '8,Python for Data Science and Machine Learning Bootcamp,Intermediate,387789,4.6,87403',\n",
       " '6,\"React - The Complete Guide (incl Hooks, React Router, Redux)\",Intermediate,304670,4.6,90964',\n",
       " '18,Selenium WebDriver with Java -Basics to Advanced+Frameworks,Advanced,148562,4.6,49947',\n",
       " '21,Spring & Hibernate for Beginners (includes Spring Boot),Advanced,177053,4.6,45329',\n",
       " '7,The Complete 2020 Web Development Bootcamp,Beginner,270656,4.7,88098',\n",
       " '9,The Complete JavaScript Course 2020: Build Real Projects!,Intermediate,347979,4.6,83521',\n",
       " '16,The Complete Node.js Developer Course (3rd Edition),Advanced,202922,4.7,50885',\n",
       " '13,The Complete Web Developer Course 2.0,Intermediate,273598,4.5,63175',\n",
       " '11,The Data Science Course 2020: Complete Data Science Bootcamp,Beginner,325047,4.5,76907',\n",
       " '20,The Ultimate MySQL Bootcamp: Go from SQL Beginner to Expert,Beginner,203366,4.6,45382',\n",
       " '2,The Web Developer Bootcamp,Beginner,596726,4.6,182997',\n",
       " '19,Unreal Engine C++ Developer: Learn C++ and Make Video Games,Advanced,229005,4.5,45860',\n",
       " '17,iOS 13 & Swift 5 - The Complete iOS App Development Bootcamp,Advanced,179598,4.8,49972']"
      ]
     },
     "execution_count": 2,
     "metadata": {},
     "output_type": "execute_result"
    }
   ],
   "source": [
    "courses"
   ]
  },
  {
   "cell_type": "code",
   "execution_count": 3,
   "id": "773b204c",
   "metadata": {},
   "outputs": [
    {
     "data": {
      "text/plain": [
       "list"
      ]
     },
     "execution_count": 3,
     "metadata": {},
     "output_type": "execute_result"
    }
   ],
   "source": [
    "type(courses)"
   ]
  },
  {
   "cell_type": "code",
   "execution_count": 4,
   "id": "3a8910bc",
   "metadata": {},
   "outputs": [
    {
     "data": {
      "text/plain": [
       "21"
      ]
     },
     "execution_count": 4,
     "metadata": {},
     "output_type": "execute_result"
    }
   ],
   "source": [
    "len(courses)"
   ]
  },
  {
   "cell_type": "code",
   "execution_count": 5,
   "id": "d185b66d",
   "metadata": {},
   "outputs": [
    {
     "name": "stdout",
     "output_type": "stream",
     "text": [
      "The type of the record 1,2020 Complete Python Bootcamp: From Zero to Hero in Python,Beginner,1100093,4.6,318066 is <class 'str'>\n",
      "The type of the record 4,Angular - The Complete Guide (2020 Edition),Intermediate,422557,4.6,129984 is <class 'str'>\n",
      "The type of the record 12,Automate the Boring Stuff with Python Programming,Advanced,692617,4.6,70508 is <class 'str'>\n",
      "The type of the record 10,Complete C# Unity Game Developer 2D,Advanced,364934,4.6,78989 is <class 'str'>\n",
      "The type of the record 5,Java Programming Masterclass for Software Developers,Advanced,502572,4.6,123798 is <class 'str'>\n",
      "The type of the record 15,Learn Python Programming Masterclass,Advanced,240790,4.5,58677 is <class 'str'>\n",
      "The type of the record 3,Machine Learning A-Z™: Hands-On Python & R In Data Science,Intermediate,692812,4.5,132228 is <class 'str'>\n",
      "The type of the record 14,Modern React with Redux [2020 Update],Intermediate,203214,4.7,60835 is <class 'str'>\n",
      "The type of the record 8,Python for Data Science and Machine Learning Bootcamp,Intermediate,387789,4.6,87403 is <class 'str'>\n",
      "The type of the record 6,\"React - The Complete Guide (incl Hooks, React Router, Redux)\",Intermediate,304670,4.6,90964 is <class 'str'>\n",
      "The type of the record 18,Selenium WebDriver with Java -Basics to Advanced+Frameworks,Advanced,148562,4.6,49947 is <class 'str'>\n",
      "The type of the record 21,Spring & Hibernate for Beginners (includes Spring Boot),Advanced,177053,4.6,45329 is <class 'str'>\n",
      "The type of the record 7,The Complete 2020 Web Development Bootcamp,Beginner,270656,4.7,88098 is <class 'str'>\n",
      "The type of the record 9,The Complete JavaScript Course 2020: Build Real Projects!,Intermediate,347979,4.6,83521 is <class 'str'>\n",
      "The type of the record 16,The Complete Node.js Developer Course (3rd Edition),Advanced,202922,4.7,50885 is <class 'str'>\n",
      "The type of the record 13,The Complete Web Developer Course 2.0,Intermediate,273598,4.5,63175 is <class 'str'>\n",
      "The type of the record 11,The Data Science Course 2020: Complete Data Science Bootcamp,Beginner,325047,4.5,76907 is <class 'str'>\n",
      "The type of the record 20,The Ultimate MySQL Bootcamp: Go from SQL Beginner to Expert,Beginner,203366,4.6,45382 is <class 'str'>\n",
      "The type of the record 2,The Web Developer Bootcamp,Beginner,596726,4.6,182997 is <class 'str'>\n",
      "The type of the record 19,Unreal Engine C++ Developer: Learn C++ and Make Video Games,Advanced,229005,4.5,45860 is <class 'str'>\n",
      "The type of the record 17,iOS 13 & Swift 5 - The Complete iOS App Development Bootcamp,Advanced,179598,4.8,49972 is <class 'str'>\n"
     ]
    }
   ],
   "source": [
    "for course in courses:\n",
    "    print(f'The type of the record {course} is {type(course)}')"
   ]
  },
  {
   "cell_type": "markdown",
   "id": "7bcca9f9",
   "metadata": {},
   "source": [
    "### Step 2: Provide the solution\n",
    "\n",
    "Now come up with the solution by developing the required logic. Once the function is developed, go to the next step to take care of the validation."
   ]
  },
  {
   "cell_type": "code",
   "execution_count": 8,
   "id": "aa8ab4e3",
   "metadata": {},
   "outputs": [],
   "source": [
    "# The logic should go here\n",
    "def sort_courses_by_enrollments(courses):\n",
    "    courses_sorted = sorted(courses, key=lambda course: int(course.split(',')[-3]), reverse=True)\n",
    "    return courses_sorted"
   ]
  },
  {
   "cell_type": "markdown",
   "id": "b14f996d",
   "metadata": {},
   "source": [
    "### Step 3: Validate the function\n",
    "\n",
    "Let us validate the function by running below cells.\n",
    "* Here is the expected output.\n",
    "\n",
    "```python\n",
    "['1,2020 Complete Python Bootcamp: From Zero to Hero in Python,Beginner,1100093,4.6,318066',\n",
    " '3,Machine Learning A-Z™: Hands-On Python & R In Data Science,Intermediate,692812,4.5,132228',\n",
    " '12,Automate the Boring Stuff with Python Programming,Advanced,692617,4.6,70508',\n",
    " '2,The Web Developer Bootcamp,Beginner,596726,4.6,182997',\n",
    " '5,Java Programming Masterclass for Software Developers,Advanced,502572,4.6,123798',\n",
    " '4,Angular - The Complete Guide (2020 Edition),Intermediate,422557,4.6,129984',\n",
    " '8,Python for Data Science and Machine Learning Bootcamp,Intermediate,387789,4.6,87403',\n",
    " '10,Complete C# Unity Game Developer 2D,Advanced,364934,4.6,78989',\n",
    " '9,The Complete JavaScript Course 2020: Build Real Projects!,Intermediate,347979,4.6,83521',\n",
    " '11,The Data Science Course 2020: Complete Data Science Bootcamp,Beginner,325047,4.5,76907',\n",
    " '6,\"React - The Complete Guide (incl Hooks, React Router, Redux)\",Intermediate,304670,4.6,90964',\n",
    " '13,The Complete Web Developer Course 2.0,Intermediate,273598,4.5,63175',\n",
    " '7,The Complete 2020 Web Development Bootcamp,Beginner,270656,4.7,88098',\n",
    " '15,Learn Python Programming Masterclass,Advanced,240790,4.5,58677',\n",
    " '19,Unreal Engine C++ Developer: Learn C++ and Make Video Games,Advanced,229005,4.5,45860',\n",
    " '20,The Ultimate MySQL Bootcamp: Go from SQL Beginner to Expert,Beginner,203366,4.6,45382',\n",
    " '14,Modern React with Redux [2020 Update],Intermediate,203214,4.7,60835',\n",
    " '16,The Complete Node.js Developer Course (3rd Edition),Advanced,202922,4.7,50885',\n",
    " '17,iOS 13 & Swift 5 - The Complete iOS App Development Bootcamp,Advanced,179598,4.8,49972',\n",
    " '21,Spring & Hibernate for Beginners (includes Spring Boot),Advanced,177053,4.6,45329',\n",
    " '18,Selenium WebDriver with Java -Basics to Advanced+Frameworks,Advanced,148562,4.6,49947']\n",
    "```"
   ]
  },
  {
   "cell_type": "code",
   "execution_count": null,
   "id": "6e604af4",
   "metadata": {},
   "outputs": [],
   "source": [
    "courses_sorted = sort_courses_by_enrollments(courses)\n",
    "courses_sorted"
   ]
  },
  {
   "cell_type": "code",
   "execution_count": null,
   "id": "0775a80f",
   "metadata": {},
   "outputs": [],
   "source": [
    "type(courses_sorted) # list"
   ]
  },
  {
   "cell_type": "code",
   "execution_count": null,
   "id": "8b6e83fb",
   "metadata": {},
   "outputs": [],
   "source": [
    "len(courses_sorted) # 21"
   ]
  },
  {
   "cell_type": "code",
   "execution_count": null,
   "id": "6823f699",
   "metadata": {},
   "outputs": [],
   "source": [
    "type(courses_sorted[0]) # str"
   ]
  },
  {
   "cell_type": "code",
   "execution_count": null,
   "id": "ba6d31b1",
   "metadata": {},
   "outputs": [],
   "source": [
    "courses_sorted[0] # '1,2020 Complete Python Bootcamp: From Zero to Hero in Python,Beginner,1100093,4.6,318066'"
   ]
  },
  {
   "cell_type": "code",
   "execution_count": null,
   "id": "bf6c46d1",
   "metadata": {},
   "outputs": [],
   "source": []
  }
 ],
 "metadata": {
  "kernelspec": {
   "display_name": "Python 3",
   "language": "python",
   "name": "python3"
  },
  "language_info": {
   "codemirror_mode": {
    "name": "ipython",
    "version": 3
   },
   "file_extension": ".py",
   "mimetype": "text/x-python",
   "name": "python",
   "nbconvert_exporter": "python",
   "pygments_lexer": "ipython3",
   "version": "3.6.12"
  }
 },
 "nbformat": 4,
 "nbformat_minor": 5
}
