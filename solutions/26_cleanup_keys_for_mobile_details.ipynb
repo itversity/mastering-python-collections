{
 "cells": [
  {
   "cell_type": "markdown",
   "id": "a0a6abca",
   "metadata": {},
   "source": [
    "## Cleanup keys for mobile details\n",
    "\n",
    "Develop a function to get mobile details to remove **mobile** from the keys in all the list of phone details. The elements in the list are of type `dict`.\n",
    "* The input data will be given in the form of list of dicts with mobile phone specifications.\n",
    "* The output should contain the same elements in the form of list of dicts, however the keys should not contain **mobile** in them."
   ]
  },
  {
   "cell_type": "code",
   "execution_count": null,
   "id": "3bf8ead4",
   "metadata": {},
   "outputs": [],
   "source": [
    "mobile_details = [{'mobile_company': 'Apple',\n",
    "  'mobile_model': 'Iphone 12',\n",
    "  'mobile_ram': 4,\n",
    "  'mobile_storage': 256,\n",
    "  'mobile_os': 'iOS'},\n",
    " {'mobile_company': 'Xiaomi',\n",
    "  'mobile_model': 'Redmi 9',\n",
    "  'mobile_ram': 4,\n",
    "  'mobile_storage': 64,\n",
    "  'mobile_os': 'android'},\n",
    " {'mobile_company': 'One plus',\n",
    "  'mobile_model': 'One plus 9R',\n",
    "  'mobile_ram': 6,\n",
    "  'mobile_storage': 128,\n",
    "  'mobile_os': 'android'},\n",
    " {'mobile_company': 'Samsung',\n",
    "  'mobile_model': 'Galaxy M32',\n",
    "  'mobile_ram': 4,\n",
    "  'mobile_storage': 64,\n",
    "  'mobile_os': 'android'},\n",
    " {'mobile_company': 'Xiaomi',\n",
    "  'mobile_model': 'Redmi note 10 pro',\n",
    "  'mobile_ram': 8,\n",
    "  'mobile_storage': 128,\n",
    "  'mobile_os': 'android'},\n",
    " {'mobile_company': 'One plus',\n",
    "  'mobile_model': 'One plus Nord',\n",
    "  'mobile_ram': 4,\n",
    "  'mobile_storage': 128,\n",
    "  'mobile_os': 'android'},\n",
    " {'mobile_company': 'Apple',\n",
    "  'mobile_model': 'Iphone X',\n",
    "  'mobile_ram': 4,\n",
    "  'mobile_storage': 256,\n",
    "  'mobile_os': 'android'},\n",
    " {'mobile_company': 'Oppo',\n",
    "  'mobile_model': 'Oppo A31',\n",
    "  'mobile_ram': 4,\n",
    "  'mobile_storage': 64,\n",
    "  'mobile_os': 'iOS'}]"
   ]
  },
  {
   "cell_type": "markdown",
   "id": "fd8551b2",
   "metadata": {},
   "source": [
    "### Step 1: Preview the data\n",
    "* Let us first preview the data."
   ]
  },
  {
   "cell_type": "code",
   "execution_count": null,
   "id": "18bcac35",
   "metadata": {},
   "outputs": [],
   "source": [
    "mobile_details"
   ]
  },
  {
   "cell_type": "code",
   "execution_count": null,
   "id": "a98d5b58",
   "metadata": {},
   "outputs": [],
   "source": [
    "type(phone_details)"
   ]
  },
  {
   "cell_type": "code",
   "execution_count": null,
   "id": "4ec45516",
   "metadata": {},
   "outputs": [],
   "source": [
    "len(phone_details)"
   ]
  },
  {
   "cell_type": "code",
   "execution_count": null,
   "id": "18644b83",
   "metadata": {},
   "outputs": [],
   "source": [
    "phone_details[0]"
   ]
  },
  {
   "cell_type": "code",
   "execution_count": null,
   "id": "3009d553",
   "metadata": {},
   "outputs": [],
   "source": [
    "type(phone_details[0])"
   ]
  },
  {
   "cell_type": "code",
   "execution_count": null,
   "id": "40e81c9e",
   "metadata": {},
   "outputs": [],
   "source": [
    "len(phone_details[0])"
   ]
  },
  {
   "cell_type": "markdown",
   "id": "7e82cc9f",
   "metadata": {},
   "source": [
    "### Step 2: Provide the solution\n",
    "Now come up with the solution by developing the required logic. Once the function is developed, go to the next step to take care of the validation."
   ]
  },
  {
   "cell_type": "code",
   "execution_count": null,
   "id": "0453b42c",
   "metadata": {},
   "outputs": [],
   "source": [
    "def get_mobile_details(phone_details):\n",
    "#your code should go hers\n",
    "\n",
    "    return "
   ]
  },
  {
   "cell_type": "markdown",
   "id": "e3215332",
   "metadata": {},
   "source": [
    "### Step 3: Validate the function\n",
    "Here is the expected output.\n",
    "```python\n",
    "[{'company': 'Apple',\n",
    "  'model': 'Iphone 12',\n",
    "  'ram': 4,\n",
    "  'storage': 256,\n",
    "  'os': 'iOS'},\n",
    " {'company': 'Xiaomi',\n",
    "  'model': 'Redmi 9',\n",
    "  'ram': 4,\n",
    "  'storage': 64,\n",
    "  'os': 'android'},\n",
    " {'company': 'One plus',\n",
    "  'model': 'One plus 9R',\n",
    "  'ram': 6,\n",
    "  'storage': 128,\n",
    "  'os': 'android'},\n",
    " {'company': 'Samsung',\n",
    "  'model': 'Galaxy M32',\n",
    "  'ram': 4,\n",
    "  'storage': 64,\n",
    "  'os': 'android'},\n",
    " {'company': 'Xiaomi',\n",
    "  'model': 'Redmi note 10 pro',\n",
    "  'ram': 8,\n",
    "  'storage': 128,\n",
    "  'os': 'android'},\n",
    " {'company': 'One plus',\n",
    "  'model': 'One plus Nord',\n",
    "  'ram': 4,\n",
    "  'storage': 128,\n",
    "  'os': 'android'},\n",
    " {'company': 'Apple',\n",
    "  'model': 'Iphone X',\n",
    "  'ram': 4,\n",
    "  'storage': 256,\n",
    "  'os': 'android'},\n",
    " {'company': 'Oppo',\n",
    "  'model': 'Oppo A31',\n",
    "  'ram': 4,\n",
    "  'storage': 64,\n",
    "  'os': 'iOS'}]\n",
    "```"
   ]
  },
  {
   "cell_type": "code",
   "execution_count": null,
   "id": "1987442a",
   "metadata": {},
   "outputs": [],
   "source": [
    "mobile_details = get_mobile_details(phone_details)\n",
    "mobile_details"
   ]
  },
  {
   "cell_type": "code",
   "execution_count": null,
   "id": "92fac04e",
   "metadata": {},
   "outputs": [],
   "source": [
    "type(mobile_details) # list"
   ]
  },
  {
   "cell_type": "code",
   "execution_count": null,
   "id": "49767be4",
   "metadata": {},
   "outputs": [],
   "source": [
    "len(mobile_details) # 3"
   ]
  },
  {
   "cell_type": "code",
   "execution_count": null,
   "id": "64080455",
   "metadata": {},
   "outputs": [],
   "source": [
    "mobile_details[0] # Check that keys does not contain mobile_"
   ]
  }
 ],
 "metadata": {
  "kernelspec": {
   "display_name": "Python 3",
   "language": "python",
   "name": "python3"
  },
  "language_info": {
   "codemirror_mode": {
    "name": "ipython",
    "version": 3
   },
   "file_extension": ".py",
   "mimetype": "text/x-python",
   "name": "python",
   "nbconvert_exporter": "python",
   "pygments_lexer": "ipython3",
   "version": "3.6.12"
  }
 },
 "nbformat": 4,
 "nbformat_minor": 5
}
