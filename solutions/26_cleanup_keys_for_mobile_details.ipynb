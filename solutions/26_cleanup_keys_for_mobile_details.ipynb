{
 "cells": [
  {
   "cell_type": "markdown",
   "id": "e203edc2",
   "metadata": {},
   "source": [
    "## Cleanup keys for mobile details\n",
    "\n",
    "Develop a function to get mobile details to remove **mobile** from the keys in all the list of phone details. The elements in the list are of type `dict`.\n",
    "* The input data will be given in the form of list of dicts with mobile phone specifications.\n",
    "* The output should contain the same elements in the form of list of dicts, however the keys should not contain **mobile** in them."
   ]
  },
  {
   "cell_type": "code",
   "execution_count": 1,
   "id": "259fe0c4",
   "metadata": {},
   "outputs": [],
   "source": [
    "mobile_details = [{'mobile_company': 'Apple',\n",
    "  'mobile_model': 'Iphone 12',\n",
    "  'mobile_ram': 4,\n",
    "  'mobile_storage': 256,\n",
    "  'mobile_os': 'iOS'},\n",
    " {'mobile_company': 'Xiaomi',\n",
    "  'mobile_model': 'Redmi 9',\n",
    "  'mobile_ram': 4,\n",
    "  'mobile_storage': 64,\n",
    "  'mobile_os': 'android'},\n",
    " {'mobile_company': 'One plus',\n",
    "  'mobile_model': 'One plus 9R',\n",
    "  'mobile_ram': 6,\n",
    "  'mobile_storage': 128,\n",
    "  'mobile_os': 'android'},\n",
    " {'mobile_company': 'Samsung',\n",
    "  'mobile_model': 'Galaxy M32',\n",
    "  'mobile_ram': 4,\n",
    "  'mobile_storage': 64,\n",
    "  'mobile_os': 'android'},\n",
    " {'mobile_company': 'Xiaomi',\n",
    "  'mobile_model': 'Redmi note 10 pro',\n",
    "  'mobile_ram': 8,\n",
    "  'mobile_storage': 128,\n",
    "  'mobile_os': 'android'},\n",
    " {'mobile_company': 'One plus',\n",
    "  'mobile_model': 'One plus Nord',\n",
    "  'mobile_ram': 4,\n",
    "  'mobile_storage': 128,\n",
    "  'mobile_os': 'android'},\n",
    " {'mobile_company': 'Apple',\n",
    "  'mobile_model': 'Iphone X',\n",
    "  'mobile_ram': 4,\n",
    "  'mobile_storage': 256,\n",
    "  'mobile_os': 'android'},\n",
    " {'mobile_company': 'Oppo',\n",
    "  'mobile_model': 'Oppo A31',\n",
    "  'mobile_ram': 4,\n",
    "  'mobile_storage': 64,\n",
    "  'mobile_os': 'iOS'}]"
   ]
  },
  {
   "cell_type": "markdown",
   "id": "0122eb25",
   "metadata": {},
   "source": [
    "### Step 1: Preview the data\n",
    "* Let us first preview the data."
   ]
  },
  {
   "cell_type": "code",
   "execution_count": 2,
   "id": "ccc58cdf",
   "metadata": {},
   "outputs": [
    {
     "data": {
      "text/plain": [
       "[{'mobile_company': 'Apple',\n",
       "  'mobile_model': 'Iphone 12',\n",
       "  'mobile_ram': 4,\n",
       "  'mobile_storage': 256,\n",
       "  'mobile_os': 'iOS'},\n",
       " {'mobile_company': 'Xiaomi',\n",
       "  'mobile_model': 'Redmi 9',\n",
       "  'mobile_ram': 4,\n",
       "  'mobile_storage': 64,\n",
       "  'mobile_os': 'android'},\n",
       " {'mobile_company': 'One plus',\n",
       "  'mobile_model': 'One plus 9R',\n",
       "  'mobile_ram': 6,\n",
       "  'mobile_storage': 128,\n",
       "  'mobile_os': 'android'},\n",
       " {'mobile_company': 'Samsung',\n",
       "  'mobile_model': 'Galaxy M32',\n",
       "  'mobile_ram': 4,\n",
       "  'mobile_storage': 64,\n",
       "  'mobile_os': 'android'},\n",
       " {'mobile_company': 'Xiaomi',\n",
       "  'mobile_model': 'Redmi note 10 pro',\n",
       "  'mobile_ram': 8,\n",
       "  'mobile_storage': 128,\n",
       "  'mobile_os': 'android'},\n",
       " {'mobile_company': 'One plus',\n",
       "  'mobile_model': 'One plus Nord',\n",
       "  'mobile_ram': 4,\n",
       "  'mobile_storage': 128,\n",
       "  'mobile_os': 'android'},\n",
       " {'mobile_company': 'Apple',\n",
       "  'mobile_model': 'Iphone X',\n",
       "  'mobile_ram': 4,\n",
       "  'mobile_storage': 256,\n",
       "  'mobile_os': 'android'},\n",
       " {'mobile_company': 'Oppo',\n",
       "  'mobile_model': 'Oppo A31',\n",
       "  'mobile_ram': 4,\n",
       "  'mobile_storage': 64,\n",
       "  'mobile_os': 'iOS'}]"
      ]
     },
     "execution_count": 2,
     "metadata": {},
     "output_type": "execute_result"
    }
   ],
   "source": [
    "mobile_details"
   ]
  },
  {
   "cell_type": "code",
   "execution_count": 3,
   "id": "8fad8760",
   "metadata": {},
   "outputs": [
    {
     "data": {
      "text/plain": [
       "list"
      ]
     },
     "execution_count": 3,
     "metadata": {},
     "output_type": "execute_result"
    }
   ],
   "source": [
    "type(mobile_details)"
   ]
  },
  {
   "cell_type": "code",
   "execution_count": 4,
   "id": "1e76e1d1",
   "metadata": {},
   "outputs": [
    {
     "data": {
      "text/plain": [
       "8"
      ]
     },
     "execution_count": 4,
     "metadata": {},
     "output_type": "execute_result"
    }
   ],
   "source": [
    "len(mobile_details)"
   ]
  },
  {
   "cell_type": "code",
   "execution_count": 5,
   "id": "8a6755be",
   "metadata": {},
   "outputs": [
    {
     "data": {
      "text/plain": [
       "{'mobile_company': 'Apple',\n",
       " 'mobile_model': 'Iphone 12',\n",
       " 'mobile_ram': 4,\n",
       " 'mobile_storage': 256,\n",
       " 'mobile_os': 'iOS'}"
      ]
     },
     "execution_count": 5,
     "metadata": {},
     "output_type": "execute_result"
    }
   ],
   "source": [
    "mobile_details[0]"
   ]
  },
  {
   "cell_type": "code",
   "execution_count": 6,
   "id": "15a41d61",
   "metadata": {},
   "outputs": [
    {
     "data": {
      "text/plain": [
       "dict"
      ]
     },
     "execution_count": 6,
     "metadata": {},
     "output_type": "execute_result"
    }
   ],
   "source": [
    "type(mobile_details[0])"
   ]
  },
  {
   "cell_type": "code",
   "execution_count": 7,
   "id": "709a25e0",
   "metadata": {},
   "outputs": [
    {
     "data": {
      "text/plain": [
       "5"
      ]
     },
     "execution_count": 7,
     "metadata": {},
     "output_type": "execute_result"
    }
   ],
   "source": [
    "len(mobile_details[0])"
   ]
  },
  {
   "cell_type": "markdown",
   "id": "a7254fef",
   "metadata": {},
   "source": [
    "### Step 2: Provide the solution\n",
    "Now come up with the solution by developing the required logic. Once the function is developed, go to the next step to take care of the validation."
   ]
  },
  {
   "cell_type": "code",
   "execution_count": 8,
   "id": "24c35035",
   "metadata": {},
   "outputs": [
    {
     "data": {
      "text/plain": [
       "{'mobile_company': 'Apple',\n",
       " 'mobile_model': 'Iphone 12',\n",
       " 'mobile_ram': 4,\n",
       " 'mobile_storage': 256,\n",
       " 'mobile_os': 'iOS'}"
      ]
     },
     "execution_count": 8,
     "metadata": {},
     "output_type": "execute_result"
    }
   ],
   "source": [
    "mobile_details[0]"
   ]
  },
  {
   "cell_type": "code",
   "execution_count": 9,
   "id": "c2407365",
   "metadata": {},
   "outputs": [
    {
     "data": {
      "text/plain": [
       "{'mobile_company': 'Apple',\n",
       " 'mobile_model': 'Iphone 12',\n",
       " 'mobile_ram': 4,\n",
       " 'mobile_storage': 256,\n",
       " 'mobile_os': 'iOS'}"
      ]
     },
     "execution_count": 9,
     "metadata": {},
     "output_type": "execute_result"
    }
   ],
   "source": [
    "mobile = mobile_details[0]\n",
    "mobile"
   ]
  },
  {
   "cell_type": "code",
   "execution_count": 10,
   "id": "c699664d",
   "metadata": {},
   "outputs": [
    {
     "data": {
      "text/plain": [
       "dict_items([('mobile_company', 'Apple'), ('mobile_model', 'Iphone 12'), ('mobile_ram', 4), ('mobile_storage', 256), ('mobile_os', 'iOS')])"
      ]
     },
     "execution_count": 10,
     "metadata": {},
     "output_type": "execute_result"
    }
   ],
   "source": [
    "mobile.items()"
   ]
  },
  {
   "cell_type": "code",
   "execution_count": 11,
   "id": "09f273f8",
   "metadata": {},
   "outputs": [
    {
     "data": {
      "text/plain": [
       "[('company', 'Apple'),\n",
       " ('model', 'Iphone 12'),\n",
       " ('ram', 4),\n",
       " ('storage', 256),\n",
       " ('os', 'iOS')]"
      ]
     },
     "execution_count": 11,
     "metadata": {},
     "output_type": "execute_result"
    }
   ],
   "source": [
    "list(map(lambda mobile: (mobile[0].replace('mobile_', ''), mobile[1]), mobile.items()))"
   ]
  },
  {
   "cell_type": "code",
   "execution_count": 12,
   "id": "b6119e04",
   "metadata": {},
   "outputs": [
    {
     "data": {
      "text/plain": [
       "{'company': 'Apple',\n",
       " 'model': 'Iphone 12',\n",
       " 'ram': 4,\n",
       " 'storage': 256,\n",
       " 'os': 'iOS'}"
      ]
     },
     "execution_count": 12,
     "metadata": {},
     "output_type": "execute_result"
    }
   ],
   "source": [
    "dict(map(lambda item: (item[0].replace('mobile_', ''), item[1]), mobile.items()))"
   ]
  },
  {
   "cell_type": "code",
   "execution_count": 13,
   "id": "12b452bd",
   "metadata": {},
   "outputs": [
    {
     "data": {
      "text/plain": [
       "[{'company': 'Apple',\n",
       "  'model': 'Iphone 12',\n",
       "  'ram': 4,\n",
       "  'storage': 256,\n",
       "  'os': 'iOS'},\n",
       " {'company': 'Xiaomi',\n",
       "  'model': 'Redmi 9',\n",
       "  'ram': 4,\n",
       "  'storage': 64,\n",
       "  'os': 'android'},\n",
       " {'company': 'One plus',\n",
       "  'model': 'One plus 9R',\n",
       "  'ram': 6,\n",
       "  'storage': 128,\n",
       "  'os': 'android'},\n",
       " {'company': 'Samsung',\n",
       "  'model': 'Galaxy M32',\n",
       "  'ram': 4,\n",
       "  'storage': 64,\n",
       "  'os': 'android'},\n",
       " {'company': 'Xiaomi',\n",
       "  'model': 'Redmi note 10 pro',\n",
       "  'ram': 8,\n",
       "  'storage': 128,\n",
       "  'os': 'android'},\n",
       " {'company': 'One plus',\n",
       "  'model': 'One plus Nord',\n",
       "  'ram': 4,\n",
       "  'storage': 128,\n",
       "  'os': 'android'},\n",
       " {'company': 'Apple',\n",
       "  'model': 'Iphone X',\n",
       "  'ram': 4,\n",
       "  'storage': 256,\n",
       "  'os': 'android'},\n",
       " {'company': 'Oppo',\n",
       "  'model': 'Oppo A31',\n",
       "  'ram': 4,\n",
       "  'storage': 64,\n",
       "  'os': 'iOS'}]"
      ]
     },
     "execution_count": 13,
     "metadata": {},
     "output_type": "execute_result"
    }
   ],
   "source": [
    "list(\n",
    "    map(\n",
    "        lambda mobile: dict(\n",
    "            map(\n",
    "                lambda item: (item[0].replace('mobile_', ''), item[1]), \n",
    "                mobile.items()\n",
    "            )\n",
    "        ), \n",
    "        mobile_details\n",
    "    )\n",
    ")"
   ]
  },
  {
   "cell_type": "code",
   "execution_count": 14,
   "id": "da7cbc4c",
   "metadata": {},
   "outputs": [],
   "source": [
    "def get_mobile_details(mobile_details):\n",
    "    #your code should go hers\n",
    "    mobiles = list(\n",
    "        map(\n",
    "            lambda mobile: dict(\n",
    "                map(\n",
    "                    lambda item: (item[0].replace('mobile_', ''), item[1]), \n",
    "                    mobile.items()\n",
    "                )\n",
    "            ), \n",
    "            mobile_details\n",
    "        )\n",
    "    )\n",
    "    return mobiles"
   ]
  },
  {
   "cell_type": "markdown",
   "id": "0fdacb2d",
   "metadata": {},
   "source": [
    "### Step 3: Validate the function\n",
    "Here is the expected output.\n",
    "```python\n",
    "[{'company': 'Apple',\n",
    "  'model': 'Iphone 12',\n",
    "  'ram': 4,\n",
    "  'storage': 256,\n",
    "  'os': 'iOS'},\n",
    " {'company': 'Xiaomi',\n",
    "  'model': 'Redmi 9',\n",
    "  'ram': 4,\n",
    "  'storage': 64,\n",
    "  'os': 'android'},\n",
    " {'company': 'One plus',\n",
    "  'model': 'One plus 9R',\n",
    "  'ram': 6,\n",
    "  'storage': 128,\n",
    "  'os': 'android'},\n",
    " {'company': 'Samsung',\n",
    "  'model': 'Galaxy M32',\n",
    "  'ram': 4,\n",
    "  'storage': 64,\n",
    "  'os': 'android'},\n",
    " {'company': 'Xiaomi',\n",
    "  'model': 'Redmi note 10 pro',\n",
    "  'ram': 8,\n",
    "  'storage': 128,\n",
    "  'os': 'android'},\n",
    " {'company': 'One plus',\n",
    "  'model': 'One plus Nord',\n",
    "  'ram': 4,\n",
    "  'storage': 128,\n",
    "  'os': 'android'},\n",
    " {'company': 'Apple',\n",
    "  'model': 'Iphone X',\n",
    "  'ram': 4,\n",
    "  'storage': 256,\n",
    "  'os': 'android'},\n",
    " {'company': 'Oppo',\n",
    "  'model': 'Oppo A31',\n",
    "  'ram': 4,\n",
    "  'storage': 64,\n",
    "  'os': 'iOS'}]\n",
    "```"
   ]
  },
  {
   "cell_type": "code",
   "execution_count": 15,
   "id": "33428b41",
   "metadata": {},
   "outputs": [
    {
     "data": {
      "text/plain": [
       "[{'company': 'Apple',\n",
       "  'model': 'Iphone 12',\n",
       "  'ram': 4,\n",
       "  'storage': 256,\n",
       "  'os': 'iOS'},\n",
       " {'company': 'Xiaomi',\n",
       "  'model': 'Redmi 9',\n",
       "  'ram': 4,\n",
       "  'storage': 64,\n",
       "  'os': 'android'},\n",
       " {'company': 'One plus',\n",
       "  'model': 'One plus 9R',\n",
       "  'ram': 6,\n",
       "  'storage': 128,\n",
       "  'os': 'android'},\n",
       " {'company': 'Samsung',\n",
       "  'model': 'Galaxy M32',\n",
       "  'ram': 4,\n",
       "  'storage': 64,\n",
       "  'os': 'android'},\n",
       " {'company': 'Xiaomi',\n",
       "  'model': 'Redmi note 10 pro',\n",
       "  'ram': 8,\n",
       "  'storage': 128,\n",
       "  'os': 'android'},\n",
       " {'company': 'One plus',\n",
       "  'model': 'One plus Nord',\n",
       "  'ram': 4,\n",
       "  'storage': 128,\n",
       "  'os': 'android'},\n",
       " {'company': 'Apple',\n",
       "  'model': 'Iphone X',\n",
       "  'ram': 4,\n",
       "  'storage': 256,\n",
       "  'os': 'android'},\n",
       " {'company': 'Oppo',\n",
       "  'model': 'Oppo A31',\n",
       "  'ram': 4,\n",
       "  'storage': 64,\n",
       "  'os': 'iOS'}]"
      ]
     },
     "execution_count": 15,
     "metadata": {},
     "output_type": "execute_result"
    }
   ],
   "source": [
    "mobiles = get_mobile_details(mobile_details)\n",
    "mobiles"
   ]
  },
  {
   "cell_type": "code",
   "execution_count": 16,
   "id": "51273288",
   "metadata": {},
   "outputs": [
    {
     "data": {
      "text/plain": [
       "list"
      ]
     },
     "execution_count": 16,
     "metadata": {},
     "output_type": "execute_result"
    }
   ],
   "source": [
    "type(mobiles) # list"
   ]
  },
  {
   "cell_type": "code",
   "execution_count": 17,
   "id": "5a3224d8",
   "metadata": {},
   "outputs": [
    {
     "data": {
      "text/plain": [
       "8"
      ]
     },
     "execution_count": 17,
     "metadata": {},
     "output_type": "execute_result"
    }
   ],
   "source": [
    "len(mobiles) # 3"
   ]
  },
  {
   "cell_type": "code",
   "execution_count": 18,
   "id": "40625cc3",
   "metadata": {},
   "outputs": [
    {
     "data": {
      "text/plain": [
       "{'company': 'Apple',\n",
       " 'model': 'Iphone 12',\n",
       " 'ram': 4,\n",
       " 'storage': 256,\n",
       " 'os': 'iOS'}"
      ]
     },
     "execution_count": 18,
     "metadata": {},
     "output_type": "execute_result"
    }
   ],
   "source": [
    "mobiles[0] # Check that keys does not contain mobile_"
   ]
  },
  {
   "cell_type": "code",
   "execution_count": null,
   "id": "69a9da71",
   "metadata": {},
   "outputs": [],
   "source": []
  }
 ],
 "metadata": {
  "kernelspec": {
   "display_name": "Python 3",
   "language": "python",
   "name": "python3"
  },
  "language_info": {
   "codemirror_mode": {
    "name": "ipython",
    "version": 3
   },
   "file_extension": ".py",
   "mimetype": "text/x-python",
   "name": "python",
   "nbconvert_exporter": "python",
   "pygments_lexer": "ipython3",
   "version": "3.6.12"
  }
 },
 "nbformat": 4,
 "nbformat_minor": 5
}
