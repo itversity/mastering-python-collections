{
 "cells": [
  {
   "cell_type": "markdown",
   "id": "38f285a0",
   "metadata": {},
   "source": [
    "## Number of Occurences of an element in the list\n",
    "\n",
    "Develop the logic to find number of occurences of an element in the list."
   ]
  },
  {
   "cell_type": "code",
   "execution_count": 1,
   "id": "d9428eff",
   "metadata": {},
   "outputs": [],
   "source": [
    "input_list = [1, 5, 3, 2, 1, 2, 5, 3]"
   ]
  },
  {
   "cell_type": "markdown",
   "id": "42f0c6d5",
   "metadata": {},
   "source": [
    "### Step 1: Preview the data\n",
    "\n",
    "Let us first preview the data."
   ]
  },
  {
   "cell_type": "code",
   "execution_count": 2,
   "id": "e2f5b295",
   "metadata": {},
   "outputs": [
    {
     "data": {
      "text/plain": [
       "[1, 5, 3, 2, 1, 2, 5, 3]"
      ]
     },
     "execution_count": 2,
     "metadata": {},
     "output_type": "execute_result"
    }
   ],
   "source": [
    "input_list"
   ]
  },
  {
   "cell_type": "code",
   "execution_count": 3,
   "id": "d1c0bff8",
   "metadata": {},
   "outputs": [
    {
     "data": {
      "text/plain": [
       "list"
      ]
     },
     "execution_count": 3,
     "metadata": {},
     "output_type": "execute_result"
    }
   ],
   "source": [
    "type(input_list)"
   ]
  },
  {
   "cell_type": "code",
   "execution_count": 5,
   "id": "e2478624",
   "metadata": {},
   "outputs": [
    {
     "data": {
      "text/plain": [
       "8"
      ]
     },
     "execution_count": 5,
     "metadata": {},
     "output_type": "execute_result"
    }
   ],
   "source": [
    "len(input_list)"
   ]
  },
  {
   "cell_type": "code",
   "execution_count": 6,
   "id": "cad699ff",
   "metadata": {},
   "outputs": [
    {
     "name": "stdout",
     "output_type": "stream",
     "text": [
      "The type of value 1 is <class 'int'>\n",
      "The type of value 5 is <class 'int'>\n",
      "The type of value 3 is <class 'int'>\n",
      "The type of value 2 is <class 'int'>\n",
      "The type of value 1 is <class 'int'>\n",
      "The type of value 2 is <class 'int'>\n",
      "The type of value 5 is <class 'int'>\n",
      "The type of value 3 is <class 'int'>\n"
     ]
    }
   ],
   "source": [
    "for item in input_list:\n",
    "    print(f'The type of value {item} is {type(item)}')"
   ]
  },
  {
   "cell_type": "markdown",
   "id": "9572ba5a",
   "metadata": {},
   "source": [
    "### Step 2: Provide the solution\n",
    "\n",
    "Now come up with the solution by developing the required logic. Once the function is developed, go to the next step to take care of the validation."
   ]
  },
  {
   "cell_type": "code",
   "execution_count": 11,
   "id": "525fc86d",
   "metadata": {},
   "outputs": [],
   "source": [
    "# Provide solution using available functions on list\n",
    "def count_element_using_func(l, e):\n",
    "    cnt = len(list(filter(lambda item: item == e, l)))\n",
    "    return cnt"
   ]
  },
  {
   "cell_type": "code",
   "execution_count": 15,
   "id": "b3a4adb5",
   "metadata": {},
   "outputs": [],
   "source": [
    "# Provide solution using conventional for loop and if condition\n",
    "def count_element_using_loops(l, e):\n",
    "    cnt = 0\n",
    "    for item in l:\n",
    "        if item == e:\n",
    "            cnt += 1\n",
    "    return cnt"
   ]
  },
  {
   "cell_type": "markdown",
   "id": "1c1eeeea",
   "metadata": {},
   "source": [
    "### Step 3: Validate the function\n",
    "\n",
    "Let us validate the function by running below cells."
   ]
  },
  {
   "cell_type": "code",
   "execution_count": 16,
   "id": "32f6cfef",
   "metadata": {},
   "outputs": [
    {
     "data": {
      "text/plain": [
       "2"
      ]
     },
     "execution_count": 16,
     "metadata": {},
     "output_type": "execute_result"
    }
   ],
   "source": [
    "count_element_using_func(input_list, 5) # Output should be 2"
   ]
  },
  {
   "cell_type": "code",
   "execution_count": 17,
   "id": "3f9f7526",
   "metadata": {},
   "outputs": [
    {
     "data": {
      "text/plain": [
       "2"
      ]
     },
     "execution_count": 17,
     "metadata": {},
     "output_type": "execute_result"
    }
   ],
   "source": [
    "count_element_using_loops(input_list, 5) # Output should be 2"
   ]
  },
  {
   "cell_type": "code",
   "execution_count": null,
   "id": "781d390c",
   "metadata": {},
   "outputs": [],
   "source": []
  }
 ],
 "metadata": {
  "kernelspec": {
   "display_name": "Python 3",
   "language": "python",
   "name": "python3"
  },
  "language_info": {
   "codemirror_mode": {
    "name": "ipython",
    "version": 3
   },
   "file_extension": ".py",
   "mimetype": "text/x-python",
   "name": "python",
   "nbconvert_exporter": "python",
   "pygments_lexer": "ipython3",
   "version": "3.6.12"
  }
 },
 "nbformat": 4,
 "nbformat_minor": 5
}
