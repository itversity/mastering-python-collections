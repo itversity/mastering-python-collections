{
 "cells": [
  {
   "cell_type": "markdown",
   "id": "41f3e7ce",
   "metadata": {},
   "source": [
    "## Get list of Placement Seekers\n",
    "\n",
    "Develop a function which gives list of individuals who are seeking for placement assistance.\n",
    "* Location of the data: **data/python_assessments/aspirants.csv**.\n",
    "* Each line in the file is a record and each record have data related to multiple attributes.\n",
    "* Data related to attributes in each record are separated or delimieted by **\\t**.\n",
    "* Develop a function which does the following.\n",
    "  * It should take 2 arguments, file path and the reason.\n",
    "  * Read the data from the file.\n",
    "  * Filter the data based on the reason passed. Reason field in our data set is a comma separated string. It can have following values. As the problem statement is related to placement seekers, we will test the function using first string.\n",
    "    * **Placement Assistance for full time opportunities**\n",
    "    * **Self assess to understand where I stand in Python**\n",
    "    * **Technical Screening Preparation (tests as well as interviews)**\n",
    "    * **To be part of ITVersity Professionals Database to work on paid part-time opportunities**\n",
    "  * Function should return the list of aspirants who are seeking placement assistance. It should contain the name and scheduled date.\n",
    "  * The list that is returned should contain dicts. The names of the keys should be inherited from the first row of the file.\n",
    "  * Data should be sorted in ascending order by scheduled date followed by ascending order by name.\n",
    "\n",
    "**Restrictions: You should only use loops or first class functions such as map, filter etc. You should preferably use `csv` to process the data. Do not use Pandas.**"
   ]
  },
  {
   "cell_type": "markdown",
   "id": "77422004",
   "metadata": {},
   "source": [
    "### Step 1: Preview the data\n",
    "\n",
    "Let us first preview the data."
   ]
  },
  {
   "cell_type": "code",
   "execution_count": 1,
   "id": "a490492b",
   "metadata": {},
   "outputs": [
    {
     "name": "stdout",
     "output_type": "stream",
     "text": [
      "-rw-r--r-- 1 itversity itversity 11318 Jul 28 14:41 data/python_assessments/aspirants.csv\n"
     ]
    }
   ],
   "source": [
    "!ls -ltr data/python_assessments/aspirants.csv"
   ]
  },
  {
   "cell_type": "code",
   "execution_count": 2,
   "id": "6501e54c",
   "metadata": {},
   "outputs": [
    {
     "name": "stdout",
     "output_type": "stream",
     "text": [
      "Name\tReason\tCurrent Status\tPython Rating\tScheduled Date\tCurrent Country\n",
      "Pardha Saradhi\tTo be part of ITVersity Professionals Database to work on paid part-time opportunities\tExperienced Professionals (10+ years of experience)\t3\t7/31/2021\tIndia\n",
      "Asasri\tSelf assess to understand where I stand in Python\tFreshers or recent year pass outs looking for entry level jobs\t2\t8/10/2021\tIndia\n",
      "Sai Akshith\tSelf assess to understand where I stand in Python, Technical Screening Preparation (tests as well as interviews), To be part of ITVersity Professionals Database to work on paid part-time opportunities\tEntry level professional (less than 2 years of experience)\t3\t7/30/2021\tIndia\n",
      "Anmol\tSelf assess to understand where I stand in Python, To be part of ITVersity Professionals Database to work on paid part-time opportunities\tExperienced Professionals (2 to 5 years of experience)\t2\t7/25/2021\tIndia\n",
      "Shravan\tSelf assess to understand where I stand in Python, Technical Screening Preparation (tests as well as interviews)\tExperienced Professionals (2 to 5 years of experience)\t1\t7/28/2021\tIndia\n",
      "Aditya\tSelf assess to understand where I stand in Python, Technical Screening Preparation (tests as well as interviews), Placement Assistance for full time opportunities, To be part of ITVersity Professionals Database to work on paid part-time opportunities\tExperienced Professionals (5 to 10 years of experience)\t1\t7/31/2021\tUSA\n",
      "Prasanth \tSelf assess to understand where I stand in Python\tExperienced Professionals (10+ years of experience)\t2\t8/14/2021\tUSA\n",
      "Sahana\tSelf assess to understand where I stand in Python, Placement Assistance for full time opportunities\tEntry level professional (less than 2 years of experience)\t4\t7/26/2021\tIndia\n",
      "Surendranatha Reddy\tSelf assess to understand where I stand in Python, To be part of ITVersity Professionals Database to work on paid part-time opportunities\tExperienced Professionals (5 to 10 years of experience)\t4\t7/25/2021\tIndia\n"
     ]
    }
   ],
   "source": [
    "!head data/python_assessments/aspirants.csv"
   ]
  },
  {
   "cell_type": "code",
   "execution_count": 3,
   "id": "364be021",
   "metadata": {},
   "outputs": [
    {
     "name": "stdout",
     "output_type": "stream",
     "text": [
      "50 data/python_assessments/aspirants.csv\n"
     ]
    }
   ],
   "source": [
    "!wc -l data/python_assessments/aspirants.csv"
   ]
  },
  {
   "cell_type": "markdown",
   "id": "10023554",
   "metadata": {},
   "source": [
    "### Step 2: Provide the solution\n",
    "\n",
    "Now come up with the solution by developing the required logic. Once the function is developed, go to the next step to take care of the validation."
   ]
  },
  {
   "cell_type": "code",
   "execution_count": 4,
   "id": "b02b8407",
   "metadata": {},
   "outputs": [],
   "source": [
    "file_path = 'data/python_assessments/aspirants.csv'"
   ]
  },
  {
   "cell_type": "code",
   "execution_count": 5,
   "id": "2ac3f5ff",
   "metadata": {},
   "outputs": [],
   "source": [
    "aspirants = open(file_path).read().splitlines()"
   ]
  },
  {
   "cell_type": "code",
   "execution_count": 6,
   "id": "0149bbde",
   "metadata": {},
   "outputs": [
    {
     "data": {
      "text/plain": [
       "['Name\\tReason\\tCurrent Status\\tPython Rating\\tScheduled Date\\tCurrent Country',\n",
       " 'Pardha Saradhi\\tTo be part of ITVersity Professionals Database to work on paid part-time opportunities\\tExperienced Professionals (10+ years of experience)\\t3\\t7/31/2021\\tIndia',\n",
       " 'Asasri\\tSelf assess to understand where I stand in Python\\tFreshers or recent year pass outs looking for entry level jobs\\t2\\t8/10/2021\\tIndia',\n",
       " 'Sai Akshith\\tSelf assess to understand where I stand in Python, Technical Screening Preparation (tests as well as interviews), To be part of ITVersity Professionals Database to work on paid part-time opportunities\\tEntry level professional (less than 2 years of experience)\\t3\\t7/30/2021\\tIndia',\n",
       " 'Anmol\\tSelf assess to understand where I stand in Python, To be part of ITVersity Professionals Database to work on paid part-time opportunities\\tExperienced Professionals (2 to 5 years of experience)\\t2\\t7/25/2021\\tIndia',\n",
       " 'Shravan\\tSelf assess to understand where I stand in Python, Technical Screening Preparation (tests as well as interviews)\\tExperienced Professionals (2 to 5 years of experience)\\t1\\t7/28/2021\\tIndia',\n",
       " 'Aditya\\tSelf assess to understand where I stand in Python, Technical Screening Preparation (tests as well as interviews), Placement Assistance for full time opportunities, To be part of ITVersity Professionals Database to work on paid part-time opportunities\\tExperienced Professionals (5 to 10 years of experience)\\t1\\t7/31/2021\\tUSA',\n",
       " 'Prasanth \\tSelf assess to understand where I stand in Python\\tExperienced Professionals (10+ years of experience)\\t2\\t8/14/2021\\tUSA',\n",
       " 'Sahana\\tSelf assess to understand where I stand in Python, Placement Assistance for full time opportunities\\tEntry level professional (less than 2 years of experience)\\t4\\t7/26/2021\\tIndia',\n",
       " 'Surendranatha Reddy\\tSelf assess to understand where I stand in Python, To be part of ITVersity Professionals Database to work on paid part-time opportunities\\tExperienced Professionals (5 to 10 years of experience)\\t4\\t7/25/2021\\tIndia',\n",
       " 'Venkat \\tSelf assess to understand where I stand in Python\\tExperienced Professionals (2 to 5 years of experience)\\t2\\t7/26/2021\\tUSA',\n",
       " 'Riyaz Ali\\tSelf assess to understand where I stand in Python, Technical Screening Preparation (tests as well as interviews), Placement Assistance for full time opportunities, To be part of ITVersity Professionals Database to work on paid part-time opportunities\\tExperienced Professionals (2 to 5 years of experience)\\t4\\t8/7/2021\\tIndia',\n",
       " 'Naga\\tSelf assess to understand where I stand in Python, Placement Assistance for full time opportunities\\tExperienced Professionals (2 to 5 years of experience)\\t1\\t8/21/2021\\tUSA',\n",
       " 'Jayakumar\\tSelf assess to understand where I stand in Python, Technical Screening Preparation (tests as well as interviews), Placement Assistance for full time opportunities, To be part of ITVersity Professionals Database to work on paid part-time opportunities\\tFreshers or recent year pass outs looking for entry level jobs\\t3\\t8/23/2021\\tUSA',\n",
       " 'R\\tSelf assess to understand where I stand in Python, Technical Screening Preparation (tests as well as interviews), Placement Assistance for full time opportunities\\tFreshers or recent year pass outs looking for entry level jobs\\t3\\t8/8/2021\\tIndia',\n",
       " 'Katla\\tPlacement Assistance for full time opportunities, To be part of ITVersity Professionals Database to work on paid part-time opportunities\\tFreshers or recent year pass outs looking for entry level jobs\\t3\\t7/25/2021\\tIndia',\n",
       " 'Puja \\tSelf assess to understand where I stand in Python\\tExperienced Professionals (2 to 5 years of experience)\\t1\\t8/18/2021\\tIndia',\n",
       " 'Tejus\\tSelf assess to understand where I stand in Python, Technical Screening Preparation (tests as well as interviews)\\tEntry level professional (less than 2 years of experience)\\t3\\t7/31/2021\\tUSA',\n",
       " 'SACHCHIDANAND\\tSelf assess to understand where I stand in Python, Placement Assistance for full time opportunities\\tExperienced Professionals (2 to 5 years of experience)\\t3\\t8/18/2021\\tIndia',\n",
       " 'Harpal\\tSelf assess to understand where I stand in Python, Technical Screening Preparation (tests as well as interviews), Placement Assistance for full time opportunities, To be part of ITVersity Professionals Database to work on paid part-time opportunities\\tExperienced Professionals (2 to 5 years of experience)\\t3\\t7/31/2021\\tIndia',\n",
       " 'Mohan\\tSelf assess to understand where I stand in Python\\tExperienced Professionals (5 to 10 years of experience)\\t3\\t7/30/2021\\tIndia',\n",
       " 'Gopi\\tPlacement Assistance for full time opportunities, To be part of ITVersity Professionals Database to work on paid part-time opportunities\\tFreshers or recent year pass outs looking for entry level jobs\\t3\\t8/14/2021\\tIndia',\n",
       " 'Subhayan\\tSelf assess to understand where I stand in Python, Technical Screening Preparation (tests as well as interviews), To be part of ITVersity Professionals Database to work on paid part-time opportunities\\tExperienced Professionals (2 to 5 years of experience)\\t3\\t8/2/2021\\tIndia',\n",
       " 'Vishnu\\tSelf assess to understand where I stand in Python, To be part of ITVersity Professionals Database to work on paid part-time opportunities\\tExperienced Professionals (5 to 10 years of experience)\\t3\\t7/26/2021\\tIndia',\n",
       " 'Yuvraj\\tSelf assess to understand where I stand in Python, Technical Screening Preparation (tests as well as interviews)\\tExperienced Professionals (5 to 10 years of experience)\\t3\\t7/25/2021\\tIndia',\n",
       " 'Harish\\tPlacement Assistance for full time opportunities, To be part of ITVersity Professionals Database to work on paid part-time opportunities\\tEntry level professional (less than 2 years of experience)\\t4\\t7/25/2021\\tIndia',\n",
       " 'Mayank\\tSelf assess to understand where I stand in Python, Placement Assistance for full time opportunities, To be part of ITVersity Professionals Database to work on paid part-time opportunities\\tExperienced Professionals (5 to 10 years of experience)\\t3\\t8/1/2021\\tIndia',\n",
       " 'Harsha \\tSelf assess to understand where I stand in Python\\tExperienced Professionals (5 to 10 years of experience)\\t2\\t7/24/2021\\tIndia',\n",
       " 'HIMANSU\\tSelf assess to understand where I stand in Python, Technical Screening Preparation (tests as well as interviews), To be part of ITVersity Professionals Database to work on paid part-time opportunities\\tExperienced Professionals (5 to 10 years of experience)\\t3\\t7/27/2021\\tUSA',\n",
       " 'Avin\\tSelf assess to understand where I stand in Python, Technical Screening Preparation (tests as well as interviews)\\tEntry level professional (less than 2 years of experience)\\t5\\t7/31/2021\\tIndia',\n",
       " 'Suraj\\tTechnical Screening Preparation (tests as well as interviews), Placement Assistance for full time opportunities, To be part of ITVersity Professionals Database to work on paid part-time opportunities\\tFreshers or recent year pass outs looking for entry level jobs\\t3\\t7/5/2021\\tIndia',\n",
       " 'RANJITH\\tTechnical Screening Preparation (tests as well as interviews)\\tExperienced Professionals (10+ years of experience)\\t3\\t7/26/2021\\tUSA',\n",
       " 'Madhushree\\tSelf assess to understand where I stand in Python, Technical Screening Preparation (tests as well as interviews), Placement Assistance for full time opportunities, To be part of ITVersity Professionals Database to work on paid part-time opportunities\\tExperienced Professionals (2 to 5 years of experience)\\t3\\t7/24/2021\\tIndia',\n",
       " 'Gagan\\tSelf assess to understand where I stand in Python\\tExperienced Professionals (5 to 10 years of experience)\\t3\\t7/31/2021\\tUSA',\n",
       " 'Sanjay\\tPlacement Assistance for full time opportunities, To be part of ITVersity Professionals Database to work on paid part-time opportunities\\tExperienced Professionals (2 to 5 years of experience)\\t1\\t8/22/2021\\tIndia',\n",
       " 'Priyash\\tTechnical Screening Preparation (tests as well as interviews), Placement Assistance for full time opportunities\\tExperienced Professionals (2 to 5 years of experience)\\t4\\t7/31/2021\\tUSA',\n",
       " 'R shiva kumar\\tPlacement Assistance for full time opportunities\\tEntry level professional (less than 2 years of experience)\\t3\\t8/1/2021\\tIndia',\n",
       " 'Kaustubh\\tSelf assess to understand where I stand in Python, Technical Screening Preparation (tests as well as interviews), Placement Assistance for full time opportunities, To be part of ITVersity Professionals Database to work on paid part-time opportunities\\tFreshers or recent year pass outs looking for entry level jobs\\t4\\t7/27/2021\\tIndia',\n",
       " 'Arpita\\tSelf assess to understand where I stand in Python, Technical Screening Preparation (tests as well as interviews), Placement Assistance for full time opportunities\\tFreshers or recent year pass outs looking for entry level jobs\\t3\\t8/22/2021\\tIndia',\n",
       " 'Sai\\tSelf assess to understand where I stand in Python, Technical Screening Preparation (tests as well as interviews), Placement Assistance for full time opportunities\\tExperienced Professionals (5 to 10 years of experience)\\t3\\t8/7/2021\\tUSA',\n",
       " 'Ayush\\tSelf assess to understand where I stand in Python, To be part of ITVersity Professionals Database to work on paid part-time opportunities\\tExperienced Professionals (2 to 5 years of experience)\\t4\\t8/8/2021\\tIndia',\n",
       " 'Ritobhas \\tSelf assess to understand where I stand in Python, Placement Assistance for full time opportunities\\tEntry level professional (less than 2 years of experience)\\t3\\t7/29/2021\\tIndia',\n",
       " 'Anusha\\tSelf assess to understand where I stand in Python, Technical Screening Preparation (tests as well as interviews), To be part of ITVersity Professionals Database to work on paid part-time opportunities\\tExperienced Professionals (2 to 5 years of experience)\\t2\\t8/8/2021\\tIndia',\n",
       " 'Nikita\\tPlacement Assistance for full time opportunities\\tFreshers or recent year pass outs looking for entry level jobs\\t3\\t7/31/2021\\tIndia',\n",
       " 'Vittal\\tSelf assess to understand where I stand in Python, Technical Screening Preparation (tests as well as interviews), Placement Assistance for full time opportunities, To be part of ITVersity Professionals Database to work on paid part-time opportunities\\tI am having 4 years experiences in Project Support Engineer Profile\\t4\\t7/31/2021\\tIndia',\n",
       " 'LAXMI MANOHAR REDDY\\tSelf assess to understand where I stand in Python, Technical Screening Preparation (tests as well as interviews), To be part of ITVersity Professionals Database to work on paid part-time opportunities\\tExperienced Professionals (2 to 5 years of experience)\\t3\\t8/14/2021\\tIndia',\n",
       " 'Cheikh \\tSelf assess to understand where I stand in Python, Technical Screening Preparation (tests as well as interviews), Placement Assistance for full time opportunities, To be part of ITVersity Professionals Database to work on paid part-time opportunities\\tEntry level professional (less than 2 years of experience)\\t3\\t8/1/2021\\tFrance ',\n",
       " 'Sudhir\\tTechnical Screening Preparation (tests as well as interviews), Placement Assistance for full time opportunities, To be part of ITVersity Professionals Database to work on paid part-time opportunities\\tEntry level professional (less than 2 years of experience)\\t4\\t7/25/2021\\tIndia',\n",
       " 'Sai\\tSelf assess to understand where I stand in Python, Technical Screening Preparation (tests as well as interviews), Placement Assistance for full time opportunities\\tExperienced Professionals (2 to 5 years of experience)\\t3\\t8/1/2021\\tIndia',\n",
       " 'Astanaditta\\tTo be part of ITVersity Professionals Database to work on paid part-time opportunities\\tExperienced Professionals (10+ years of experience)\\t4\\t8/8/2021\\tIndia',\n",
       " 'Manivannan\\tTo be part of ITVersity Professionals Database to work on paid part-time opportunities\\tFreshers or recent year pass outs looking for entry level jobs\\t3\\t7/26/2021\\tIndia']"
      ]
     },
     "execution_count": 6,
     "metadata": {},
     "output_type": "execute_result"
    }
   ],
   "source": [
    "aspirants"
   ]
  },
  {
   "cell_type": "code",
   "execution_count": 7,
   "id": "fd0bcc14",
   "metadata": {},
   "outputs": [
    {
     "data": {
      "text/plain": [
       "'Sai Akshith\\tSelf assess to understand where I stand in Python, Technical Screening Preparation (tests as well as interviews), To be part of ITVersity Professionals Database to work on paid part-time opportunities\\tEntry level professional (less than 2 years of experience)\\t3\\t7/30/2021\\tIndia'"
      ]
     },
     "execution_count": 7,
     "metadata": {},
     "output_type": "execute_result"
    }
   ],
   "source": [
    "aspirant = aspirants[3]\n",
    "aspirant"
   ]
  },
  {
   "cell_type": "code",
   "execution_count": 8,
   "id": "585846ee",
   "metadata": {},
   "outputs": [
    {
     "data": {
      "text/plain": [
       "'Self assess to understand where I stand in Python, Technical Screening Preparation (tests as well as interviews), To be part of ITVersity Professionals Database to work on paid part-time opportunities'"
      ]
     },
     "execution_count": 8,
     "metadata": {},
     "output_type": "execute_result"
    }
   ],
   "source": [
    "reasons = aspirant.split('\\t')[1]\n",
    "reasons"
   ]
  },
  {
   "cell_type": "code",
   "execution_count": 9,
   "id": "3d397c0b",
   "metadata": {},
   "outputs": [],
   "source": [
    "reason = 'Placement Assistance for full time opportunities'"
   ]
  },
  {
   "cell_type": "code",
   "execution_count": 10,
   "id": "c27a3612",
   "metadata": {},
   "outputs": [
    {
     "data": {
      "text/plain": [
       "False"
      ]
     },
     "execution_count": 10,
     "metadata": {},
     "output_type": "execute_result"
    }
   ],
   "source": [
    "reason in reasons.split(', ')"
   ]
  },
  {
   "cell_type": "code",
   "execution_count": 11,
   "id": "49aa135f",
   "metadata": {},
   "outputs": [
    {
     "data": {
      "text/plain": [
       "False"
      ]
     },
     "execution_count": 11,
     "metadata": {},
     "output_type": "execute_result"
    }
   ],
   "source": [
    "reason in aspirant.split('\\t')[1].split(', ')"
   ]
  },
  {
   "cell_type": "code",
   "execution_count": 12,
   "id": "08e85a17",
   "metadata": {},
   "outputs": [
    {
     "data": {
      "text/plain": [
       "['Aditya\\tSelf assess to understand where I stand in Python, Technical Screening Preparation (tests as well as interviews), Placement Assistance for full time opportunities, To be part of ITVersity Professionals Database to work on paid part-time opportunities\\tExperienced Professionals (5 to 10 years of experience)\\t1\\t7/31/2021\\tUSA',\n",
       " 'Sahana\\tSelf assess to understand where I stand in Python, Placement Assistance for full time opportunities\\tEntry level professional (less than 2 years of experience)\\t4\\t7/26/2021\\tIndia',\n",
       " 'Riyaz Ali\\tSelf assess to understand where I stand in Python, Technical Screening Preparation (tests as well as interviews), Placement Assistance for full time opportunities, To be part of ITVersity Professionals Database to work on paid part-time opportunities\\tExperienced Professionals (2 to 5 years of experience)\\t4\\t8/7/2021\\tIndia',\n",
       " 'Naga\\tSelf assess to understand where I stand in Python, Placement Assistance for full time opportunities\\tExperienced Professionals (2 to 5 years of experience)\\t1\\t8/21/2021\\tUSA',\n",
       " 'Jayakumar\\tSelf assess to understand where I stand in Python, Technical Screening Preparation (tests as well as interviews), Placement Assistance for full time opportunities, To be part of ITVersity Professionals Database to work on paid part-time opportunities\\tFreshers or recent year pass outs looking for entry level jobs\\t3\\t8/23/2021\\tUSA',\n",
       " 'R\\tSelf assess to understand where I stand in Python, Technical Screening Preparation (tests as well as interviews), Placement Assistance for full time opportunities\\tFreshers or recent year pass outs looking for entry level jobs\\t3\\t8/8/2021\\tIndia',\n",
       " 'Katla\\tPlacement Assistance for full time opportunities, To be part of ITVersity Professionals Database to work on paid part-time opportunities\\tFreshers or recent year pass outs looking for entry level jobs\\t3\\t7/25/2021\\tIndia',\n",
       " 'SACHCHIDANAND\\tSelf assess to understand where I stand in Python, Placement Assistance for full time opportunities\\tExperienced Professionals (2 to 5 years of experience)\\t3\\t8/18/2021\\tIndia',\n",
       " 'Harpal\\tSelf assess to understand where I stand in Python, Technical Screening Preparation (tests as well as interviews), Placement Assistance for full time opportunities, To be part of ITVersity Professionals Database to work on paid part-time opportunities\\tExperienced Professionals (2 to 5 years of experience)\\t3\\t7/31/2021\\tIndia',\n",
       " 'Gopi\\tPlacement Assistance for full time opportunities, To be part of ITVersity Professionals Database to work on paid part-time opportunities\\tFreshers or recent year pass outs looking for entry level jobs\\t3\\t8/14/2021\\tIndia',\n",
       " 'Harish\\tPlacement Assistance for full time opportunities, To be part of ITVersity Professionals Database to work on paid part-time opportunities\\tEntry level professional (less than 2 years of experience)\\t4\\t7/25/2021\\tIndia',\n",
       " 'Mayank\\tSelf assess to understand where I stand in Python, Placement Assistance for full time opportunities, To be part of ITVersity Professionals Database to work on paid part-time opportunities\\tExperienced Professionals (5 to 10 years of experience)\\t3\\t8/1/2021\\tIndia',\n",
       " 'Suraj\\tTechnical Screening Preparation (tests as well as interviews), Placement Assistance for full time opportunities, To be part of ITVersity Professionals Database to work on paid part-time opportunities\\tFreshers or recent year pass outs looking for entry level jobs\\t3\\t7/5/2021\\tIndia',\n",
       " 'Madhushree\\tSelf assess to understand where I stand in Python, Technical Screening Preparation (tests as well as interviews), Placement Assistance for full time opportunities, To be part of ITVersity Professionals Database to work on paid part-time opportunities\\tExperienced Professionals (2 to 5 years of experience)\\t3\\t7/24/2021\\tIndia',\n",
       " 'Sanjay\\tPlacement Assistance for full time opportunities, To be part of ITVersity Professionals Database to work on paid part-time opportunities\\tExperienced Professionals (2 to 5 years of experience)\\t1\\t8/22/2021\\tIndia',\n",
       " 'Priyash\\tTechnical Screening Preparation (tests as well as interviews), Placement Assistance for full time opportunities\\tExperienced Professionals (2 to 5 years of experience)\\t4\\t7/31/2021\\tUSA',\n",
       " 'R shiva kumar\\tPlacement Assistance for full time opportunities\\tEntry level professional (less than 2 years of experience)\\t3\\t8/1/2021\\tIndia',\n",
       " 'Kaustubh\\tSelf assess to understand where I stand in Python, Technical Screening Preparation (tests as well as interviews), Placement Assistance for full time opportunities, To be part of ITVersity Professionals Database to work on paid part-time opportunities\\tFreshers or recent year pass outs looking for entry level jobs\\t4\\t7/27/2021\\tIndia',\n",
       " 'Arpita\\tSelf assess to understand where I stand in Python, Technical Screening Preparation (tests as well as interviews), Placement Assistance for full time opportunities\\tFreshers or recent year pass outs looking for entry level jobs\\t3\\t8/22/2021\\tIndia',\n",
       " 'Sai\\tSelf assess to understand where I stand in Python, Technical Screening Preparation (tests as well as interviews), Placement Assistance for full time opportunities\\tExperienced Professionals (5 to 10 years of experience)\\t3\\t8/7/2021\\tUSA',\n",
       " 'Ritobhas \\tSelf assess to understand where I stand in Python, Placement Assistance for full time opportunities\\tEntry level professional (less than 2 years of experience)\\t3\\t7/29/2021\\tIndia',\n",
       " 'Nikita\\tPlacement Assistance for full time opportunities\\tFreshers or recent year pass outs looking for entry level jobs\\t3\\t7/31/2021\\tIndia',\n",
       " 'Vittal\\tSelf assess to understand where I stand in Python, Technical Screening Preparation (tests as well as interviews), Placement Assistance for full time opportunities, To be part of ITVersity Professionals Database to work on paid part-time opportunities\\tI am having 4 years experiences in Project Support Engineer Profile\\t4\\t7/31/2021\\tIndia',\n",
       " 'Cheikh \\tSelf assess to understand where I stand in Python, Technical Screening Preparation (tests as well as interviews), Placement Assistance for full time opportunities, To be part of ITVersity Professionals Database to work on paid part-time opportunities\\tEntry level professional (less than 2 years of experience)\\t3\\t8/1/2021\\tFrance ',\n",
       " 'Sudhir\\tTechnical Screening Preparation (tests as well as interviews), Placement Assistance for full time opportunities, To be part of ITVersity Professionals Database to work on paid part-time opportunities\\tEntry level professional (less than 2 years of experience)\\t4\\t7/25/2021\\tIndia',\n",
       " 'Sai\\tSelf assess to understand where I stand in Python, Technical Screening Preparation (tests as well as interviews), Placement Assistance for full time opportunities\\tExperienced Professionals (2 to 5 years of experience)\\t3\\t8/1/2021\\tIndia']"
      ]
     },
     "execution_count": 12,
     "metadata": {},
     "output_type": "execute_result"
    }
   ],
   "source": [
    "list(\n",
    "    filter(\n",
    "        lambda aspirant: reason in aspirant.split('\\t')[1].split(', '),\n",
    "        aspirants[1:]\n",
    "    )\n",
    ")"
   ]
  },
  {
   "cell_type": "code",
   "execution_count": 13,
   "id": "edcd6660",
   "metadata": {},
   "outputs": [
    {
     "data": {
      "text/plain": [
       "'Name\\tReason\\tCurrent Status\\tPython Rating\\tScheduled Date\\tCurrent Country'"
      ]
     },
     "execution_count": 13,
     "metadata": {},
     "output_type": "execute_result"
    }
   ],
   "source": [
    "attributes = aspirants[0]\n",
    "attributes"
   ]
  },
  {
   "cell_type": "code",
   "execution_count": 14,
   "id": "1555249b",
   "metadata": {},
   "outputs": [
    {
     "data": {
      "text/plain": [
       "[{'Name': 'Aditya', 'Scheduled Date': '7/31/2021'},\n",
       " {'Name': 'Sahana', 'Scheduled Date': '7/26/2021'},\n",
       " {'Name': 'Riyaz Ali', 'Scheduled Date': '8/7/2021'},\n",
       " {'Name': 'Naga', 'Scheduled Date': '8/21/2021'},\n",
       " {'Name': 'Jayakumar', 'Scheduled Date': '8/23/2021'},\n",
       " {'Name': 'R', 'Scheduled Date': '8/8/2021'},\n",
       " {'Name': 'Katla', 'Scheduled Date': '7/25/2021'},\n",
       " {'Name': 'SACHCHIDANAND', 'Scheduled Date': '8/18/2021'},\n",
       " {'Name': 'Harpal', 'Scheduled Date': '7/31/2021'},\n",
       " {'Name': 'Gopi', 'Scheduled Date': '8/14/2021'},\n",
       " {'Name': 'Harish', 'Scheduled Date': '7/25/2021'},\n",
       " {'Name': 'Mayank', 'Scheduled Date': '8/1/2021'},\n",
       " {'Name': 'Suraj', 'Scheduled Date': '7/5/2021'},\n",
       " {'Name': 'Madhushree', 'Scheduled Date': '7/24/2021'},\n",
       " {'Name': 'Sanjay', 'Scheduled Date': '8/22/2021'},\n",
       " {'Name': 'Priyash', 'Scheduled Date': '7/31/2021'},\n",
       " {'Name': 'R shiva kumar', 'Scheduled Date': '8/1/2021'},\n",
       " {'Name': 'Kaustubh', 'Scheduled Date': '7/27/2021'},\n",
       " {'Name': 'Arpita', 'Scheduled Date': '8/22/2021'},\n",
       " {'Name': 'Sai', 'Scheduled Date': '8/7/2021'},\n",
       " {'Name': 'Ritobhas ', 'Scheduled Date': '7/29/2021'},\n",
       " {'Name': 'Nikita', 'Scheduled Date': '7/31/2021'},\n",
       " {'Name': 'Vittal', 'Scheduled Date': '7/31/2021'},\n",
       " {'Name': 'Cheikh ', 'Scheduled Date': '8/1/2021'},\n",
       " {'Name': 'Sudhir', 'Scheduled Date': '7/25/2021'},\n",
       " {'Name': 'Sai', 'Scheduled Date': '8/1/2021'}]"
      ]
     },
     "execution_count": 14,
     "metadata": {},
     "output_type": "execute_result"
    }
   ],
   "source": [
    "list(map(\n",
    "        lambda aspirant: {\n",
    "            'Name': aspirant.split('\\t')[0], \n",
    "            'Scheduled Date': aspirant.split('\\t')[-2]\n",
    "        },\n",
    "        filter(\n",
    "            lambda aspirant: reason in aspirant.split('\\t')[1].split(', '),\n",
    "            aspirants[1:]\n",
    "        )\n",
    "    )\n",
    ")"
   ]
  },
  {
   "cell_type": "code",
   "execution_count": 15,
   "id": "392b2578",
   "metadata": {},
   "outputs": [
    {
     "data": {
      "text/plain": [
       "[{'Name': 'Suraj', 'Scheduled Date': '7/5/2021'},\n",
       " {'Name': 'Madhushree', 'Scheduled Date': '7/24/2021'},\n",
       " {'Name': 'Katla', 'Scheduled Date': '7/25/2021'},\n",
       " {'Name': 'Harish', 'Scheduled Date': '7/25/2021'},\n",
       " {'Name': 'Sudhir', 'Scheduled Date': '7/25/2021'},\n",
       " {'Name': 'Sahana', 'Scheduled Date': '7/26/2021'},\n",
       " {'Name': 'Kaustubh', 'Scheduled Date': '7/27/2021'},\n",
       " {'Name': 'Ritobhas ', 'Scheduled Date': '7/29/2021'},\n",
       " {'Name': 'Aditya', 'Scheduled Date': '7/31/2021'},\n",
       " {'Name': 'Harpal', 'Scheduled Date': '7/31/2021'},\n",
       " {'Name': 'Priyash', 'Scheduled Date': '7/31/2021'},\n",
       " {'Name': 'Nikita', 'Scheduled Date': '7/31/2021'},\n",
       " {'Name': 'Vittal', 'Scheduled Date': '7/31/2021'},\n",
       " {'Name': 'Mayank', 'Scheduled Date': '8/1/2021'},\n",
       " {'Name': 'R shiva kumar', 'Scheduled Date': '8/1/2021'},\n",
       " {'Name': 'Cheikh ', 'Scheduled Date': '8/1/2021'},\n",
       " {'Name': 'Sai', 'Scheduled Date': '8/1/2021'},\n",
       " {'Name': 'Riyaz Ali', 'Scheduled Date': '8/7/2021'},\n",
       " {'Name': 'Sai', 'Scheduled Date': '8/7/2021'},\n",
       " {'Name': 'R', 'Scheduled Date': '8/8/2021'},\n",
       " {'Name': 'Gopi', 'Scheduled Date': '8/14/2021'},\n",
       " {'Name': 'SACHCHIDANAND', 'Scheduled Date': '8/18/2021'},\n",
       " {'Name': 'Naga', 'Scheduled Date': '8/21/2021'},\n",
       " {'Name': 'Sanjay', 'Scheduled Date': '8/22/2021'},\n",
       " {'Name': 'Arpita', 'Scheduled Date': '8/22/2021'},\n",
       " {'Name': 'Jayakumar', 'Scheduled Date': '8/23/2021'}]"
      ]
     },
     "execution_count": 15,
     "metadata": {},
     "output_type": "execute_result"
    }
   ],
   "source": [
    "import datetime\n",
    "sorted(\n",
    "    map(\n",
    "        lambda aspirant: {\n",
    "            'Name': aspirant.split('\\t')[0], \n",
    "            'Scheduled Date': aspirant.split('\\t')[-2]\n",
    "        },\n",
    "        filter(\n",
    "            lambda aspirant: reason in aspirant.split('\\t')[1].split(', '),\n",
    "            aspirants[1:]\n",
    "        )\n",
    "    ),\n",
    "    key=lambda aspirant: datetime.datetime.strptime(aspirant['Scheduled Date'], '%m/%d/%Y')\n",
    ")"
   ]
  },
  {
   "cell_type": "code",
   "execution_count": 16,
   "id": "8e0fe6ca",
   "metadata": {},
   "outputs": [],
   "source": [
    "import datetime\n",
    "\n",
    "def get_aspirants_by_reason(file_path, reason):\n",
    "    aspirants = open(file_path).read().splitlines()\n",
    "    attributes = aspirants[0]\n",
    "    aspirants_by_reason = sorted(\n",
    "        map(\n",
    "            lambda aspirant: {\n",
    "                'Name': aspirant.split('\\t')[0], \n",
    "                'Scheduled Date': aspirant.split('\\t')[-2]\n",
    "            },\n",
    "            filter(\n",
    "                lambda aspirant: reason in aspirant.split('\\t')[1].split(', '),\n",
    "                aspirants[1:]\n",
    "            )\n",
    "        ),\n",
    "        key=lambda aspirant: datetime.datetime.strptime(aspirant['Scheduled Date'], '%m/%d/%Y')\n",
    "    )\n",
    "    return aspirants_by_reason"
   ]
  },
  {
   "cell_type": "markdown",
   "id": "5639c20b",
   "metadata": {},
   "source": [
    "### Step 3: Validate the function\n",
    "\n",
    "Let us validate the function by running below cells.\n",
    "* Here is the expected output.\n",
    "\n",
    "```python\n",
    "[{'Name': 'Suraj', 'Scheduled Date': '7/5/2021'},\n",
    " {'Name': 'Madhushree', 'Scheduled Date': '7/24/2021'},\n",
    " {'Name': 'Harish', 'Scheduled Date': '7/25/2021'},\n",
    " {'Name': 'Katla', 'Scheduled Date': '7/25/2021'},\n",
    " {'Name': 'Sudhir', 'Scheduled Date': '7/25/2021'},\n",
    " {'Name': 'Sahana', 'Scheduled Date': '7/26/2021'},\n",
    " {'Name': 'Kaustubh', 'Scheduled Date': '7/27/2021'},\n",
    " {'Name': 'Ritobhas ', 'Scheduled Date': '7/29/2021'},\n",
    " {'Name': 'Aditya', 'Scheduled Date': '7/31/2021'},\n",
    " {'Name': 'Harpal', 'Scheduled Date': '7/31/2021'},\n",
    " {'Name': 'Nikita', 'Scheduled Date': '7/31/2021'},\n",
    " {'Name': 'Priyash', 'Scheduled Date': '7/31/2021'},\n",
    " {'Name': 'Vittal', 'Scheduled Date': '7/31/2021'},\n",
    " {'Name': 'Cheikh ', 'Scheduled Date': '8/1/2021'},\n",
    " {'Name': 'Mayank', 'Scheduled Date': '8/1/2021'},\n",
    " {'Name': 'R shiva kumar', 'Scheduled Date': '8/1/2021'},\n",
    " {'Name': 'Sai', 'Scheduled Date': '8/1/2021'},\n",
    " {'Name': 'Riyaz Ali', 'Scheduled Date': '8/7/2021'},\n",
    " {'Name': 'Sai', 'Scheduled Date': '8/7/2021'},\n",
    " {'Name': 'R', 'Scheduled Date': '8/8/2021'},\n",
    " {'Name': 'Gopi', 'Scheduled Date': '8/14/2021'},\n",
    " {'Name': 'SACHCHIDANAND', 'Scheduled Date': '8/18/2021'},\n",
    " {'Name': 'Naga', 'Scheduled Date': '8/21/2021'},\n",
    " {'Name': 'Arpita', 'Scheduled Date': '8/22/2021'},\n",
    " {'Name': 'Sanjay', 'Scheduled Date': '8/22/2021'},\n",
    " {'Name': 'Jayakumar', 'Scheduled Date': '8/23/2021'}]\n",
    "```"
   ]
  },
  {
   "cell_type": "code",
   "execution_count": 17,
   "id": "6206e2c1",
   "metadata": {},
   "outputs": [
    {
     "data": {
      "text/plain": [
       "[{'Name': 'Suraj', 'Scheduled Date': '7/5/2021'},\n",
       " {'Name': 'Madhushree', 'Scheduled Date': '7/24/2021'},\n",
       " {'Name': 'Katla', 'Scheduled Date': '7/25/2021'},\n",
       " {'Name': 'Harish', 'Scheduled Date': '7/25/2021'},\n",
       " {'Name': 'Sudhir', 'Scheduled Date': '7/25/2021'},\n",
       " {'Name': 'Sahana', 'Scheduled Date': '7/26/2021'},\n",
       " {'Name': 'Kaustubh', 'Scheduled Date': '7/27/2021'},\n",
       " {'Name': 'Ritobhas ', 'Scheduled Date': '7/29/2021'},\n",
       " {'Name': 'Aditya', 'Scheduled Date': '7/31/2021'},\n",
       " {'Name': 'Harpal', 'Scheduled Date': '7/31/2021'},\n",
       " {'Name': 'Priyash', 'Scheduled Date': '7/31/2021'},\n",
       " {'Name': 'Nikita', 'Scheduled Date': '7/31/2021'},\n",
       " {'Name': 'Vittal', 'Scheduled Date': '7/31/2021'},\n",
       " {'Name': 'Mayank', 'Scheduled Date': '8/1/2021'},\n",
       " {'Name': 'R shiva kumar', 'Scheduled Date': '8/1/2021'},\n",
       " {'Name': 'Cheikh ', 'Scheduled Date': '8/1/2021'},\n",
       " {'Name': 'Sai', 'Scheduled Date': '8/1/2021'},\n",
       " {'Name': 'Riyaz Ali', 'Scheduled Date': '8/7/2021'},\n",
       " {'Name': 'Sai', 'Scheduled Date': '8/7/2021'},\n",
       " {'Name': 'R', 'Scheduled Date': '8/8/2021'},\n",
       " {'Name': 'Gopi', 'Scheduled Date': '8/14/2021'},\n",
       " {'Name': 'SACHCHIDANAND', 'Scheduled Date': '8/18/2021'},\n",
       " {'Name': 'Naga', 'Scheduled Date': '8/21/2021'},\n",
       " {'Name': 'Sanjay', 'Scheduled Date': '8/22/2021'},\n",
       " {'Name': 'Arpita', 'Scheduled Date': '8/22/2021'},\n",
       " {'Name': 'Jayakumar', 'Scheduled Date': '8/23/2021'}]"
      ]
     },
     "execution_count": 17,
     "metadata": {},
     "output_type": "execute_result"
    }
   ],
   "source": [
    "aspirants_by_reason = get_aspirants_by_reason('data/python_assessments/aspirants.csv', 'Placement Assistance for full time opportunities')\n",
    "aspirants_by_reason"
   ]
  },
  {
   "cell_type": "code",
   "execution_count": 18,
   "id": "e2223613",
   "metadata": {},
   "outputs": [
    {
     "data": {
      "text/plain": [
       "26"
      ]
     },
     "execution_count": 18,
     "metadata": {},
     "output_type": "execute_result"
    }
   ],
   "source": [
    "len(aspirants_by_reason) # 26"
   ]
  },
  {
   "cell_type": "code",
   "execution_count": 19,
   "id": "3b719081",
   "metadata": {},
   "outputs": [
    {
     "data": {
      "text/plain": [
       "list"
      ]
     },
     "execution_count": 19,
     "metadata": {},
     "output_type": "execute_result"
    }
   ],
   "source": [
    "type(aspirants_by_reason) # list"
   ]
  },
  {
   "cell_type": "code",
   "execution_count": 20,
   "id": "4a090859",
   "metadata": {},
   "outputs": [
    {
     "data": {
      "text/plain": [
       "dict"
      ]
     },
     "execution_count": 20,
     "metadata": {},
     "output_type": "execute_result"
    }
   ],
   "source": [
    "type(aspirants_by_reason[0]) # dict"
   ]
  },
  {
   "cell_type": "code",
   "execution_count": 21,
   "id": "dbd5bf69",
   "metadata": {},
   "outputs": [
    {
     "name": "stdout",
     "output_type": "stream",
     "text": [
      "{'Name': 'Suraj', 'Scheduled Date': '7/5/2021'}\n"
     ]
    }
   ],
   "source": [
    "print(aspirants_by_reason[0]) # {'Name': 'Suraj', 'Scheduled Date': '7/5/2021'}"
   ]
  },
  {
   "cell_type": "code",
   "execution_count": null,
   "id": "67c80b2d",
   "metadata": {},
   "outputs": [],
   "source": []
  }
 ],
 "metadata": {
  "kernelspec": {
   "display_name": "Python 3",
   "language": "python",
   "name": "python3"
  },
  "language_info": {
   "codemirror_mode": {
    "name": "ipython",
    "version": 3
   },
   "file_extension": ".py",
   "mimetype": "text/x-python",
   "name": "python",
   "nbconvert_exporter": "python",
   "pygments_lexer": "ipython3",
   "version": "3.6.12"
  }
 },
 "nbformat": 4,
 "nbformat_minor": 5
}
