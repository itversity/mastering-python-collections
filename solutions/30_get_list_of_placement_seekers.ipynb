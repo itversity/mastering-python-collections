{
 "cells": [
  {
   "cell_type": "markdown",
   "id": "fa46d724",
   "metadata": {},
   "source": [
    "## Get list of Placement Seekers\n",
    "\n",
    "Develop a function which gives list of individuals who are seeking for placement assistance.\n",
    "* Location of the data: **data/python_assessments/aspirants.csv**.\n",
    "* Each line in the file is a record and each record have data related to multiple attributes.\n",
    "* Data related to attributes in each record are separated or delimieted by **\\t**.\n",
    "* Develop a function which does the following.\n",
    "  * It should take 2 arguments, file path and the reason.\n",
    "  * Read the data from the file.\n",
    "  * Filter the data based on the reason passed. Reason field in our data set is a comma separated string. It can have following values. As the problem statement is related to placement seekers, we will test the function using first string.\n",
    "    * **Placement Assistance for full time opportunities**\n",
    "    * **Self assess to understand where I stand in Python**\n",
    "    * **Technical Screening Preparation (tests as well as interviews)**\n",
    "    * **To be part of ITVersity Professionals Database to work on paid part-time opportunities**\n",
    "  * Function should return the list of aspirants who are seeking placement assistance. It should contain the name and scheduled date.\n",
    "  * The list that is returned should contain dicts. The names of the keys should be inherited from the first row of the file.\n",
    "  * Data should be sorted in ascending order by scheduled date followed by ascending order by name.\n",
    "\n",
    "**Restrictions: You should only use loops or first class functions such as map, filter etc. You should preferably use `csv` to process the data. Do not use Pandas.**"
   ]
  },
  {
   "cell_type": "markdown",
   "id": "b901da03",
   "metadata": {},
   "source": [
    "### Step 1: Preview the data\n",
    "\n",
    "Let us first preview the data."
   ]
  },
  {
   "cell_type": "code",
   "execution_count": null,
   "id": "074f5994",
   "metadata": {},
   "outputs": [],
   "source": [
    "!ls -ltr data/python_assessments/aspirants.csv"
   ]
  },
  {
   "cell_type": "code",
   "execution_count": null,
   "id": "ee9fece9",
   "metadata": {},
   "outputs": [],
   "source": [
    "!head data/python_assessments/aspirants.csv"
   ]
  },
  {
   "cell_type": "code",
   "execution_count": null,
   "id": "25c288d7",
   "metadata": {},
   "outputs": [],
   "source": [
    "!wc -l data/python_assessments/aspirants.csv"
   ]
  },
  {
   "cell_type": "markdown",
   "id": "178c9900",
   "metadata": {},
   "source": [
    "### Step 2: Provide the solution\n",
    "\n",
    "Now come up with the solution by developing the required logic. Once the function is developed, go to the next step to take care of the validation."
   ]
  },
  {
   "cell_type": "code",
   "execution_count": null,
   "id": "ce19e5e2",
   "metadata": {},
   "outputs": [],
   "source": [
    "def get_aspirants_by_reason(file_path, reason):\n",
    "    return aspirants_by_reason"
   ]
  },
  {
   "cell_type": "markdown",
   "id": "d4916ac5",
   "metadata": {},
   "source": [
    "### Step 3: Validate the function\n",
    "\n",
    "Let us validate the function by running below cells.\n",
    "* Here is the expected output.\n",
    "\n",
    "```python\n",
    "[{'Name': 'Suraj', 'Scheduled Date': '7/5/2021'},\n",
    " {'Name': 'Madhushree', 'Scheduled Date': '7/24/2021'},\n",
    " {'Name': 'Harish', 'Scheduled Date': '7/25/2021'},\n",
    " {'Name': 'Katla', 'Scheduled Date': '7/25/2021'},\n",
    " {'Name': 'Sudhir', 'Scheduled Date': '7/25/2021'},\n",
    " {'Name': 'Sahana', 'Scheduled Date': '7/26/2021'},\n",
    " {'Name': 'Kaustubh', 'Scheduled Date': '7/27/2021'},\n",
    " {'Name': 'Ritobhas ', 'Scheduled Date': '7/29/2021'},\n",
    " {'Name': 'Aditya', 'Scheduled Date': '7/31/2021'},\n",
    " {'Name': 'Harpal', 'Scheduled Date': '7/31/2021'},\n",
    " {'Name': 'Nikita', 'Scheduled Date': '7/31/2021'},\n",
    " {'Name': 'Priyash', 'Scheduled Date': '7/31/2021'},\n",
    " {'Name': 'Vittal', 'Scheduled Date': '7/31/2021'},\n",
    " {'Name': 'Cheikh ', 'Scheduled Date': '8/1/2021'},\n",
    " {'Name': 'Mayank', 'Scheduled Date': '8/1/2021'},\n",
    " {'Name': 'R shiva kumar', 'Scheduled Date': '8/1/2021'},\n",
    " {'Name': 'Sai', 'Scheduled Date': '8/1/2021'},\n",
    " {'Name': 'Riyaz Ali', 'Scheduled Date': '8/7/2021'},\n",
    " {'Name': 'Sai', 'Scheduled Date': '8/7/2021'},\n",
    " {'Name': 'R', 'Scheduled Date': '8/8/2021'},\n",
    " {'Name': 'Gopi', 'Scheduled Date': '8/14/2021'},\n",
    " {'Name': 'SACHCHIDANAND', 'Scheduled Date': '8/18/2021'},\n",
    " {'Name': 'Naga', 'Scheduled Date': '8/21/2021'},\n",
    " {'Name': 'Arpita', 'Scheduled Date': '8/22/2021'},\n",
    " {'Name': 'Sanjay', 'Scheduled Date': '8/22/2021'},\n",
    " {'Name': 'Jayakumar', 'Scheduled Date': '8/23/2021'}]\n",
    "```"
   ]
  },
  {
   "cell_type": "code",
   "execution_count": null,
   "id": "53fc32b2",
   "metadata": {},
   "outputs": [],
   "source": [
    "aspirants_by_reason = get_aspirants_by_reason('data/python_assessments/aspirants.csv', 'Placement Assistance for full time opportunities')\n",
    "aspirants_by_reason"
   ]
  },
  {
   "cell_type": "code",
   "execution_count": null,
   "id": "cebdcb71",
   "metadata": {},
   "outputs": [],
   "source": [
    "len(aspirants_by_reason) # 26"
   ]
  },
  {
   "cell_type": "code",
   "execution_count": null,
   "id": "2bd3c1f2",
   "metadata": {},
   "outputs": [],
   "source": [
    "type(aspirants_by_reason) # list"
   ]
  },
  {
   "cell_type": "code",
   "execution_count": null,
   "id": "109cf2eb",
   "metadata": {},
   "outputs": [],
   "source": [
    "type(aspirants_by_reason[0]) # dict"
   ]
  },
  {
   "cell_type": "code",
   "execution_count": null,
   "id": "438aed11",
   "metadata": {},
   "outputs": [],
   "source": [
    "print(aspirants_by_reason[0]) # {'Name': 'Suraj', 'Scheduled Date': '7/5/2021'}"
   ]
  },
  {
   "cell_type": "code",
   "execution_count": null,
   "id": "ab97cfcf",
   "metadata": {},
   "outputs": [],
   "source": []
  }
 ],
 "metadata": {
  "kernelspec": {
   "display_name": "Python 3",
   "language": "python",
   "name": "python3"
  },
  "language_info": {
   "codemirror_mode": {
    "name": "ipython",
    "version": 3
   },
   "file_extension": ".py",
   "mimetype": "text/x-python",
   "name": "python",
   "nbconvert_exporter": "python",
   "pygments_lexer": "ipython3",
   "version": "3.6.12"
  }
 },
 "nbformat": 4,
 "nbformat_minor": 5
}
