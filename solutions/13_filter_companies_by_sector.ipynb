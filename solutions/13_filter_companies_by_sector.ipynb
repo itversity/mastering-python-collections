{
 "cells": [
  {
   "cell_type": "markdown",
   "id": "cadd3ddd",
   "metadata": {},
   "source": [
    "## Filter companies by sector\n",
    "\n",
    "Develop a function which returns companies related to the sector we are interested in.\n",
    "* Filter the companies by their sector by using functions like `map`, `filter` etc.\n",
    "* Output should contain dict with keys as companies_under_sector_sectorname and values should be the filtered list of dicts.\n",
    "* Output should be sorted in ascending order by name."
   ]
  },
  {
   "cell_type": "code",
   "execution_count": 1,
   "id": "3d036403",
   "metadata": {},
   "outputs": [],
   "source": [
    "companies = [{'Name': 'Accenture',\n",
    "  'Sector': 'IT',\n",
    "  'Price': 222.89,\n",
    "  'Dividend': 2.33,\n",
    "  'EarningsPerShare': 7.92},\n",
    " {'Name': 'Apple',\n",
    "  'Sector': 'IT',\n",
    "  'Price': 155.15,\n",
    "  'Dividend': 1.57,\n",
    "  'EarningsPerShare': 9.2},\n",
    " {'Name': 'Adobe Systems Inc',\n",
    "  'Sector': 'IT',\n",
    "  'Price': 185.16,\n",
    "  'Dividend': 0.0,\n",
    "  'EarningsPerShare': '3.39'},\n",
    " {'Name': 'Alphabet',\n",
    "  'Sector': 'IT',\n",
    "  'Price': 1007.71,\n",
    "  'Dividend': 0.0,\n",
    "  'EarningsPerShare': 22.27},\n",
    " {'Name': 'Bank of America Corp',\n",
    "  'Sector': 'Finacials',\n",
    "  'Price': 29.74,\n",
    "  'Dividend': 1.53,\n",
    "  'EarningsPerShare': 1.55},\n",
    " {'Name': 'Biogen Inc',\n",
    "  'Sector': 'Health Care',\n",
    "  'Price': 311.79,\n",
    "  'Dividend': 0.0,\n",
    "  'EarningsPerShare': 11.94},\n",
    " {'Name': 'Campbell Soup',\n",
    "  'Sector': 'Consumer Staples',\n",
    "  'Price': 44.83,\n",
    "  'Dividend': 3.12,\n",
    "  'EarningsPerShare': 2.89},\n",
    " {'Name': 'Dr Pepper Snapple Group',\n",
    "  'Sector': 'Consumer Staples',\n",
    "  'Price': 116.93,\n",
    "  'Dividend': 1.96,\n",
    "  'EarningsPerShare': 4.54},\n",
    " {'Name': 'ebay Inc',\n",
    "  'Sector': 'IT',\n",
    "  'Price': 41.02,\n",
    "  'Dividend': 0.0,\n",
    "  'EarningsPerShare': -1.07},\n",
    " {'Name': 'FedEx Corporation',\n",
    "  'Sector': 'Industrials',\n",
    "  'Price': 239.27,\n",
    "  'Dividend': 0.79,\n",
    "  'EarningsPerShare': 11.07},\n",
    " {'Name': 'Ford Motors',\n",
    "  'Sector': 'Consumer Products',\n",
    "  'Price': 10.43,\n",
    "  'Dividend': 6.78,\n",
    "  'EarningsPerShare': 1.9},\n",
    " {'Name': 'General Motors',\n",
    "  'Sector': 'Consumer Products',\n",
    "  'Price': 40.75,\n",
    "  'Dividend': 3.58,\n",
    "  'EarningsPerShare': 6.0},\n",
    " {'Name': 'Harley-Davidson',\n",
    "  'Sector': 'Consumer Products',\n",
    "  'Price': 47.54,\n",
    "  'Dividend': 3.02,\n",
    "  'EarningsPerShare': 2.98},\n",
    " {'Name': 'Hewlett Packard Enterprise',\n",
    "  'Sector': 'IT',\n",
    "  'Price': 15.04,\n",
    "  'Dividend': 1.92,\n",
    "  'EarningsPerShare': 0.21},\n",
    " {'Name': 'Intel Corp',\n",
    "  'Sector': 'IT',\n",
    "  'Price': 42.75,\n",
    "  'Dividend': 2.65,\n",
    "  'EarningsPerShare': 1.98},\n",
    " {'Name': 'JP Morgan',\n",
    "  'Sector': 'Finacials',\n",
    "  'Price': 107.88,\n",
    "  'Dividend': 1.98,\n",
    "  'EarningsPerShare': 6.3},\n",
    " {'Name': 'Johnson & Johnson',\n",
    "  'Sector': 'IT',\n",
    "  'Price': 126.36,\n",
    "  'Dividend': 2.55,\n",
    "  'EarningsPerShare': 0.39},\n",
    " {'Name': 'Microsoft Corp',\n",
    "  'Sector': 'IT',\n",
    "  'Price': 85.01,\n",
    "  'Dividend': 1.87,\n",
    "  'EarningsPerShare': 2.97},\n",
    " {'Name': 'Netflix Inc',\n",
    "  'Sector': 'IT',\n",
    "  'Price': 250.01,\n",
    "  'Dividend': 0.0,\n",
    "  'EarningsPerShare': 1.25},\n",
    " {'Name': 'Nike',\n",
    "  'Sector': 'Consumer Products',\n",
    "  'Price': 62.49,\n",
    "  'Dividend': 1.21,\n",
    "  'EarningsPerShare': 2.51}]"
   ]
  },
  {
   "cell_type": "markdown",
   "id": "d54968a8",
   "metadata": {},
   "source": [
    "### Step 1: Preview the data\n",
    "\n",
    "Let us first preview the data."
   ]
  },
  {
   "cell_type": "code",
   "execution_count": 2,
   "id": "f11be194",
   "metadata": {},
   "outputs": [
    {
     "data": {
      "text/plain": [
       "[{'Name': 'Accenture',\n",
       "  'Sector': 'IT',\n",
       "  'Price': 222.89,\n",
       "  'Dividend': 2.33,\n",
       "  'EarningsPerShare': 7.92},\n",
       " {'Name': 'Apple',\n",
       "  'Sector': 'IT',\n",
       "  'Price': 155.15,\n",
       "  'Dividend': 1.57,\n",
       "  'EarningsPerShare': 9.2},\n",
       " {'Name': 'Adobe Systems Inc',\n",
       "  'Sector': 'IT',\n",
       "  'Price': 185.16,\n",
       "  'Dividend': 0.0,\n",
       "  'EarningsPerShare': '3.39'},\n",
       " {'Name': 'Alphabet',\n",
       "  'Sector': 'IT',\n",
       "  'Price': 1007.71,\n",
       "  'Dividend': 0.0,\n",
       "  'EarningsPerShare': 22.27},\n",
       " {'Name': 'Bank of America Corp',\n",
       "  'Sector': 'Finacials',\n",
       "  'Price': 29.74,\n",
       "  'Dividend': 1.53,\n",
       "  'EarningsPerShare': 1.55},\n",
       " {'Name': 'Biogen Inc',\n",
       "  'Sector': 'Health Care',\n",
       "  'Price': 311.79,\n",
       "  'Dividend': 0.0,\n",
       "  'EarningsPerShare': 11.94},\n",
       " {'Name': 'Campbell Soup',\n",
       "  'Sector': 'Consumer Staples',\n",
       "  'Price': 44.83,\n",
       "  'Dividend': 3.12,\n",
       "  'EarningsPerShare': 2.89},\n",
       " {'Name': 'Dr Pepper Snapple Group',\n",
       "  'Sector': 'Consumer Staples',\n",
       "  'Price': 116.93,\n",
       "  'Dividend': 1.96,\n",
       "  'EarningsPerShare': 4.54},\n",
       " {'Name': 'ebay Inc',\n",
       "  'Sector': 'IT',\n",
       "  'Price': 41.02,\n",
       "  'Dividend': 0.0,\n",
       "  'EarningsPerShare': -1.07},\n",
       " {'Name': 'FedEx Corporation',\n",
       "  'Sector': 'Industrials',\n",
       "  'Price': 239.27,\n",
       "  'Dividend': 0.79,\n",
       "  'EarningsPerShare': 11.07},\n",
       " {'Name': 'Ford Motors',\n",
       "  'Sector': 'Consumer Products',\n",
       "  'Price': 10.43,\n",
       "  'Dividend': 6.78,\n",
       "  'EarningsPerShare': 1.9},\n",
       " {'Name': 'General Motors',\n",
       "  'Sector': 'Consumer Products',\n",
       "  'Price': 40.75,\n",
       "  'Dividend': 3.58,\n",
       "  'EarningsPerShare': 6.0},\n",
       " {'Name': 'Harley-Davidson',\n",
       "  'Sector': 'Consumer Products',\n",
       "  'Price': 47.54,\n",
       "  'Dividend': 3.02,\n",
       "  'EarningsPerShare': 2.98},\n",
       " {'Name': 'Hewlett Packard Enterprise',\n",
       "  'Sector': 'IT',\n",
       "  'Price': 15.04,\n",
       "  'Dividend': 1.92,\n",
       "  'EarningsPerShare': 0.21},\n",
       " {'Name': 'Intel Corp',\n",
       "  'Sector': 'IT',\n",
       "  'Price': 42.75,\n",
       "  'Dividend': 2.65,\n",
       "  'EarningsPerShare': 1.98},\n",
       " {'Name': 'JP Morgan',\n",
       "  'Sector': 'Finacials',\n",
       "  'Price': 107.88,\n",
       "  'Dividend': 1.98,\n",
       "  'EarningsPerShare': 6.3},\n",
       " {'Name': 'Johnson & Johnson',\n",
       "  'Sector': 'IT',\n",
       "  'Price': 126.36,\n",
       "  'Dividend': 2.55,\n",
       "  'EarningsPerShare': 0.39},\n",
       " {'Name': 'Microsoft Corp',\n",
       "  'Sector': 'IT',\n",
       "  'Price': 85.01,\n",
       "  'Dividend': 1.87,\n",
       "  'EarningsPerShare': 2.97},\n",
       " {'Name': 'Netflix Inc',\n",
       "  'Sector': 'IT',\n",
       "  'Price': 250.01,\n",
       "  'Dividend': 0.0,\n",
       "  'EarningsPerShare': 1.25},\n",
       " {'Name': 'Nike',\n",
       "  'Sector': 'Consumer Products',\n",
       "  'Price': 62.49,\n",
       "  'Dividend': 1.21,\n",
       "  'EarningsPerShare': 2.51}]"
      ]
     },
     "execution_count": 2,
     "metadata": {},
     "output_type": "execute_result"
    }
   ],
   "source": [
    "companies"
   ]
  },
  {
   "cell_type": "code",
   "execution_count": 3,
   "id": "3cb493be",
   "metadata": {},
   "outputs": [
    {
     "data": {
      "text/plain": [
       "list"
      ]
     },
     "execution_count": 3,
     "metadata": {},
     "output_type": "execute_result"
    }
   ],
   "source": [
    "type(companies)"
   ]
  },
  {
   "cell_type": "code",
   "execution_count": 4,
   "id": "cc8bbd74",
   "metadata": {},
   "outputs": [
    {
     "data": {
      "text/plain": [
       "20"
      ]
     },
     "execution_count": 4,
     "metadata": {},
     "output_type": "execute_result"
    }
   ],
   "source": [
    "len(companies)"
   ]
  },
  {
   "cell_type": "code",
   "execution_count": 5,
   "id": "a9e7d368",
   "metadata": {},
   "outputs": [
    {
     "name": "stdout",
     "output_type": "stream",
     "text": [
      "The type of value Accenture with attribute Name is <class 'str'>\n",
      "The type of value IT with attribute Sector is <class 'str'>\n",
      "The type of value 222.89 with attribute Price is <class 'float'>\n",
      "The type of value 2.33 with attribute Dividend is <class 'float'>\n",
      "The type of value 7.92 with attribute EarningsPerShare is <class 'float'>\n"
     ]
    }
   ],
   "source": [
    "for company in companies[0].items():\n",
    "    print(f'The type of value {company[1]} with attribute {company[0]} is {type(company[1])}')"
   ]
  },
  {
   "cell_type": "markdown",
   "id": "655c5b81",
   "metadata": {},
   "source": [
    "### Step 2: Provide the solution\n",
    "\n",
    "Now come up with the solution by developing the required logic. Once the function is developed, go to the next step to take care of the validation."
   ]
  },
  {
   "cell_type": "code",
   "execution_count": 6,
   "id": "14afd117",
   "metadata": {},
   "outputs": [],
   "source": [
    "def get_companies_by_sector(companies, sector):\n",
    "    #Your code should go here\n",
    "    companies_by_sector = {\n",
    "        sector: sorted(\n",
    "            filter(lambda company: company['Sector'] == sector, companies), \n",
    "            key=lambda company: company['Name']\n",
    "        )\n",
    "    }\n",
    "    return companies_by_sector"
   ]
  },
  {
   "cell_type": "markdown",
   "id": "d133f54a",
   "metadata": {},
   "source": [
    "### Step 3: Validate the function\n",
    "\n",
    "Let us validate the function by running below cells.\n",
    "* Here is the expected output.\n",
    "\n",
    "```python\n",
    "{'IT': [{'Name': 'Accenture',\n",
    "   'Sector': 'IT',\n",
    "   'Price': 222.89,\n",
    "   'Dividend': 2.33,\n",
    "   'EarningsPerShare': 7.92},\n",
    "  {'Name': 'Adobe Systems Inc',\n",
    "   'Sector': 'IT',\n",
    "   'Price': 185.16,\n",
    "   'Dividend': 0.0,\n",
    "   'EarningsPerShare': '3.39'},\n",
    "  {'Name': 'Alphabet',\n",
    "   'Sector': 'IT',\n",
    "   'Price': 1007.71,\n",
    "   'Dividend': 0.0,\n",
    "   'EarningsPerShare': 22.27},\n",
    "  {'Name': 'Apple',\n",
    "   'Sector': 'IT',\n",
    "   'Price': 155.15,\n",
    "   'Dividend': 1.57,\n",
    "   'EarningsPerShare': 9.2},\n",
    "  {'Name': 'Hewlett Packard Enterprise',\n",
    "   'Sector': 'IT',\n",
    "   'Price': 15.04,\n",
    "   'Dividend': 1.92,\n",
    "   'EarningsPerShare': 0.21},\n",
    "  {'Name': 'Intel Corp',\n",
    "   'Sector': 'IT',\n",
    "   'Price': 42.75,\n",
    "   'Dividend': 2.65,\n",
    "   'EarningsPerShare': 1.98},\n",
    "  {'Name': 'Johnson & Johnson',\n",
    "   'Sector': 'IT',\n",
    "   'Price': 126.36,\n",
    "   'Dividend': 2.55,\n",
    "   'EarningsPerShare': 0.39},\n",
    "  {'Name': 'Microsoft Corp',\n",
    "   'Sector': 'IT',\n",
    "   'Price': 85.01,\n",
    "   'Dividend': 1.87,\n",
    "   'EarningsPerShare': 2.97},\n",
    "  {'Name': 'Netflix Inc',\n",
    "   'Sector': 'IT',\n",
    "   'Price': 250.01,\n",
    "   'Dividend': 0.0,\n",
    "   'EarningsPerShare': 1.25},\n",
    "  {'Name': 'ebay Inc',\n",
    "   'Sector': 'IT',\n",
    "   'Price': 41.02,\n",
    "   'Dividend': 0.0,\n",
    "   'EarningsPerShare': -1.07}]}\n",
    "```"
   ]
  },
  {
   "cell_type": "code",
   "execution_count": 10,
   "id": "b6f29622",
   "metadata": {},
   "outputs": [
    {
     "data": {
      "text/plain": [
       "{'IT': [{'Name': 'Accenture',\n",
       "   'Sector': 'IT',\n",
       "   'Price': 222.89,\n",
       "   'Dividend': 2.33,\n",
       "   'EarningsPerShare': 7.92},\n",
       "  {'Name': 'Adobe Systems Inc',\n",
       "   'Sector': 'IT',\n",
       "   'Price': 185.16,\n",
       "   'Dividend': 0.0,\n",
       "   'EarningsPerShare': '3.39'},\n",
       "  {'Name': 'Alphabet',\n",
       "   'Sector': 'IT',\n",
       "   'Price': 1007.71,\n",
       "   'Dividend': 0.0,\n",
       "   'EarningsPerShare': 22.27},\n",
       "  {'Name': 'Apple',\n",
       "   'Sector': 'IT',\n",
       "   'Price': 155.15,\n",
       "   'Dividend': 1.57,\n",
       "   'EarningsPerShare': 9.2},\n",
       "  {'Name': 'Hewlett Packard Enterprise',\n",
       "   'Sector': 'IT',\n",
       "   'Price': 15.04,\n",
       "   'Dividend': 1.92,\n",
       "   'EarningsPerShare': 0.21},\n",
       "  {'Name': 'Intel Corp',\n",
       "   'Sector': 'IT',\n",
       "   'Price': 42.75,\n",
       "   'Dividend': 2.65,\n",
       "   'EarningsPerShare': 1.98},\n",
       "  {'Name': 'Johnson & Johnson',\n",
       "   'Sector': 'IT',\n",
       "   'Price': 126.36,\n",
       "   'Dividend': 2.55,\n",
       "   'EarningsPerShare': 0.39},\n",
       "  {'Name': 'Microsoft Corp',\n",
       "   'Sector': 'IT',\n",
       "   'Price': 85.01,\n",
       "   'Dividend': 1.87,\n",
       "   'EarningsPerShare': 2.97},\n",
       "  {'Name': 'Netflix Inc',\n",
       "   'Sector': 'IT',\n",
       "   'Price': 250.01,\n",
       "   'Dividend': 0.0,\n",
       "   'EarningsPerShare': 1.25},\n",
       "  {'Name': 'ebay Inc',\n",
       "   'Sector': 'IT',\n",
       "   'Price': 41.02,\n",
       "   'Dividend': 0.0,\n",
       "   'EarningsPerShare': -1.07}]}"
      ]
     },
     "execution_count": 10,
     "metadata": {},
     "output_type": "execute_result"
    }
   ],
   "source": [
    "companies_by_sector = get_companies_by_sector(companies, 'IT')\n",
    "companies_by_sector"
   ]
  },
  {
   "cell_type": "code",
   "execution_count": 11,
   "id": "f0fc661a",
   "metadata": {},
   "outputs": [
    {
     "data": {
      "text/plain": [
       "dict"
      ]
     },
     "execution_count": 11,
     "metadata": {},
     "output_type": "execute_result"
    }
   ],
   "source": [
    "type(companies_by_sector) # dict"
   ]
  },
  {
   "cell_type": "code",
   "execution_count": 14,
   "id": "467328a8",
   "metadata": {},
   "outputs": [
    {
     "data": {
      "text/plain": [
       "10"
      ]
     },
     "execution_count": 14,
     "metadata": {},
     "output_type": "execute_result"
    }
   ],
   "source": [
    "len(companies_by_sector['IT']) # 10"
   ]
  },
  {
   "cell_type": "code",
   "execution_count": 16,
   "id": "13aae6ae",
   "metadata": {},
   "outputs": [
    {
     "data": {
      "text/plain": [
       "dict"
      ]
     },
     "execution_count": 16,
     "metadata": {},
     "output_type": "execute_result"
    }
   ],
   "source": [
    "type(companies_by_sector['IT'][0]) # dict"
   ]
  },
  {
   "cell_type": "code",
   "execution_count": 17,
   "id": "61d9c6c8",
   "metadata": {},
   "outputs": [
    {
     "name": "stdout",
     "output_type": "stream",
     "text": [
      "{'Name': 'Accenture', 'Sector': 'IT', 'Price': 222.89, 'Dividend': 2.33, 'EarningsPerShare': 7.92}\n"
     ]
    }
   ],
   "source": [
    "print(companies_by_sector['IT'][0]) # {'Name': 'Accenture', 'Sector': 'IT', 'Price': 222.89, 'Dividend': 2.33, 'Share': 7.92}"
   ]
  },
  {
   "cell_type": "markdown",
   "id": "5b9d1754",
   "metadata": {},
   "source": [
    "You can check by entering another sector name and you should get the desired output related to that."
   ]
  }
 ],
 "metadata": {
  "kernelspec": {
   "display_name": "Python 3",
   "language": "python",
   "name": "python3"
  },
  "language_info": {
   "codemirror_mode": {
    "name": "ipython",
    "version": 3
   },
   "file_extension": ".py",
   "mimetype": "text/x-python",
   "name": "python",
   "nbconvert_exporter": "python",
   "pygments_lexer": "ipython3",
   "version": "3.6.12"
  }
 },
 "nbformat": 4,
 "nbformat_minor": 5
}
