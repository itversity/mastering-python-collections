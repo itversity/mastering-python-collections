{
 "cells": [
  {
   "cell_type": "markdown",
   "id": "6005d44e",
   "metadata": {},
   "source": [
    "## Get name of state and total covid cases\n",
    "\n",
    "Develop the function to get the name of states and total number of covid cases in the form of list of dictionarys.\n",
    "* The input data is in form of list of tuples where the fields are named in the order- Name of State/UTs, Total Cases, Active Cases and Deaths.\n",
    "* The output data should be in form of list of dictionarys.\n",
    "* The output data should contain name of state and total number of covid cases.\n",
    "\n",
    "**Restriction: The code should not contain the loops**"
   ]
  },
  {
   "cell_type": "code",
   "execution_count": null,
   "id": "9507e929",
   "metadata": {},
   "outputs": [],
   "source": [
    "covid_data=[\n",
    " ('Maharashtra', 6122893, 117869, 123857),\n",
    " ('Kerala', 3011694, 108400, 14108),\n",
    " ('Karnataka', 2862338, 39626, 35601),\n",
    " ('Tamil Nadu', 2506848, 34076, 33196),\n",
    " ('Andhra Pradesh', 1911231, 32356, 12919),\n",
    " ('Uttar Pradesh', 1706934, 1947, 22666),\n",
    " ('West Bengal', 1508223, 16655, 17850),\n",
    " ('Delhi', 1434780, 858, 25005),\n",
    " ('Chhattisgarh', 996689, 5017, 13464),\n",
    " ('Rajasthan', 952887, 935, 8942),\n",
    " ('Odisha', 929788, 25148, 4358),\n",
    " ('Gujarat', 824029, 1969, 10072)]"
   ]
  },
  {
   "cell_type": "markdown",
   "id": "4b5df428",
   "metadata": {},
   "source": [
    "**Step 1: Preview the Data**"
   ]
  },
  {
   "cell_type": "code",
   "execution_count": null,
   "id": "7b023eb6",
   "metadata": {},
   "outputs": [],
   "source": [
    "covid_data"
   ]
  },
  {
   "cell_type": "code",
   "execution_count": null,
   "id": "01d774e0",
   "metadata": {},
   "outputs": [],
   "source": [
    "type(covid_data)"
   ]
  },
  {
   "cell_type": "code",
   "execution_count": null,
   "id": "485c8217",
   "metadata": {},
   "outputs": [],
   "source": [
    "len(covid_data)"
   ]
  },
  {
   "cell_type": "markdown",
   "id": "77e9105b",
   "metadata": {},
   "source": [
    "**Step 2: Provide the solution**"
   ]
  },
  {
   "cell_type": "markdown",
   "id": "6b6eccf0",
   "metadata": {},
   "source": [
    "Provide the solution for the scanerio below."
   ]
  },
  {
   "cell_type": "code",
   "execution_count": null,
   "id": "75373f5b",
   "metadata": {},
   "outputs": [],
   "source": [
    "def get_state_name_and_total_cases(covid_data):\n",
    "    #Develop your logic here\n",
    "    return state_total_cases_list"
   ]
  },
  {
   "cell_type": "markdown",
   "id": "e1356c1f",
   "metadata": {},
   "source": [
    " **Step 3: Validate the Function**"
   ]
  },
  {
   "cell_type": "markdown",
   "id": "aa3fe1f1",
   "metadata": {},
   "source": [
    "Let us validate the solution by running below cells."
   ]
  },
  {
   "cell_type": "markdown",
   "id": "184b0c63",
   "metadata": {},
   "source": [
    "The desired output is-\n",
    "``` python\n",
    "state_total_cases_list=[\n",
    "{'State':'Maharashtra','Total Cases':6122893},\n",
    "{'State':'Kerala','Total Cases': 3011694},\n",
    "{'State':'Karnataka','Total Cases':2862338},\n",
    "{'State':'Tamil Nadu','Total Cases':2506848},\n",
    "{'State':'Andhra Pradesh','Total Cases':1911231},\n",
    "{'State':'Uttar Pradesh','Total Cases':1706934},\n",
    "{'State':'West Bengal','Total Cases':1508223},\n",
    "{'State':'Delhi','Total Cases':1434780},\n",
    "{'State':'Chhattisgarh','Total Cases':996689},\n",
    "{'State':'Rajasthan','Total Cases':952887},\n",
    "{'State':'Odisha','Total Cases':929788},\n",
    "{'State':'Gujarat','Total Cases':824029}]\n",
    "```"
   ]
  },
  {
   "cell_type": "code",
   "execution_count": null,
   "id": "1b2d42bf",
   "metadata": {},
   "outputs": [],
   "source": [
    "state_total_cases_list=get_state_name_and_total_cases(covid_data)\n",
    "state_total_cases_list"
   ]
  },
  {
   "cell_type": "code",
   "execution_count": null,
   "id": "c8f5e61e",
   "metadata": {},
   "outputs": [],
   "source": [
    "type(state_total_cases_list) #list"
   ]
  },
  {
   "cell_type": "code",
   "execution_count": null,
   "id": "fb8180ff",
   "metadata": {},
   "outputs": [],
   "source": [
    "len(state_total_cases_list) #12"
   ]
  },
  {
   "cell_type": "code",
   "execution_count": null,
   "id": "36ca112f",
   "metadata": {},
   "outputs": [],
   "source": [
    "state_total_cases_list[0] #{'State':'Maharashtra','Total Cases':6122893}"
   ]
  },
  {
   "cell_type": "code",
   "execution_count": null,
   "id": "582eb987",
   "metadata": {},
   "outputs": [],
   "source": [
    "type(state_total_cases_list[0]) #dictionary"
   ]
  },
  {
   "cell_type": "code",
   "execution_count": null,
   "id": "1b8ec072",
   "metadata": {},
   "outputs": [],
   "source": []
  }
 ],
 "metadata": {
  "kernelspec": {
   "display_name": "Python 3",
   "language": "python",
   "name": "python3"
  },
  "language_info": {
   "codemirror_mode": {
    "name": "ipython",
    "version": 3
   },
   "file_extension": ".py",
   "mimetype": "text/x-python",
   "name": "python",
   "nbconvert_exporter": "python",
   "pygments_lexer": "ipython3",
   "version": "3.6.12"
  }
 },
 "nbformat": 4,
 "nbformat_minor": 5
}
