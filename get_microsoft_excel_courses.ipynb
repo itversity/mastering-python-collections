{
 "cells": [
  {
   "cell_type": "markdown",
   "id": "90250fb9",
   "metadata": {},
   "source": [
    "## Get microsoft excel courses\n",
    " \n",
    "* Develop a code to read the data from a CSV file.\n",
    "* The function should return only microsoft excel courses.\n",
    "* Output should be list of tupples which contains only Microsoft Excel courses.\n",
    "* Output should contain Title,Enrollment,Stars and Rating,"
   ]
  },
  {
   "cell_type": "code",
   "execution_count": null,
   "id": "88e85ba4",
   "metadata": {},
   "outputs": [],
   "source": [
    "def get_microsoft_excel_courses(path):\n",
    "# Your code should go here\n",
    "\n",
    "    return microsoft_excel_courses"
   ]
  },
  {
   "cell_type": "markdown",
   "id": "88a20a69",
   "metadata": {},
   "source": [
    "* Run the below cell to validate. Here is the desired output.\n",
    "\n",
    "```python\n",
    "[('Microsoft Excel - Excel from Beginner to Advanced', 558150, 4.6, 174080),\n",
    " ('Microsoft Excel - Advanced Excel Formulas & Functions', 182132, 4.7, 38239),\n",
    " ('Microsoft Excel - Data Analysis with Excel Pivot Tables', 112510, 4.6, 21429),\n",
    " ('Microsoft Excel - Data Visualization, Excel Charts & Graphs', 74140, 4.6, 16118),\n",
    " ('Microsoft Excel - From Beginner to Expert in 6 Hours', 101795, 4.5, 15046),\n",
    " ('Microsoft Excel - Excel Power Query, Power Pivot & DAX', 54533, 4.7, 10933)]\n",
    "```"
   ]
  },
  {
   "cell_type": "code",
   "execution_count": null,
   "id": "b28df3b6",
   "metadata": {},
   "outputs": [],
   "source": [
    "microsoft_excel_courses=get_microsoft_excel_courses('data/udemy_office_productivity/udemy_office_productivity.csv')"
   ]
  },
  {
   "cell_type": "code",
   "execution_count": null,
   "id": "7ccbc8cc",
   "metadata": {},
   "outputs": [],
   "source": [
    "microsoft_excel_courses"
   ]
  }
 ],
 "metadata": {
  "kernelspec": {
   "display_name": "Python 3",
   "language": "python",
   "name": "python3"
  },
  "language_info": {
   "codemirror_mode": {
    "name": "ipython",
    "version": 3
   },
   "file_extension": ".py",
   "mimetype": "text/x-python",
   "name": "python",
   "nbconvert_exporter": "python",
   "pygments_lexer": "ipython3",
   "version": "3.6.12"
  }
 },
 "nbformat": 4,
 "nbformat_minor": 5
}
