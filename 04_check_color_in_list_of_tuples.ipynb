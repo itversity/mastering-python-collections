{
 "cells": [
  {
   "cell_type": "markdown",
   "id": "383a714d",
   "metadata": {},
   "source": [
    "## Check color in list of tuples\n",
    "Develop a function to check the element is present in a tuple. The function should check whether the color exists or not.\n",
    "* The input data is in the form of list. Each element in the list is of type tuple.\n",
    "* Each tuple contain multiple colors.\n",
    "* The function should take 2 arguments. The first argument is list of tuples which contain colors. The second argument is the color which you want to check.\n",
    "* If the color that is passed as second argument, exists in any of the tuples, then the function should return `True` else the function should return `false`.\n",
    "* The characters in the second argument might be passed in any case. However, we need to perform case insensitive search."
   ]
  },
  {
   "cell_type": "code",
   "execution_count": null,
   "id": "d89d0627",
   "metadata": {},
   "outputs": [],
   "source": [
    "colors = [\n",
    "    ('Red', 'White', 'Blue'),\n",
    "    ('Green', 'Pink', 'Purple'),\n",
    "    ('Orange', 'Yellow', 'Lime')\n",
    "]"
   ]
  },
  {
   "cell_type": "markdown",
   "id": "04642a83",
   "metadata": {},
   "source": [
    "## Step 1: Preview the data\n",
    "* Let us first preview the data."
   ]
  },
  {
   "cell_type": "code",
   "execution_count": null,
   "id": "450f6060",
   "metadata": {},
   "outputs": [],
   "source": [
    "colors"
   ]
  },
  {
   "cell_type": "code",
   "execution_count": null,
   "id": "43aa9045",
   "metadata": {},
   "outputs": [],
   "source": [
    "type(colors)"
   ]
  },
  {
   "cell_type": "code",
   "execution_count": null,
   "id": "a275665b",
   "metadata": {},
   "outputs": [],
   "source": [
    "len(colors)"
   ]
  },
  {
   "cell_type": "code",
   "execution_count": null,
   "id": "6d24b37b",
   "metadata": {},
   "outputs": [],
   "source": [
    "for color in colors:\n",
    "    print(f'The type of the record {color} is {type(color)}')"
   ]
  },
  {
   "cell_type": "markdown",
   "id": "69af7dbb",
   "metadata": {},
   "source": [
    "## Step 2: Provide the solution\n",
    "Now come up with the solution by developing the required logic. Once the function is developed, go to the next step to take care of the validation."
   ]
  },
  {
   "cell_type": "code",
   "execution_count": null,
   "id": "f79f1d23",
   "metadata": {},
   "outputs": [],
   "source": [
    "def check_in_tuples(colors, color):\n",
    "    # your code should go here\n",
    "\n",
    "    return"
   ]
  },
  {
   "cell_type": "markdown",
   "id": "27ee50e5",
   "metadata": {},
   "source": [
    "### Step 3: Validate the function\n",
    "\n",
    "* Here is the expected output."
   ]
  },
  {
   "cell_type": "code",
   "execution_count": null,
   "id": "8a573475",
   "metadata": {},
   "outputs": [],
   "source": [
    "check_in_tuples(colors, 'Red') # True"
   ]
  },
  {
   "cell_type": "code",
   "execution_count": null,
   "id": "23954ef5",
   "metadata": {},
   "outputs": [],
   "source": [
    "check_in_tuples(colors, 'red') # True"
   ]
  },
  {
   "cell_type": "code",
   "execution_count": null,
   "id": "afb61c19",
   "metadata": {},
   "outputs": [],
   "source": [
    "check_in_tuples(colors, 'Black') # False"
   ]
  },
  {
   "cell_type": "code",
   "execution_count": null,
   "id": "d0da8e46",
   "metadata": {},
   "outputs": [],
   "source": [
    "type((check_in_tuples(colors, 'red'))) #It should be bool"
   ]
  }
 ],
 "metadata": {
  "kernelspec": {
   "display_name": "Python 3",
   "language": "python",
   "name": "python3"
  },
  "language_info": {
   "codemirror_mode": {
    "name": "ipython",
    "version": 3
   },
   "file_extension": ".py",
   "mimetype": "text/x-python",
   "name": "python",
   "nbconvert_exporter": "python",
   "pygments_lexer": "ipython3",
   "version": "3.6.12"
  }
 },
 "nbformat": 4,
 "nbformat_minor": 5
}
