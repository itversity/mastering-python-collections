{
 "cells": [
  {
   "cell_type": "markdown",
   "id": "17f5c8df",
   "metadata": {},
   "source": [
    "## Check color in list of tuples\n",
    "Develop a function to check the element is present in a tuple. The function should check whether the color exists or not.\n",
    "* The input data is in the form of list. Each element in the list is of type tuple.\n",
    "* Each tuple contain multiple colors.\n",
    "* The function should take 2 arguments. The first argument is list of tuples which contain colors. The second argument is the color which you want to check.\n",
    "* If the color that is passed as second argument, exists in any of the tuples, then the function should return `True` else the function should return `false`.\n",
    "* The characters in the second argument might be passed in any case. However, we need to perform case insensitive search."
   ]
  },
  {
   "cell_type": "code",
   "execution_count": 3,
   "id": "ab7f55d6",
   "metadata": {},
   "outputs": [],
   "source": [
    "colors = [\n",
    "    ('Red', 'White', 'Blue'),\n",
    "    ('Green', 'Pink', 'Purple'),\n",
    "    ('Orange', 'Yellow', 'Lime')\n",
    "]"
   ]
  },
  {
   "cell_type": "markdown",
   "id": "90959246",
   "metadata": {},
   "source": [
    "## Step 1: Preview the data\n",
    "* Let us first preview the data."
   ]
  },
  {
   "cell_type": "code",
   "execution_count": 4,
   "id": "d12683af",
   "metadata": {},
   "outputs": [
    {
     "data": {
      "text/plain": [
       "[('Red', 'White', 'Blue'),\n",
       " ('Green', 'Pink', 'Purple'),\n",
       " ('Orange', 'Yellow', 'Lime')]"
      ]
     },
     "execution_count": 4,
     "metadata": {},
     "output_type": "execute_result"
    }
   ],
   "source": [
    "colors"
   ]
  },
  {
   "cell_type": "code",
   "execution_count": 5,
   "id": "ef20d9cb",
   "metadata": {},
   "outputs": [
    {
     "data": {
      "text/plain": [
       "list"
      ]
     },
     "execution_count": 5,
     "metadata": {},
     "output_type": "execute_result"
    }
   ],
   "source": [
    "type(colors)"
   ]
  },
  {
   "cell_type": "code",
   "execution_count": 6,
   "id": "d86a2395",
   "metadata": {},
   "outputs": [
    {
     "data": {
      "text/plain": [
       "3"
      ]
     },
     "execution_count": 6,
     "metadata": {},
     "output_type": "execute_result"
    }
   ],
   "source": [
    "len(colors)"
   ]
  },
  {
   "cell_type": "code",
   "execution_count": 8,
   "id": "6d3e38cf",
   "metadata": {},
   "outputs": [
    {
     "name": "stdout",
     "output_type": "stream",
     "text": [
      "The type of the record ('Red', 'White', 'Blue') is <class 'tuple'>\n",
      "The type of the record ('Green', 'Pink', 'Purple') is <class 'tuple'>\n",
      "The type of the record ('Orange', 'Yellow', 'Lime') is <class 'tuple'>\n"
     ]
    }
   ],
   "source": [
    "for color in colors:\n",
    "    print(f'The type of the record {color} is {type(color)}')"
   ]
  },
  {
   "cell_type": "markdown",
   "id": "43f512ba",
   "metadata": {},
   "source": [
    "## Step 2: Provide the solution\n",
    "Now come up with the solution by developing the required logic. Once the function is developed, go to the next step to take care of the validation."
   ]
  },
  {
   "cell_type": "code",
   "execution_count": 16,
   "id": "808f7f81",
   "metadata": {},
   "outputs": [],
   "source": [
    "def check_in_tuples(colors, color):\n",
    "    # your code should go here\n",
    "\n",
    "    return"
   ]
  },
  {
   "cell_type": "markdown",
   "id": "b3dd1737",
   "metadata": {},
   "source": [
    "### Step 3: Validate the function\n",
    "\n",
    "* Here is the expected output."
   ]
  },
  {
   "cell_type": "code",
   "execution_count": 19,
   "id": "afbec0e5",
   "metadata": {},
   "outputs": [
    {
     "data": {
      "text/plain": [
       "False"
      ]
     },
     "execution_count": 19,
     "metadata": {},
     "output_type": "execute_result"
    }
   ],
   "source": [
    "check_in_tuples(colors, 'Red') # True"
   ]
  },
  {
   "cell_type": "code",
   "execution_count": 18,
   "id": "7681eb19",
   "metadata": {},
   "outputs": [
    {
     "data": {
      "text/plain": [
       "True"
      ]
     },
     "execution_count": 18,
     "metadata": {},
     "output_type": "execute_result"
    }
   ],
   "source": [
    "check_in_tuples(colors, 'red') # True"
   ]
  },
  {
   "cell_type": "code",
   "execution_count": 20,
   "id": "9adb6331",
   "metadata": {},
   "outputs": [
    {
     "data": {
      "text/plain": [
       "False"
      ]
     },
     "execution_count": 20,
     "metadata": {},
     "output_type": "execute_result"
    }
   ],
   "source": [
    "check_in_tuples(colors, 'Black') # False"
   ]
  },
  {
   "cell_type": "code",
   "execution_count": null,
   "id": "59aff550",
   "metadata": {},
   "outputs": [],
   "source": [
    "type((check_in_tuples(colors, 'red'))) #It should be bool"
   ]
  }
 ],
 "metadata": {
  "kernelspec": {
   "display_name": "Python 3",
   "language": "python",
   "name": "python3"
  },
  "language_info": {
   "codemirror_mode": {
    "name": "ipython",
    "version": 3
   },
   "file_extension": ".py",
   "mimetype": "text/x-python",
   "name": "python",
   "nbconvert_exporter": "python",
   "pygments_lexer": "ipython3",
   "version": "3.6.12"
  }
 },
 "nbformat": 4,
 "nbformat_minor": 5
}
