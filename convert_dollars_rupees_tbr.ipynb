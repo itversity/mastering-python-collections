{
 "cells": [
  {
   "cell_type": "markdown",
   "id": "6dad9f48",
   "metadata": {},
   "source": [
    "## Get descending price values by converting the dollars to rupees\n",
    "\n",
    "* Develop a code to convert the price which is in dollars to rupees by using function like map, filter etc...\n",
    "* The output souhld conatin the list of price values in descending order."
   ]
  },
  {
   "cell_type": "code",
   "execution_count": null,
   "id": "7ae3ef55",
   "metadata": {},
   "outputs": [],
   "source": [
    "companies = [{'Company_name':'Accenture', 'Sector':'IT', 'Price':'222.89', 'Dividend':'2.33', 'Share':'7.92'},\n",
    "             {'Company_name':'Apple', 'Sector':'IT', 'Price':'155.15', 'Dividend':'1.57', 'Share':'9.2'},\n",
    "             {'Company_name':'Adobe Systems Inc', 'Sector':'IT', 'Price':'185.16', 'Dividend':'0', 'Share':'3.39'},\n",
    "             {'Company_name':'Alphabet', 'Sector':'IT', 'Price':'1007.71', 'Dividend':'0', 'Share':'22.27'},\n",
    "             {'Company_name':'Bank of America Corp', 'Sector':'Finacials', 'Price':'29.74', 'Dividend':'1.53', 'Share':'1.55'},\n",
    "             {'Company_name':'Biogen Inc', 'Sector':'Health Care', 'Price':'311.79', 'Dividend':'0', 'Share':'11.94'},\n",
    "             {'Company_name':'Campbell Soup', 'Sector':'Consumer Staples', 'Price':'44.83', 'Dividend':'3.12', 'Share':'2.89'},\n",
    "             {'Company_name':'Dr Pepper Snapple Group', 'Sector':'Consumer Staples', 'Price':'116.93', 'Dividend':'1.96', 'Share':'4.54'},\n",
    "             {'Company_name':'ebay Inc', 'Sector':'IT', 'Price':'41.02', 'Dividend':'0', 'Share':'-1.07'},\n",
    "             {'Company_name':'FedEx Corporation', 'Sector':'Industrials', 'Price':'239.27', 'Dividend':'0.79', 'Share':'11.07'},\n",
    "             {'Company_name':'Ford Motors', 'Sector':'Consumer Products', 'Price':'10.43', 'Dividend':'6.78', 'Share':'1.9'},\n",
    "             {'Company_name':'General Motors', 'Sector':'Consumer Products', 'Price':'40.75', 'Dividend':'3.58', 'Share':'6'},\n",
    "             {'Company_name':'Harley-Davidson', 'Sector':'Consumer Products', 'Price':'47.54', 'Dividend':'3.02', 'Share':'2.98'},\n",
    "             {'Company_name':'Hewlett Packard Enterprise', 'Sector':'IT', 'Price':'15.04', 'Dividend':'1.92', 'Share':'0.21'},\n",
    "             {'Company_name':'Intel Corp', 'Sector':'IT', 'Price':'42.75', 'Dividend':'2.65', 'Share':'1.98'},\n",
    "             {'Company_name':'JP Morgan', 'Sector':'Finacials', 'Price':'107.88', 'Dividend':'1.98', 'Share':'6.3'},\n",
    "             {'Company_name':'Johnson & Johnson', 'Sector':'IT', 'Price':'126.36', 'Dividend':'2.55', 'Share':'0.39'},\n",
    "             {'Company_name':'Microsoft Corp', 'Sector':'IT', 'Price':'85.01', 'Dividend':'1.87', 'Share':'2.97'},\n",
    "             {'Company_name':'Netflix Inc', 'Sector':'IT', 'Price':'250.01', 'Dividend':'0', 'Share':'1.25'},\n",
    "             {'Company_name':'Nike', 'Sector':'Consumer Products', 'Price':'62.49', 'Dividend':'1.21', 'Share':'2.51'}]"
   ]
  },
  {
   "cell_type": "code",
   "execution_count": null,
   "id": "a1c60e4b",
   "metadata": {},
   "outputs": [],
   "source": [
    "def get_rupee_price_values(companies):\n",
    "## Your code should go here\n",
    "    return "
   ]
  },
  {
   "cell_type": "code",
   "execution_count": null,
   "id": "2731e523",
   "metadata": {},
   "outputs": [],
   "source": [
    "get_rupee_price_values(companies)"
   ]
  },
  {
   "cell_type": "markdown",
   "id": "79146bf0",
   "metadata": {},
   "source": [
    "## The desired output is\n",
    "```python\n",
    "[75094.5492,\n",
    " 23234.5908,\n",
    " 18630.745199999998,\n",
    " 17830.4004,\n",
    " 16609.762799999997,\n",
    " 13798.123199999998,\n",
    " 11561.778,\n",
    " 9416.3472,\n",
    " 8713.6236,\n",
    " 8039.217599999999,\n",
    " 6334.9452,\n",
    " 4656.7548,\n",
    " 3542.6807999999996,\n",
    " 3340.7315999999996,\n",
    " 3185.73,\n",
    " 3056.8104,\n",
    " 3036.69,\n",
    " 2216.2248,\n",
    " 1120.7807999999998,\n",
    " 777.2435999999999]\n",
    "```"
   ]
  },
  {
   "cell_type": "code",
   "execution_count": null,
   "id": "fd2a61c1",
   "metadata": {},
   "outputs": [],
   "source": []
  }
 ],
 "metadata": {
  "kernelspec": {
   "display_name": "Python 3",
   "language": "python",
   "name": "python3"
  },
  "language_info": {
   "codemirror_mode": {
    "name": "ipython",
    "version": 3
   },
   "file_extension": ".py",
   "mimetype": "text/x-python",
   "name": "python",
   "nbconvert_exporter": "python",
   "pygments_lexer": "ipython3",
   "version": "3.6.12"
  }
 },
 "nbformat": 4,
 "nbformat_minor": 5
}
