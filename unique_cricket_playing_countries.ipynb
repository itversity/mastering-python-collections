{
 "cells": [
  {
   "cell_type": "markdown",
   "id": "d0eea1cd",
   "metadata": {},
   "source": [
    "## Get unique cricket playing countries\n",
    "\n",
    "Develop a function to process list of tuples which contains name of player,country name, test rating, role which he plays such as Batsman, Bowler, All-Rounder etc. It should return the unique country names that players belong from the list.\n",
    "* This is used to test the list and set manipulation functions as well as `map` function.\n",
    "* The input data is in the form of list of tuples.\n",
    "* The output should be in the form of a list.\n",
    "* Countries should be sorted in ascending order.\n",
    "\n",
    "**Restriction: The code should not contain the loops**"
   ]
  },
  {
   "cell_type": "code",
   "execution_count": null,
   "id": "26393ffc",
   "metadata": {},
   "outputs": [],
   "source": [
    "cricketers=[\n",
    " ('Kane Williamson', 'NZ', 901, 'Batsman'),\n",
    " ('Steve Smith', 'AUS', 891, 'Batsman'),\n",
    " ('Marnus Labuschagne', 'AUS', 878, 'Batsman'),\n",
    " ('Virat Kohli', 'IND', 812, 'Batsman'),\n",
    " ('Joe Root', 'ENG', 797, 'Batsman'),\n",
    " ('Rohit Sharma', 'IND', 759, 'Batsman'),\n",
    " ('Rishabh Pant', 'IND', 752, 'Batsman'),\n",
    " ('David Warner', 'AUS', 724, 'Batsman'),\n",
    " ('Quinton de Kock', 'SA', 717, 'Batsman'),\n",
    " ('Henry Nicholls', 'NZ', 714, 'Batsman'),\n",
    " ('Pat Cummins', 'AUS', 908, 'Bowler'),\n",
    " ('Tim Southee', 'NZ', 824, 'Bowler'),\n",
    " ('Josh Hazlewood', 'AUS', 816, 'Bowler'),\n",
    " ('Neil Wagner', 'NZ', 810, 'Bowler'),\n",
    " ('Kagiso Rabada', 'SA', 798, 'Bowler'),\n",
    " ('Stuart Broad', 'ENG', 793, 'Bowler'),\n",
    " ('James Anderson', 'ENG', 783, 'Bowler'),\n",
    " ('Mitchell Starc', 'AUS', 744, 'Bowler'),\n",
    " ('Jason Holder', 'WI', 384, 'All-Rounder'),\n",
    " ('Ben Stokes', 'ENG', 377, 'All-Rounder'),\n",
    " ('Ravindra Jadeja', 'IND', 377, 'All-Rounder'),\n",
    " ('Ravichandran Ashwin', 'IND', 358, 'All-Rounder'),\n",
    " ('Shakib Al Hasan', 'BAN', 338, 'All-Rounder')]"
   ]
  },
  {
   "cell_type": "markdown",
   "id": "03abbd9b",
   "metadata": {},
   "source": [
    "**Step 1: Preview the Data**"
   ]
  },
  {
   "cell_type": "code",
   "execution_count": null,
   "id": "4795aa29",
   "metadata": {},
   "outputs": [],
   "source": [
    "cricketers"
   ]
  },
  {
   "cell_type": "code",
   "execution_count": null,
   "id": "4de3dd61",
   "metadata": {},
   "outputs": [],
   "source": [
    "type(cricketers)"
   ]
  },
  {
   "cell_type": "code",
   "execution_count": null,
   "id": "95e803e9",
   "metadata": {},
   "outputs": [],
   "source": [
    "len(cricketers)"
   ]
  },
  {
   "cell_type": "markdown",
   "id": "844e0950",
   "metadata": {},
   "source": [
    "**Step 2: Provide the Solution**"
   ]
  },
  {
   "cell_type": "markdown",
   "id": "9e14883b",
   "metadata": {},
   "source": [
    "Now develop the function to solve this scanerio."
   ]
  },
  {
   "cell_type": "code",
   "execution_count": null,
   "id": "19a320da",
   "metadata": {},
   "outputs": [],
   "source": [
    "def get_unique_countries(cricketers):\n",
    "    # Develop your logic here\n",
    "    return unique_countries"
   ]
  },
  {
   "cell_type": "markdown",
   "id": "2e72871b",
   "metadata": {},
   "source": [
    "**Step 3: Validate the function**"
   ]
  },
  {
   "cell_type": "markdown",
   "id": "4a875e9f",
   "metadata": {},
   "source": [
    "Let us validate the function by running below cells."
   ]
  },
  {
   "cell_type": "markdown",
   "id": "2c6b0345",
   "metadata": {},
   "source": [
    "The desired output is-\n",
    "``` python\n",
    "unique_countries=['AUS',\n",
    "                  'BAN',\n",
    "                  'ENG',\n",
    "                  'IND',\n",
    "                  'NZ',\n",
    "                  'SA',\n",
    "                  'WI']\n",
    "```"
   ]
  },
  {
   "cell_type": "code",
   "execution_count": null,
   "id": "cb5fe283",
   "metadata": {},
   "outputs": [],
   "source": [
    "unique_countries=get_unique_countries(cricketers)\n",
    "unique_countries"
   ]
  },
  {
   "cell_type": "code",
   "execution_count": null,
   "id": "73dcdd90",
   "metadata": {},
   "outputs": [],
   "source": [
    "type(unique_countries) #list"
   ]
  },
  {
   "cell_type": "code",
   "execution_count": null,
   "id": "bd9972f5",
   "metadata": {},
   "outputs": [],
   "source": [
    "len(unique_countries) #7"
   ]
  },
  {
   "cell_type": "code",
   "execution_count": null,
   "id": "37e6f770",
   "metadata": {},
   "outputs": [],
   "source": [
    "unique_countries[0] #'Aus'"
   ]
  },
  {
   "cell_type": "code",
   "execution_count": null,
   "id": "b75ee62c",
   "metadata": {},
   "outputs": [],
   "source": [
    "type(unique_countries[0]) #string"
   ]
  },
  {
   "cell_type": "code",
   "execution_count": null,
   "id": "029f817f",
   "metadata": {},
   "outputs": [],
   "source": []
  }
 ],
 "metadata": {
  "kernelspec": {
   "display_name": "Python 3",
   "language": "python",
   "name": "python3"
  },
  "language_info": {
   "codemirror_mode": {
    "name": "ipython",
    "version": 3
   },
   "file_extension": ".py",
   "mimetype": "text/x-python",
   "name": "python",
   "nbconvert_exporter": "python",
   "pygments_lexer": "ipython3",
   "version": "3.6.12"
  }
 },
 "nbformat": 4,
 "nbformat_minor": 5
}
