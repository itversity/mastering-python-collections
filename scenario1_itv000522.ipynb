{
 "cells": [
  {
   "cell_type": "markdown",
   "id": "af5b5eb5",
   "metadata": {},
   "source": [
    "Develop a code to read the data from a CSV file to return top 5 Enrollment in a list. \n",
    "> The function should return the top 5 enrollment values.\n",
    "\n",
    "> Enrollment values should be sorted in decending order."
   ]
  },
  {
   "cell_type": "markdown",
   "id": "24737763",
   "metadata": {},
   "source": [
    "Expected output is\n",
    "\n",
    "[558150, 182132, 112510, 101795, 97548]"
   ]
  },
  {
   "cell_type": "code",
   "execution_count": null,
   "id": "3fd8dc19",
   "metadata": {},
   "outputs": [],
   "source": [
    "def get_top_enrollment_list(path):\n",
    "#Your code should go here\n",
    "  \n",
    "    return enrollment_list"
   ]
  },
  {
   "cell_type": "code",
   "execution_count": null,
   "id": "4c32198a",
   "metadata": {},
   "outputs": [],
   "source": [
    "enrollment_list=get_top_enrollment_list('udemy_office_productivity.csv')"
   ]
  },
  {
   "cell_type": "code",
   "execution_count": null,
   "id": "5659aaaf",
   "metadata": {},
   "outputs": [],
   "source": []
  }
 ],
 "metadata": {
  "kernelspec": {
   "display_name": "Python 3",
   "language": "python",
   "name": "python3"
  },
  "language_info": {
   "codemirror_mode": {
    "name": "ipython",
    "version": 3
   },
   "file_extension": ".py",
   "mimetype": "text/x-python",
   "name": "python",
   "nbconvert_exporter": "python",
   "pygments_lexer": "ipython3",
   "version": "3.6.12"
  }
 },
 "nbformat": 4,
 "nbformat_minor": 5
}
