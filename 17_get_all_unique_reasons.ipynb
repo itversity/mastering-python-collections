{
 "cells": [
  {
   "cell_type": "markdown",
   "id": "5286be3b",
   "metadata": {},
   "source": [
    "## Get all unique reasons\n",
    "\n",
    "Develop a function which gives list of unique reasons.\n",
    "* We will provide the data in the form of list of dicts.\n",
    "* Each element will have data related to multiple attributes associated with those who want to take the assessments.\n",
    "* Develop a function which does the following.\n",
    "  * It should take one argument - the list of aspirants.\n",
    "  * You need to include the logic to find all the unique reasons. Each record might contain more than one reasons which are comma separated. You need process those with appropriate functions.\n",
    "  * There should not be spaces before the reason or after the reason.\n",
    "  * Return all the reasons as sorted list. The elements in the list should be sorted in alphanumeric order.\n",
    "\n",
    "**Restrictions: You should only use loops or first class functions such as map, filter etc.  Do not use Pandas.**"
   ]
  },
  {
   "cell_type": "code",
   "execution_count": null,
   "id": "d7c94425",
   "metadata": {},
   "outputs": [],
   "source": [
    "students = [{'Name': 'Pardha Saradhi',\n",
    "  'Reason': 'To be part of ITVersity Professionals Database to work on paid part-time opportunities',\n",
    "  'Current Status': 'Experienced Professionals (10+ years of experience)',\n",
    "  'Python Rating': '3',\n",
    "  'Scheduled Date': '7/31/2021',\n",
    "  'Current Country': 'India'},\n",
    " {'Name': 'Asasri',\n",
    "  'Reason': 'Self assess to understand where I stand in Python',\n",
    "  'Current Status': 'Freshers or recent year pass outs looking for entry level jobs',\n",
    "  'Python Rating': '2',\n",
    "  'Scheduled Date': '8/10/2021',\n",
    "  'Current Country': 'India'},\n",
    " {'Name': 'Sai Akshith',\n",
    "  'Reason': 'Self assess to understand where I stand in Python, Technical Screening Preparation (tests as well as interviews), To be part of ITVersity Professionals Database to work on paid part-time opportunities',\n",
    "  'Current Status': 'Entry level professional (less than 2 years of experience)',\n",
    "  'Python Rating': '3',\n",
    "  'Scheduled Date': '7/30/2021',\n",
    "  'Current Country': 'India'},\n",
    " {'Name': 'Anmol',\n",
    "  'Reason': 'Self assess to understand where I stand in Python, To be part of ITVersity Professionals Database to work on paid part-time opportunities',\n",
    "  'Current Status': 'Experienced Professionals (2 to 5 years of experience)',\n",
    "  'Python Rating': '2',\n",
    "  'Scheduled Date': '7/25/2021',\n",
    "  'Current Country': 'India'},\n",
    " {'Name': 'Shravan',\n",
    "  'Reason': 'Self assess to understand where I stand in Python, Technical Screening Preparation (tests as well as interviews)',\n",
    "  'Current Status': 'Experienced Professionals (2 to 5 years of experience)',\n",
    "  'Python Rating': '1',\n",
    "  'Scheduled Date': '7/28/2021',\n",
    "  'Current Country': 'India'},\n",
    " {'Name': 'Aditya',\n",
    "  'Reason': 'Self assess to understand where I stand in Python, Technical Screening Preparation (tests as well as interviews), Placement Assistance for full time opportunities, To be part of ITVersity Professionals Database to work on paid part-time opportunities',\n",
    "  'Current Status': 'Experienced Professionals (5 to 10 years of experience)',\n",
    "  'Python Rating': '1',\n",
    "  'Scheduled Date': '7/31/2021',\n",
    "  'Current Country': 'USA'},\n",
    " {'Name': 'Prasanth ',\n",
    "  'Reason': 'Self assess to understand where I stand in Python',\n",
    "  'Current Status': 'Experienced Professionals (10+ years of experience)',\n",
    "  'Python Rating': '2',\n",
    "  'Scheduled Date': '8/14/2021',\n",
    "  'Current Country': 'USA'},\n",
    " {'Name': 'Sahana',\n",
    "  'Reason': 'Self assess to understand where I stand in Python, Placement Assistance for full time opportunities',\n",
    "  'Current Status': 'Entry level professional (less than 2 years of experience)',\n",
    "  'Python Rating': '4',\n",
    "  'Scheduled Date': '7/26/2021',\n",
    "  'Current Country': 'India'}]"
   ]
  },
  {
   "cell_type": "markdown",
   "id": "4d394052",
   "metadata": {},
   "source": [
    "### Step 1: Preview the data\n",
    "\n",
    "Let us first preview the data."
   ]
  },
  {
   "cell_type": "code",
   "execution_count": null,
   "id": "11566b33",
   "metadata": {},
   "outputs": [],
   "source": [
    "type(students)"
   ]
  },
  {
   "cell_type": "code",
   "execution_count": null,
   "id": "0c3b4731",
   "metadata": {},
   "outputs": [],
   "source": [
    "len(students)"
   ]
  },
  {
   "cell_type": "code",
   "execution_count": null,
   "id": "fc009f4f",
   "metadata": {},
   "outputs": [],
   "source": [
    "students[0]"
   ]
  },
  {
   "cell_type": "code",
   "execution_count": null,
   "id": "fc733311",
   "metadata": {},
   "outputs": [],
   "source": [
    "type(students[0])"
   ]
  },
  {
   "cell_type": "markdown",
   "id": "535edcfd",
   "metadata": {},
   "source": [
    "### Step 2: Provide the solution\n",
    "\n",
    "Now come up with the solution by developing the required logic. Once the function is developed, go to the next step to take care of the validation."
   ]
  },
  {
   "cell_type": "code",
   "execution_count": null,
   "id": "256e3e47",
   "metadata": {},
   "outputs": [],
   "source": [
    "def get_unique_reasons(students):\n",
    "    return unique_reasons"
   ]
  },
  {
   "cell_type": "markdown",
   "id": "678b14eb",
   "metadata": {},
   "source": [
    "### Step 3: Validate the function\n",
    "\n",
    "Let us validate the function by running below cells.\n",
    "* Here is the expected output.\n",
    "\n",
    "```python\n",
    "['Placement Assistance for full time opportunities',\n",
    " 'Self assess to understand where I stand in Python',\n",
    " 'Technical Screening Preparation (tests as well as interviews)',\n",
    " 'To be part of ITVersity Professionals Database to work on paid part-time opportunities']\n",
    "```"
   ]
  },
  {
   "cell_type": "code",
   "execution_count": null,
   "id": "90885624",
   "metadata": {},
   "outputs": [],
   "source": [
    "unique_reasons = get_unique_reasons(students)"
   ]
  },
  {
   "cell_type": "code",
   "execution_count": null,
   "id": "b2945b37",
   "metadata": {},
   "outputs": [],
   "source": [
    "len(unique_reasons) # 38"
   ]
  },
  {
   "cell_type": "code",
   "execution_count": null,
   "id": "a4bab32e",
   "metadata": {},
   "outputs": [],
   "source": [
    "type(unique_reasons) # list"
   ]
  },
  {
   "cell_type": "code",
   "execution_count": null,
   "id": "66ca868f",
   "metadata": {},
   "outputs": [],
   "source": [
    "type(unique_reasons[0]) # str"
   ]
  },
  {
   "cell_type": "code",
   "execution_count": null,
   "id": "dccd351f",
   "metadata": {},
   "outputs": [],
   "source": [
    "print(unique_reasons[0]) # 'Placement Assistance for full time opportunities'"
   ]
  }
 ],
 "metadata": {
  "kernelspec": {
   "display_name": "Python 3",
   "language": "python",
   "name": "python3"
  },
  "language_info": {
   "codemirror_mode": {
    "name": "ipython",
    "version": 3
   },
   "file_extension": ".py",
   "mimetype": "text/x-python",
   "name": "python",
   "nbconvert_exporter": "python",
   "pygments_lexer": "ipython3",
   "version": "3.6.12"
  }
 },
 "nbformat": 4,
 "nbformat_minor": 5
}
