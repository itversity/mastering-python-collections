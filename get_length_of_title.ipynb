{
 "cells": [
  {
   "cell_type": "markdown",
   "id": "2b6a48a4",
   "metadata": {},
   "source": [
    "## Get length of the title\n",
    "\n",
    "Develop a code to return the length of the Title in list of dicts.\n",
    "\n",
    "* The function should return length of the Title.\n",
    "* Data should be sorted in decending order by Title length.\n",
    "* Output should contain Title and Title length.\n",
    "\n",
    "Note: Please use loops or functions such map, filter, reduce, etc to come up with the solution."
   ]
  },
  {
   "cell_type": "code",
   "execution_count": null,
   "id": "c228ad86",
   "metadata": {},
   "outputs": [],
   "source": [
    "office_productivity=[{'index': 0,\n",
    "  'Title': 'Microsoft Excel - Excel from Beginner to Advanced',\n",
    "  'Summary': 'Excel with this A-Z Microsoft Excel Course. Microsoft Excel 2010, 2013, 2016, Excel 2019 and Office 365',\n",
    "  'Enrollment': 558150,\n",
    "  'Stars': 4.6,\n",
    "  'Rating': 174080,\n",
    "  'Link': 'https://www.udemy.com/course/microsoft-excel-2013-from-beginner-to-advanced-and-beyond/'},\n",
    " {'index': 1,\n",
    "  'Title': 'Microsoft Excel - Advanced Excel Formulas & Functions',\n",
    "  'Summary': \"Master 75+ Excel formulas with hands-on demos from a best-selling Microsoft Excel instructor (Excel '07 - Excel 2019)\",\n",
    "  'Enrollment': 182132,\n",
    "  'Stars': 4.7,\n",
    "  'Rating': 38239,\n",
    "  'Link': 'https://www.udemy.com/course/excel-for-analysts/'},\n",
    " {'index': 2,\n",
    "  'Title': 'Unlock Excel VBA and Excel Macros',\n",
    "  'Summary': 'Automate Complex Tasks with Microsoft Excel VBA & Excel Macros (Real-World Projects included). Achieve More. Save time.',\n",
    "  'Enrollment': 97548,\n",
    "  'Stars': 4.6,\n",
    "  'Rating': 22865,\n",
    "  'Link': 'https://www.udemy.com/course/excel-vba-and-macros-course/'},\n",
    " {'index': 3,\n",
    "  'Title': 'Microsoft Excel - Data Analysis with Excel Pivot Tables',\n",
    "  'Summary': 'Master Excel Pivot Tables & data analysis with real-world cases from a best-selling Excel instructor (Excel 2010-2019)',\n",
    "  'Enrollment': 112510,\n",
    "  'Stars': 4.6,\n",
    "  'Rating': 21429,\n",
    "  'Link': 'https://www.udemy.com/course/data-analysis-with-excel-pivot-tables/'},\n",
    " {'index': 4,\n",
    "  'Title': 'Excel Essentials: The Complete Excel Series - Level 1, 2 & 3',\n",
    "  'Summary': 'Excel: The WHOLE Excel Mastery Series In One! From Excel Novice To VBA Programmer - Excel 2013, Excel 2016, Excel 2019',\n",
    "  'Enrollment': 72269,\n",
    "  'Stars': 4.6,\n",
    "  'Rating': 18116,\n",
    "  'Link': 'https://www.udemy.com/course/excel-essentials-the-complete-series-levels-1-2-3/'},\n",
    " {'index': 5,\n",
    "  'Title': 'Microsoft Excel - Data Visualization, Excel Charts & Graphs',\n",
    "  'Summary': 'Master 20+ Excel charts & graphs and build custom visuals with a best-selling Excel instructor (Excel 2016 - Excel 2019)',\n",
    "  'Enrollment': 74140,\n",
    "  'Stars': 4.6,\n",
    "  'Rating': 16118,\n",
    "  'Link': 'https://www.udemy.com/course/advanced-excel-charts-graphs/'},\n",
    " {'index': 6,\n",
    "  'Title': 'Microsoft Excel - From Beginner to Expert in 6 Hours',\n",
    "  'Summary': 'This Microsoft Excel class will make you a master of Microsoft Excel. The training uses Excel 2013 for Windows.',\n",
    "  'Enrollment': 101795,\n",
    "  'Stars': 4.5,\n",
    "  'Rating': 15046,\n",
    "  'Link': 'https://www.udemy.com/course/thebestexcel/'},\n",
    " {'index': 7,\n",
    "  'Title': 'Master Microsoft Word Beginner to Advanced',\n",
    "  'Summary': 'Master the most popular Word Processing tool, Microsoft Word. Microsoft Word 2010, Word 2013, Word 2016, Word 2019',\n",
    "  'Enrollment': 55439,\n",
    "  'Stars': 4.7,\n",
    "  'Rating': 11351,\n",
    "  'Link': 'https://www.udemy.com/course/microsoft-word-from-beginner-to-advanced-and-beyond/'},\n",
    " {'index': 8,\n",
    "  'Title': 'Microsoft Project ALL: BEGINNER to EXPERT 10 Projects 9 PDU',\n",
    "  'Summary': 'Learn MS Project all version HANDS-ON with COMPLETE real life examples BONUS 125 project files FREE PMI approved 9 PDUs',\n",
    "  'Enrollment': 47664,\n",
    "  'Stars': 4.5,\n",
    "  'Rating': 11157,\n",
    "  'Link': 'https://www.udemy.com/course/microsoft-project-tutorial/'},\n",
    " {'index': 9,\n",
    "  'Title': 'Mastering Microsoft Teams (2020)',\n",
    "  'Summary': 'Become an expert at using Microsoft Teams to chat, collaborate, and get things done',\n",
    "  'Enrollment': 33522,\n",
    "  'Stars': 4.4,\n",
    "  'Rating': 10988,\n",
    "  'Link': 'https://www.udemy.com/course/mastering-microsoft-teams/'},\n",
    " {'index': 10,\n",
    "  'Title': 'Microsoft Excel - Excel Power Query, Power Pivot & DAX',\n",
    "  'Summary': 'Learn Excel business intelligence (Power Query, Power Pivot & DAX) with a best-selling Excel instructor (Excel 2013+)',\n",
    "  'Enrollment': 54533,\n",
    "  'Stars': 4.7,\n",
    "  'Rating': 10933,\n",
    "  'Link': 'https://www.udemy.com/course/microsoft-excel-power-query-power-pivot-dax/'},\n",
    " {'index': 11,\n",
    "  'Title': 'Microsoft Access 2016 Master Class: Beginner to Advanced',\n",
    "  'Summary': 'Quickly learn how Microsoft Access 2016 can make your life easier and more productive!',\n",
    "  'Enrollment': 43242,\n",
    "  'Stars': 4.6,\n",
    "  'Rating': 10265,\n",
    "  'Link': 'https://www.udemy.com/course/microsoftaccess/'},\n",
    " {'index': 12,\n",
    "  'Title': 'Master Microsoft Excel Macros and Excel VBA',\n",
    "  'Summary': 'Project Based Course on Excel VBA (Visual Basic for Applications) and Excel Macros',\n",
    "  'Enrollment': 41348,\n",
    "  'Stars': 4.5,\n",
    "  'Rating': 10069,\n",
    "  'Link': 'https://www.udemy.com/course/master-microsoft-excel-macros-and-vba-with-5-simple-projects/'},\n",
    " {'index': 13,\n",
    "  'Title': 'Visually Effective Excel Dashboards',\n",
    "  'Summary': 'Actionable Excel Tips (Templates Included) You Can Use Right Now to Create Eye-Catching Microsoft Excel Dashboards',\n",
    "  'Enrollment': 43843,\n",
    "  'Stars': 4.6,\n",
    "  'Rating': 9213,\n",
    "  'Link': 'https://www.udemy.com/course/excel-dashboards-reports/'},\n",
    " {'index': 14,\n",
    "  'Title': 'Powerpoint 2016 2019 - Master powerpoint presentation',\n",
    "  'Summary': 'Complete Powerpoint Design Masterclass - 20+ powerpoint presentation slides. Powerpoint from beginner to pro',\n",
    "  'Enrollment': 46790,\n",
    "  'Stars': 4.5,\n",
    "  'Rating': 8510,\n",
    "  'Link': 'https://www.udemy.com/course/case-study-powerpoint-2013-presentation-slide-by-slide/'},\n",
    " {'index': 15,\n",
    "  'Title': 'SAP Simplified for Absolute Beginners',\n",
    "  'Summary': 'Easy to follow Introduction into SAP ERP',\n",
    "  'Enrollment': 21652,\n",
    "  'Stars': 4.4,\n",
    "  'Rating': 7110,\n",
    "  'Link': 'https://www.udemy.com/course/sap-simplified-for-absolute-beginners/'}\n",
    "]"
   ]
  },
  {
   "cell_type": "markdown",
   "id": "4b690524",
   "metadata": {},
   "source": [
    "## Step 1: Preview the data\n",
    "* Let us first preview the data."
   ]
  },
  {
   "cell_type": "code",
   "execution_count": null,
   "id": "f34e6753",
   "metadata": {},
   "outputs": [],
   "source": [
    "office_productivity"
   ]
  },
  {
   "cell_type": "code",
   "execution_count": null,
   "id": "21caf34d",
   "metadata": {},
   "outputs": [],
   "source": [
    "type(office_productivity)"
   ]
  },
  {
   "cell_type": "code",
   "execution_count": null,
   "id": "5a6028c0",
   "metadata": {},
   "outputs": [],
   "source": [
    "len(office_productivity)"
   ]
  },
  {
   "cell_type": "code",
   "execution_count": null,
   "id": "51bf2ee5",
   "metadata": {},
   "outputs": [],
   "source": [
    "for office_productivity in office_productivity[0].items():\n",
    "    print(f'The type of value {office_productivity[1]} with attribute {office_productivity[0]} is {type(office_productivity[1])}')"
   ]
  },
  {
   "cell_type": "markdown",
   "id": "194b77dd",
   "metadata": {},
   "source": [
    "## Step 2: Provide the solution\n",
    "Now come up with the solution by developing the required logic. Once the function is developed, go to the next step to take care of the validation."
   ]
  },
  {
   "cell_type": "code",
   "execution_count": null,
   "id": "e863d362",
   "metadata": {},
   "outputs": [],
   "source": [
    "def get_length_of_title(path):\n",
    "#Your code should go here\n",
    "\n",
    "    return length_of_title"
   ]
  },
  {
   "cell_type": "markdown",
   "id": "d90c43af",
   "metadata": {},
   "source": [
    "### Step 3: Validate the function\n",
    "\n",
    "Let us validate the function by running below cells.\n",
    "* Here is the expected output.\n",
    "\n",
    "```python\n",
    "[\n",
    " {'Title': 'Excel Essentials: The Complete Excel Series - Level 1, 2 & 3',\n",
    "  'Title_length': 60},\n",
    " {'Title': 'Microsoft Excel - Data Visualization, Excel Charts & Graphs',\n",
    "  'Title_length': 59},\n",
    " {'Title': 'Microsoft Project ALL: BEGINNER to EXPERT 10 Projects 9 PDU',\n",
    "  'Title_length': 59},\n",
    " {'Title': 'Microsoft Access 2016 Master Class: Beginner to Advanced',\n",
    "  'Title_length': 56},\n",
    " {'Title': 'Microsoft Excel - Data Analysis with Excel Pivot Tables',\n",
    "  'Title_length': 55},\n",
    " {'Title': 'Microsoft Excel - Excel Power Query, Power Pivot & DAX',\n",
    "  'Title_length': 54},\n",
    " {'Title': 'Microsoft Excel - Advanced Excel Formulas & Functions',\n",
    "  'Title_length': 53},\n",
    " {'Title': 'Powerpoint 2016 2019 - Master powerpoint presentation',\n",
    "  'Title_length': 53},\n",
    " {'Title': 'Microsoft Excel - From Beginner to Expert in 6 Hours',\n",
    "  'Title_length': 52},\n",
    " {'Title': 'Microsoft Excel - Excel from Beginner to Advanced',\n",
    "  'Title_length': 49},\n",
    " {'Title': 'Master Microsoft Excel Macros and Excel VBA', \n",
    "  'Title_length': 43},\n",
    " {'Title': 'Master Microsoft Word Beginner to Advanced',\n",
    "  'Title_length': 42},\n",
    " {'Title': 'SAP Simplified for Absolute Beginners',\n",
    "  'Title_length': 37},\n",
    " {'Title': 'Visually Effective Excel Dashboards',\n",
    "  'Title_length': 35},\n",
    " {'Title': 'Unlock Excel VBA and Excel Macros',\n",
    "  'Title_length': 33},\n",
    " {'Title': 'Mastering Microsoft Teams (2020)',\n",
    "  'Title_length': 32}\n",
    "]\n",
    "```"
   ]
  },
  {
   "cell_type": "code",
   "execution_count": null,
   "id": "011f7451",
   "metadata": {},
   "outputs": [],
   "source": [
    "title_length=get_length_of_title(office_productivity)"
   ]
  },
  {
   "cell_type": "code",
   "execution_count": null,
   "id": "20d960d6",
   "metadata": {},
   "outputs": [],
   "source": [
    "title_length"
   ]
  },
  {
   "cell_type": "code",
   "execution_count": null,
   "id": "78a4a9b7",
   "metadata": {},
   "outputs": [],
   "source": [
    "type(title_length) #It should be list"
   ]
  },
  {
   "cell_type": "code",
   "execution_count": null,
   "id": "655f7660",
   "metadata": {},
   "outputs": [],
   "source": [
    "len(title_length) #It should be 16"
   ]
  }
 ],
 "metadata": {
  "kernelspec": {
   "display_name": "Python 3",
   "language": "python",
   "name": "python3"
  },
  "language_info": {
   "codemirror_mode": {
    "name": "ipython",
    "version": 3
   },
   "file_extension": ".py",
   "mimetype": "text/x-python",
   "name": "python",
   "nbconvert_exporter": "python",
   "pygments_lexer": "ipython3",
   "version": "3.6.12"
  }
 },
 "nbformat": 4,
 "nbformat_minor": 5
}
