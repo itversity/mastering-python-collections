{
 "cells": [
  {
   "cell_type": "markdown",
   "id": "cb005c1c",
   "metadata": {},
   "source": [
    "## Get length of the title\n",
    "\n",
    "Develop a code to read the data from a CSV file to return the length of the Title in list of dicts.\n",
    "\n",
    "* The function should return length of the Title.\n",
    "* Data should be sorted in decending order by Title length.\n",
    "* Output should contain Title and Title length.\n",
    "\n",
    "Note: Please use loops or functions such map, filter, reduce, etc to come up with the solution."
   ]
  },
  {
   "cell_type": "code",
   "execution_count": null,
   "id": "1b2bf9ca",
   "metadata": {},
   "outputs": [],
   "source": [
    "\n",
    "def get_length_of_title(path):\n",
    "#Your code should go here\n",
    "\n",
    "    return length_of_title"
   ]
  },
  {
   "cell_type": "markdown",
   "id": "df562eb1",
   "metadata": {},
   "source": [
    "* Run the below cell to validate. Here is the desired output.\n",
    "\n",
    "```python\n",
    "[\n",
    " {'Title': 'Excel Essentials: The Complete Excel Series - Level 1, 2 & 3',\n",
    "  'Title_length': 60},\n",
    " {'Title': 'Microsoft Excel - Data Visualization, Excel Charts & Graphs',\n",
    "  'Title_length': 59},\n",
    " {'Title': 'Microsoft Project ALL: BEGINNER to EXPERT 10 Projects 9 PDU',\n",
    "  'Title_length': 59},\n",
    " {'Title': 'Microsoft Access 2016 Master Class: Beginner to Advanced',\n",
    "  'Title_length': 56},\n",
    " {'Title': 'Microsoft Excel - Data Analysis with Excel Pivot Tables',\n",
    "  'Title_length': 55},\n",
    " {'Title': 'Microsoft Excel - Excel Power Query, Power Pivot & DAX',\n",
    "  'Title_length': 54},\n",
    " {'Title': 'Microsoft Excel - Advanced Excel Formulas & Functions',\n",
    "  'Title_length': 53},\n",
    " {'Title': 'Powerpoint 2016 2019 - Master powerpoint presentation',\n",
    "  'Title_length': 53},\n",
    " {'Title': 'Microsoft Excel - From Beginner to Expert in 6 Hours',\n",
    "  'Title_length': 52},\n",
    " {'Title': 'Microsoft Excel - Excel from Beginner to Advanced',\n",
    "  'Title_length': 49},\n",
    " {'Title': 'Master Microsoft Excel Macros and Excel VBA', \n",
    "  'Title_length': 43},\n",
    " {'Title': 'Master Microsoft Word Beginner to Advanced',\n",
    "  'Title_length': 42},\n",
    " {'Title': 'SAP Simplified for Absolute Beginners',\n",
    "  'Title_length': 37},\n",
    " {'Title': 'Visually Effective Excel Dashboards',\n",
    "  'Title_length': 35},\n",
    " {'Title': 'Unlock Excel VBA and Excel Macros',\n",
    "  'Title_length': 33},\n",
    " {'Title': 'Mastering Microsoft Teams (2020)',\n",
    "  'Title_length': 32}\n",
    "]\n",
    "```"
   ]
  },
  {
   "cell_type": "code",
   "execution_count": null,
   "id": "27d535ca",
   "metadata": {},
   "outputs": [],
   "source": [
    "title_length=get_length_of_title('data/udemy_office_productivity/udemy_office_productivity.csv')"
   ]
  },
  {
   "cell_type": "code",
   "execution_count": null,
   "id": "16bd84c1",
   "metadata": {},
   "outputs": [],
   "source": [
    "title_length"
   ]
  }
 ],
 "metadata": {
  "kernelspec": {
   "display_name": "Python 3",
   "language": "python",
   "name": "python3"
  },
  "language_info": {
   "codemirror_mode": {
    "name": "ipython",
    "version": 3
   },
   "file_extension": ".py",
   "mimetype": "text/x-python",
   "name": "python",
   "nbconvert_exporter": "python",
   "pygments_lexer": "ipython3",
   "version": "3.6.12"
  }
 },
 "nbformat": 4,
 "nbformat_minor": 5
}
