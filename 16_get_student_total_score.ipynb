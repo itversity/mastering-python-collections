{
 "cells": [
  {
   "cell_type": "markdown",
   "id": "12cc1dc3",
   "metadata": {},
   "source": [
    "## Get Student Total Score\n",
    "\n",
    "Develop a function to convert get the total score of each student. This is primarily to test the ability to manipulate dicts using first class functions such as map.\n",
    "* We will provide list of dicts with student id and scores for different subjects.\n",
    "* Develop a function which takes students as input and return students including individual total score.\n",
    "* You need to add another element to each of the dicts with key `total_score`.\n",
    "* The output should be sorted in descending order by total.\n",
    "\n",
    "```{note}\n",
    "Hint: You need to define and call named function as part of the map to add `total_score` to each of the dicts in the list.\n",
    "```\n",
    "\n",
    "**Restrictions: You should not use loops or Pandas to solve this problem. Use first class functions such as `map`.**"
   ]
  },
  {
   "cell_type": "code",
   "execution_count": null,
   "id": "d2f7964b",
   "metadata": {},
   "outputs": [],
   "source": [
    "students = [\n",
    "    {'student_id': 1, 'math_score': 72, 'reading_score': 72, 'writing_score': 74},\n",
    "    {'student_id': 2, 'math_score': 69, 'reading_score': 90, 'writing_score': 88},\n",
    "    {'student_id': 3, 'math_score': 90, 'reading_score': 95, 'writing_score': 93},\n",
    "    {'student_id': 4, 'math_score': 47, 'reading_score': 47, 'writing_score': 44},\n",
    "    {'student_id': 5, 'math_score': 76, 'reading_score': 78, 'writing_score': 75},\n",
    "    {'student_id': 6, 'math_score': 71, 'reading_score': 83, 'writing_score': 78}\n",
    "]"
   ]
  },
  {
   "cell_type": "markdown",
   "id": "d29c0af6",
   "metadata": {},
   "source": [
    "### Step 1: Preview the data\n",
    "\n",
    "Let us first preview the data."
   ]
  },
  {
   "cell_type": "code",
   "execution_count": null,
   "id": "43d3daea",
   "metadata": {},
   "outputs": [],
   "source": [
    "students"
   ]
  },
  {
   "cell_type": "code",
   "execution_count": null,
   "id": "511436d9",
   "metadata": {},
   "outputs": [],
   "source": [
    "type(students)"
   ]
  },
  {
   "cell_type": "code",
   "execution_count": null,
   "id": "7f7f17c3",
   "metadata": {},
   "outputs": [],
   "source": [
    "len(students)"
   ]
  },
  {
   "cell_type": "code",
   "execution_count": null,
   "id": "71da266f",
   "metadata": {},
   "outputs": [],
   "source": [
    "type(students[0])"
   ]
  },
  {
   "cell_type": "markdown",
   "id": "4733cdc4",
   "metadata": {},
   "source": [
    "### Step 2: Provide the solution\n",
    "\n",
    "Now come up with the solution by developing the required logic. Once the function is developed, go to the next step to take care of the validation."
   ]
  },
  {
   "cell_type": "code",
   "execution_count": null,
   "id": "026be976",
   "metadata": {},
   "outputs": [],
   "source": [
    "def get_students_with_total_scores(students):\n",
    "    ## your code should go here\n",
    "    ## Make sure to create another function to compute total and update the dict\n",
    "    return students_with_total_scores"
   ]
  },
  {
   "cell_type": "markdown",
   "id": "4a03ca72",
   "metadata": {},
   "source": [
    "### Step 3: Validate the function\n",
    "\n",
    "Let us validate the function by running below cells.\n",
    "* Here is the expected output.\n",
    "\n",
    "```python\n",
    "[{'student_id': 3,\n",
    "  'math_score': 90,\n",
    "  'reading_score': 95,\n",
    "  'writing_score': 93,\n",
    "  'total_score': 278},\n",
    " {'student_id': 2,\n",
    "  'math_score': 69,\n",
    "  'reading_score': 90,\n",
    "  'writing_score': 88,\n",
    "  'total_score': 247},\n",
    " {'student_id': 6,\n",
    "  'math_score': 71,\n",
    "  'reading_score': 83,\n",
    "  'writing_score': 78,\n",
    "  'total_score': 232},\n",
    " {'student_id': 5,\n",
    "  'math_score': 76,\n",
    "  'reading_score': 78,\n",
    "  'writing_score': 75,\n",
    "  'total_score': 229},\n",
    " {'student_id': 1,\n",
    "  'math_score': 72,\n",
    "  'reading_score': 72,\n",
    "  'writing_score': 74,\n",
    "  'total_score': 218},\n",
    " {'student_id': 4,\n",
    "  'math_score': 47,\n",
    "  'reading_score': 47,\n",
    "  'writing_score': 44,\n",
    "  'total_score': 138}]\n",
    "```"
   ]
  },
  {
   "cell_type": "code",
   "execution_count": null,
   "id": "f66c35e7",
   "metadata": {},
   "outputs": [],
   "source": [
    "students_with_total_scores = get_students_with_total_scores(students)\n",
    "students_with_total_scores"
   ]
  },
  {
   "cell_type": "code",
   "execution_count": null,
   "id": "13d16baf",
   "metadata": {},
   "outputs": [],
   "source": [
    "len(students_with_total_scores) # 6"
   ]
  },
  {
   "cell_type": "code",
   "execution_count": null,
   "id": "6b9bbe4a",
   "metadata": {},
   "outputs": [],
   "source": [
    "type(students_with_total_scores) # list"
   ]
  },
  {
   "cell_type": "code",
   "execution_count": null,
   "id": "4bae186b",
   "metadata": {},
   "outputs": [],
   "source": [
    "type(students_with_total_scores[0]) # dict"
   ]
  },
  {
   "cell_type": "code",
   "execution_count": null,
   "id": "222d3b1b",
   "metadata": {},
   "outputs": [],
   "source": [
    "students_with_total_scores[0]['student_id'] # 3"
   ]
  }
 ],
 "metadata": {
  "kernelspec": {
   "display_name": "Python 3",
   "language": "python",
   "name": "python3"
  },
  "language_info": {
   "codemirror_mode": {
    "name": "ipython",
    "version": 3
   },
   "file_extension": ".py",
   "mimetype": "text/x-python",
   "name": "python",
   "nbconvert_exporter": "python",
   "pygments_lexer": "ipython3",
   "version": "3.6.12"
  }
 },
 "nbformat": 4,
 "nbformat_minor": 5
}
