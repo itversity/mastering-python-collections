{
 "cells": [
  {
   "cell_type": "markdown",
   "id": "7701f6c4",
   "metadata": {},
   "source": [
    "## Get price of the item\n",
    "Develop a function which returns a tuple with 2-tuples. \n",
    "* Each tuple consists of a the order number and the product of the price per items and the quantity.\n",
    "* The product should be increased by 10, if the value of the product is smaller than 100.\n",
    "* The list contains order number, Book Title and Author ,item quantity and item per price.\n",
    "\n",
    "Note : Please use functions such as map, filter, reduce, etc to come up with the solution."
   ]
  },
  {
   "cell_type": "code",
   "execution_count": 9,
   "id": "f75ed68d",
   "metadata": {},
   "outputs": [],
   "source": [
    "orders = [ [\"34587\", \"Learning Python, Mark Lutz\", 4, 40.95], \n",
    "           [\"98762\", \"Programming Python, Mark Lutz\", 5, 56.80], \n",
    "           [\"77226\", \"Head First Python, Paul Barry\", 3,32.95],\n",
    "           [\"88112\", \"Einführung in Python3, Bernd Klein\", 3, 24.99]]"
   ]
  },
  {
   "cell_type": "markdown",
   "id": "88a01e4a",
   "metadata": {},
   "source": [
    "## Step 1: Preview the data\n",
    "* Let us first preview the data."
   ]
  },
  {
   "cell_type": "code",
   "execution_count": 10,
   "id": "01180569",
   "metadata": {},
   "outputs": [
    {
     "data": {
      "text/plain": [
       "[['34587', 'Learning Python, Mark Lutz', 4, 40.95],\n",
       " ['98762', 'Programming Python, Mark Lutz', 5, 56.8],\n",
       " ['77226', 'Head First Python, Paul Barry', 3, 32.95],\n",
       " ['88112', 'Einführung in Python3, Bernd Klein', 3, 24.99]]"
      ]
     },
     "execution_count": 10,
     "metadata": {},
     "output_type": "execute_result"
    }
   ],
   "source": [
    "orders"
   ]
  },
  {
   "cell_type": "code",
   "execution_count": 11,
   "id": "512edbc5",
   "metadata": {},
   "outputs": [
    {
     "data": {
      "text/plain": [
       "list"
      ]
     },
     "execution_count": 11,
     "metadata": {},
     "output_type": "execute_result"
    }
   ],
   "source": [
    "type(orders)"
   ]
  },
  {
   "cell_type": "code",
   "execution_count": 12,
   "id": "c22be70f",
   "metadata": {},
   "outputs": [
    {
     "data": {
      "text/plain": [
       "4"
      ]
     },
     "execution_count": 12,
     "metadata": {},
     "output_type": "execute_result"
    }
   ],
   "source": [
    "len(orders)"
   ]
  },
  {
   "cell_type": "code",
   "execution_count": 13,
   "id": "1b756b0c",
   "metadata": {},
   "outputs": [
    {
     "name": "stdout",
     "output_type": "stream",
     "text": [
      "The type of the record [['34587', 'Learning Python, Mark Lutz', 4, 40.95], ['98762', 'Programming Python, Mark Lutz', 5, 56.8], ['77226', 'Head First Python, Paul Barry', 3, 32.95], ['88112', 'Einführung in Python3, Bernd Klein', 3, 24.99]] is <class 'list'>\n",
      "The type of the record [['34587', 'Learning Python, Mark Lutz', 4, 40.95], ['98762', 'Programming Python, Mark Lutz', 5, 56.8], ['77226', 'Head First Python, Paul Barry', 3, 32.95], ['88112', 'Einführung in Python3, Bernd Klein', 3, 24.99]] is <class 'list'>\n",
      "The type of the record [['34587', 'Learning Python, Mark Lutz', 4, 40.95], ['98762', 'Programming Python, Mark Lutz', 5, 56.8], ['77226', 'Head First Python, Paul Barry', 3, 32.95], ['88112', 'Einführung in Python3, Bernd Klein', 3, 24.99]] is <class 'list'>\n",
      "The type of the record [['34587', 'Learning Python, Mark Lutz', 4, 40.95], ['98762', 'Programming Python, Mark Lutz', 5, 56.8], ['77226', 'Head First Python, Paul Barry', 3, 32.95], ['88112', 'Einführung in Python3, Bernd Klein', 3, 24.99]] is <class 'list'>\n"
     ]
    }
   ],
   "source": [
    "for order in orders:\n",
    "    print(f'The type of the record {orders} is {type(order)}')"
   ]
  },
  {
   "cell_type": "markdown",
   "id": "14613e60",
   "metadata": {},
   "source": [
    "## Step 2: Provide the solution\n",
    "Now come up with the solution by developing the required logic. Once the function is developed, go to the next step to take care of the validation."
   ]
  },
  {
   "cell_type": "code",
   "execution_count": null,
   "id": "51ed5d2d",
   "metadata": {},
   "outputs": [],
   "source": [
    "def get_price_of_the_product(orders)\n",
    "#your code should go here\n",
    "\n",
    "    return invoice_totals"
   ]
  },
  {
   "cell_type": "markdown",
   "id": "d3d302fb",
   "metadata": {},
   "source": [
    "### Step 3: Validate the function\n",
    "\n",
    "Let us validate the function by running below cells."
   ]
  },
  {
   "cell_type": "code",
   "execution_count": null,
   "id": "ed1d6097",
   "metadata": {},
   "outputs": [],
   "source": [
    "invoice_totals = get_price_of_the_product(orders)"
   ]
  },
  {
   "cell_type": "code",
   "execution_count": null,
   "id": "a29c1f93",
   "metadata": {},
   "outputs": [],
   "source": [
    "type(invoice_totals)   #It should be tuple."
   ]
  },
  {
   "cell_type": "code",
   "execution_count": null,
   "id": "b1ef0a22",
   "metadata": {},
   "outputs": [],
   "source": [
    "invoice_totals   #Expected output is (('34587', 163.8), ('98762', 284.0), ('77226', 108.85000000000001), ('88112', 84.97))"
   ]
  }
 ],
 "metadata": {
  "kernelspec": {
   "display_name": "Python 3",
   "language": "python",
   "name": "python3"
  },
  "language_info": {
   "codemirror_mode": {
    "name": "ipython",
    "version": 3
   },
   "file_extension": ".py",
   "mimetype": "text/x-python",
   "name": "python",
   "nbconvert_exporter": "python",
   "pygments_lexer": "ipython3",
   "version": "3.6.12"
  }
 },
 "nbformat": 4,
 "nbformat_minor": 5
}
