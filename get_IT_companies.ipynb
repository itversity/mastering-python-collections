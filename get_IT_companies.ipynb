{
 "cells": [
  {
   "cell_type": "markdown",
   "id": "0acaf3d5",
   "metadata": {},
   "source": [
    "## Get IT companies\n",
    "\n",
    "Develop the function to get all records belonging to the IT sector.\n",
    "* The scanerio can be solved by using functions such as `filter` or conventional loops.\n",
    "* The input data is present in **data/company_financial/company_financial_data.csv**.\n",
    "* The output data should be in list of tuples and it should contain the records from those companies belonging to the IT sector."
   ]
  },
  {
   "cell_type": "markdown",
   "id": "4f22714f",
   "metadata": {},
   "source": [
    "**Step 1: Preview the Data**"
   ]
  },
  {
   "cell_type": "code",
   "execution_count": null,
   "id": "8849b710",
   "metadata": {},
   "outputs": [],
   "source": [
    "# List the file\n",
    "!ls -ltr data/company_financial/company_financial_data.csv"
   ]
  },
  {
   "cell_type": "code",
   "execution_count": null,
   "id": "1bb422c6",
   "metadata": {},
   "outputs": [],
   "source": [
    "# Number of lines in file\n",
    "!wc -l data/company_financial/company_financial_data.csv"
   ]
  },
  {
   "cell_type": "code",
   "execution_count": null,
   "id": "9ed3aa9f",
   "metadata": {},
   "outputs": [],
   "source": [
    "# Check the head of file to get column names\n",
    "!head data/company_financial/company_financial_data.csv"
   ]
  },
  {
   "cell_type": "markdown",
   "id": "2f1cb78f",
   "metadata": {},
   "source": [
    "**Step 2: Provide the Solution**"
   ]
  },
  {
   "cell_type": "code",
   "execution_count": null,
   "id": "2a3db1fc",
   "metadata": {},
   "outputs": [],
   "source": [
    "def get_IT_companies(path):\n",
    "    # Develop your logic here\n",
    "    return companies_IT"
   ]
  },
  {
   "cell_type": "markdown",
   "id": "a08b6936",
   "metadata": {},
   "source": [
    "**Step 3: Validate the function**"
   ]
  },
  {
   "cell_type": "markdown",
   "id": "7e4d8ea1",
   "metadata": {},
   "source": [
    "The expected output is-\n",
    "```python\n",
    "companies_IT=\n",
    "[('Accenture','IT',222.89,2.33,7.92),\n",
    "('Apple','IT',155.15,1.57,9.2),\n",
    "('Adobe Systems Inc','IT',185.16,0,3.39),\n",
    "('Alphabet','IT',1007.71,0,22.27),\n",
    "('ebay Inc','IT',41.02,0,-1.07),\n",
    "('Hewlett Packard Enterprise','IT',15.04,1.92,0.21),\n",
    "('Intel Corp','IT',42.75,2.65,1.98),\n",
    "('Microsoft Corp','IT',85.01,1.87,2.97),\n",
    "('Netflix Inc','IT',250.01,0,1.25)]\n",
    "```"
   ]
  },
  {
   "cell_type": "code",
   "execution_count": null,
   "id": "ab7f0d02",
   "metadata": {},
   "outputs": [],
   "source": [
    "companies_IT=get_IT_companies('company_financial_data.csv')\n",
    "companies_IT"
   ]
  },
  {
   "cell_type": "code",
   "execution_count": null,
   "id": "b137db7a",
   "metadata": {},
   "outputs": [],
   "source": [
    "type(companies_IT) #list"
   ]
  },
  {
   "cell_type": "code",
   "execution_count": null,
   "id": "c7090f2b",
   "metadata": {},
   "outputs": [],
   "source": [
    "len(companies_IT) #9"
   ]
  },
  {
   "cell_type": "code",
   "execution_count": null,
   "id": "e6c1ca5b",
   "metadata": {},
   "outputs": [],
   "source": [
    "companies_IT[0] #('Accenture','IT',222.89,2.33,7.92)"
   ]
  },
  {
   "cell_type": "code",
   "execution_count": null,
   "id": "ead401f3",
   "metadata": {},
   "outputs": [],
   "source": [
    "type(companies_IT[0]) #tuple"
   ]
  },
  {
   "cell_type": "code",
   "execution_count": null,
   "id": "b6bd701c",
   "metadata": {},
   "outputs": [],
   "source": []
  }
 ],
 "metadata": {
  "kernelspec": {
   "display_name": "Python 3",
   "language": "python",
   "name": "python3"
  },
  "language_info": {
   "codemirror_mode": {
    "name": "ipython",
    "version": 3
   },
   "file_extension": ".py",
   "mimetype": "text/x-python",
   "name": "python",
   "nbconvert_exporter": "python",
   "pygments_lexer": "ipython3",
   "version": "3.6.12"
  }
 },
 "nbformat": 4,
 "nbformat_minor": 5
}
