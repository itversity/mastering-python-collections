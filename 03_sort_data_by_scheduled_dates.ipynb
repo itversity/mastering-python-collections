{
 "cells": [
  {
   "cell_type": "markdown",
   "id": "c5c2a7c3",
   "metadata": {},
   "source": [
    "## Sort Data by Scheduled Dates\n",
    "\n",
    "Develop logic to sort the data by scheduled dates. We will be providing list of tuples which contain Name, Location, Scheduled Date.\n",
    "* Create a function which take list (which contain tuples) as argument and return sorted list with tuples.\n",
    "* Data should be sorted in ascending order by date and then in ascending order by name.\n",
    "\n",
    "**Hint: Use `sorted` function to come up with the solution**"
   ]
  },
  {
   "cell_type": "code",
   "execution_count": null,
   "id": "2b148b0c",
   "metadata": {},
   "outputs": [],
   "source": [
    "aspirants = [('Pardha Saradhi', 'India', '7/31/2021'),\n",
    " ('Asasri', 'India', '8/10/2021'),\n",
    " ('Sai Akshith', 'India', '7/30/2021'),\n",
    " ('Anmol', 'India', '7/25/2021'),\n",
    " ('Shravan', 'India', '7/28/2021'),\n",
    " ('Aditya', 'USA', '7/31/2021'),\n",
    " ('Prasanth ', 'USA', '8/14/2021'),\n",
    " ('Sahana', 'India', '7/26/2021'),\n",
    " ('Surendranatha Reddy', 'India', '7/25/2021'),\n",
    " ('Venkat ', 'USA', '7/26/2021')]"
   ]
  },
  {
   "cell_type": "markdown",
   "id": "2d5c874a",
   "metadata": {},
   "source": [
    "### Step 1: Preview the data\n",
    "\n",
    "Let us first preview the data."
   ]
  },
  {
   "cell_type": "code",
   "execution_count": null,
   "id": "7d36471a",
   "metadata": {},
   "outputs": [],
   "source": [
    "aspirants"
   ]
  },
  {
   "cell_type": "code",
   "execution_count": null,
   "id": "cd5a2a5a",
   "metadata": {},
   "outputs": [],
   "source": [
    "type(aspirants)"
   ]
  },
  {
   "cell_type": "code",
   "execution_count": null,
   "id": "f660e20e",
   "metadata": {},
   "outputs": [],
   "source": [
    "len(aspirants)"
   ]
  },
  {
   "cell_type": "code",
   "execution_count": null,
   "id": "9bae090b",
   "metadata": {},
   "outputs": [],
   "source": [
    "for aspirant in aspirants:\n",
    "    print(f'The type of value {aspirant} is {type(aspirant)}')"
   ]
  },
  {
   "cell_type": "markdown",
   "id": "be9ed5eb",
   "metadata": {},
   "source": [
    "### Step 2: Provide the solution\n",
    "\n",
    "Now come up with the solution by developing the required logic. Once the function is developed, go to the next step to take care of the validation."
   ]
  },
  {
   "cell_type": "code",
   "execution_count": null,
   "id": "10876cb3",
   "metadata": {},
   "outputs": [],
   "source": [
    "# The logic should go here\n",
    "def sort_data_by_scheduled_date(aspirants):\n",
    "    \n",
    "    return sorted_aspirants"
   ]
  },
  {
   "cell_type": "markdown",
   "id": "a67cd8f4",
   "metadata": {},
   "source": [
    "### Step 3: Validate the function\n",
    "\n",
    "Let us validate the function by running below cells.\n",
    "* Here is the expected output.\n",
    "\n",
    "```python\n",
    "[('Anmol', 'India', '7/25/2021'),\n",
    " ('Surendranatha Reddy', 'India', '7/25/2021'),\n",
    " ('Sahana', 'India', '7/26/2021'),\n",
    " ('Venkat ', 'USA', '7/26/2021'),\n",
    " ('Shravan', 'India', '7/28/2021'),\n",
    " ('Sai Akshith', 'India', '7/30/2021'),\n",
    " ('Aditya', 'USA', '7/31/2021'),\n",
    " ('Pardha Saradhi', 'India', '7/31/2021'),\n",
    " ('Asasri', 'India', '8/10/2021'),\n",
    " ('Prasanth ', 'USA', '8/14/2021')]\n",
    "```"
   ]
  },
  {
   "cell_type": "code",
   "execution_count": null,
   "id": "7e852f20",
   "metadata": {},
   "outputs": [],
   "source": [
    "sorted_aspirants = sort_data_by_scheduled_date(aspirants)"
   ]
  },
  {
   "cell_type": "code",
   "execution_count": null,
   "id": "0109297e",
   "metadata": {},
   "outputs": [],
   "source": [
    "type(sorted_aspirants) # It should be list"
   ]
  },
  {
   "cell_type": "code",
   "execution_count": null,
   "id": "1dce12b4",
   "metadata": {},
   "outputs": [],
   "source": [
    "len(sorted_aspirants) # It should be 10"
   ]
  },
  {
   "cell_type": "code",
   "execution_count": null,
   "id": "0317cf42",
   "metadata": {},
   "outputs": [],
   "source": [
    "type(sorted_aspirants[0]) # It should be tuple."
   ]
  }
 ],
 "metadata": {
  "kernelspec": {
   "display_name": "Python 3",
   "language": "python",
   "name": "python3"
  },
  "language_info": {
   "codemirror_mode": {
    "name": "ipython",
    "version": 3
   },
   "file_extension": ".py",
   "mimetype": "text/x-python",
   "name": "python",
   "nbconvert_exporter": "python",
   "pygments_lexer": "ipython3",
   "version": "3.6.12"
  }
 },
 "nbformat": 4,
 "nbformat_minor": 5
}
