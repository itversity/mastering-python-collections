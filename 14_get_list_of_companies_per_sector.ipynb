{
 "cells": [
  {
   "cell_type": "markdown",
   "id": "38bafad6",
   "metadata": {},
   "source": [
    "## Get list of companies per sector\n",
    "\n",
    "Develop the function to get the company from each sector from the dictionary containing name and it's corresponding sector.\n",
    "* This scanerio can be solved by the help of conventional loops or itertools.\n",
    "* The input dictionary contains the name of company and it's sector.\n",
    "* The output dictionary should contain sector as key and companies per sector as it's values. The company     names should as part of a list with sector as key."
   ]
  },
  {
   "cell_type": "code",
   "execution_count": null,
   "id": "3164cad9",
   "metadata": {},
   "outputs": [],
   "source": [
    "companies = {\n",
    "    'Accenture': 'IT',\n",
    "    'Apple': 'IT',\n",
    "    'Adobe Systems Inc': 'IT',\n",
    "    'Alphabet': 'IT',\n",
    "    'Bank of America Corp': 'Financials',\n",
    "    'Biogen Inc': 'Health Care',\n",
    "    'Campbell Soup': 'Consumer Staples',\n",
    "    'Dr Pepper Snapple Group': 'Consumer Staples',\n",
    "    'ebay Inc': 'IT',\n",
    "    'FedEx Corporation': 'Industrials',\n",
    "    'Ford Motors': 'Consumer Products',\n",
    "    'General Motors': 'Consumer Products',\n",
    "    'Harley-Davidson': 'Consumer Products',\n",
    "    'Hewlett Packard Enterprise': 'IT',\n",
    "    'Intel Corp': 'IT',\n",
    "    'JP Morgan': 'Financials',\n",
    "    'Johnson & Johnson': 'Health Care',\n",
    "    'Microsft Corp': 'IT',\n",
    "    'Netflix Inc': 'IT',\n",
    "    'Nike': 'Consumer Products'}"
   ]
  },
  {
   "cell_type": "markdown",
   "id": "d564ff25",
   "metadata": {},
   "source": [
    "### Step 1: Preview the data\n",
    "\n",
    "Let us first preview the data."
   ]
  },
  {
   "cell_type": "code",
   "execution_count": null,
   "id": "30320b24",
   "metadata": {},
   "outputs": [],
   "source": [
    "companies"
   ]
  },
  {
   "cell_type": "code",
   "execution_count": null,
   "id": "fceab40c",
   "metadata": {},
   "outputs": [],
   "source": [
    "type(companies)"
   ]
  },
  {
   "cell_type": "code",
   "execution_count": null,
   "id": "423e9d55",
   "metadata": {},
   "outputs": [],
   "source": [
    "len(companies)"
   ]
  },
  {
   "cell_type": "markdown",
   "id": "a3b9eb55",
   "metadata": {},
   "source": [
    "### Step 2: Provide the solution\n",
    "\n",
    "Now come up with the solution by developing the required logic. Once the function is developed, go to the next step to take care of the validation."
   ]
  },
  {
   "cell_type": "code",
   "execution_count": null,
   "id": "03bebe8a",
   "metadata": {},
   "outputs": [],
   "source": [
    "def get_companies_per_sector(companies):\n",
    "    # Develop your logic here\n",
    "    return companies_per_sector"
   ]
  },
  {
   "cell_type": "markdown",
   "id": "dfcd2376",
   "metadata": {},
   "source": [
    "### Step 3: Validate the function\n",
    "\n",
    "Let us validate the function by running below cells.\n",
    "* Here is the expected output.\n",
    "\n",
    "```python\n",
    "{'Consumer Products': ['Ford Motors', 'General Motors', 'Harley-Davidson', 'Nike'],\n",
    "'Consumer Staples': ['Campbell Soup', 'Dr Pepper Snapple Group'],\n",
    "'Financials': [ 'Bank of America Corp', 'JP Morgan'],\n",
    "'Health Care': ['Biogen Inc', 'Johnson & Johnson'],\n",
    "'Industrials': [ 'FedEx Corporation'],\n",
    "'IT': ['Accenture', 'Apple', 'Adobe Systems Inc', 'Alphabet', 'ebay Inc', 'Hewlett Packard Enterprise', 'Intel Corp', 'Microsft Corp', 'Netflix Inc']}\n",
    "```"
   ]
  },
  {
   "cell_type": "code",
   "execution_count": null,
   "id": "d77c010d",
   "metadata": {},
   "outputs": [],
   "source": [
    "get_companies_per_sector(companies)"
   ]
  },
  {
   "cell_type": "code",
   "execution_count": null,
   "id": "3d687dc0",
   "metadata": {},
   "outputs": [],
   "source": []
  }
 ],
 "metadata": {
  "kernelspec": {
   "display_name": "Python 3",
   "language": "python",
   "name": "python3"
  },
  "language_info": {
   "codemirror_mode": {
    "name": "ipython",
    "version": 3
   },
   "file_extension": ".py",
   "mimetype": "text/x-python",
   "name": "python",
   "nbconvert_exporter": "python",
   "pygments_lexer": "ipython3",
   "version": "3.6.12"
  }
 },
 "nbformat": 4,
 "nbformat_minor": 5
}
