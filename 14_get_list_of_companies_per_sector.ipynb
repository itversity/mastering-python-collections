{
 "cells": [
  {
   "cell_type": "markdown",
   "id": "c9d44f40",
   "metadata": {},
   "source": [
    "## Get list of companies per sector\n",
    "\n",
    "Develop the function to get the company from each sector from the dictionary containing name and it's corresponding sector.\n",
    "* This scanerio can be solved by the help of conventional loops or itertools.\n",
    "* The input dictionary contains the name of company and it's sector.\n",
    "* The output dictionary should contain sector as key and companies per sector as it's values. The company     names should as part of a list with sector as key."
   ]
  },
  {
   "cell_type": "code",
   "execution_count": null,
   "id": "3549ee4e",
   "metadata": {},
   "outputs": [],
   "source": [
    "companies = {\n",
    "    'Accenture': 'IT',\n",
    "    'Apple': 'IT',\n",
    "    'Adobe Systems Inc': 'IT',\n",
    "    'Alphabet': 'IT',\n",
    "    'Bank of America Corp': 'Financials',\n",
    "    'Biogen Inc': 'Health Care',\n",
    "    'Campbell Soup': 'Consumer Staples',\n",
    "    'Dr Pepper Snapple Group': 'Consumer Staples',\n",
    "    'ebay Inc': 'IT',\n",
    "    'FedEx Corporation': 'Industrials',\n",
    "    'Ford Motors': 'Consumer Products',\n",
    "    'General Motors': 'Consumer Products',\n",
    "    'Harley-Davidson': 'Consumer Products',\n",
    "    'Hewlett Packard Enterprise': 'IT',\n",
    "    'Intel Corp': 'IT',\n",
    "    'JP Morgan': 'Financials',\n",
    "    'Johnson & Johnson': 'Health Care',\n",
    "    'Microsft Corp': 'IT',\n",
    "    'Netflix Inc': 'IT',\n",
    "    'Nike': 'Consumer Products'}"
   ]
  },
  {
   "cell_type": "markdown",
   "id": "817807b8",
   "metadata": {},
   "source": [
    "### Step 1: Preview the data\n",
    "\n",
    "Let us first preview the data."
   ]
  },
  {
   "cell_type": "code",
   "execution_count": null,
   "id": "b4fe50f2",
   "metadata": {},
   "outputs": [],
   "source": [
    "companies"
   ]
  },
  {
   "cell_type": "code",
   "execution_count": null,
   "id": "ba12bace",
   "metadata": {},
   "outputs": [],
   "source": [
    "type(companies)"
   ]
  },
  {
   "cell_type": "code",
   "execution_count": null,
   "id": "808caf5c",
   "metadata": {},
   "outputs": [],
   "source": [
    "len(companies)"
   ]
  },
  {
   "cell_type": "markdown",
   "id": "2a5e628b",
   "metadata": {},
   "source": [
    "### Step 2: Provide the solution\n",
    "\n",
    "Now come up with the solution by developing the required logic. Once the function is developed, go to the next step to take care of the validation."
   ]
  },
  {
   "cell_type": "code",
   "execution_count": null,
   "id": "49db983f",
   "metadata": {},
   "outputs": [],
   "source": [
    "def get_companies_per_sector(companies):\n",
    "    # Develop your logic here\n",
    "    return companies_per_sector"
   ]
  },
  {
   "cell_type": "markdown",
   "id": "e51b93b3",
   "metadata": {},
   "source": [
    "### Step 3: Validate the function\n",
    "\n",
    "Let us validate the function by running below cells.\n",
    "* Here is the expected output.\n",
    "\n",
    "```python\n",
    "{'Consumer Products': ['Ford Motors', 'General Motors', 'Harley-Davidson', 'Nike'],\n",
    "'Consumer Staples': ['Campbell Soup', 'Dr Pepper Snapple Group'],\n",
    "'Financials': [ 'Bank of America Corp', 'JP Morgan'],\n",
    "'Health Care': ['Biogen Inc', 'Johnson & Johnson'],\n",
    "'Industrials': [ 'FedEx Corporation'],\n",
    "'IT': ['Accenture', 'Apple', 'Adobe Systems Inc', 'Alphabet', 'ebay Inc', 'Hewlett Packard Enterprise', 'Intel Corp', 'Microsft Corp', 'Netflix Inc']}\n",
    "```"
   ]
  },
  {
   "cell_type": "code",
   "execution_count": null,
   "id": "09ab6752",
   "metadata": {},
   "outputs": [],
   "source": [
    "get_companies_per_sector(companies)"
   ]
  },
  {
   "cell_type": "code",
   "execution_count": null,
   "id": "faeaabe8",
   "metadata": {},
   "outputs": [],
   "source": []
  }
 ],
 "metadata": {
  "kernelspec": {
   "display_name": "Python 3",
   "language": "python",
   "name": "python3"
  },
  "language_info": {
   "codemirror_mode": {
    "name": "ipython",
    "version": 3
   },
   "file_extension": ".py",
   "mimetype": "text/x-python",
   "name": "python",
   "nbconvert_exporter": "python",
   "pygments_lexer": "ipython3",
   "version": "3.6.12"
  }
 },
 "nbformat": 4,
 "nbformat_minor": 5
}
