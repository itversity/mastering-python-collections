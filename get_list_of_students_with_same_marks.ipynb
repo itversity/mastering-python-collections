{
 "cells": [
  {
   "cell_type": "markdown",
   "id": "37c876ff",
   "metadata": {},
   "source": [
    "## Get list of students with same marks\n",
    "\n",
    "Develop a function to get list of students with same marks.As part of this Python Practice Test, we are primarily evaluating the ability to understand dicts, manipulating dicts as well as performing operations on the data based on the criteria.\n",
    "\n",
    "* You can solve this problem either by using loops or itertools or any alternative library.\n",
    "* The input dictionary will contain names of the student as the key and their marks as the value.\n",
    "* The output dictionary should contain the marks they got as keys and the id's of the students as values. The id's should be part of a list for that particular marks.\n"
   ]
  },
  {
   "cell_type": "code",
   "execution_count": null,
   "id": "17741d57",
   "metadata": {},
   "outputs": [],
   "source": [
    "Students = {\n",
    "    1 : {'math': 72, 'reading': 73, 'writing': 75},\n",
    "    2 : {'math': 69, 'reading': 95, 'writing': 80},\n",
    "    3 : {'math': 90, 'reading': 95, 'writing': 92},\n",
    "    4 : {'math': 72, 'reading': 57, 'writing': 44},\n",
    "    5 : {'math': 78, 'reading': 73, 'writing': 75},\n",
    "    6 : {'math': 72, 'reading': 83, 'writing': 80},\n",
    "    7 : {'math': 88, 'reading': 95, 'writing': 92},\n",
    "    8 : {'math': 69, 'reading': 64, 'writing': 67},\n",
    "    9 : {'math': 78, 'reading': 73, 'writing': 80},\n",
    "    10 : {'math': 69, 'reading': 79, 'writing': 75}\n",
    "}"
   ]
  },
  {
   "cell_type": "markdown",
   "id": "9b4368d3",
   "metadata": {},
   "source": [
    "### Step 1: Preview the data\n",
    "\n",
    "Let us first preview the data."
   ]
  },
  {
   "cell_type": "code",
   "execution_count": null,
   "id": "d9217621",
   "metadata": {},
   "outputs": [],
   "source": [
    "Students"
   ]
  },
  {
   "cell_type": "code",
   "execution_count": null,
   "id": "b4cb6fb9",
   "metadata": {},
   "outputs": [],
   "source": [
    "type(Students)"
   ]
  },
  {
   "cell_type": "code",
   "execution_count": null,
   "id": "821c65b4",
   "metadata": {},
   "outputs": [],
   "source": [
    "len(Students)"
   ]
  },
  {
   "cell_type": "code",
   "execution_count": null,
   "id": "ed6c6f4b",
   "metadata": {},
   "outputs": [],
   "source": [
    "for Student in Students:\n",
    "    print(f'The type of the record {Student} is {type(Student)}')"
   ]
  },
  {
   "cell_type": "markdown",
   "id": "bce6f75c",
   "metadata": {},
   "source": [
    "### Step 2: Provide the solution\n",
    "\n",
    "Now come up with the solution by developing the required logic. Once the function is developed, go to the next step to take care of the validation."
   ]
  },
  {
   "cell_type": "code",
   "execution_count": null,
   "id": "5ffc2718",
   "metadata": {},
   "outputs": [],
   "source": [
    "def students_per_math_marks(Students):\n",
    "## your Code should go here\n",
    "    \n",
    "    return "
   ]
  },
  {
   "cell_type": "markdown",
   "id": "e3c78aa4",
   "metadata": {},
   "source": [
    "### Step 3: Validate the function\n",
    "\n",
    "Let us validate the function by running below cells.\n",
    "* Here is the expected output.\n",
    "\n",
    "```python\n",
    "{72: [1, 4, 6],\n",
    " 73: [1, 5, 9],\n",
    " 75: [1, 5, 10],\n",
    " 69: [2, 8, 10],\n",
    " 95: [2, 3, 7],\n",
    " 80: [2, 6, 9],\n",
    " 90: [3],\n",
    " 92: [3, 7],\n",
    " 57: [4],\n",
    " 44: [4],\n",
    " 78: [5, 9],\n",
    " 83: [6],\n",
    " 88: [7],\n",
    " 64: [8],\n",
    " 67: [8],\n",
    " 79: [10]}\n",
    "```"
   ]
  },
  {
   "cell_type": "code",
   "execution_count": null,
   "id": "9fb5d948",
   "metadata": {},
   "outputs": [],
   "source": [
    "students_per_math_marks(Students)"
   ]
  }
 ],
 "metadata": {
  "kernelspec": {
   "display_name": "Python 3",
   "language": "python",
   "name": "python3"
  },
  "language_info": {
   "codemirror_mode": {
    "name": "ipython",
    "version": 3
   },
   "file_extension": ".py",
   "mimetype": "text/x-python",
   "name": "python",
   "nbconvert_exporter": "python",
   "pygments_lexer": "ipython3",
   "version": "3.6.12"
  }
 },
 "nbformat": 4,
 "nbformat_minor": 5
}
