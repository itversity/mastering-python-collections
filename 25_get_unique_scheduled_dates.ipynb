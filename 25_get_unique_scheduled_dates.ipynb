{
 "cells": [
  {
   "cell_type": "markdown",
   "id": "6d76ba7a",
   "metadata": {},
   "source": [
    "## Get Unique Scheduled Dates\n",
    "\n",
    "Develop a function which gives list of unique scheduld dates.\n",
    "* Location of the data: **data/python_assessments/aspirants.csv**.\n",
    "* Each line in the file is a record and each record have data related to multiple attributes.\n",
    "* Data related to attributes in each record are separated or delimieted by **\\t**.\n",
    "* Develop a function which does the following.\n",
    "  * It should take one argument - file path.\n",
    "  * Read the data from the file.\n",
    "  * Return all the dates in ascending order by date. Dates should be sorted in chronological order.\n",
    "  * Each date should be in its original format but should be sorted in chronological order.\n",
    "\n",
    "**Restrictions: You should only use loops or first class functions such as map, filter etc. You can also use csv library to deal with delimited data. Do not use Pandas.**"
   ]
  },
  {
   "cell_type": "markdown",
   "id": "2fd7f7ad",
   "metadata": {},
   "source": [
    "### Step 1: Preview the data\n",
    "\n",
    "Let us first preview the data."
   ]
  },
  {
   "cell_type": "code",
   "execution_count": null,
   "id": "138c9775",
   "metadata": {},
   "outputs": [],
   "source": [
    "!ls -ltr data/python_assessments/aspirants.csv"
   ]
  },
  {
   "cell_type": "code",
   "execution_count": null,
   "id": "04e0865a",
   "metadata": {},
   "outputs": [],
   "source": [
    "!head data/python_assessments/aspirants.csv"
   ]
  },
  {
   "cell_type": "code",
   "execution_count": null,
   "id": "c465fc72",
   "metadata": {},
   "outputs": [],
   "source": [
    "!wc -l data/python_assessments/aspirants.csv"
   ]
  },
  {
   "cell_type": "markdown",
   "id": "01288764",
   "metadata": {},
   "source": [
    "### Step 2: Provide the solution\n",
    "\n",
    "Now come up with the solution by developing the required logic. Once the function is developed, go to the next step to take care of the validation."
   ]
  },
  {
   "cell_type": "code",
   "execution_count": null,
   "id": "c4bfa2e0",
   "metadata": {},
   "outputs": [],
   "source": [
    "def get_unique_dates(file_path):\n",
    "    return unique_dates"
   ]
  },
  {
   "cell_type": "markdown",
   "id": "c90df8e6",
   "metadata": {},
   "source": [
    "### Step 3: Validate the function\n",
    "\n",
    "Let us validate the function by running below cells.\n",
    "* Here is the expected output.\n",
    "\n",
    "```python\n",
    "['7/5/2021',\n",
    " '7/24/2021',\n",
    " '7/25/2021',\n",
    " '7/26/2021',\n",
    " '7/27/2021',\n",
    " '7/28/2021',\n",
    " '7/29/2021',\n",
    " '7/30/2021',\n",
    " '7/31/2021',\n",
    " '8/1/2021',\n",
    " '8/2/2021',\n",
    " '8/7/2021',\n",
    " '8/8/2021',\n",
    " '8/10/2021',\n",
    " '8/14/2021',\n",
    " '8/18/2021',\n",
    " '8/21/2021',\n",
    " '8/22/2021',\n",
    " '8/23/2021']\n",
    "```"
   ]
  },
  {
   "cell_type": "code",
   "execution_count": null,
   "id": "27330925",
   "metadata": {},
   "outputs": [],
   "source": [
    "unique_dates = get_unique_dates('data/python_assessments/aspirants.csv')\n",
    "unique_dates"
   ]
  },
  {
   "cell_type": "code",
   "execution_count": null,
   "id": "60f89439",
   "metadata": {},
   "outputs": [],
   "source": [
    "len(unique_dates) # 19"
   ]
  },
  {
   "cell_type": "code",
   "execution_count": null,
   "id": "ff8fba6e",
   "metadata": {},
   "outputs": [],
   "source": [
    "type(unique_dates) # list"
   ]
  },
  {
   "cell_type": "code",
   "execution_count": null,
   "id": "a7016d25",
   "metadata": {},
   "outputs": [],
   "source": [
    "type(unique_dates[0]) # str"
   ]
  },
  {
   "cell_type": "code",
   "execution_count": null,
   "id": "b191cc8c",
   "metadata": {},
   "outputs": [],
   "source": [
    "print(unique_dates[0]) # 7/5/2021"
   ]
  },
  {
   "cell_type": "code",
   "execution_count": null,
   "id": "3829ea75",
   "metadata": {},
   "outputs": [],
   "source": []
  }
 ],
 "metadata": {
  "kernelspec": {
   "display_name": "Python 3",
   "language": "python",
   "name": "python3"
  },
  "language_info": {
   "codemirror_mode": {
    "name": "ipython",
    "version": 3
   },
   "file_extension": ".py",
   "mimetype": "text/x-python",
   "name": "python",
   "nbconvert_exporter": "python",
   "pygments_lexer": "ipython3",
   "version": "3.6.12"
  }
 },
 "nbformat": 4,
 "nbformat_minor": 5
}
