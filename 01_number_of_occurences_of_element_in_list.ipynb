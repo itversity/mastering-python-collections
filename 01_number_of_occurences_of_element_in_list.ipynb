{
 "cells": [
  {
   "cell_type": "markdown",
   "id": "686ef4bc",
   "metadata": {},
   "source": [
    "## Number of Occurences of an element in the list\n",
    "\n",
    "Develop the logic to find number of occurences of an element in the list."
   ]
  },
  {
   "cell_type": "code",
   "execution_count": null,
   "id": "bca7e926",
   "metadata": {},
   "outputs": [],
   "source": [
    "input_list = [1, 5, 3, 2, 1, 2, 5, 3]"
   ]
  },
  {
   "cell_type": "markdown",
   "id": "59d7bc89",
   "metadata": {},
   "source": [
    "### Step 1: Preview the data\n",
    "\n",
    "Let us first preview the data."
   ]
  },
  {
   "cell_type": "code",
   "execution_count": null,
   "id": "f0d91d14",
   "metadata": {},
   "outputs": [],
   "source": [
    "input_list"
   ]
  },
  {
   "cell_type": "code",
   "execution_count": null,
   "id": "fb6c7c15",
   "metadata": {},
   "outputs": [],
   "source": [
    "type(input_list)"
   ]
  },
  {
   "cell_type": "code",
   "execution_count": null,
   "id": "315460f2",
   "metadata": {},
   "outputs": [],
   "source": [
    "len(input_list)"
   ]
  },
  {
   "cell_type": "code",
   "execution_count": null,
   "id": "8bed7c05",
   "metadata": {},
   "outputs": [],
   "source": [
    "for item in input_list:\n",
    "    print(f'The type of value {item} is {type(item)}')"
   ]
  },
  {
   "cell_type": "markdown",
   "id": "c7ee3f34",
   "metadata": {},
   "source": [
    "### Step 2: Provide the solution\n",
    "\n",
    "Now come up with the solution by developing the required logic. Once the function is developed, go to the next step to take care of the validation."
   ]
  },
  {
   "cell_type": "code",
   "execution_count": null,
   "id": "0f7c6357",
   "metadata": {},
   "outputs": [],
   "source": [
    "# Provide solution using available functions on list\n",
    "def count_element_using_func(l, e):\n",
    "    return cnt"
   ]
  },
  {
   "cell_type": "code",
   "execution_count": null,
   "id": "4fcc0acd",
   "metadata": {},
   "outputs": [],
   "source": [
    "# Provide solution using conventional for loop and if condition\n",
    "def count_element_using_loops(l, e):\n",
    "    return cnt"
   ]
  },
  {
   "cell_type": "markdown",
   "id": "ea5e2793",
   "metadata": {},
   "source": [
    "### Step 3: Validate the function\n",
    "\n",
    "Let us validate the function by running below cells."
   ]
  },
  {
   "cell_type": "code",
   "execution_count": null,
   "id": "9f144f40",
   "metadata": {},
   "outputs": [],
   "source": [
    "count_element_using_func(input_list, 5) # Output should be 2"
   ]
  },
  {
   "cell_type": "code",
   "execution_count": null,
   "id": "c6f88643",
   "metadata": {},
   "outputs": [],
   "source": [
    "count_element_using_loops(input_list, 5) # Output should be 2"
   ]
  }
 ],
 "metadata": {
  "kernelspec": {
   "display_name": "Python 3",
   "language": "python",
   "name": "python3"
  },
  "language_info": {
   "codemirror_mode": {
    "name": "ipython",
    "version": 3
   },
   "file_extension": ".py",
   "mimetype": "text/x-python",
   "name": "python",
   "nbconvert_exporter": "python",
   "pygments_lexer": "ipython3",
   "version": "3.6.12"
  }
 },
 "nbformat": 4,
 "nbformat_minor": 5
}
