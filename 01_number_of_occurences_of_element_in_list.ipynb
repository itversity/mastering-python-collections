{
 "cells": [
  {
   "cell_type": "markdown",
   "id": "64cf4e7b",
   "metadata": {},
   "source": [
    "## Number of Occurences of an element in the list\n",
    "\n",
    "Develop the logic to find number of occurences of an element in the list."
   ]
  },
  {
   "cell_type": "code",
   "execution_count": null,
   "id": "3311d854",
   "metadata": {},
   "outputs": [],
   "source": [
    "input_list = [1, 5, 3, 2, 1, 2, 5, 3]"
   ]
  },
  {
   "cell_type": "code",
   "execution_count": null,
   "id": "94f86c5c",
   "metadata": {},
   "outputs": [],
   "source": [
    "# Provide solution using available functions on list\n",
    "def count_element_using_func(l, e):\n",
    "    return cnt"
   ]
  },
  {
   "cell_type": "code",
   "execution_count": null,
   "id": "038825b2",
   "metadata": {},
   "outputs": [],
   "source": [
    "# Provide solution using conventional for loop and if condition\n",
    "def count_element_using_loops(l, e):\n",
    "    return cnt"
   ]
  },
  {
   "cell_type": "markdown",
   "id": "eddfce1d",
   "metadata": {},
   "source": [
    "### Validation Steps\n",
    "\n",
    "Run the below cells and compare with output."
   ]
  },
  {
   "cell_type": "code",
   "execution_count": null,
   "id": "4ea820b3",
   "metadata": {},
   "outputs": [],
   "source": [
    "count_element_using_func(input_list, 5) # Output should be 2"
   ]
  },
  {
   "cell_type": "code",
   "execution_count": null,
   "id": "f2889d0d",
   "metadata": {},
   "outputs": [],
   "source": [
    "count_element_using_loops(input_list, 5) # Output should be 2"
   ]
  },
  {
   "cell_type": "code",
   "execution_count": null,
   "id": "21acccc6",
   "metadata": {},
   "outputs": [],
   "source": []
  }
 ],
 "metadata": {
  "kernelspec": {
   "display_name": "Python 3",
   "language": "python",
   "name": "python3"
  },
  "language_info": {
   "codemirror_mode": {
    "name": "ipython",
    "version": 3
   },
   "file_extension": ".py",
   "mimetype": "text/x-python",
   "name": "python",
   "nbconvert_exporter": "python",
   "pygments_lexer": "ipython3",
   "version": "3.6.12"
  }
 },
 "nbformat": 4,
 "nbformat_minor": 5
}
