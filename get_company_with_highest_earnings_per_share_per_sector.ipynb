{
 "cells": [
  {
   "cell_type": "markdown",
   "id": "4e1004f2",
   "metadata": {},
   "source": [
    "## Get company with highest  earnings per share (EPS) per sector\n",
    "\n",
    "Develop the function to get company with highest share percentage from each sector.\n",
    "* The scanerio should be solved by using function such as `filter` etc.\n",
    "* The input data is present in csv file named **data/company_financial/company_financial_data.csv**.\n",
    "* The output data should be in form of list of dictionarys and it should contain name,sector and earnings per share where the name of the company with highest  EPS should be printed."
   ]
  },
  {
   "cell_type": "markdown",
   "id": "6a2f5adf",
   "metadata": {},
   "source": [
    "**Step 1: Preview the Data**"
   ]
  },
  {
   "cell_type": "markdown",
   "id": "fd46b842",
   "metadata": {},
   "source": [
    "Let us first preview the data."
   ]
  },
  {
   "cell_type": "code",
   "execution_count": null,
   "id": "aecf8631",
   "metadata": {},
   "outputs": [],
   "source": [
    "# List the file\n",
    "!ls -ltr data/company_financial/company_financial_data.csv"
   ]
  },
  {
   "cell_type": "code",
   "execution_count": null,
   "id": "60c6faee",
   "metadata": {},
   "outputs": [],
   "source": [
    "# Number of lines in file\n",
    "!wc -l data/company_financial/company_financial_data.csv"
   ]
  },
  {
   "cell_type": "code",
   "execution_count": null,
   "id": "ef79da94",
   "metadata": {},
   "outputs": [],
   "source": [
    "# Check the head of file to get column names\n",
    "!head data/company_financial/company_financial_data.csv"
   ]
  },
  {
   "cell_type": "markdown",
   "id": "d407fc61",
   "metadata": {},
   "source": [
    "**Step 2: Provide the Solution**"
   ]
  },
  {
   "cell_type": "code",
   "execution_count": null,
   "id": "068ad32e",
   "metadata": {},
   "outputs": [],
   "source": [
    "def get_highest_share_per_sector(path):\n",
    "    # Develop the logic here\n",
    "    return company_with_highest_share_per_sector"
   ]
  },
  {
   "cell_type": "markdown",
   "id": "b525798d",
   "metadata": {},
   "source": [
    "**Step 3: Validate the function**"
   ]
  },
  {
   "cell_type": "markdown",
   "id": "0da50b55",
   "metadata": {},
   "source": [
    "The expected output is-\n",
    "```python\n",
    "company_with_highest_share_per_sector=\n",
    "[{'Name':'General Motors','Sector':'Consumer Products','EPS':6},\n",
    " {'Name':'Dr Pepper Snapple Group','Sector':'Consumer Staples','EPS':4.54},\n",
    " {'Name':'JP Morgan','Sector':'Financials','EPS':6.3},\n",
    " {'Name':'Biogen Inc','Sector':'Health Care','EPS':11.94},\n",
    " {'Name':'FedEx Corporation','Sector':'Industrials','EPS':11.07},\n",
    " {'Name':'Alphabet','Sector':'IT','EPS':22.27}]\n",
    "```"
   ]
  },
  {
   "cell_type": "code",
   "execution_count": null,
   "id": "0508375b",
   "metadata": {},
   "outputs": [],
   "source": [
    "company_with_highest_share_per_sector=get_highest_share_per_sector('company_financial_data.csv')\n",
    "company_with_highest_share_per_sector"
   ]
  },
  {
   "cell_type": "code",
   "execution_count": null,
   "id": "0f1910fb",
   "metadata": {},
   "outputs": [],
   "source": [
    "type(company_with_highest_share_per_sector) #list"
   ]
  },
  {
   "cell_type": "code",
   "execution_count": null,
   "id": "e0db3fc0",
   "metadata": {},
   "outputs": [],
   "source": [
    "len(company_with_highest_share_per_sector) #5"
   ]
  },
  {
   "cell_type": "code",
   "execution_count": null,
   "id": "8e60e713",
   "metadata": {},
   "outputs": [],
   "source": [
    "company_with_highest_share_per_sector[0] #{'Name':'General Motors','Sector':'Consumer Products','EPS':6}"
   ]
  },
  {
   "cell_type": "code",
   "execution_count": null,
   "id": "95d5ea7f",
   "metadata": {},
   "outputs": [],
   "source": [
    "type(company_with_highest_share_per_sector[0]) #dictionary"
   ]
  },
  {
   "cell_type": "code",
   "execution_count": null,
   "id": "7b2e29ed",
   "metadata": {},
   "outputs": [],
   "source": []
  }
 ],
 "metadata": {
  "kernelspec": {
   "display_name": "Python 3",
   "language": "python",
   "name": "python3"
  },
  "language_info": {
   "codemirror_mode": {
    "name": "ipython",
    "version": 3
   },
   "file_extension": ".py",
   "mimetype": "text/x-python",
   "name": "python",
   "nbconvert_exporter": "python",
   "pygments_lexer": "ipython3",
   "version": "3.6.12"
  }
 },
 "nbformat": 4,
 "nbformat_minor": 5
}
