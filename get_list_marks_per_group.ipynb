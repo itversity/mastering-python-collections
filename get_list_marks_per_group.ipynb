{
 "cells": [
  {
   "cell_type": "markdown",
   "id": "da828870",
   "metadata": {},
   "source": [
    "## Get list of marks per group\n",
    "\n",
    "Develop a function to get list of marks per group using the dict which contain marks of the students and the group he belongs to.\n",
    "\n",
    "* You can solve this problem either by using loops or itertools or any alternative library.\n",
    "* The input dictionary will contain marks of the student as the key and the group he belongs to as the value.\n",
    "* The output dictionary should contain the group he belongs to as key and the marks of the student as value. The marks obtained should be part of a list for that particular group."
   ]
  },
  {
   "cell_type": "code",
   "execution_count": null,
   "id": "ef7218ad",
   "metadata": {},
   "outputs": [],
   "source": [
    "Students = {\n",
    "    '72' : 'group_B',\n",
    "    '69' : 'group_C',\n",
    "    '90' : 'group_B',\n",
    "    '49' : 'group_A',\n",
    "    '76' : 'group_C',\n",
    "    '71' : 'group_B',\n",
    "    '88' : 'group_B',\n",
    "    '40' : 'group_B',\n",
    "    '64' : 'group_D',\n",
    "    '38' : 'group_B'\n",
    "}"
   ]
  },
  {
   "cell_type": "code",
   "execution_count": null,
   "id": "f294601d",
   "metadata": {},
   "outputs": [],
   "source": [
    "def get_students_per_group(Students):\n",
    "## your Code should go here\n",
    "   \n",
    "    return "
   ]
  },
  {
   "cell_type": "code",
   "execution_count": null,
   "id": "a504510c",
   "metadata": {},
   "outputs": [],
   "source": [
    "get_students_per_group(Students)"
   ]
  },
  {
   "cell_type": "markdown",
   "id": "63f202cb",
   "metadata": {},
   "source": [
    "## The desired output is \n",
    "```python\n",
    "{'group_B': ['72', '90', '71', '88', '40', '38'],\n",
    " 'group_C': ['69', '76'],\n",
    " 'group_A': ['49'],\n",
    " 'group_D': ['64']}\n",
    "```"
   ]
  },
  {
   "cell_type": "code",
   "execution_count": null,
   "id": "416fc039",
   "metadata": {},
   "outputs": [],
   "source": []
  }
 ],
 "metadata": {
  "kernelspec": {
   "display_name": "Python 3",
   "language": "python",
   "name": "python3"
  },
  "language_info": {
   "codemirror_mode": {
    "name": "ipython",
    "version": 3
   },
   "file_extension": ".py",
   "mimetype": "text/x-python",
   "name": "python",
   "nbconvert_exporter": "python",
   "pygments_lexer": "ipython3",
   "version": "3.6.12"
  }
 },
 "nbformat": 4,
 "nbformat_minor": 5
}
